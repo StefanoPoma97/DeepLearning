{
 "cells": [
  {
   "cell_type": "markdown",
   "metadata": {
    "slideshow": {
     "slide_type": "slide"
    }
   },
   "source": [
    "# Linear Regression in Gluon\n",
    "### Generating Data Sets"
   ]
  },
  {
   "cell_type": "code",
   "execution_count": null,
   "metadata": {},
   "outputs": [],
   "source": [
    "!pip install mxnet"
   ]
  },
  {
   "cell_type": "code",
   "execution_count": 1,
   "metadata": {
    "ExecuteTime": {
     "end_time": "2019-02-07T05:47:06.995638Z",
     "start_time": "2019-02-07T05:47:05.995719Z"
    },
    "attributes": {
     "classes": [],
     "id": "",
     "n": "2"
    }
   },
   "outputs": [],
   "source": [
    "from mxnet import autograd, nd\n",
    "\n",
    "num_inputs = 2\n",
    "num_examples = 1000\n",
    "true_w = nd.array([2, -3.4])\n",
    "true_b = 4.2\n",
    "features = nd.random.normal(scale=1, shape=(num_examples, num_inputs))\n",
    "labels = nd.dot(features, true_w) + true_b\n",
    "labels += nd.random.normal(scale=0.01, shape=labels.shape)"
   ]
  },
  {
   "cell_type": "markdown",
   "metadata": {
    "slideshow": {
     "slide_type": "slide"
    }
   },
   "source": [
    "### Reading Data"
   ]
  },
  {
   "cell_type": "code",
   "execution_count": 2,
   "metadata": {
    "ExecuteTime": {
     "end_time": "2019-02-07T05:47:07.023284Z",
     "start_time": "2019-02-07T05:47:07.011274Z"
    },
    "attributes": {
     "classes": [],
     "id": "",
     "n": "3"
    }
   },
   "outputs": [
    {
     "name": "stdout",
     "output_type": "stream",
     "text": [
      "\n",
      "[[-0.45886332 -1.4475833 ]\n",
      " [-1.0442649   0.19647914]\n",
      " [-1.059102   -0.34620294]\n",
      " [-0.35445517 -1.3242855 ]\n",
      " [-0.542915    1.2974086 ]\n",
      " [ 0.14459428 -0.28338912]\n",
      " [ 0.6185597   0.21763243]\n",
      " [ 2.7692301  -0.15112336]\n",
      " [-0.06933286  1.1024144 ]\n",
      " [ 0.7247974  -0.8402941 ]]\n",
      "<NDArray 10x2 @cpu(0)> \n",
      "[ 8.2049885   1.4411061   3.2603705   7.996832   -1.2931155   5.4458017\n",
      "  4.698547   10.257168    0.30852094  8.513775  ]\n",
      "<NDArray 10 @cpu(0)>\n"
     ]
    }
   ],
   "source": [
    "from mxnet.gluon import data as gdata\n",
    "\n",
    "batch_size = 10\n",
    "# Combine the features and labels of the training data\n",
    "dataset = gdata.ArrayDataset(features, labels)\n",
    "# Randomly reading mini-batches\n",
    "data_iter = gdata.DataLoader(dataset, batch_size, shuffle=True)\n",
    "\n",
    "# Read a batch to see how it works\n",
    "for X, y in data_iter:\n",
    "    print(X, y)\n",
    "    break"
   ]
  },
  {
   "cell_type": "markdown",
   "metadata": {
    "slideshow": {
     "slide_type": "slide"
    }
   },
   "source": [
    "### Define the Model"
   ]
  },
  {
   "cell_type": "code",
   "execution_count": 3,
   "metadata": {
    "ExecuteTime": {
     "end_time": "2019-02-07T05:47:07.120408Z",
     "start_time": "2019-02-07T05:47:07.096703Z"
    },
    "attributes": {
     "classes": [],
     "id": "",
     "n": "5"
    }
   },
   "outputs": [],
   "source": [
    "from mxnet.gluon import nn\n",
    "net = nn.Sequential()\n",
    "net.add(nn.Dense(1))"
   ]
  },
  {
   "cell_type": "markdown",
   "metadata": {
    "slideshow": {
     "slide_type": "fragment"
    }
   },
   "source": [
    "### Initialize Model Parameters\n",
    "\n",
    "- Initialize weight parameter by a normal distribution with a mean of 0 and standard deviation of 0.01.\n",
    "- The bias parameter is initialized to zero by default."
   ]
  },
  {
   "cell_type": "code",
   "execution_count": 4,
   "metadata": {
    "ExecuteTime": {
     "end_time": "2019-02-07T05:47:07.161801Z",
     "start_time": "2019-02-07T05:47:07.146370Z"
    },
    "attributes": {
     "classes": [],
     "id": "",
     "n": "7"
    }
   },
   "outputs": [],
   "source": [
    "from mxnet import init\n",
    "net.initialize(init.Normal(sigma=0.01))"
   ]
  },
  {
   "cell_type": "markdown",
   "metadata": {
    "slideshow": {
     "slide_type": "slide"
    }
   },
   "source": [
    "### Define the Loss Function"
   ]
  },
  {
   "cell_type": "code",
   "execution_count": 5,
   "metadata": {
    "ExecuteTime": {
     "end_time": "2019-02-07T05:47:07.179671Z",
     "start_time": "2019-02-07T05:47:07.164842Z"
    },
    "attributes": {
     "classes": [],
     "id": "",
     "n": "8"
    }
   },
   "outputs": [],
   "source": [
    "from mxnet.gluon import loss as gloss\n",
    "loss = gloss.L2Loss()  # The squared loss is also known as the L2 norm loss"
   ]
  },
  {
   "cell_type": "markdown",
   "metadata": {
    "slideshow": {
     "slide_type": "fragment"
    }
   },
   "source": [
    "### Define the Optimization Algorithm"
   ]
  },
  {
   "cell_type": "code",
   "execution_count": 6,
   "metadata": {
    "ExecuteTime": {
     "end_time": "2019-02-07T05:47:07.190991Z",
     "start_time": "2019-02-07T05:47:07.182979Z"
    },
    "attributes": {
     "classes": [],
     "id": "",
     "n": "9"
    }
   },
   "outputs": [],
   "source": [
    "from mxnet import gluon\n",
    "trainer = gluon.Trainer(net.collect_params(), 'sgd', {'learning_rate': 0.03})"
   ]
  },
  {
   "cell_type": "markdown",
   "metadata": {
    "slideshow": {
     "slide_type": "slide"
    }
   },
   "source": [
    "### Training"
   ]
  },
  {
   "cell_type": "code",
   "execution_count": 16,
   "metadata": {
    "ExecuteTime": {
     "end_time": "2019-02-07T05:47:07.792154Z",
     "start_time": "2019-02-07T05:47:07.194239Z"
    },
    "attributes": {
     "classes": [],
     "id": "",
     "n": "10"
    }
   },
   "outputs": [
    {
     "name": "stdout",
     "output_type": "stream",
     "text": [
      "epoch 1, loss: 0.000050\n",
      "epoch 2, loss: 0.000050\n",
      "epoch 3, loss: 0.000050\n",
      "epoch 4, loss: 0.000050\n",
      "epoch 5, loss: 0.000050\n",
      "epoch 6, loss: 0.000050\n",
      "epoch 7, loss: 0.000050\n",
      "epoch 8, loss: 0.000050\n",
      "epoch 9, loss: 0.000050\n",
      "epoch 10, loss: 0.000050\n"
     ]
    }
   ],
   "source": [
    "num_epochs = 3\n",
    "for epoch in range(1, num_epochs + 1):\n",
    "    for X, y in data_iter:\n",
    "        with autograd.record():\n",
    "            l = loss(net(X), y)\n",
    "        l.backward()\n",
    "        trainer.step(batch_size)\n",
    "    l = loss(net(features), labels)\n",
    "    print('epoch %d, loss: %f' % (epoch, l.mean().asnumpy()))"
   ]
  },
  {
   "cell_type": "markdown",
   "metadata": {
    "slideshow": {
     "slide_type": "slide"
    }
   },
   "source": [
    "### Evaluate "
   ]
  },
  {
   "cell_type": "code",
   "execution_count": 8,
   "metadata": {
    "ExecuteTime": {
     "end_time": "2019-02-07T05:47:07.806737Z",
     "start_time": "2019-02-07T05:47:07.795472Z"
    },
    "attributes": {
     "classes": [],
     "id": "",
     "n": "12"
    }
   },
   "outputs": [
    {
     "name": "stdout",
     "output_type": "stream",
     "text": [
      "Error in estimating w \n",
      "[[ 0.00081837 -0.00019145]]\n",
      "<NDArray 1x2 @cpu(0)>\n",
      "Error in estimating b \n",
      "[0.00046682]\n",
      "<NDArray 1 @cpu(0)>\n",
      "\n",
      "[[ 1.9991816 -3.3998086]]\n",
      "<NDArray 1x2 @cpu(0)>\n",
      "\n",
      "[4.199533]\n",
      "<NDArray 1 @cpu(0)>\n"
     ]
    }
   ],
   "source": [
    "w = net[0].weight.data()\n",
    "print('Error in estimating w', true_w.reshape(w.shape) - w)\n",
    "b = net[0].bias.data()\n",
    "print('Error in estimating b', true_b - b)\n",
    "print(w)\n",
    "print(b)"
   ]
  },
  {
   "cell_type": "markdown",
   "metadata": {},
   "source": [
    "#With Keras"
   ]
  },
  {
   "cell_type": "code",
   "execution_count": 9,
   "metadata": {},
   "outputs": [
    {
     "name": "stderr",
     "output_type": "stream",
     "text": [
      "Using TensorFlow backend.\n",
      "/home/iserina/.local/lib/python3.6/site-packages/tensorflow/python/framework/dtypes.py:526: FutureWarning: Passing (type, 1) or '1type' as a synonym of type is deprecated; in a future version of numpy, it will be understood as (type, (1,)) / '(1,)type'.\n",
      "  _np_qint8 = np.dtype([(\"qint8\", np.int8, 1)])\n",
      "/home/iserina/.local/lib/python3.6/site-packages/tensorflow/python/framework/dtypes.py:527: FutureWarning: Passing (type, 1) or '1type' as a synonym of type is deprecated; in a future version of numpy, it will be understood as (type, (1,)) / '(1,)type'.\n",
      "  _np_quint8 = np.dtype([(\"quint8\", np.uint8, 1)])\n",
      "/home/iserina/.local/lib/python3.6/site-packages/tensorflow/python/framework/dtypes.py:528: FutureWarning: Passing (type, 1) or '1type' as a synonym of type is deprecated; in a future version of numpy, it will be understood as (type, (1,)) / '(1,)type'.\n",
      "  _np_qint16 = np.dtype([(\"qint16\", np.int16, 1)])\n",
      "/home/iserina/.local/lib/python3.6/site-packages/tensorflow/python/framework/dtypes.py:529: FutureWarning: Passing (type, 1) or '1type' as a synonym of type is deprecated; in a future version of numpy, it will be understood as (type, (1,)) / '(1,)type'.\n",
      "  _np_quint16 = np.dtype([(\"quint16\", np.uint16, 1)])\n",
      "/home/iserina/.local/lib/python3.6/site-packages/tensorflow/python/framework/dtypes.py:530: FutureWarning: Passing (type, 1) or '1type' as a synonym of type is deprecated; in a future version of numpy, it will be understood as (type, (1,)) / '(1,)type'.\n",
      "  _np_qint32 = np.dtype([(\"qint32\", np.int32, 1)])\n",
      "/home/iserina/.local/lib/python3.6/site-packages/tensorflow/python/framework/dtypes.py:535: FutureWarning: Passing (type, 1) or '1type' as a synonym of type is deprecated; in a future version of numpy, it will be understood as (type, (1,)) / '(1,)type'.\n",
      "  np_resource = np.dtype([(\"resource\", np.ubyte, 1)])\n"
     ]
    }
   ],
   "source": [
    "import pandas as pd\n",
    "\n",
    "import numpy as np\n",
    "import keras\n",
    "\n",
    "from matplotlib import pyplot as plt\n",
    "\n",
    "from keras.layers import Input, Dense\n",
    "from keras.models import Model\n",
    "\n",
    "from sklearn.preprocessing import StandardScaler, MinMaxScaler, Normalizer\n",
    "\n",
    "%matplotlib inline"
   ]
  },
  {
   "cell_type": "code",
   "execution_count": 48,
   "metadata": {},
   "outputs": [
    {
     "name": "stdout",
     "output_type": "stream",
     "text": [
      "Epoch 1/10\n",
      "1000/1000 [==============================] - 0s 303us/step - loss: 10.8149 - mean_squared_error: 10.8149\n",
      "Epoch 2/10\n",
      "1000/1000 [==============================] - 0s 105us/step - loss: 0.1972 - mean_squared_error: 0.1972\n",
      "Epoch 3/10\n",
      "1000/1000 [==============================] - 0s 94us/step - loss: 0.0038 - mean_squared_error: 0.0038\n",
      "Epoch 4/10\n",
      "1000/1000 [==============================] - 0s 95us/step - loss: 1.7084e-04 - mean_squared_error: 1.7084e-04\n",
      "Epoch 5/10\n",
      "1000/1000 [==============================] - 0s 90us/step - loss: 1.0203e-04 - mean_squared_error: 1.0203e-04\n",
      "Epoch 6/10\n",
      "1000/1000 [==============================] - 0s 104us/step - loss: 1.0078e-04 - mean_squared_error: 1.0078e-04\n",
      "Epoch 7/10\n",
      "1000/1000 [==============================] - 0s 90us/step - loss: 1.0077e-04 - mean_squared_error: 1.0077e-04\n",
      "Epoch 8/10\n",
      "1000/1000 [==============================] - 0s 112us/step - loss: 1.0077e-04 - mean_squared_error: 1.0077e-04\n",
      "Epoch 9/10\n",
      "1000/1000 [==============================] - 0s 91us/step - loss: 1.0077e-04 - mean_squared_error: 1.0077e-04\n",
      "Epoch 10/10\n",
      "1000/1000 [==============================] - 0s 107us/step - loss: 1.0078e-04 - mean_squared_error: 1.0078e-04\n"
     ]
    },
    {
     "data": {
      "text/plain": [
       "<keras.callbacks.History at 0x7f2a0835fd30>"
      ]
     },
     "execution_count": 48,
     "metadata": {},
     "output_type": "execute_result"
    }
   ],
   "source": [
    "inputs = Input(shape=(2,))\n",
    "preds = Dense(1,activation='linear')(inputs)\n",
    "X_=features.asnumpy()\n",
    "y_=labels.asnumpy()\n",
    "model = Model(inputs=inputs,outputs=preds)\n",
    "sgd=keras.optimizers.SGD()\n",
    "model.compile(optimizer=sgd ,loss='mse',metrics=['mse'])\n",
    "model.fit(X_,y_, batch_size=batch_size, epochs=num_epochs, shuffle=False)"
   ]
  },
  {
   "cell_type": "code",
   "execution_count": 39,
   "metadata": {},
   "outputs": [
    {
     "name": "stdout",
     "output_type": "stream",
     "text": [
      "Error in estimating w [-4.0531158e-05 -3.1280518e-04]\n",
      "Error in estimating b [-0.00042057]\n",
      "weights= [[ 2.0000405]\n",
      " [-3.3996873]]\n",
      "biases= [4.2004204]\n"
     ]
    }
   ],
   "source": [
    "weights, biases = model.layers[1].get_weights()\n",
    "print('Error in estimating w', true_w.asnumpy() - weights.reshape(true_w.shape))\n",
    "print('Error in estimating b', true_b - biases)\n",
    "print(\"weights=\", weights)\n",
    "print(\"biases=\",biases)\n"
   ]
  },
  {
   "cell_type": "code",
   "execution_count": 40,
   "metadata": {},
   "outputs": [],
   "source": [
    "def squared_loss(y_hat, y):\n",
    "    return (y_hat - y.reshape(y_hat.shape)) ** 2 / 2"
   ]
  },
  {
   "cell_type": "code",
   "execution_count": 45,
   "metadata": {},
   "outputs": [
    {
     "data": {
      "text/plain": [
       "<tf.Tensor 'Mean_1:0' shape=(1000,) dtype=float32>"
      ]
     },
     "execution_count": 45,
     "metadata": {},
     "output_type": "execute_result"
    }
   ],
   "source": [
    "ynew = model.predict(X_)\n",
    "train_l = squared_loss(ynew, y_)\n",
    "train_t=\n",
    "train_l.mean()"
   ]
  }
 ],
 "metadata": {
  "celltoolbar": "Slideshow",
  "kernelspec": {
   "display_name": "Python 3",
   "language": "python",
   "name": "python3"
  },
  "language_info": {
   "codemirror_mode": {
    "name": "ipython",
    "version": 3
   },
   "file_extension": ".py",
   "mimetype": "text/x-python",
   "name": "python",
   "nbconvert_exporter": "python",
   "pygments_lexer": "ipython3",
   "version": "3.6.8"
  }
 },
 "nbformat": 4,
 "nbformat_minor": 2
}
