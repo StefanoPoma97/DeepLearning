{
  "nbformat": 4,
  "nbformat_minor": 0,
  "metadata": {
    "kernelspec": {
      "display_name": "Python 3",
      "language": "python",
      "name": "python3"
    },
    "language_info": {
      "codemirror_mode": {
        "name": "ipython",
        "version": 3
      },
      "file_extension": ".py",
      "mimetype": "text/x-python",
      "name": "python",
      "nbconvert_exporter": "python",
      "pygments_lexer": "ipython3",
      "version": "3.6.6"
    },
    "colab": {
      "name": "02-Numpy.ipynb",
      "provenance": []
    }
  },
  "cells": [
    {
      "cell_type": "markdown",
      "metadata": {
        "id": "VwuBbFq72bSU",
        "colab_type": "text"
      },
      "source": [
        "# NumPy -  multidimensional data arrays"
      ]
    },
    {
      "cell_type": "markdown",
      "metadata": {
        "id": "Vaj-D0Q22bSe",
        "colab_type": "text"
      },
      "source": [
        "### Ondrej Lexa"
      ]
    },
    {
      "cell_type": "markdown",
      "metadata": {
        "id": "i66vgvMi2bSj",
        "colab_type": "text"
      },
      "source": [
        "The `numpy` package (module) is used in almost all numerical computation using Python. It is a package that provide high-performance vector, matrix and higher-dimensional data structures for Python. It is implemented in C and Fortran so when calculations are vectorized (formulated with vectors and matrices), performance is very good.\n",
        "\n",
        "`NumPy` adds basic MATLAB-like capability to Python:\n",
        "\n",
        " * multidimensional arrays with homogeneous data types\n",
        " * specific numeric data types (e.g. `int8`, `uint32`, `float64`)\n",
        " * array manipulation functions (e.g. `reshape`, `transpose`, `concatenate`)\n",
        " * array generation (e.g. `ones`, `zeros`, `eye`, `random`)\n",
        " * element-wise math operations (e.g. `add`, `multiply`, `max`, `sin`)\n",
        " * matrix math operations (e.g. `inner`/`outer` product, `rank`, `trace`)\n",
        " * linear algebra (e.g. `inv`, `pinv`, `svd`, `eig`, `det`, `qr`)\n",
        "\n",
        "`SciPy` builds on `NumPy` (much like MATLAB toolboxes) adding:\n",
        "\n",
        " * multidimensional image processing\n",
        " * non-linear solvers, optimization, root finding\n",
        " * signal processing, fast Fourier transforms\n",
        " * numerical integration, interpolation, statistical functions\n",
        " * sparse matrices, sparse solvers\n",
        " * clustering algorithms, distance metrics, spatial data structures\n",
        " * file IO (including to MATLAB .mat files)\n",
        "\n",
        "`Matplotlib` adds MATLAB-like plotting capability on top of `NumPy`."
      ]
    },
    {
      "cell_type": "markdown",
      "metadata": {
        "id": "WwMW2bsq2bSo",
        "colab_type": "text"
      },
      "source": [
        "### Importing the numpy module"
      ]
    },
    {
      "cell_type": "markdown",
      "metadata": {
        "id": "625HozS-2bSu",
        "colab_type": "text"
      },
      "source": [
        "There are several ways to import `numpy`. The standard approach is to use a simple import\n",
        "statement.\n",
        "```python\n",
        "import numpy\n",
        "```\n",
        "However, for large amounts of calls to `numpy` functions, it can become tedious to write\n",
        "`numpy.X` over and over again. Instead, it is common to import under the briefer name `np`.\n",
        "```python\n",
        "import numpy as np\n",
        "```\n",
        "This statement will allow us to access `numpy` objects using `np.X` instead of `numpy.X`. It is\n",
        "also possible to import `numpy` directly into the **current namespace** so that we don't have to use\n",
        "dot notation at all, but rather simply call the functions as if they were built-in:\n",
        "```python\n",
        "from numpy import *\n",
        "```"
      ]
    },
    {
      "cell_type": "markdown",
      "metadata": {
        "id": "D2A0R1Fq2bS0",
        "colab_type": "text"
      },
      "source": [
        "### Interactive Scientific Python (aka PyLab)\n",
        "**PyLab** is a meta-package that import most of the `NumPy` and `Matplotlib` into the global name space. It is the easiest (and most MATLAB-like) way to work with scientific Python.\n",
        "```python\n",
        "from pylab import *\n",
        "```\n",
        "In Jupyter notebooks we can use `%pylab` magic to initiate PyLab evnironment. Option `inline` set graphical output to be shown in notebook. For other magic commands see [Built-in magic commands](http://ipython.readthedocs.io/en/stable/interactive/magics.html). `%pylab` makes the following imports.\n",
        "```python\n",
        "import numpy\n",
        "import matplotlib\n",
        "from matplotlib import pylab, mlab, pyplot\n",
        "np = numpy\n",
        "plt = pyplot\n",
        "\n",
        "from IPython.display import display\n",
        "from IPython.core.pylabtools import figsize, getfigs\n",
        "\n",
        "from pylab import *\n",
        "from numpy import *\n",
        "```"
      ]
    },
    {
      "cell_type": "code",
      "metadata": {
        "id": "XUzTZxS92bS5",
        "colab_type": "code",
        "colab": {
          "base_uri": "https://localhost:8080/",
          "height": 35
        },
        "outputId": "aa655587-8ca3-45e9-9608-36b154648b61"
      },
      "source": [
        "%pylab inline"
      ],
      "execution_count": 5,
      "outputs": [
        {
          "output_type": "stream",
          "text": [
            "Populating the interactive namespace from numpy and matplotlib\n"
          ],
          "name": "stdout"
        }
      ]
    },
    {
      "cell_type": "markdown",
      "metadata": {
        "id": "YU9r7ByI2bTI",
        "colab_type": "text"
      },
      "source": [
        "#### Writing scripts and programs\n",
        "When writing scripts or programs it is recommended that you:\n",
        "\n",
        " * only import what you need, for efficiency\n",
        " * import packages into namespaces, to avoid name clashes\n",
        "\n",
        "The community has adopted abbreviated naming conventions\n",
        "```python\n",
        "import numpy as np\n",
        "import scipy as sp\n",
        "import matplotlib as mpl\n",
        "import matplotlib.pyplot as plt\n",
        "```\n",
        "Some different ways of working with `NumPy` are:\n",
        "```python\n",
        "from numpy import eye, array   # Import only what you need\n",
        "from numpy.linalg import svd\n",
        "```"
      ]
    },
    {
      "cell_type": "markdown",
      "metadata": {
        "id": "HThLZ0cW2bTM",
        "colab_type": "text"
      },
      "source": [
        "### NumPy arrays"
      ]
    },
    {
      "cell_type": "markdown",
      "metadata": {
        "id": "R3po0OLe2bTP",
        "colab_type": "text"
      },
      "source": [
        "In the `numpy` package the terminology used for vectors, matrices and higher-dimensional data sets is `numpy.ndarray`.\n",
        "\n",
        "The `numpy.ndarray` looks awefully much like a Python list (or nested list). Why not simply use Python lists for computations instead of creating a new array type? \n",
        "\n",
        "There are several reasons:\n",
        "\n",
        "* Python lists are very general. They can contain any kind of object. They are dynamically typed. They do not support mathematical functions such as matrix and dot multiplications, etc. Implementing such functions for Python lists would not be very efficient because of the dynamic typing.\n",
        "* Numpy arrays are **statically typed** and **homogeneous**. The type of the elements is determined when the array is created.\n",
        "* Numpy arrays are memory efficient.\n",
        "* Because of the static typing, fast implementation of mathematical functions such as multiplication and addition of `numpy` arrays can be implemented in a compiled language (C and Fortran is used).\n",
        "\n",
        "There are a number of ways to initialize new numpy arrays, for example from\n",
        "\n",
        "* a Python list or tuples\n",
        "* using functions that are dedicated to generating numpy arrays, such as `arange`, `linspace`, etc.\n",
        "* reading data from files"
      ]
    },
    {
      "cell_type": "markdown",
      "metadata": {
        "id": "JnLGSXuK2bTT",
        "colab_type": "text"
      },
      "source": [
        "### From lists"
      ]
    },
    {
      "cell_type": "markdown",
      "metadata": {
        "id": "5dE1oToR2bTZ",
        "colab_type": "text"
      },
      "source": [
        "For example, to create new vector and matrix arrays from Python lists we can use the `numpy.array` function."
      ]
    },
    {
      "cell_type": "code",
      "metadata": {
        "id": "YqESyxnN2bTc",
        "colab_type": "code",
        "colab": {},
        "outputId": "ad3743e2-8386-460b-fc8a-df549fc06ce9"
      },
      "source": [
        "# a vector: the argument to the array function is a Python list\n",
        "v = array([1,2,3,8])\n",
        "v"
      ],
      "execution_count": 0,
      "outputs": [
        {
          "output_type": "execute_result",
          "data": {
            "text/plain": [
              "array([1, 2, 3, 8])"
            ]
          },
          "metadata": {
            "tags": []
          },
          "execution_count": 2
        }
      ]
    },
    {
      "cell_type": "code",
      "metadata": {
        "id": "8bRCzwQq2bTn",
        "colab_type": "code",
        "colab": {},
        "outputId": "b3488452-4ec8-45e4-f2c1-0a88a484483c"
      },
      "source": [
        "# a matrix: the argument to the array function is a nested Python list\n",
        "M = array([[1, 2], [3, 4]])\n",
        "M"
      ],
      "execution_count": 0,
      "outputs": [
        {
          "output_type": "execute_result",
          "data": {
            "text/plain": [
              "array([[1, 2],\n",
              "       [3, 4]])"
            ]
          },
          "metadata": {
            "tags": []
          },
          "execution_count": 3
        }
      ]
    },
    {
      "cell_type": "markdown",
      "metadata": {
        "id": "R-Zw2dF02bTv",
        "colab_type": "text"
      },
      "source": [
        "The `v` and `M` objects are both of the type `ndarray` that the `numpy` module provides."
      ]
    },
    {
      "cell_type": "code",
      "metadata": {
        "id": "H4_-gqL_2bTz",
        "colab_type": "code",
        "colab": {},
        "outputId": "71fa2e4b-7da0-40eb-dbf3-81d5220d2828"
      },
      "source": [
        "type(v), type(M)"
      ],
      "execution_count": 0,
      "outputs": [
        {
          "output_type": "execute_result",
          "data": {
            "text/plain": [
              "(numpy.ndarray, numpy.ndarray)"
            ]
          },
          "metadata": {
            "tags": []
          },
          "execution_count": 4
        }
      ]
    },
    {
      "cell_type": "markdown",
      "metadata": {
        "id": "1wtGiEfR2bUB",
        "colab_type": "text"
      },
      "source": [
        "### `ndarray` properties"
      ]
    },
    {
      "cell_type": "markdown",
      "metadata": {
        "id": "jd62LLhT2bUE",
        "colab_type": "text"
      },
      "source": [
        "The difference between the `v` and `M` arrays is only their shapes. We can get information about the shape of an array by using the `ndarray.shape` property."
      ]
    },
    {
      "cell_type": "code",
      "metadata": {
        "id": "bwM-Z18a2bUH",
        "colab_type": "code",
        "colab": {},
        "outputId": "b0609485-d12f-4689-d00d-216a24651d24"
      },
      "source": [
        "v.shape"
      ],
      "execution_count": 0,
      "outputs": [
        {
          "output_type": "execute_result",
          "data": {
            "text/plain": [
              "(4,)"
            ]
          },
          "metadata": {
            "tags": []
          },
          "execution_count": 5
        }
      ]
    },
    {
      "cell_type": "code",
      "metadata": {
        "id": "f0jeuGc82bUS",
        "colab_type": "code",
        "colab": {},
        "outputId": "8387de08-91d9-4c64-9ce0-b2e7e566d315"
      },
      "source": [
        "M.shape"
      ],
      "execution_count": 0,
      "outputs": [
        {
          "output_type": "execute_result",
          "data": {
            "text/plain": [
              "(2, 2)"
            ]
          },
          "metadata": {
            "tags": []
          },
          "execution_count": 6
        }
      ]
    },
    {
      "cell_type": "markdown",
      "metadata": {
        "id": "3fgmS2dh2bUd",
        "colab_type": "text"
      },
      "source": [
        "The number of elements in the array is available through the `ndarray.size` property:"
      ]
    },
    {
      "cell_type": "code",
      "metadata": {
        "id": "grVBnJ9O2bUh",
        "colab_type": "code",
        "colab": {},
        "outputId": "5c560620-b5c6-4680-c570-e653e129191b"
      },
      "source": [
        "M.size"
      ],
      "execution_count": 0,
      "outputs": [
        {
          "output_type": "execute_result",
          "data": {
            "text/plain": [
              "4"
            ]
          },
          "metadata": {
            "tags": []
          },
          "execution_count": 7
        }
      ]
    },
    {
      "cell_type": "markdown",
      "metadata": {
        "id": "TeenQ8lL2bUr",
        "colab_type": "text"
      },
      "source": [
        "Equivalently, we could use the function `numpy.shape` and `numpy.size`"
      ]
    },
    {
      "cell_type": "code",
      "metadata": {
        "id": "P_rmc_8V2bUs",
        "colab_type": "code",
        "colab": {},
        "outputId": "70c738e7-46f3-4147-b5c6-6bed07431379"
      },
      "source": [
        "shape(M)"
      ],
      "execution_count": 0,
      "outputs": [
        {
          "output_type": "execute_result",
          "data": {
            "text/plain": [
              "(2, 2)"
            ]
          },
          "metadata": {
            "tags": []
          },
          "execution_count": 8
        }
      ]
    },
    {
      "cell_type": "code",
      "metadata": {
        "id": "Ffcu1BBm2bUz",
        "colab_type": "code",
        "colab": {},
        "outputId": "8dcba410-408a-4dcd-9ba6-79708cd25973"
      },
      "source": [
        "size(M)"
      ],
      "execution_count": 0,
      "outputs": [
        {
          "output_type": "execute_result",
          "data": {
            "text/plain": [
              "4"
            ]
          },
          "metadata": {
            "tags": []
          },
          "execution_count": 9
        }
      ]
    },
    {
      "cell_type": "markdown",
      "metadata": {
        "id": "l6-d0sLO2bU8",
        "colab_type": "text"
      },
      "source": [
        "The number of dimensions of the array is available through the `ndarray.ndim` property:"
      ]
    },
    {
      "cell_type": "code",
      "metadata": {
        "id": "sA7Ban-I2bU_",
        "colab_type": "code",
        "colab": {},
        "outputId": "a3b6c7e6-b79b-4ede-8284-68829aaf609c"
      },
      "source": [
        "v.ndim"
      ],
      "execution_count": 0,
      "outputs": [
        {
          "output_type": "execute_result",
          "data": {
            "text/plain": [
              "1"
            ]
          },
          "metadata": {
            "tags": []
          },
          "execution_count": 10
        }
      ]
    },
    {
      "cell_type": "code",
      "metadata": {
        "id": "WgMA4f4s2bVH",
        "colab_type": "code",
        "colab": {},
        "outputId": "79812403-a126-4646-d4e9-4957726fa6ae"
      },
      "source": [
        "M.ndim"
      ],
      "execution_count": 0,
      "outputs": [
        {
          "output_type": "execute_result",
          "data": {
            "text/plain": [
              "2"
            ]
          },
          "metadata": {
            "tags": []
          },
          "execution_count": 11
        }
      ]
    },
    {
      "cell_type": "code",
      "metadata": {
        "id": "QI7dO-NT2bVW",
        "colab_type": "code",
        "colab": {},
        "outputId": "d51dc607-0686-4c8d-d67b-c89088878a3c"
      },
      "source": [
        "M.itemsize # bytes per element"
      ],
      "execution_count": 0,
      "outputs": [
        {
          "output_type": "execute_result",
          "data": {
            "text/plain": [
              "8"
            ]
          },
          "metadata": {
            "tags": []
          },
          "execution_count": 12
        }
      ]
    },
    {
      "cell_type": "code",
      "metadata": {
        "id": "BvZQ04vP2bVd",
        "colab_type": "code",
        "colab": {},
        "outputId": "c6a4aac3-49e8-42de-e96d-607bebfc73cf"
      },
      "source": [
        "M.nbytes # number of bytes"
      ],
      "execution_count": 0,
      "outputs": [
        {
          "output_type": "execute_result",
          "data": {
            "text/plain": [
              "32"
            ]
          },
          "metadata": {
            "tags": []
          },
          "execution_count": 13
        }
      ]
    },
    {
      "cell_type": "markdown",
      "metadata": {
        "id": "tkfmoj9O2bVm",
        "colab_type": "text"
      },
      "source": [
        "Using the `dtype` (data type) property of an `ndarray`, we can see what type the data of an array has:"
      ]
    },
    {
      "cell_type": "code",
      "metadata": {
        "id": "b5JQcOBC2bVn",
        "colab_type": "code",
        "colab": {},
        "outputId": "fb1ceacf-0a18-497c-eab3-8f10ae7f1383"
      },
      "source": [
        "M.dtype"
      ],
      "execution_count": 0,
      "outputs": [
        {
          "output_type": "execute_result",
          "data": {
            "text/plain": [
              "dtype('int64')"
            ]
          },
          "metadata": {
            "tags": []
          },
          "execution_count": 14
        }
      ]
    },
    {
      "cell_type": "markdown",
      "metadata": {
        "id": "VyPFbYiM2bVv",
        "colab_type": "text"
      },
      "source": [
        "We get an error if we try to assign a value of the wrong type to an element in a numpy array:"
      ]
    },
    {
      "cell_type": "code",
      "metadata": {
        "id": "vORFnXZ32bVx",
        "colab_type": "code",
        "colab": {},
        "outputId": "3c9fc2da-9d8a-46f2-f754-f96b9ffef7a2"
      },
      "source": [
        "M[0,0] = \"hello\""
      ],
      "execution_count": 0,
      "outputs": [
        {
          "output_type": "error",
          "ename": "ValueError",
          "evalue": "invalid literal for int() with base 10: 'hello'",
          "traceback": [
            "\u001b[0;31m---------------------------------------------------------------------------\u001b[0m",
            "\u001b[0;31mValueError\u001b[0m                                Traceback (most recent call last)",
            "\u001b[0;32m<ipython-input-15-a09d72434238>\u001b[0m in \u001b[0;36m<module>\u001b[0;34m()\u001b[0m\n\u001b[0;32m----> 1\u001b[0;31m \u001b[0mM\u001b[0m\u001b[0;34m[\u001b[0m\u001b[0;36m0\u001b[0m\u001b[0;34m,\u001b[0m\u001b[0;36m0\u001b[0m\u001b[0;34m]\u001b[0m \u001b[0;34m=\u001b[0m \u001b[0;34m\"hello\"\u001b[0m\u001b[0;34m\u001b[0m\u001b[0m\n\u001b[0m",
            "\u001b[0;31mValueError\u001b[0m: invalid literal for int() with base 10: 'hello'"
          ]
        }
      ]
    },
    {
      "cell_type": "markdown",
      "metadata": {
        "id": "DwjaJgfi2bV8",
        "colab_type": "text"
      },
      "source": [
        "### Using array-generating functions"
      ]
    },
    {
      "cell_type": "markdown",
      "metadata": {
        "id": "UJgyQNfy2bV_",
        "colab_type": "text"
      },
      "source": [
        "For larger arrays it is inpractical to initialize the data manually, using explicit python lists. Instead we can use one of the many functions in `numpy` that generate arrays of different forms. Some of the more common are:"
      ]
    },
    {
      "cell_type": "markdown",
      "metadata": {
        "id": "jDbtEdlT2bWE",
        "colab_type": "text"
      },
      "source": [
        "#### arange"
      ]
    },
    {
      "cell_type": "code",
      "metadata": {
        "id": "t-dBjZhb2bWH",
        "colab_type": "code",
        "colab": {},
        "outputId": "aa6650a1-7042-4163-9f4e-8fdfb416fc46"
      },
      "source": [
        "# create a range\n",
        "x = arange(0, 10, 1) # arguments: start, stop, step\n",
        "x"
      ],
      "execution_count": 0,
      "outputs": [
        {
          "output_type": "execute_result",
          "data": {
            "text/plain": [
              "array([0, 1, 2, 3, 4, 5, 6, 7, 8, 9])"
            ]
          },
          "metadata": {
            "tags": []
          },
          "execution_count": 16
        }
      ]
    },
    {
      "cell_type": "code",
      "metadata": {
        "id": "F4mEK7rd2bWZ",
        "colab_type": "code",
        "colab": {},
        "outputId": "f8d957f2-4250-4c56-a571-cafa4b1e8c6b"
      },
      "source": [
        "x = arange(-1, 1, 0.1)\n",
        "x"
      ],
      "execution_count": 0,
      "outputs": [
        {
          "output_type": "execute_result",
          "data": {
            "text/plain": [
              "array([ -1.00000000e+00,  -9.00000000e-01,  -8.00000000e-01,\n",
              "        -7.00000000e-01,  -6.00000000e-01,  -5.00000000e-01,\n",
              "        -4.00000000e-01,  -3.00000000e-01,  -2.00000000e-01,\n",
              "        -1.00000000e-01,  -2.22044605e-16,   1.00000000e-01,\n",
              "         2.00000000e-01,   3.00000000e-01,   4.00000000e-01,\n",
              "         5.00000000e-01,   6.00000000e-01,   7.00000000e-01,\n",
              "         8.00000000e-01,   9.00000000e-01])"
            ]
          },
          "metadata": {
            "tags": []
          },
          "execution_count": 17
        }
      ]
    },
    {
      "cell_type": "markdown",
      "metadata": {
        "id": "FpKk7WNR2bWf",
        "colab_type": "text"
      },
      "source": [
        "#### linspace and logspace"
      ]
    },
    {
      "cell_type": "code",
      "metadata": {
        "id": "CxxUAbsZ2bWi",
        "colab_type": "code",
        "colab": {},
        "outputId": "4df854dd-da11-4b52-a898-bc181f18969a"
      },
      "source": [
        "# using linspace, both end points ARE included\n",
        "linspace(0, 10, 21)"
      ],
      "execution_count": 0,
      "outputs": [
        {
          "output_type": "execute_result",
          "data": {
            "text/plain": [
              "array([  0. ,   0.5,   1. ,   1.5,   2. ,   2.5,   3. ,   3.5,   4. ,\n",
              "         4.5,   5. ,   5.5,   6. ,   6.5,   7. ,   7.5,   8. ,   8.5,\n",
              "         9. ,   9.5,  10. ])"
            ]
          },
          "metadata": {
            "tags": []
          },
          "execution_count": 18
        }
      ]
    },
    {
      "cell_type": "code",
      "metadata": {
        "id": "P_dnfOf42bWn",
        "colab_type": "code",
        "colab": {},
        "outputId": "03ad209c-6fe3-4a81-81d9-c0b610f8627b"
      },
      "source": [
        "logspace(0, 2, 10, base=10)"
      ],
      "execution_count": 0,
      "outputs": [
        {
          "output_type": "execute_result",
          "data": {
            "text/plain": [
              "array([   1.        ,    1.66810054,    2.7825594 ,    4.64158883,\n",
              "          7.74263683,   12.91549665,   21.5443469 ,   35.93813664,\n",
              "         59.94842503,  100.        ])"
            ]
          },
          "metadata": {
            "tags": []
          },
          "execution_count": 19
        }
      ]
    },
    {
      "cell_type": "markdown",
      "metadata": {
        "id": "ANcOeTNu2bWs",
        "colab_type": "text"
      },
      "source": [
        "#### meshgrid"
      ]
    },
    {
      "cell_type": "code",
      "metadata": {
        "id": "8dwU0Ont2bWu",
        "colab_type": "code",
        "colab": {}
      },
      "source": [
        "xa = linspace(-5, 5, 11)\n",
        "ya = linspace(-3, 3, 7)\n",
        "x, y = meshgrid(xa, ya) # similar to meshgrid in MATLAB"
      ],
      "execution_count": 0,
      "outputs": []
    },
    {
      "cell_type": "code",
      "metadata": {
        "id": "-DZAxW0g2bW5",
        "colab_type": "code",
        "colab": {},
        "outputId": "4eeab357-0560-456f-9519-09903d3f1c18"
      },
      "source": [
        "x"
      ],
      "execution_count": 0,
      "outputs": [
        {
          "output_type": "execute_result",
          "data": {
            "text/plain": [
              "array([[-5., -4., -3., -2., -1.,  0.,  1.,  2.,  3.,  4.,  5.],\n",
              "       [-5., -4., -3., -2., -1.,  0.,  1.,  2.,  3.,  4.,  5.],\n",
              "       [-5., -4., -3., -2., -1.,  0.,  1.,  2.,  3.,  4.,  5.],\n",
              "       [-5., -4., -3., -2., -1.,  0.,  1.,  2.,  3.,  4.,  5.],\n",
              "       [-5., -4., -3., -2., -1.,  0.,  1.,  2.,  3.,  4.,  5.],\n",
              "       [-5., -4., -3., -2., -1.,  0.,  1.,  2.,  3.,  4.,  5.],\n",
              "       [-5., -4., -3., -2., -1.,  0.,  1.,  2.,  3.,  4.,  5.]])"
            ]
          },
          "metadata": {
            "tags": []
          },
          "execution_count": 21
        }
      ]
    },
    {
      "cell_type": "code",
      "metadata": {
        "id": "sNjetqJh2bXC",
        "colab_type": "code",
        "colab": {},
        "outputId": "cf63d4b0-5c98-41ec-9b1d-8927840880e9"
      },
      "source": [
        "y"
      ],
      "execution_count": 0,
      "outputs": [
        {
          "output_type": "execute_result",
          "data": {
            "text/plain": [
              "array([[-3., -3., -3., -3., -3., -3., -3., -3., -3., -3., -3.],\n",
              "       [-2., -2., -2., -2., -2., -2., -2., -2., -2., -2., -2.],\n",
              "       [-1., -1., -1., -1., -1., -1., -1., -1., -1., -1., -1.],\n",
              "       [ 0.,  0.,  0.,  0.,  0.,  0.,  0.,  0.,  0.,  0.,  0.],\n",
              "       [ 1.,  1.,  1.,  1.,  1.,  1.,  1.,  1.,  1.,  1.,  1.],\n",
              "       [ 2.,  2.,  2.,  2.,  2.,  2.,  2.,  2.,  2.,  2.,  2.],\n",
              "       [ 3.,  3.,  3.,  3.,  3.,  3.,  3.,  3.,  3.,  3.,  3.]])"
            ]
          },
          "metadata": {
            "tags": []
          },
          "execution_count": 22
        }
      ]
    },
    {
      "cell_type": "markdown",
      "metadata": {
        "id": "acWB9q_02bXK",
        "colab_type": "text"
      },
      "source": [
        "#### diag"
      ]
    },
    {
      "cell_type": "code",
      "metadata": {
        "id": "wg-AmGJO2bXN",
        "colab_type": "code",
        "colab": {},
        "outputId": "14dc9c26-e07c-456d-b2c7-977dd3caac3f"
      },
      "source": [
        "# a diagonal matrix\n",
        "diag([1,2,3])"
      ],
      "execution_count": 0,
      "outputs": [
        {
          "output_type": "execute_result",
          "data": {
            "text/plain": [
              "array([[1, 0, 0],\n",
              "       [0, 2, 0],\n",
              "       [0, 0, 3]])"
            ]
          },
          "metadata": {
            "tags": []
          },
          "execution_count": 23
        }
      ]
    },
    {
      "cell_type": "code",
      "metadata": {
        "id": "xqSS-Hf62bXT",
        "colab_type": "code",
        "colab": {},
        "outputId": "bea8eaa4-0d0a-44b5-e1cf-a61ce95e3b9d"
      },
      "source": [
        "# diagonal with offset from the main diagonal\n",
        "diag([1,2,3], k=1) "
      ],
      "execution_count": 0,
      "outputs": [
        {
          "output_type": "execute_result",
          "data": {
            "text/plain": [
              "array([[0, 1, 0, 0],\n",
              "       [0, 0, 2, 0],\n",
              "       [0, 0, 0, 3],\n",
              "       [0, 0, 0, 0]])"
            ]
          },
          "metadata": {
            "tags": []
          },
          "execution_count": 24
        }
      ]
    },
    {
      "cell_type": "markdown",
      "metadata": {
        "id": "RWMex5pj2bXX",
        "colab_type": "text"
      },
      "source": [
        "#### zeros and ones"
      ]
    },
    {
      "cell_type": "code",
      "metadata": {
        "id": "sNLQSE1G2bXZ",
        "colab_type": "code",
        "colab": {},
        "outputId": "f7a16865-681a-41c9-8d3c-53e2d1d5dc04"
      },
      "source": [
        "zeros((3,3))"
      ],
      "execution_count": 0,
      "outputs": [
        {
          "output_type": "execute_result",
          "data": {
            "text/plain": [
              "array([[ 0.,  0.,  0.],\n",
              "       [ 0.,  0.,  0.],\n",
              "       [ 0.,  0.,  0.]])"
            ]
          },
          "metadata": {
            "tags": []
          },
          "execution_count": 25
        }
      ]
    },
    {
      "cell_type": "code",
      "metadata": {
        "id": "0pteeXdr2bXd",
        "colab_type": "code",
        "colab": {},
        "outputId": "1e7f76dc-5183-46bb-a29d-9ba432d8b885"
      },
      "source": [
        "ones((3,3))"
      ],
      "execution_count": 0,
      "outputs": [
        {
          "output_type": "execute_result",
          "data": {
            "text/plain": [
              "array([[ 1.,  1.,  1.],\n",
              "       [ 1.,  1.,  1.],\n",
              "       [ 1.,  1.,  1.]])"
            ]
          },
          "metadata": {
            "tags": []
          },
          "execution_count": 26
        }
      ]
    },
    {
      "cell_type": "markdown",
      "metadata": {
        "id": "7z-Hkt3z2bXj",
        "colab_type": "text"
      },
      "source": [
        "#### identity"
      ]
    },
    {
      "cell_type": "code",
      "metadata": {
        "id": "rQGT8dt22bXk",
        "colab_type": "code",
        "colab": {},
        "outputId": "e388af1a-41fb-4a50-d570-7eea252650fd"
      },
      "source": [
        "identity(3)"
      ],
      "execution_count": 0,
      "outputs": [
        {
          "output_type": "execute_result",
          "data": {
            "text/plain": [
              "array([[ 1.,  0.,  0.],\n",
              "       [ 0.,  1.,  0.],\n",
              "       [ 0.,  0.,  1.]])"
            ]
          },
          "metadata": {
            "tags": []
          },
          "execution_count": 27
        }
      ]
    },
    {
      "cell_type": "markdown",
      "metadata": {
        "id": "AGwYJOi32bXp",
        "colab_type": "text"
      },
      "source": [
        "#### zeros_like and ones_like"
      ]
    },
    {
      "cell_type": "code",
      "metadata": {
        "id": "0akm5zzy2bXq",
        "colab_type": "code",
        "colab": {},
        "outputId": "119141a8-303a-4d52-8f45-49ae15f99cd4"
      },
      "source": [
        "zeros_like(x)"
      ],
      "execution_count": 0,
      "outputs": [
        {
          "output_type": "execute_result",
          "data": {
            "text/plain": [
              "array([[ 0.,  0.,  0.,  0.,  0.,  0.,  0.,  0.,  0.,  0.,  0.],\n",
              "       [ 0.,  0.,  0.,  0.,  0.,  0.,  0.,  0.,  0.,  0.,  0.],\n",
              "       [ 0.,  0.,  0.,  0.,  0.,  0.,  0.,  0.,  0.,  0.,  0.],\n",
              "       [ 0.,  0.,  0.,  0.,  0.,  0.,  0.,  0.,  0.,  0.,  0.],\n",
              "       [ 0.,  0.,  0.,  0.,  0.,  0.,  0.,  0.,  0.,  0.,  0.],\n",
              "       [ 0.,  0.,  0.,  0.,  0.,  0.,  0.,  0.,  0.,  0.,  0.],\n",
              "       [ 0.,  0.,  0.,  0.,  0.,  0.,  0.,  0.,  0.,  0.,  0.]])"
            ]
          },
          "metadata": {
            "tags": []
          },
          "execution_count": 28
        }
      ]
    },
    {
      "cell_type": "code",
      "metadata": {
        "id": "I9yZ8KcG2bXv",
        "colab_type": "code",
        "colab": {},
        "outputId": "9300690f-2ffc-46eb-8cdb-d7f92d792703"
      },
      "source": [
        "ones_like(x)"
      ],
      "execution_count": 0,
      "outputs": [
        {
          "output_type": "execute_result",
          "data": {
            "text/plain": [
              "array([[ 1.,  1.,  1.,  1.,  1.,  1.,  1.,  1.,  1.,  1.,  1.],\n",
              "       [ 1.,  1.,  1.,  1.,  1.,  1.,  1.,  1.,  1.,  1.,  1.],\n",
              "       [ 1.,  1.,  1.,  1.,  1.,  1.,  1.,  1.,  1.,  1.,  1.],\n",
              "       [ 1.,  1.,  1.,  1.,  1.,  1.,  1.,  1.,  1.,  1.,  1.],\n",
              "       [ 1.,  1.,  1.,  1.,  1.,  1.,  1.,  1.,  1.,  1.,  1.],\n",
              "       [ 1.,  1.,  1.,  1.,  1.,  1.,  1.,  1.,  1.,  1.,  1.],\n",
              "       [ 1.,  1.,  1.,  1.,  1.,  1.,  1.,  1.,  1.,  1.,  1.]])"
            ]
          },
          "metadata": {
            "tags": []
          },
          "execution_count": 29
        }
      ]
    },
    {
      "cell_type": "markdown",
      "metadata": {
        "id": "BR-nlHtF2bX0",
        "colab_type": "text"
      },
      "source": [
        "## Manipulating arrays"
      ]
    },
    {
      "cell_type": "markdown",
      "metadata": {
        "id": "9h5H_vZI2bX2",
        "colab_type": "text"
      },
      "source": [
        "### Indexing"
      ]
    },
    {
      "cell_type": "markdown",
      "metadata": {
        "id": "Vrkts6tm2bX3",
        "colab_type": "text"
      },
      "source": [
        "We can index elements in an array using square brackets and indices:"
      ]
    },
    {
      "cell_type": "code",
      "metadata": {
        "id": "wYo70WyK2bX4",
        "colab_type": "code",
        "colab": {},
        "outputId": "3ede9f02-9c5a-4d4c-f857-0b2d304fa126"
      },
      "source": [
        "# v is a vector, and has only one dimension, taking one index\n",
        "v[0]"
      ],
      "execution_count": 0,
      "outputs": [
        {
          "output_type": "execute_result",
          "data": {
            "text/plain": [
              "1"
            ]
          },
          "metadata": {
            "tags": []
          },
          "execution_count": 30
        }
      ]
    },
    {
      "cell_type": "code",
      "metadata": {
        "id": "_ec85vGs2bX8",
        "colab_type": "code",
        "colab": {},
        "outputId": "ba4da1d5-85ec-4df4-d0d1-e4b812c75c1c"
      },
      "source": [
        "# M is a matrix, or a 2 dimensional array. Index could be chained\n",
        "M[1][1]"
      ],
      "execution_count": 0,
      "outputs": [
        {
          "output_type": "execute_result",
          "data": {
            "text/plain": [
              "4"
            ]
          },
          "metadata": {
            "tags": []
          },
          "execution_count": 31
        }
      ]
    },
    {
      "cell_type": "code",
      "metadata": {
        "id": "mUL65-J82bYC",
        "colab_type": "code",
        "colab": {},
        "outputId": "a8d7d0be-b159-4f76-f82e-d79b6be6816e"
      },
      "source": [
        "# M is a matrix, or a 2 dimensional array, index can take also two indices \n",
        "M[1,1]"
      ],
      "execution_count": 0,
      "outputs": [
        {
          "output_type": "execute_result",
          "data": {
            "text/plain": [
              "4"
            ]
          },
          "metadata": {
            "tags": []
          },
          "execution_count": 32
        }
      ]
    },
    {
      "cell_type": "markdown",
      "metadata": {
        "id": "wSKeQb222bYH",
        "colab_type": "text"
      },
      "source": [
        "If we omit an index of a multidimensional array it returns the whole row (or, in general, a N-1 dimensional array) "
      ]
    },
    {
      "cell_type": "code",
      "metadata": {
        "id": "nCpZcXAp2bYI",
        "colab_type": "code",
        "colab": {},
        "outputId": "f913e744-7c54-4d63-9f11-e4be45d56e59"
      },
      "source": [
        "M"
      ],
      "execution_count": 0,
      "outputs": [
        {
          "output_type": "execute_result",
          "data": {
            "text/plain": [
              "array([[1, 2],\n",
              "       [3, 4]])"
            ]
          },
          "metadata": {
            "tags": []
          },
          "execution_count": 33
        }
      ]
    },
    {
      "cell_type": "code",
      "metadata": {
        "id": "jlw_M-Iu2bYP",
        "colab_type": "code",
        "colab": {},
        "outputId": "10791548-69a3-4841-a276-01f8d1a7b2a2"
      },
      "source": [
        "M[1]"
      ],
      "execution_count": 0,
      "outputs": [
        {
          "output_type": "execute_result",
          "data": {
            "text/plain": [
              "array([3, 4])"
            ]
          },
          "metadata": {
            "tags": []
          },
          "execution_count": 34
        }
      ]
    },
    {
      "cell_type": "markdown",
      "metadata": {
        "id": "hizYJK-52bYV",
        "colab_type": "text"
      },
      "source": [
        "The same thing can be achieved with using `:` instead of an index: "
      ]
    },
    {
      "cell_type": "code",
      "metadata": {
        "id": "Yf9nAe7f2bYW",
        "colab_type": "code",
        "colab": {},
        "outputId": "c44e935d-b47d-45ca-bf1d-3a406c267f65"
      },
      "source": [
        "M[1,:] # row 1"
      ],
      "execution_count": 0,
      "outputs": [
        {
          "output_type": "execute_result",
          "data": {
            "text/plain": [
              "array([3, 4])"
            ]
          },
          "metadata": {
            "tags": []
          },
          "execution_count": 35
        }
      ]
    },
    {
      "cell_type": "code",
      "metadata": {
        "id": "cYQVkAZF2bYc",
        "colab_type": "code",
        "colab": {},
        "outputId": "28e5bb07-0749-4c38-d9a7-c9be0bb351e0"
      },
      "source": [
        "M[:,1] # column 1"
      ],
      "execution_count": 0,
      "outputs": [
        {
          "output_type": "execute_result",
          "data": {
            "text/plain": [
              "array([2, 4])"
            ]
          },
          "metadata": {
            "tags": []
          },
          "execution_count": 36
        }
      ]
    },
    {
      "cell_type": "markdown",
      "metadata": {
        "id": "3-Qn7GJN2bYf",
        "colab_type": "text"
      },
      "source": [
        "We can assign new values to elements in an array using indexing:"
      ]
    },
    {
      "cell_type": "code",
      "metadata": {
        "id": "gHVRnZ102bYh",
        "colab_type": "code",
        "colab": {}
      },
      "source": [
        "M[0,0] = -1"
      ],
      "execution_count": 0,
      "outputs": []
    },
    {
      "cell_type": "code",
      "metadata": {
        "id": "tV4HZf8Z2bYm",
        "colab_type": "code",
        "colab": {},
        "outputId": "9fd33a2a-b1fc-4dd8-fd7c-b6676ed4d5ff"
      },
      "source": [
        "M"
      ],
      "execution_count": 0,
      "outputs": [
        {
          "output_type": "execute_result",
          "data": {
            "text/plain": [
              "array([[-1,  2],\n",
              "       [ 3,  4]])"
            ]
          },
          "metadata": {
            "tags": []
          },
          "execution_count": 38
        }
      ]
    },
    {
      "cell_type": "code",
      "metadata": {
        "id": "iVmCZqgu2bYr",
        "colab_type": "code",
        "colab": {}
      },
      "source": [
        "# also works for rows and columns\n",
        "M[0,:] = 0\n",
        "M[:,1] = -1"
      ],
      "execution_count": 0,
      "outputs": []
    },
    {
      "cell_type": "code",
      "metadata": {
        "id": "UXU4CuBC2bYv",
        "colab_type": "code",
        "colab": {},
        "outputId": "4ebccb4b-2ff5-4b3e-9157-c67cc8d39f26"
      },
      "source": [
        "M"
      ],
      "execution_count": 0,
      "outputs": [
        {
          "output_type": "execute_result",
          "data": {
            "text/plain": [
              "array([[ 0, -1],\n",
              "       [ 3, -1]])"
            ]
          },
          "metadata": {
            "tags": []
          },
          "execution_count": 40
        }
      ]
    },
    {
      "cell_type": "markdown",
      "metadata": {
        "id": "35uP2Wxm2bY0",
        "colab_type": "text"
      },
      "source": [
        "### Index slicing"
      ]
    },
    {
      "cell_type": "markdown",
      "metadata": {
        "id": "fcNInkBe2bY0",
        "colab_type": "text"
      },
      "source": [
        "Index slicing is the technical name for the syntax `M[lower:upper:step]` to extract part of an array:"
      ]
    },
    {
      "cell_type": "code",
      "metadata": {
        "id": "3qvoQWdA2bY2",
        "colab_type": "code",
        "colab": {},
        "outputId": "aa21ac53-174c-45fa-e707-ee153624f801"
      },
      "source": [
        "A = array([1,2,3,4,5])\n",
        "A"
      ],
      "execution_count": 0,
      "outputs": [
        {
          "output_type": "execute_result",
          "data": {
            "text/plain": [
              "array([1, 2, 3, 4, 5])"
            ]
          },
          "metadata": {
            "tags": []
          },
          "execution_count": 41
        }
      ]
    },
    {
      "cell_type": "code",
      "metadata": {
        "id": "ChlKEkuH2bY6",
        "colab_type": "code",
        "colab": {},
        "outputId": "060d584d-9595-4b04-94ec-0751a338c8be"
      },
      "source": [
        "A[1:3]"
      ],
      "execution_count": 0,
      "outputs": [
        {
          "output_type": "execute_result",
          "data": {
            "text/plain": [
              "array([2, 3])"
            ]
          },
          "metadata": {
            "tags": []
          },
          "execution_count": 42
        }
      ]
    },
    {
      "cell_type": "markdown",
      "metadata": {
        "id": "AXPDUntz2bY9",
        "colab_type": "text"
      },
      "source": [
        "Array slices are *mutable*: if they are assigned a new value the original array from which the slice was extracted is modified:"
      ]
    },
    {
      "cell_type": "code",
      "metadata": {
        "id": "6U3hN4mj2bY-",
        "colab_type": "code",
        "colab": {},
        "outputId": "ef8e1c17-816d-43e2-9ebe-8aa0afe742fb"
      },
      "source": [
        "A[1:3] = [-2,-3]\n",
        "\n",
        "A"
      ],
      "execution_count": 0,
      "outputs": [
        {
          "output_type": "execute_result",
          "data": {
            "text/plain": [
              "array([ 1, -2, -3,  4,  5])"
            ]
          },
          "metadata": {
            "tags": []
          },
          "execution_count": 43
        }
      ]
    },
    {
      "cell_type": "markdown",
      "metadata": {
        "id": "KpiMKyez2bZB",
        "colab_type": "text"
      },
      "source": [
        "We can omit any of the three parameters in `M[lower:upper:step]`:"
      ]
    },
    {
      "cell_type": "code",
      "metadata": {
        "id": "b3sviBGp2bZD",
        "colab_type": "code",
        "colab": {},
        "outputId": "b866d0eb-a103-4b6d-bdec-a7fbe0676565"
      },
      "source": [
        "A[::] # lower, upper, step all take the default values"
      ],
      "execution_count": 0,
      "outputs": [
        {
          "output_type": "execute_result",
          "data": {
            "text/plain": [
              "array([ 1, -2, -3,  4,  5])"
            ]
          },
          "metadata": {
            "tags": []
          },
          "execution_count": 44
        }
      ]
    },
    {
      "cell_type": "code",
      "metadata": {
        "id": "ErwqroHZ2bZG",
        "colab_type": "code",
        "colab": {},
        "outputId": "21c765df-ba45-46d9-d08a-d9cfdd2498e9"
      },
      "source": [
        "A[::2] # step is 2, lower and upper defaults to the beginning and end of the array"
      ],
      "execution_count": 0,
      "outputs": [
        {
          "output_type": "execute_result",
          "data": {
            "text/plain": [
              "array([ 1, -3,  5])"
            ]
          },
          "metadata": {
            "tags": []
          },
          "execution_count": 45
        }
      ]
    },
    {
      "cell_type": "code",
      "metadata": {
        "id": "-tHOgqMS2bZT",
        "colab_type": "code",
        "colab": {},
        "outputId": "e0bb3c32-08f4-48b4-83b7-097c063365ef"
      },
      "source": [
        "A[:3] # first three elements"
      ],
      "execution_count": 0,
      "outputs": [
        {
          "output_type": "execute_result",
          "data": {
            "text/plain": [
              "array([ 1, -2, -3])"
            ]
          },
          "metadata": {
            "tags": []
          },
          "execution_count": 46
        }
      ]
    },
    {
      "cell_type": "code",
      "metadata": {
        "id": "_djBu32O2bZY",
        "colab_type": "code",
        "colab": {},
        "outputId": "902fce89-9173-4603-f639-e55fa5a24d83"
      },
      "source": [
        "A[3:] # elements from index 3"
      ],
      "execution_count": 0,
      "outputs": [
        {
          "output_type": "execute_result",
          "data": {
            "text/plain": [
              "array([4, 5])"
            ]
          },
          "metadata": {
            "tags": []
          },
          "execution_count": 47
        }
      ]
    },
    {
      "cell_type": "markdown",
      "metadata": {
        "id": "iMbd49tt2bZd",
        "colab_type": "text"
      },
      "source": [
        "Negative indices counts from the end of the array (positive index from the begining):"
      ]
    },
    {
      "cell_type": "code",
      "metadata": {
        "id": "Z_X4vXf-2bZe",
        "colab_type": "code",
        "colab": {}
      },
      "source": [
        "A = array([1,2,3,4,5])"
      ],
      "execution_count": 0,
      "outputs": []
    },
    {
      "cell_type": "code",
      "metadata": {
        "id": "c31ml_6X2bZi",
        "colab_type": "code",
        "colab": {},
        "outputId": "146b22bb-df40-42e1-f82c-1214e752b253"
      },
      "source": [
        "A[-1] # the last element in the array"
      ],
      "execution_count": 0,
      "outputs": [
        {
          "output_type": "execute_result",
          "data": {
            "text/plain": [
              "5"
            ]
          },
          "metadata": {
            "tags": []
          },
          "execution_count": 49
        }
      ]
    },
    {
      "cell_type": "code",
      "metadata": {
        "id": "P-PZtp3P2bZm",
        "colab_type": "code",
        "colab": {},
        "outputId": "b2b66a81-9682-495c-91ee-8729855aadf6"
      },
      "source": [
        "A[-3:] # the last three elements"
      ],
      "execution_count": 0,
      "outputs": [
        {
          "output_type": "execute_result",
          "data": {
            "text/plain": [
              "array([3, 4, 5])"
            ]
          },
          "metadata": {
            "tags": []
          },
          "execution_count": 50
        }
      ]
    },
    {
      "cell_type": "markdown",
      "metadata": {
        "id": "8ku2ZNZJ2bZr",
        "colab_type": "text"
      },
      "source": [
        "Index slicing works exactly the same way for multidimensional arrays:"
      ]
    },
    {
      "cell_type": "code",
      "metadata": {
        "id": "ZMvPDgyQ2bZr",
        "colab_type": "code",
        "colab": {},
        "outputId": "0c7e765b-025a-4a65-c75c-ec4be93c703b"
      },
      "source": [
        "A = array([[n+m*10 for n in range(5)] for m in range(5)]) # note nested list comprehension\n",
        "A"
      ],
      "execution_count": 0,
      "outputs": [
        {
          "output_type": "execute_result",
          "data": {
            "text/plain": [
              "array([[ 0,  1,  2,  3,  4],\n",
              "       [10, 11, 12, 13, 14],\n",
              "       [20, 21, 22, 23, 24],\n",
              "       [30, 31, 32, 33, 34],\n",
              "       [40, 41, 42, 43, 44]])"
            ]
          },
          "metadata": {
            "tags": []
          },
          "execution_count": 51
        }
      ]
    },
    {
      "cell_type": "code",
      "metadata": {
        "id": "33HB6Dbo2bZv",
        "colab_type": "code",
        "colab": {},
        "outputId": "68d4909b-9dd2-45e2-c057-a1654bddedbc"
      },
      "source": [
        "# a block from the original array\n",
        "A[1:4, 1:4]"
      ],
      "execution_count": 0,
      "outputs": [
        {
          "output_type": "execute_result",
          "data": {
            "text/plain": [
              "array([[11, 12, 13],\n",
              "       [21, 22, 23],\n",
              "       [31, 32, 33]])"
            ]
          },
          "metadata": {
            "tags": []
          },
          "execution_count": 52
        }
      ]
    },
    {
      "cell_type": "code",
      "metadata": {
        "id": "TmbLPU6b2bZy",
        "colab_type": "code",
        "colab": {},
        "outputId": "8520d04f-ac79-4ebd-8935-c54b98e1f133"
      },
      "source": [
        "# strides\n",
        "A[::2, ::2]"
      ],
      "execution_count": 0,
      "outputs": [
        {
          "output_type": "execute_result",
          "data": {
            "text/plain": [
              "array([[ 0,  2,  4],\n",
              "       [20, 22, 24],\n",
              "       [40, 42, 44]])"
            ]
          },
          "metadata": {
            "tags": []
          },
          "execution_count": 53
        }
      ]
    },
    {
      "cell_type": "markdown",
      "metadata": {
        "id": "V6uOvtR32bZ3",
        "colab_type": "text"
      },
      "source": [
        "### Fancy indexing"
      ]
    },
    {
      "cell_type": "markdown",
      "metadata": {
        "id": "UinkFoea2bZ3",
        "colab_type": "text"
      },
      "source": [
        "Fancy indexing is the name for when an array or list is used in-place of an index: "
      ]
    },
    {
      "cell_type": "code",
      "metadata": {
        "id": "FxW6vpkp2bZ5",
        "colab_type": "code",
        "colab": {},
        "outputId": "14c5299e-0b0a-449d-ca10-b8794a28e2f3"
      },
      "source": [
        "row_indices = [1, 2, 3]\n",
        "A[row_indices]"
      ],
      "execution_count": 0,
      "outputs": [
        {
          "output_type": "execute_result",
          "data": {
            "text/plain": [
              "array([[10, 11, 12, 13, 14],\n",
              "       [20, 21, 22, 23, 24],\n",
              "       [30, 31, 32, 33, 34]])"
            ]
          },
          "metadata": {
            "tags": []
          },
          "execution_count": 54
        }
      ]
    },
    {
      "cell_type": "code",
      "metadata": {
        "id": "HNq9AJhg2bZ7",
        "colab_type": "code",
        "colab": {},
        "outputId": "f0d5bd25-1a59-4e7e-c65e-1125c3c851fe"
      },
      "source": [
        "col_indices = [1, 2, -1] # remember, index -1 means the last element\n",
        "A[row_indices, col_indices]"
      ],
      "execution_count": 0,
      "outputs": [
        {
          "output_type": "execute_result",
          "data": {
            "text/plain": [
              "array([11, 22, 34])"
            ]
          },
          "metadata": {
            "tags": []
          },
          "execution_count": 55
        }
      ]
    },
    {
      "cell_type": "markdown",
      "metadata": {
        "id": "KM8B2gcu2baB",
        "colab_type": "text"
      },
      "source": [
        "We can also use index masks: If the index mask is an Numpy array of data type `bool`, then an element is selected (True) or not (False) depending on the value of the index mask at the position of each element: "
      ]
    },
    {
      "cell_type": "code",
      "metadata": {
        "id": "4VnyFhI12baC",
        "colab_type": "code",
        "colab": {},
        "outputId": "eddbe447-c7bc-4945-8b81-ce520c634ffd"
      },
      "source": [
        "B = array([n for n in range(5)])\n",
        "B"
      ],
      "execution_count": 0,
      "outputs": [
        {
          "output_type": "execute_result",
          "data": {
            "text/plain": [
              "array([0, 1, 2, 3, 4])"
            ]
          },
          "metadata": {
            "tags": []
          },
          "execution_count": 56
        }
      ]
    },
    {
      "cell_type": "code",
      "metadata": {
        "id": "RLYA85342baG",
        "colab_type": "code",
        "colab": {},
        "outputId": "eb62809b-9fbe-4861-a8b5-8ab3b4d4b0e8"
      },
      "source": [
        "row_mask = array([True, False, True, False, False])\n",
        "B[row_mask]"
      ],
      "execution_count": 0,
      "outputs": [
        {
          "output_type": "execute_result",
          "data": {
            "text/plain": [
              "array([0, 2])"
            ]
          },
          "metadata": {
            "tags": []
          },
          "execution_count": 57
        }
      ]
    },
    {
      "cell_type": "code",
      "metadata": {
        "id": "hFvlgVKY2baL",
        "colab_type": "code",
        "colab": {},
        "outputId": "5bfe7ce0-156d-4b7d-fa4e-9ecebd110092"
      },
      "source": [
        "# same thing\n",
        "row_mask = array([1,0,1,0,0], dtype=bool)\n",
        "B[row_mask]"
      ],
      "execution_count": 0,
      "outputs": [
        {
          "output_type": "execute_result",
          "data": {
            "text/plain": [
              "array([0, 2])"
            ]
          },
          "metadata": {
            "tags": []
          },
          "execution_count": 58
        }
      ]
    },
    {
      "cell_type": "markdown",
      "metadata": {
        "id": "vGBCWaDQ2baO",
        "colab_type": "text"
      },
      "source": [
        "This feature is very useful to conditionally select elements from an array, using for example comparison operators:"
      ]
    },
    {
      "cell_type": "code",
      "metadata": {
        "id": "nz6WdntS2baQ",
        "colab_type": "code",
        "colab": {},
        "outputId": "11f8631f-71c5-475d-827c-6f6bdbe50b76"
      },
      "source": [
        "x = arange(0, 10, 0.5)\n",
        "x"
      ],
      "execution_count": 0,
      "outputs": [
        {
          "output_type": "execute_result",
          "data": {
            "text/plain": [
              "array([ 0. ,  0.5,  1. ,  1.5,  2. ,  2.5,  3. ,  3.5,  4. ,  4.5,  5. ,\n",
              "        5.5,  6. ,  6.5,  7. ,  7.5,  8. ,  8.5,  9. ,  9.5])"
            ]
          },
          "metadata": {
            "tags": []
          },
          "execution_count": 59
        }
      ]
    },
    {
      "cell_type": "markdown",
      "metadata": {
        "id": "C96J1RiB2bai",
        "colab_type": "text"
      },
      "source": [
        "### bitwise opeartions with boolean arrays\n",
        "\n",
        "<table>\n",
        "  <tr>\n",
        "    <th>Operator</th>\n",
        "    <th>Function</th>\n",
        "    <th>Description</th>\n",
        "  </tr>\n",
        "  <tr>\n",
        "    <td><code>&amp;</code></td>\n",
        "    <td><code>bitwise_and(x1, x2)</code></td>\n",
        "    <td>Compute the bit-wise AND of two arrays element-wise.</td>\n",
        "  </tr>\n",
        "  <tr>\n",
        "    <td><code>|</code></td>\n",
        "    <td><code>bitwise_or(x1, x2)</code></td>\n",
        "    <td>Compute the bit-wise OR of two arrays element-wise.</td>\n",
        "  </tr>\n",
        "  <tr>\n",
        "    <td><code>^</code></td>\n",
        "    <td><code>bitwise_xor(x1, x2)</code></td>\n",
        "    <td>Compute the bit-wise XOR of two arrays element-wise.</td>\n",
        "  </tr>\n",
        "  <tr>\n",
        "    <td><code>~</code></td>\n",
        "    <td><code>invert(x)</code></td>\n",
        "    <td>Compute bit-wise inversion, or bit-wise NOT, element-wise.</td>\n",
        "  </tr>\n",
        "</table>"
      ]
    },
    {
      "cell_type": "code",
      "metadata": {
        "id": "8VvfdRP42baj",
        "colab_type": "code",
        "colab": {},
        "outputId": "1aa97dc5-f725-4d11-d2ba-5222c391d917"
      },
      "source": [
        "mask = (5 < x) & (x <= 7)\n",
        "print(mask)\n",
        "print(x[mask])"
      ],
      "execution_count": 0,
      "outputs": [
        {
          "output_type": "stream",
          "text": [
            "[False False False False False False False False False False False  True\n",
            "  True  True  True False False False False False]\n",
            "[ 5.5  6.   6.5  7. ]\n"
          ],
          "name": "stdout"
        }
      ]
    },
    {
      "cell_type": "code",
      "metadata": {
        "id": "wnLBYs8y2bam",
        "colab_type": "code",
        "colab": {},
        "outputId": "022d187b-7f96-4e26-a0ae-c1d67f576161"
      },
      "source": [
        "mask = (x < 4) | (x > 7)\n",
        "print(mask)\n",
        "print(x[mask])"
      ],
      "execution_count": 0,
      "outputs": [
        {
          "output_type": "stream",
          "text": [
            "[ True  True  True  True  True  True  True  True False False False False\n",
            " False False False  True  True  True  True  True]\n",
            "[ 0.   0.5  1.   1.5  2.   2.5  3.   3.5  7.5  8.   8.5  9.   9.5]\n"
          ],
          "name": "stdout"
        }
      ]
    },
    {
      "cell_type": "markdown",
      "metadata": {
        "id": "ZT2hoKYF2baq",
        "colab_type": "text"
      },
      "source": [
        "## Array math"
      ]
    },
    {
      "cell_type": "markdown",
      "metadata": {
        "id": "_CH3wIbW2bar",
        "colab_type": "text"
      },
      "source": [
        "Basic mathematical functions operate elementwise on arrays, and are available both as operator overloads and as functions in the `numpy` module. Vectorizing code is the key to writing efficient numerical calculation with Python/Numpy. That means that as much as possible of a program should be formulated in terms of matrix and vector operations, like matrix-matrix multiplication."
      ]
    },
    {
      "cell_type": "markdown",
      "metadata": {
        "id": "xh79Ka2e2bas",
        "colab_type": "text"
      },
      "source": [
        "### Scalar-array operations"
      ]
    },
    {
      "cell_type": "markdown",
      "metadata": {
        "id": "ieBgjUDs2bau",
        "colab_type": "text"
      },
      "source": [
        "We can use the usual arithmetic operators to multiply, add, subtract, and divide arrays with scalar numbers."
      ]
    },
    {
      "cell_type": "code",
      "metadata": {
        "id": "DfzUO9Os2bay",
        "colab_type": "code",
        "colab": {}
      },
      "source": [
        "v1 = arange(0, 5)"
      ],
      "execution_count": 0,
      "outputs": []
    },
    {
      "cell_type": "code",
      "metadata": {
        "id": "4BxXR1PK2ba2",
        "colab_type": "code",
        "colab": {},
        "outputId": "1308c12f-14db-454e-cf16-e728ce10baac"
      },
      "source": [
        "v1 * 2"
      ],
      "execution_count": 0,
      "outputs": [
        {
          "output_type": "execute_result",
          "data": {
            "text/plain": [
              "array([0, 2, 4, 6, 8])"
            ]
          },
          "metadata": {
            "tags": []
          },
          "execution_count": 63
        }
      ]
    },
    {
      "cell_type": "code",
      "metadata": {
        "id": "iHAygOwN2ba5",
        "colab_type": "code",
        "colab": {},
        "outputId": "fac40b49-59dd-48f9-b10f-1ddc32180f49"
      },
      "source": [
        "v1 + 2"
      ],
      "execution_count": 0,
      "outputs": [
        {
          "output_type": "execute_result",
          "data": {
            "text/plain": [
              "array([2, 3, 4, 5, 6])"
            ]
          },
          "metadata": {
            "tags": []
          },
          "execution_count": 64
        }
      ]
    },
    {
      "cell_type": "code",
      "metadata": {
        "id": "iVpGRund2ba8",
        "colab_type": "code",
        "colab": {},
        "outputId": "ebbefb96-f781-4575-bbc0-f6ed3c15e155"
      },
      "source": [
        "A * 2"
      ],
      "execution_count": 0,
      "outputs": [
        {
          "output_type": "execute_result",
          "data": {
            "text/plain": [
              "array([[ 0,  2,  4,  6,  8],\n",
              "       [20, 22, 24, 26, 28],\n",
              "       [40, 42, 44, 46, 48],\n",
              "       [60, 62, 64, 66, 68],\n",
              "       [80, 82, 84, 86, 88]])"
            ]
          },
          "metadata": {
            "tags": []
          },
          "execution_count": 65
        }
      ]
    },
    {
      "cell_type": "code",
      "metadata": {
        "id": "pRGn5ozC2bbB",
        "colab_type": "code",
        "colab": {},
        "outputId": "3bf199b3-b426-4761-9d17-3f7d797780bc"
      },
      "source": [
        "A + 2"
      ],
      "execution_count": 0,
      "outputs": [
        {
          "output_type": "execute_result",
          "data": {
            "text/plain": [
              "array([[ 2,  3,  4,  5,  6],\n",
              "       [12, 13, 14, 15, 16],\n",
              "       [22, 23, 24, 25, 26],\n",
              "       [32, 33, 34, 35, 36],\n",
              "       [42, 43, 44, 45, 46]])"
            ]
          },
          "metadata": {
            "tags": []
          },
          "execution_count": 66
        }
      ]
    },
    {
      "cell_type": "code",
      "metadata": {
        "id": "AD0-A7DT2bbE",
        "colab_type": "code",
        "colab": {},
        "outputId": "565cbaa1-f5f4-4224-fda8-9a4682fe0888"
      },
      "source": [
        "A + A.T"
      ],
      "execution_count": 0,
      "outputs": [
        {
          "output_type": "execute_result",
          "data": {
            "text/plain": [
              "array([[ 0, 11, 22, 33, 44],\n",
              "       [11, 22, 33, 44, 55],\n",
              "       [22, 33, 44, 55, 66],\n",
              "       [33, 44, 55, 66, 77],\n",
              "       [44, 55, 66, 77, 88]])"
            ]
          },
          "metadata": {
            "tags": []
          },
          "execution_count": 67
        }
      ]
    },
    {
      "cell_type": "markdown",
      "metadata": {
        "id": "zIYu2_Um2bbH",
        "colab_type": "text"
      },
      "source": [
        "Above we have used the .T to transpose the matrix object v. We could also have used the transpose function to accomplish the same thing."
      ]
    },
    {
      "cell_type": "markdown",
      "metadata": {
        "id": "NMiFdDJV2bbI",
        "colab_type": "text"
      },
      "source": [
        "### Element-wise array-array operations"
      ]
    },
    {
      "cell_type": "markdown",
      "metadata": {
        "id": "GRGyJqtx2bbJ",
        "colab_type": "text"
      },
      "source": [
        "When we add, subtract, multiply and divide arrays with each other, the default behaviour is **element-wise** operations:"
      ]
    },
    {
      "cell_type": "code",
      "metadata": {
        "id": "KGyqXhII2bbL",
        "colab_type": "code",
        "colab": {},
        "outputId": "c5419fe3-340a-430c-8646-48300ad91c2c"
      },
      "source": [
        "A * A # element-wise multiplication"
      ],
      "execution_count": 0,
      "outputs": [
        {
          "output_type": "execute_result",
          "data": {
            "text/plain": [
              "array([[   0,    1,    4,    9,   16],\n",
              "       [ 100,  121,  144,  169,  196],\n",
              "       [ 400,  441,  484,  529,  576],\n",
              "       [ 900,  961, 1024, 1089, 1156],\n",
              "       [1600, 1681, 1764, 1849, 1936]])"
            ]
          },
          "metadata": {
            "tags": []
          },
          "execution_count": 68
        }
      ]
    },
    {
      "cell_type": "code",
      "metadata": {
        "id": "qteBpeP_2bbO",
        "colab_type": "code",
        "colab": {},
        "outputId": "c712115b-9b9d-439c-8cd0-5e75fc9c4a98"
      },
      "source": [
        "v1 * v1"
      ],
      "execution_count": 0,
      "outputs": [
        {
          "output_type": "execute_result",
          "data": {
            "text/plain": [
              "array([ 0,  1,  4,  9, 16])"
            ]
          },
          "metadata": {
            "tags": []
          },
          "execution_count": 69
        }
      ]
    },
    {
      "cell_type": "markdown",
      "metadata": {
        "id": "aGG_VH8E2bbS",
        "colab_type": "text"
      },
      "source": [
        "If we multiply arrays with compatible shapes, we get an element-wise multiplication of each row:"
      ]
    },
    {
      "cell_type": "code",
      "metadata": {
        "id": "o9KIosly2bbW",
        "colab_type": "code",
        "colab": {},
        "outputId": "9312b288-33d1-4d1c-bec8-66cae9d49f87"
      },
      "source": [
        "A.shape, v1.shape"
      ],
      "execution_count": 0,
      "outputs": [
        {
          "output_type": "execute_result",
          "data": {
            "text/plain": [
              "((5, 5), (5,))"
            ]
          },
          "metadata": {
            "tags": []
          },
          "execution_count": 70
        }
      ]
    },
    {
      "cell_type": "code",
      "metadata": {
        "id": "zMyHY9J52bbd",
        "colab_type": "code",
        "colab": {},
        "outputId": "8538faf1-6e3e-45f0-d480-17631b710bc0"
      },
      "source": [
        "A * v1"
      ],
      "execution_count": 0,
      "outputs": [
        {
          "output_type": "execute_result",
          "data": {
            "text/plain": [
              "array([[  0,   1,   4,   9,  16],\n",
              "       [  0,  11,  24,  39,  56],\n",
              "       [  0,  21,  44,  69,  96],\n",
              "       [  0,  31,  64,  99, 136],\n",
              "       [  0,  41,  84, 129, 176]])"
            ]
          },
          "metadata": {
            "tags": []
          },
          "execution_count": 71
        }
      ]
    },
    {
      "cell_type": "markdown",
      "metadata": {
        "id": "Sbbj1Fvv2bbk",
        "colab_type": "text"
      },
      "source": [
        "Numpy provides many useful functions for performing computations on arrays; one of the most useful is `sum`"
      ]
    },
    {
      "cell_type": "code",
      "metadata": {
        "id": "kqsg5Hdw2bbk",
        "colab_type": "code",
        "colab": {},
        "outputId": "71a9a42f-0287-4b80-9c85-0877acb773c9"
      },
      "source": [
        "print(A)\n",
        "print('Sum of all elements:', sum(A))\n",
        "print('Sum of each column: ', sum(A, axis=0))\n",
        "print('Sum of each row:    ', sum(A, axis=1))"
      ],
      "execution_count": 0,
      "outputs": [
        {
          "output_type": "stream",
          "text": [
            "[[ 0  1  2  3  4]\n",
            " [10 11 12 13 14]\n",
            " [20 21 22 23 24]\n",
            " [30 31 32 33 34]\n",
            " [40 41 42 43 44]]\n",
            "Sum of all elements: 550\n",
            "Sum of each column:  [100 105 110 115 120]\n",
            "Sum of each row:     [ 10  60 110 160 210]\n"
          ],
          "name": "stdout"
        }
      ]
    },
    {
      "cell_type": "markdown",
      "metadata": {
        "id": "v9NkBf6T2bbn",
        "colab_type": "text"
      },
      "source": [
        "### Broadcasting\n",
        "Broadcasting is a powerful mechanism that allows numpy to work with arrays of different shapes when performing arithmetic operations. Frequently we have a smaller array and a larger array, and we want to use the smaller array multiple times to perform some operation on the larger array."
      ]
    },
    {
      "cell_type": "code",
      "metadata": {
        "id": "lbQgbCqD2bbn",
        "colab_type": "code",
        "colab": {},
        "outputId": "085a17b0-331e-41e0-fec1-3648532f3eca"
      },
      "source": [
        "x = array([[1,2,3], [4,5,6], [7,8,9], [10, 11, 12]])\n",
        "v = array([1, 0, 1])\n",
        "print(x)"
      ],
      "execution_count": 0,
      "outputs": [
        {
          "output_type": "stream",
          "text": [
            "[[ 1  2  3]\n",
            " [ 4  5  6]\n",
            " [ 7  8  9]\n",
            " [10 11 12]]\n"
          ],
          "name": "stdout"
        }
      ]
    },
    {
      "cell_type": "code",
      "metadata": {
        "id": "P2Isxuyb2bbr",
        "colab_type": "code",
        "colab": {},
        "outputId": "03e658d9-23fc-483c-ac5f-f8a7d93ab8b1"
      },
      "source": [
        "print(x + v)"
      ],
      "execution_count": 0,
      "outputs": [
        {
          "output_type": "stream",
          "text": [
            "[[ 2  2  4]\n",
            " [ 5  5  7]\n",
            " [ 8  8 10]\n",
            " [11 11 13]]\n"
          ],
          "name": "stdout"
        }
      ]
    },
    {
      "cell_type": "markdown",
      "metadata": {
        "id": "WWPG7C0S2bbu",
        "colab_type": "text"
      },
      "source": [
        "The `x + v` works even though `x` has shape `(4, 3)` and `v` has shape `(3,)` due to broadcasting; this line works as if `v` actually had shape `(4, 3)`, where each row was a copy of `v`, and the sum was performed elementwise. It is similar for other mathematical operations as well."
      ]
    },
    {
      "cell_type": "code",
      "metadata": {
        "id": "6JB2U1-Y2bbv",
        "colab_type": "code",
        "colab": {},
        "outputId": "2b89efbc-6b1a-4763-ffe9-f0d86bba9996"
      },
      "source": [
        "print(x * v)"
      ],
      "execution_count": 0,
      "outputs": [
        {
          "output_type": "stream",
          "text": [
            "[[ 1  0  3]\n",
            " [ 4  0  6]\n",
            " [ 7  0  9]\n",
            " [10  0 12]]\n"
          ],
          "name": "stdout"
        }
      ]
    },
    {
      "cell_type": "markdown",
      "metadata": {
        "id": "IABONh3B2bby",
        "colab_type": "text"
      },
      "source": [
        "### Linear algebra"
      ]
    },
    {
      "cell_type": "markdown",
      "metadata": {
        "id": "9WqdoYDg2bby",
        "colab_type": "text"
      },
      "source": [
        "Note that unlike MATLAB, `*` is elementwise multiplication, not matrix multiplication. We instead use the `dot` function to compute inner products of vectors, to multiply a vector by a matrix, and to multiply matrices. `dot` is available both as a function in the numpy module and as an instance method of array objects."
      ]
    },
    {
      "cell_type": "code",
      "metadata": {
        "id": "2GU91mMr2bb0",
        "colab_type": "code",
        "colab": {},
        "outputId": "f98c1fed-3db6-43c3-f09f-7ca35c0d65e5"
      },
      "source": [
        "dot(A, A)"
      ],
      "execution_count": 0,
      "outputs": [
        {
          "output_type": "execute_result",
          "data": {
            "text/plain": [
              "array([[ 300,  310,  320,  330,  340],\n",
              "       [1300, 1360, 1420, 1480, 1540],\n",
              "       [2300, 2410, 2520, 2630, 2740],\n",
              "       [3300, 3460, 3620, 3780, 3940],\n",
              "       [4300, 4510, 4720, 4930, 5140]])"
            ]
          },
          "metadata": {
            "tags": []
          },
          "execution_count": 76
        }
      ]
    },
    {
      "cell_type": "code",
      "metadata": {
        "id": "R_xoGF0A2bb3",
        "colab_type": "code",
        "colab": {},
        "outputId": "3ba455ee-f1ad-41ce-c619-8e31c9b4e6a2"
      },
      "source": [
        "dot(A, v1)"
      ],
      "execution_count": 0,
      "outputs": [
        {
          "output_type": "execute_result",
          "data": {
            "text/plain": [
              "array([ 30, 130, 230, 330, 430])"
            ]
          },
          "metadata": {
            "tags": []
          },
          "execution_count": 77
        }
      ]
    },
    {
      "cell_type": "code",
      "metadata": {
        "id": "DnVj7KTq2bb7",
        "colab_type": "code",
        "colab": {},
        "outputId": "91dc456f-261b-4772-f257-e70a253a6893"
      },
      "source": [
        "A.dot(v1)"
      ],
      "execution_count": 0,
      "outputs": [
        {
          "output_type": "execute_result",
          "data": {
            "text/plain": [
              "array([ 30, 130, 230, 330, 430])"
            ]
          },
          "metadata": {
            "tags": []
          },
          "execution_count": 78
        }
      ]
    },
    {
      "cell_type": "markdown",
      "metadata": {
        "id": "krW6sRjf2bb9",
        "colab_type": "text"
      },
      "source": [
        "From **Python 3.5** there is new operator '@' for matrix multiplication and numpy has support for it."
      ]
    },
    {
      "cell_type": "code",
      "metadata": {
        "id": "x_jSUgbN2bb-",
        "colab_type": "code",
        "colab": {},
        "outputId": "c1a08259-6b9d-4536-b211-ac08264a1d05"
      },
      "source": [
        "A @ v1"
      ],
      "execution_count": 0,
      "outputs": [
        {
          "output_type": "execute_result",
          "data": {
            "text/plain": [
              "array([ 30, 130, 230, 330, 430])"
            ]
          },
          "metadata": {
            "tags": []
          },
          "execution_count": 79
        }
      ]
    },
    {
      "cell_type": "code",
      "metadata": {
        "id": "4qKPfQJZ2bcA",
        "colab_type": "code",
        "colab": {},
        "outputId": "9e362d9b-65ed-470f-f3c0-0b87d5931224"
      },
      "source": [
        "dot(v1,v1), v1.dot(v1), v1 @ v1"
      ],
      "execution_count": 0,
      "outputs": [
        {
          "output_type": "execute_result",
          "data": {
            "text/plain": [
              "(30, 30, 30)"
            ]
          },
          "metadata": {
            "tags": []
          },
          "execution_count": 80
        }
      ]
    },
    {
      "cell_type": "markdown",
      "metadata": {
        "id": "DRutPCsH2bcD",
        "colab_type": "text"
      },
      "source": [
        "Alternatively, we can cast the array objects to the type `matrix`. This changes the behavior of the standard arithmetic operators `+, -, *` to use matrix algebra."
      ]
    },
    {
      "cell_type": "code",
      "metadata": {
        "id": "iv5vXdfg2bcE",
        "colab_type": "code",
        "colab": {}
      },
      "source": [
        "M = matrix(A)\n",
        "v = matrix(v1).T # make it a column vector"
      ],
      "execution_count": 0,
      "outputs": []
    },
    {
      "cell_type": "code",
      "metadata": {
        "id": "tN5PaOOR2bcG",
        "colab_type": "code",
        "colab": {},
        "outputId": "64f65dbb-25df-4ce2-9c36-665e75397513"
      },
      "source": [
        "v"
      ],
      "execution_count": 0,
      "outputs": [
        {
          "output_type": "execute_result",
          "data": {
            "text/plain": [
              "matrix([[0],\n",
              "        [1],\n",
              "        [2],\n",
              "        [3],\n",
              "        [4]])"
            ]
          },
          "metadata": {
            "tags": []
          },
          "execution_count": 82
        }
      ]
    },
    {
      "cell_type": "code",
      "metadata": {
        "id": "gHrDDoTt2bcJ",
        "colab_type": "code",
        "colab": {},
        "outputId": "504b4532-2308-429c-f011-5d8c0f347f0f"
      },
      "source": [
        "M * M"
      ],
      "execution_count": 0,
      "outputs": [
        {
          "output_type": "execute_result",
          "data": {
            "text/plain": [
              "matrix([[ 300,  310,  320,  330,  340],\n",
              "        [1300, 1360, 1420, 1480, 1540],\n",
              "        [2300, 2410, 2520, 2630, 2740],\n",
              "        [3300, 3460, 3620, 3780, 3940],\n",
              "        [4300, 4510, 4720, 4930, 5140]])"
            ]
          },
          "metadata": {
            "tags": []
          },
          "execution_count": 83
        }
      ]
    },
    {
      "cell_type": "code",
      "metadata": {
        "id": "t11VPerc2bcM",
        "colab_type": "code",
        "colab": {},
        "outputId": "37cd7383-8674-41ad-a9fa-85b4618bbcd5"
      },
      "source": [
        "M * v"
      ],
      "execution_count": 0,
      "outputs": [
        {
          "output_type": "execute_result",
          "data": {
            "text/plain": [
              "matrix([[ 30],\n",
              "        [130],\n",
              "        [230],\n",
              "        [330],\n",
              "        [430]])"
            ]
          },
          "metadata": {
            "tags": []
          },
          "execution_count": 84
        }
      ]
    },
    {
      "cell_type": "code",
      "metadata": {
        "id": "DMG7Zq-b2bcO",
        "colab_type": "code",
        "colab": {},
        "outputId": "a20ef6f9-5115-4457-b93d-72909c096f95"
      },
      "source": [
        "# inner product\n",
        "v.T * v"
      ],
      "execution_count": 0,
      "outputs": [
        {
          "output_type": "execute_result",
          "data": {
            "text/plain": [
              "matrix([[30]])"
            ]
          },
          "metadata": {
            "tags": []
          },
          "execution_count": 85
        }
      ]
    },
    {
      "cell_type": "code",
      "metadata": {
        "id": "S42Sdomk2bcR",
        "colab_type": "code",
        "colab": {},
        "outputId": "a2c6b80c-ca1b-4140-d830-87f66bb6b9e9"
      },
      "source": [
        "# with matrix objects, standard matrix algebra applies\n",
        "v + M*v"
      ],
      "execution_count": 0,
      "outputs": [
        {
          "output_type": "execute_result",
          "data": {
            "text/plain": [
              "matrix([[ 30],\n",
              "        [131],\n",
              "        [232],\n",
              "        [333],\n",
              "        [434]])"
            ]
          },
          "metadata": {
            "tags": []
          },
          "execution_count": 86
        }
      ]
    },
    {
      "cell_type": "markdown",
      "metadata": {
        "id": "R1ysLmuA2bcU",
        "colab_type": "text"
      },
      "source": [
        "If we try to add, subtract or multiply objects with incomplatible shapes we get an error:"
      ]
    },
    {
      "cell_type": "code",
      "metadata": {
        "id": "DjhZBtcc2bcV",
        "colab_type": "code",
        "colab": {}
      },
      "source": [
        "v = matrix([1,2,3,4,5,6]).T"
      ],
      "execution_count": 0,
      "outputs": []
    },
    {
      "cell_type": "code",
      "metadata": {
        "id": "d_Yz8Hd62bcX",
        "colab_type": "code",
        "colab": {},
        "outputId": "d806bd23-6024-460f-9468-2cb5235a492c"
      },
      "source": [
        "shape(M), shape(v)"
      ],
      "execution_count": 0,
      "outputs": [
        {
          "output_type": "execute_result",
          "data": {
            "text/plain": [
              "((5, 5), (6, 1))"
            ]
          },
          "metadata": {
            "tags": []
          },
          "execution_count": 88
        }
      ]
    },
    {
      "cell_type": "code",
      "metadata": {
        "id": "VhqmHAU52bcZ",
        "colab_type": "code",
        "colab": {},
        "outputId": "be74cdc9-700a-4250-8d9f-b154246dff3f"
      },
      "source": [
        "M * v"
      ],
      "execution_count": 0,
      "outputs": [
        {
          "output_type": "error",
          "ename": "ValueError",
          "evalue": "shapes (5,5) and (6,1) not aligned: 5 (dim 1) != 6 (dim 0)",
          "traceback": [
            "\u001b[0;31m---------------------------------------------------------------------------\u001b[0m",
            "\u001b[0;31mValueError\u001b[0m                                Traceback (most recent call last)",
            "\u001b[0;32m<ipython-input-89-995fb48ad0cc>\u001b[0m in \u001b[0;36m<module>\u001b[0;34m()\u001b[0m\n\u001b[0;32m----> 1\u001b[0;31m \u001b[0mM\u001b[0m \u001b[0;34m*\u001b[0m \u001b[0mv\u001b[0m\u001b[0;34m\u001b[0m\u001b[0m\n\u001b[0m",
            "\u001b[0;32m~/miniconda3/lib/python3.5/site-packages/numpy/matrixlib/defmatrix.py\u001b[0m in \u001b[0;36m__mul__\u001b[0;34m(self, other)\u001b[0m\n\u001b[1;32m    307\u001b[0m         \u001b[0;32mif\u001b[0m \u001b[0misinstance\u001b[0m\u001b[0;34m(\u001b[0m\u001b[0mother\u001b[0m\u001b[0;34m,\u001b[0m \u001b[0;34m(\u001b[0m\u001b[0mN\u001b[0m\u001b[0;34m.\u001b[0m\u001b[0mndarray\u001b[0m\u001b[0;34m,\u001b[0m \u001b[0mlist\u001b[0m\u001b[0;34m,\u001b[0m \u001b[0mtuple\u001b[0m\u001b[0;34m)\u001b[0m\u001b[0;34m)\u001b[0m \u001b[0;34m:\u001b[0m\u001b[0;34m\u001b[0m\u001b[0m\n\u001b[1;32m    308\u001b[0m             \u001b[0;31m# This promotes 1-D vectors to row vectors\u001b[0m\u001b[0;34m\u001b[0m\u001b[0;34m\u001b[0m\u001b[0m\n\u001b[0;32m--> 309\u001b[0;31m             \u001b[0;32mreturn\u001b[0m \u001b[0mN\u001b[0m\u001b[0;34m.\u001b[0m\u001b[0mdot\u001b[0m\u001b[0;34m(\u001b[0m\u001b[0mself\u001b[0m\u001b[0;34m,\u001b[0m \u001b[0masmatrix\u001b[0m\u001b[0;34m(\u001b[0m\u001b[0mother\u001b[0m\u001b[0;34m)\u001b[0m\u001b[0;34m)\u001b[0m\u001b[0;34m\u001b[0m\u001b[0m\n\u001b[0m\u001b[1;32m    310\u001b[0m         \u001b[0;32mif\u001b[0m \u001b[0misscalar\u001b[0m\u001b[0;34m(\u001b[0m\u001b[0mother\u001b[0m\u001b[0;34m)\u001b[0m \u001b[0;32mor\u001b[0m \u001b[0;32mnot\u001b[0m \u001b[0mhasattr\u001b[0m\u001b[0;34m(\u001b[0m\u001b[0mother\u001b[0m\u001b[0;34m,\u001b[0m \u001b[0;34m'__rmul__'\u001b[0m\u001b[0;34m)\u001b[0m \u001b[0;34m:\u001b[0m\u001b[0;34m\u001b[0m\u001b[0m\n\u001b[1;32m    311\u001b[0m             \u001b[0;32mreturn\u001b[0m \u001b[0mN\u001b[0m\u001b[0;34m.\u001b[0m\u001b[0mdot\u001b[0m\u001b[0;34m(\u001b[0m\u001b[0mself\u001b[0m\u001b[0;34m,\u001b[0m \u001b[0mother\u001b[0m\u001b[0;34m)\u001b[0m\u001b[0;34m\u001b[0m\u001b[0m\n",
            "\u001b[0;31mValueError\u001b[0m: shapes (5,5) and (6,1) not aligned: 5 (dim 1) != 6 (dim 0)"
          ]
        }
      ]
    },
    {
      "cell_type": "markdown",
      "metadata": {
        "id": "11RF4rr12bcc",
        "colab_type": "text"
      },
      "source": [
        "See also the related functions: `inner`, `outer`, `cross`, `kron`, `tensordot`. Try for example `help(kron)`."
      ]
    },
    {
      "cell_type": "markdown",
      "metadata": {
        "id": "8x7mp46d2bcc",
        "colab_type": "text"
      },
      "source": [
        "### Matrix computations"
      ]
    },
    {
      "cell_type": "code",
      "metadata": {
        "id": "I9osLcmH2bcd",
        "colab_type": "code",
        "colab": {}
      },
      "source": [
        "M = array([[1, 2], [3, 4]])"
      ],
      "execution_count": 0,
      "outputs": []
    },
    {
      "cell_type": "markdown",
      "metadata": {
        "id": "taU0sxsn2bcg",
        "colab_type": "text"
      },
      "source": [
        "#### Inverse"
      ]
    },
    {
      "cell_type": "code",
      "metadata": {
        "id": "9I5JkkMw2bch",
        "colab_type": "code",
        "colab": {},
        "outputId": "506d59a5-b289-4810-f5b6-2be3555405a9"
      },
      "source": [
        "inv(M) # equivalent to M.I when M is matrix"
      ],
      "execution_count": 0,
      "outputs": [
        {
          "output_type": "execute_result",
          "data": {
            "text/plain": [
              "array([[-2. ,  1. ],\n",
              "       [ 1.5, -0.5]])"
            ]
          },
          "metadata": {
            "tags": []
          },
          "execution_count": 91
        }
      ]
    },
    {
      "cell_type": "code",
      "metadata": {
        "id": "9uQiICUm2bcj",
        "colab_type": "code",
        "colab": {},
        "outputId": "2cab28f7-2b75-4772-ceb8-722298189bc2"
      },
      "source": [
        "dot(inv(M), M)"
      ],
      "execution_count": 0,
      "outputs": [
        {
          "output_type": "execute_result",
          "data": {
            "text/plain": [
              "array([[  1.00000000e+00,   4.44089210e-16],\n",
              "       [  0.00000000e+00,   1.00000000e+00]])"
            ]
          },
          "metadata": {
            "tags": []
          },
          "execution_count": 92
        }
      ]
    },
    {
      "cell_type": "markdown",
      "metadata": {
        "id": "7tk7XqDE2bcm",
        "colab_type": "text"
      },
      "source": [
        "#### Determinant"
      ]
    },
    {
      "cell_type": "code",
      "metadata": {
        "id": "z7SB2v722bcn",
        "colab_type": "code",
        "colab": {},
        "outputId": "0ca525cf-00f6-4d1b-d6d5-ecfe9d3216df"
      },
      "source": [
        "det(M)"
      ],
      "execution_count": 0,
      "outputs": [
        {
          "output_type": "execute_result",
          "data": {
            "text/plain": [
              "-2.0000000000000004"
            ]
          },
          "metadata": {
            "tags": []
          },
          "execution_count": 93
        }
      ]
    },
    {
      "cell_type": "code",
      "metadata": {
        "id": "k4HPfOyx2bcq",
        "colab_type": "code",
        "colab": {},
        "outputId": "efea0627-3f56-48cc-d98a-3cb792946bd0"
      },
      "source": [
        "det(inv(M))"
      ],
      "execution_count": 0,
      "outputs": [
        {
          "output_type": "execute_result",
          "data": {
            "text/plain": [
              "-0.50000000000000011"
            ]
          },
          "metadata": {
            "tags": []
          },
          "execution_count": 94
        }
      ]
    },
    {
      "cell_type": "markdown",
      "metadata": {
        "id": "ZpAF8Kfu2bcu",
        "colab_type": "text"
      },
      "source": [
        "### Data processing"
      ]
    },
    {
      "cell_type": "markdown",
      "metadata": {
        "id": "5Z-oa1ZK2bcv",
        "colab_type": "text"
      },
      "source": [
        "Often it is useful to store datasets in Numpy arrays. Numpy provides a number of functions to calculate statistics of datasets in arrays."
      ]
    },
    {
      "cell_type": "code",
      "metadata": {
        "id": "3Q5ZzlVS2bcx",
        "colab_type": "code",
        "colab": {},
        "outputId": "0cca5f82-8994-4d1c-b52b-4862f53cbeed"
      },
      "source": [
        "d = arange(1, 11)\n",
        "d"
      ],
      "execution_count": 0,
      "outputs": [
        {
          "output_type": "execute_result",
          "data": {
            "text/plain": [
              "array([ 1,  2,  3,  4,  5,  6,  7,  8,  9, 10])"
            ]
          },
          "metadata": {
            "tags": []
          },
          "execution_count": 95
        }
      ]
    },
    {
      "cell_type": "markdown",
      "metadata": {
        "id": "W2dzT-1m2bcz",
        "colab_type": "text"
      },
      "source": [
        "#### mean"
      ]
    },
    {
      "cell_type": "code",
      "metadata": {
        "id": "JTTnVvzj2bc0",
        "colab_type": "code",
        "colab": {},
        "outputId": "b46efea1-0d76-4540-fd72-607aa2649c95"
      },
      "source": [
        "d.mean(), mean(d)"
      ],
      "execution_count": 0,
      "outputs": [
        {
          "output_type": "execute_result",
          "data": {
            "text/plain": [
              "(5.5, 5.5)"
            ]
          },
          "metadata": {
            "tags": []
          },
          "execution_count": 96
        }
      ]
    },
    {
      "cell_type": "markdown",
      "metadata": {
        "id": "9yQ6itvZ2bc3",
        "colab_type": "text"
      },
      "source": [
        "#### standard deviations and variance"
      ]
    },
    {
      "cell_type": "code",
      "metadata": {
        "id": "lzRpwIjE2bc4",
        "colab_type": "code",
        "colab": {},
        "outputId": "134ec445-2264-49ca-e62d-5de3433d2e82"
      },
      "source": [
        "d.std(), d.var(), std(d), var(d)"
      ],
      "execution_count": 0,
      "outputs": [
        {
          "output_type": "execute_result",
          "data": {
            "text/plain": [
              "(2.8722813232690143, 8.25, 2.8722813232690143, 8.25)"
            ]
          },
          "metadata": {
            "tags": []
          },
          "execution_count": 97
        }
      ]
    },
    {
      "cell_type": "markdown",
      "metadata": {
        "id": "0VtGyIx_2bc6",
        "colab_type": "text"
      },
      "source": [
        "#### min and max"
      ]
    },
    {
      "cell_type": "code",
      "metadata": {
        "id": "LDX5N-rp2bc7",
        "colab_type": "code",
        "colab": {},
        "outputId": "f0adb463-40c7-4077-a3b4-b4116c307a2a"
      },
      "source": [
        "d.min(), min(d)"
      ],
      "execution_count": 0,
      "outputs": [
        {
          "output_type": "execute_result",
          "data": {
            "text/plain": [
              "(1, 1)"
            ]
          },
          "metadata": {
            "tags": []
          },
          "execution_count": 98
        }
      ]
    },
    {
      "cell_type": "code",
      "metadata": {
        "id": "Phxiy17Y2bc-",
        "colab_type": "code",
        "colab": {},
        "outputId": "bd0d4698-b531-48de-b5ec-548f7394cadc"
      },
      "source": [
        "d.max(), max(d)"
      ],
      "execution_count": 0,
      "outputs": [
        {
          "output_type": "execute_result",
          "data": {
            "text/plain": [
              "(10, 10)"
            ]
          },
          "metadata": {
            "tags": []
          },
          "execution_count": 99
        }
      ]
    },
    {
      "cell_type": "markdown",
      "metadata": {
        "id": "TZLRHp4C2bc_",
        "colab_type": "text"
      },
      "source": [
        "#### sum, prod, and trace"
      ]
    },
    {
      "cell_type": "code",
      "metadata": {
        "id": "J4BYpoYn2bdB",
        "colab_type": "code",
        "colab": {},
        "outputId": "c2e845a5-1e87-49eb-c62e-1db92303edf8"
      },
      "source": [
        "# sum up all elements\n",
        "d.sum(), sum(d)"
      ],
      "execution_count": 0,
      "outputs": [
        {
          "output_type": "execute_result",
          "data": {
            "text/plain": [
              "(55, 55)"
            ]
          },
          "metadata": {
            "tags": []
          },
          "execution_count": 100
        }
      ]
    },
    {
      "cell_type": "code",
      "metadata": {
        "id": "VTo8L0GJ2bdD",
        "colab_type": "code",
        "colab": {},
        "outputId": "c97ac2e9-d846-4283-d247-6c962cbe35f3"
      },
      "source": [
        "# product of all elements\n",
        "d.prod(), prod(d)"
      ],
      "execution_count": 0,
      "outputs": [
        {
          "output_type": "execute_result",
          "data": {
            "text/plain": [
              "(3628800, 3628800)"
            ]
          },
          "metadata": {
            "tags": []
          },
          "execution_count": 101
        }
      ]
    },
    {
      "cell_type": "code",
      "metadata": {
        "id": "1nwWpznY2bdF",
        "colab_type": "code",
        "colab": {},
        "outputId": "6086fc03-5396-44c1-9f01-8995cd83d003"
      },
      "source": [
        "# cummulative sum\n",
        "d.cumsum(), cumsum(d)"
      ],
      "execution_count": 0,
      "outputs": [
        {
          "output_type": "execute_result",
          "data": {
            "text/plain": [
              "(array([ 1,  3,  6, 10, 15, 21, 28, 36, 45, 55]),\n",
              " array([ 1,  3,  6, 10, 15, 21, 28, 36, 45, 55]))"
            ]
          },
          "metadata": {
            "tags": []
          },
          "execution_count": 102
        }
      ]
    },
    {
      "cell_type": "code",
      "metadata": {
        "id": "rLn0uU4w2bdH",
        "colab_type": "code",
        "colab": {},
        "outputId": "97212b00-c8ca-4e78-df1a-18a17b7d2ead"
      },
      "source": [
        "# cummulative product\n",
        "d. cumprod(), cumprod(d)"
      ],
      "execution_count": 0,
      "outputs": [
        {
          "output_type": "execute_result",
          "data": {
            "text/plain": [
              "(array([      1,       2,       6,      24,     120,     720,    5040,\n",
              "          40320,  362880, 3628800]),\n",
              " array([      1,       2,       6,      24,     120,     720,    5040,\n",
              "          40320,  362880, 3628800]))"
            ]
          },
          "metadata": {
            "tags": []
          },
          "execution_count": 103
        }
      ]
    },
    {
      "cell_type": "code",
      "metadata": {
        "id": "zeBDrRie2bdK",
        "colab_type": "code",
        "colab": {},
        "outputId": "3cb59897-625d-4430-b8fb-509c9ba986ca"
      },
      "source": [
        "A"
      ],
      "execution_count": 0,
      "outputs": [
        {
          "output_type": "execute_result",
          "data": {
            "text/plain": [
              "array([[ 0,  1,  2,  3,  4],\n",
              "       [10, 11, 12, 13, 14],\n",
              "       [20, 21, 22, 23, 24],\n",
              "       [30, 31, 32, 33, 34],\n",
              "       [40, 41, 42, 43, 44]])"
            ]
          },
          "metadata": {
            "tags": []
          },
          "execution_count": 104
        }
      ]
    },
    {
      "cell_type": "code",
      "metadata": {
        "id": "og3PpLc12bdN",
        "colab_type": "code",
        "colab": {},
        "outputId": "f4d3f276-2a52-42f5-ce16-d91844c79f48"
      },
      "source": [
        "# same as: diag(A).sum()\n",
        "trace(A)"
      ],
      "execution_count": 0,
      "outputs": [
        {
          "output_type": "execute_result",
          "data": {
            "text/plain": [
              "110"
            ]
          },
          "metadata": {
            "tags": []
          },
          "execution_count": 105
        }
      ]
    },
    {
      "cell_type": "markdown",
      "metadata": {
        "id": "UY2039Mu2bdP",
        "colab_type": "text"
      },
      "source": [
        "### Calculations with higher-dimensional data"
      ]
    },
    {
      "cell_type": "markdown",
      "metadata": {
        "id": "u2GHsJfr2bdR",
        "colab_type": "text"
      },
      "source": [
        "When functions such as `min`, `max`, etc. are applied to a multidimensional arrays, it is sometimes useful to apply the calculation to the entire array, and sometimes only on a row or column basis. Using the `axis` argument we can specify how these functions should behave: "
      ]
    },
    {
      "cell_type": "code",
      "metadata": {
        "id": "Cv07jHPD2bdS",
        "colab_type": "code",
        "colab": {},
        "outputId": "d774050d-d338-450f-a579-8c3da89498ee"
      },
      "source": [
        "M = rand(3,4)\n",
        "M"
      ],
      "execution_count": 0,
      "outputs": [
        {
          "output_type": "execute_result",
          "data": {
            "text/plain": [
              "array([[ 0.15115022,  0.6181883 ,  0.021743  ,  0.49162784],\n",
              "       [ 0.21163576,  0.21427573,  0.39057943,  0.48078385],\n",
              "       [ 0.27236072,  0.73857916,  0.27047191,  0.96131524]])"
            ]
          },
          "metadata": {
            "tags": []
          },
          "execution_count": 106
        }
      ]
    },
    {
      "cell_type": "code",
      "metadata": {
        "id": "BciqQS7A2bdY",
        "colab_type": "code",
        "colab": {},
        "outputId": "4ff1a274-713b-47d2-ebbf-208fefea2757"
      },
      "source": [
        "# global max\n",
        "M.max()"
      ],
      "execution_count": 0,
      "outputs": [
        {
          "output_type": "execute_result",
          "data": {
            "text/plain": [
              "0.9613152389027656"
            ]
          },
          "metadata": {
            "tags": []
          },
          "execution_count": 107
        }
      ]
    },
    {
      "cell_type": "code",
      "metadata": {
        "id": "9pEXQG6R2bdb",
        "colab_type": "code",
        "colab": {},
        "outputId": "f932017a-e876-4a1e-bc3b-b7f7aeeb090d"
      },
      "source": [
        "# max in each column\n",
        "M.max(axis=0)"
      ],
      "execution_count": 0,
      "outputs": [
        {
          "output_type": "execute_result",
          "data": {
            "text/plain": [
              "array([ 0.27236072,  0.73857916,  0.39057943,  0.96131524])"
            ]
          },
          "metadata": {
            "tags": []
          },
          "execution_count": 108
        }
      ]
    },
    {
      "cell_type": "code",
      "metadata": {
        "id": "yC_QlPcS2bde",
        "colab_type": "code",
        "colab": {},
        "outputId": "cb776ea3-f170-4203-a291-4e98053d4779"
      },
      "source": [
        "# max in each row\n",
        "M.max(axis=1)"
      ],
      "execution_count": 0,
      "outputs": [
        {
          "output_type": "execute_result",
          "data": {
            "text/plain": [
              "array([ 0.6181883 ,  0.48078385,  0.96131524])"
            ]
          },
          "metadata": {
            "tags": []
          },
          "execution_count": 109
        }
      ]
    },
    {
      "cell_type": "markdown",
      "metadata": {
        "id": "UU4acwjH2bdg",
        "colab_type": "text"
      },
      "source": [
        "Many other functions and methods in the `array` and `matrix` classes accept the same (optional) `axis` keyword argument."
      ]
    },
    {
      "cell_type": "markdown",
      "metadata": {
        "id": "z29n9frI2bdh",
        "colab_type": "text"
      },
      "source": [
        "## Reshaping, resizing and stacking arrays"
      ]
    },
    {
      "cell_type": "markdown",
      "metadata": {
        "id": "xy6Fo6f92bdh",
        "colab_type": "text"
      },
      "source": [
        "The shape of an Numpy array can be modified without copying the underlaying data, which makes it a fast operation even for large arrays."
      ]
    },
    {
      "cell_type": "code",
      "metadata": {
        "id": "5m5x-I1f2bdj",
        "colab_type": "code",
        "colab": {},
        "outputId": "7ccb0007-418d-423a-cdd5-e9f094253717"
      },
      "source": [
        "M"
      ],
      "execution_count": 0,
      "outputs": [
        {
          "output_type": "execute_result",
          "data": {
            "text/plain": [
              "array([[ 0.15115022,  0.6181883 ,  0.021743  ,  0.49162784],\n",
              "       [ 0.21163576,  0.21427573,  0.39057943,  0.48078385],\n",
              "       [ 0.27236072,  0.73857916,  0.27047191,  0.96131524]])"
            ]
          },
          "metadata": {
            "tags": []
          },
          "execution_count": 110
        }
      ]
    },
    {
      "cell_type": "code",
      "metadata": {
        "id": "RP_JbC2o2bdl",
        "colab_type": "code",
        "colab": {},
        "outputId": "9d1822ac-9c98-475f-8078-312789855e57"
      },
      "source": [
        "M.shape"
      ],
      "execution_count": 0,
      "outputs": [
        {
          "output_type": "execute_result",
          "data": {
            "text/plain": [
              "(3, 4)"
            ]
          },
          "metadata": {
            "tags": []
          },
          "execution_count": 111
        }
      ]
    },
    {
      "cell_type": "code",
      "metadata": {
        "id": "XHEhQNKN2bdn",
        "colab_type": "code",
        "colab": {},
        "outputId": "05c8834c-d6f8-40db-fd58-d812a7b16471"
      },
      "source": [
        "N = M.reshape((6, 2))\n",
        "N"
      ],
      "execution_count": 0,
      "outputs": [
        {
          "output_type": "execute_result",
          "data": {
            "text/plain": [
              "array([[ 0.15115022,  0.6181883 ],\n",
              "       [ 0.021743  ,  0.49162784],\n",
              "       [ 0.21163576,  0.21427573],\n",
              "       [ 0.39057943,  0.48078385],\n",
              "       [ 0.27236072,  0.73857916],\n",
              "       [ 0.27047191,  0.96131524]])"
            ]
          },
          "metadata": {
            "tags": []
          },
          "execution_count": 112
        }
      ]
    },
    {
      "cell_type": "code",
      "metadata": {
        "id": "EIlqqxck2bdq",
        "colab_type": "code",
        "colab": {},
        "outputId": "bf85a660-1e6a-4943-bcee-d43ae5e2592f"
      },
      "source": [
        "O = M.reshape((1, 12))\n",
        "O"
      ],
      "execution_count": 0,
      "outputs": [
        {
          "output_type": "execute_result",
          "data": {
            "text/plain": [
              "array([[ 0.15115022,  0.6181883 ,  0.021743  ,  0.49162784,  0.21163576,\n",
              "         0.21427573,  0.39057943,  0.48078385,  0.27236072,  0.73857916,\n",
              "         0.27047191,  0.96131524]])"
            ]
          },
          "metadata": {
            "tags": []
          },
          "execution_count": 113
        }
      ]
    },
    {
      "cell_type": "code",
      "metadata": {
        "id": "9wkSKcRk2bdt",
        "colab_type": "code",
        "colab": {},
        "outputId": "371d26cd-4fa4-4a8a-b661-8983dd9a54a9"
      },
      "source": [
        "N[0:2,:] = 1 # modify the array\n",
        "N"
      ],
      "execution_count": 0,
      "outputs": [
        {
          "output_type": "execute_result",
          "data": {
            "text/plain": [
              "array([[ 1.        ,  1.        ],\n",
              "       [ 1.        ,  1.        ],\n",
              "       [ 0.21163576,  0.21427573],\n",
              "       [ 0.39057943,  0.48078385],\n",
              "       [ 0.27236072,  0.73857916],\n",
              "       [ 0.27047191,  0.96131524]])"
            ]
          },
          "metadata": {
            "tags": []
          },
          "execution_count": 114
        }
      ]
    },
    {
      "cell_type": "code",
      "metadata": {
        "id": "b4a62iAX2bdw",
        "colab_type": "code",
        "colab": {},
        "outputId": "79e3e1b6-5140-4e62-d5a3-f32510a901b9"
      },
      "source": [
        "M # and the original variable is also changed. B is only a different view of the same data"
      ],
      "execution_count": 0,
      "outputs": [
        {
          "output_type": "execute_result",
          "data": {
            "text/plain": [
              "array([[ 1.        ,  1.        ,  1.        ,  1.        ],\n",
              "       [ 0.21163576,  0.21427573,  0.39057943,  0.48078385],\n",
              "       [ 0.27236072,  0.73857916,  0.27047191,  0.96131524]])"
            ]
          },
          "metadata": {
            "tags": []
          },
          "execution_count": 115
        }
      ]
    },
    {
      "cell_type": "code",
      "metadata": {
        "id": "THkQ_fTN2bd0",
        "colab_type": "code",
        "colab": {},
        "outputId": "65b9da17-113a-46c5-dd98-e85b5de4bf5c"
      },
      "source": [
        "O"
      ],
      "execution_count": 0,
      "outputs": [
        {
          "output_type": "execute_result",
          "data": {
            "text/plain": [
              "array([[ 1.        ,  1.        ,  1.        ,  1.        ,  0.21163576,\n",
              "         0.21427573,  0.39057943,  0.48078385,  0.27236072,  0.73857916,\n",
              "         0.27047191,  0.96131524]])"
            ]
          },
          "metadata": {
            "tags": []
          },
          "execution_count": 116
        }
      ]
    },
    {
      "cell_type": "markdown",
      "metadata": {
        "id": "qTnj-ti22bd5",
        "colab_type": "text"
      },
      "source": [
        "We can also use the function `flatten` to make a higher-dimensional array into a vector. But this function create a copy of the data."
      ]
    },
    {
      "cell_type": "code",
      "metadata": {
        "id": "bjZw9NMv2bd5",
        "colab_type": "code",
        "colab": {},
        "outputId": "00fd66c8-402f-4c9c-d0eb-44c96e9ba4fa"
      },
      "source": [
        "F = M.flatten()\n",
        "F"
      ],
      "execution_count": 0,
      "outputs": [
        {
          "output_type": "execute_result",
          "data": {
            "text/plain": [
              "array([ 1.        ,  1.        ,  1.        ,  1.        ,  0.21163576,\n",
              "        0.21427573,  0.39057943,  0.48078385,  0.27236072,  0.73857916,\n",
              "        0.27047191,  0.96131524])"
            ]
          },
          "metadata": {
            "tags": []
          },
          "execution_count": 117
        }
      ]
    },
    {
      "cell_type": "code",
      "metadata": {
        "id": "zspwYt3L2bd9",
        "colab_type": "code",
        "colab": {},
        "outputId": "3810afb5-4d5b-4edc-8d90-fbc73e49dcdc"
      },
      "source": [
        "F[0:5] = 0\n",
        "F"
      ],
      "execution_count": 0,
      "outputs": [
        {
          "output_type": "execute_result",
          "data": {
            "text/plain": [
              "array([ 0.        ,  0.        ,  0.        ,  0.        ,  0.        ,\n",
              "        0.21427573,  0.39057943,  0.48078385,  0.27236072,  0.73857916,\n",
              "        0.27047191,  0.96131524])"
            ]
          },
          "metadata": {
            "tags": []
          },
          "execution_count": 118
        }
      ]
    },
    {
      "cell_type": "code",
      "metadata": {
        "id": "sv-_UrQU2beC",
        "colab_type": "code",
        "colab": {},
        "outputId": "53ea7ddc-49a3-475e-e083-95d8ba1476a4"
      },
      "source": [
        "M # now M has not changed, because F's data is a copy of M's, not refering to the same data"
      ],
      "execution_count": 0,
      "outputs": [
        {
          "output_type": "execute_result",
          "data": {
            "text/plain": [
              "array([[ 1.        ,  1.        ,  1.        ,  1.        ],\n",
              "       [ 0.21163576,  0.21427573,  0.39057943,  0.48078385],\n",
              "       [ 0.27236072,  0.73857916,  0.27047191,  0.96131524]])"
            ]
          },
          "metadata": {
            "tags": []
          },
          "execution_count": 119
        }
      ]
    },
    {
      "cell_type": "markdown",
      "metadata": {
        "id": "KAnLbLLN2beE",
        "colab_type": "text"
      },
      "source": [
        "## Stacking and repeating arrays"
      ]
    },
    {
      "cell_type": "markdown",
      "metadata": {
        "id": "s6ETSeZy2beF",
        "colab_type": "text"
      },
      "source": [
        "Using function `repeat`, `tile`, `vstack`, `hstack`, and `concatenate` we can create larger vectors and matrices from smaller ones:"
      ]
    },
    {
      "cell_type": "markdown",
      "metadata": {
        "id": "hHdcBdfl2beG",
        "colab_type": "text"
      },
      "source": [
        "### tile and repeat"
      ]
    },
    {
      "cell_type": "code",
      "metadata": {
        "id": "6MY3LUzv2beH",
        "colab_type": "code",
        "colab": {}
      },
      "source": [
        "a = array([[1, 2], [3, 4]])"
      ],
      "execution_count": 0,
      "outputs": []
    },
    {
      "cell_type": "code",
      "metadata": {
        "id": "SqBtWcxx2beK",
        "colab_type": "code",
        "colab": {},
        "outputId": "57b32a3a-ed46-4a40-f366-d57ade1acdf5"
      },
      "source": [
        "# repeat each element 3 times\n",
        "repeat(a, 3)"
      ],
      "execution_count": 0,
      "outputs": [
        {
          "output_type": "execute_result",
          "data": {
            "text/plain": [
              "array([1, 1, 1, 2, 2, 2, 3, 3, 3, 4, 4, 4])"
            ]
          },
          "metadata": {
            "tags": []
          },
          "execution_count": 121
        }
      ]
    },
    {
      "cell_type": "code",
      "metadata": {
        "id": "9VUtQRj_2beN",
        "colab_type": "code",
        "colab": {},
        "outputId": "551153d0-9d24-4e4c-8df5-ae76b584673e"
      },
      "source": [
        "# tile the matrix 3 times \n",
        "tile(a, 3)"
      ],
      "execution_count": 0,
      "outputs": [
        {
          "output_type": "execute_result",
          "data": {
            "text/plain": [
              "array([[1, 2, 1, 2, 1, 2],\n",
              "       [3, 4, 3, 4, 3, 4]])"
            ]
          },
          "metadata": {
            "tags": []
          },
          "execution_count": 122
        }
      ]
    },
    {
      "cell_type": "markdown",
      "metadata": {
        "id": "a4uy-B4C2beR",
        "colab_type": "text"
      },
      "source": [
        "### concatenate"
      ]
    },
    {
      "cell_type": "code",
      "metadata": {
        "id": "EWLcaxeW2beT",
        "colab_type": "code",
        "colab": {}
      },
      "source": [
        "b = array([[5, 6]])"
      ],
      "execution_count": 0,
      "outputs": []
    },
    {
      "cell_type": "code",
      "metadata": {
        "id": "CuG-UeKx2beW",
        "colab_type": "code",
        "colab": {},
        "outputId": "e9e4499b-8a09-4d71-be1c-0938ae852151"
      },
      "source": [
        "concatenate((a, b), axis=0)"
      ],
      "execution_count": 0,
      "outputs": [
        {
          "output_type": "execute_result",
          "data": {
            "text/plain": [
              "array([[1, 2],\n",
              "       [3, 4],\n",
              "       [5, 6]])"
            ]
          },
          "metadata": {
            "tags": []
          },
          "execution_count": 124
        }
      ]
    },
    {
      "cell_type": "code",
      "metadata": {
        "id": "kZvKt8Ev2bea",
        "colab_type": "code",
        "colab": {},
        "outputId": "607701e3-cb84-4344-9363-662b9beea0e7"
      },
      "source": [
        "concatenate((a, b.T), axis=1)"
      ],
      "execution_count": 0,
      "outputs": [
        {
          "output_type": "execute_result",
          "data": {
            "text/plain": [
              "array([[1, 2, 5],\n",
              "       [3, 4, 6]])"
            ]
          },
          "metadata": {
            "tags": []
          },
          "execution_count": 125
        }
      ]
    },
    {
      "cell_type": "markdown",
      "metadata": {
        "id": "VLt1yZ6v2bed",
        "colab_type": "text"
      },
      "source": [
        "### hstack and vstack"
      ]
    },
    {
      "cell_type": "code",
      "metadata": {
        "id": "_FSnEYUl2bee",
        "colab_type": "code",
        "colab": {},
        "outputId": "9dfba83c-5c26-4b31-b31a-d75c486fb8db"
      },
      "source": [
        "vstack((a,b))"
      ],
      "execution_count": 0,
      "outputs": [
        {
          "output_type": "execute_result",
          "data": {
            "text/plain": [
              "array([[1, 2],\n",
              "       [3, 4],\n",
              "       [5, 6]])"
            ]
          },
          "metadata": {
            "tags": []
          },
          "execution_count": 126
        }
      ]
    },
    {
      "cell_type": "code",
      "metadata": {
        "id": "UsOC5m5o2bej",
        "colab_type": "code",
        "colab": {},
        "outputId": "26317904-1f46-4756-e7ca-513bc3e5daf9"
      },
      "source": [
        "hstack((a,b.T))"
      ],
      "execution_count": 0,
      "outputs": [
        {
          "output_type": "execute_result",
          "data": {
            "text/plain": [
              "array([[1, 2, 5],\n",
              "       [3, 4, 6]])"
            ]
          },
          "metadata": {
            "tags": []
          },
          "execution_count": 127
        }
      ]
    },
    {
      "cell_type": "markdown",
      "metadata": {
        "id": "ub8-Nyvq2ben",
        "colab_type": "text"
      },
      "source": [
        "## Linear equations"
      ]
    },
    {
      "cell_type": "markdown",
      "metadata": {
        "id": "2QW-lOXn2beo",
        "colab_type": "text"
      },
      "source": [
        "System of linear equations like:\n",
        "$$\\begin{array}{rcl}x + 2y & = & 5\\\\3x + 4y & = & 7\\end{array}$$\n",
        "\n",
        "or\n",
        "\n",
        "$$\\begin{pmatrix}1 & 2\\\\3 & 4\\end{pmatrix}\\cdot\\begin{pmatrix}x \\\\ y\\end{pmatrix} = \\begin{pmatrix}5 \\\\ 7\\end{pmatrix}$$\n",
        "\n",
        "could be written in matrix form as $\\mathbf {Ax} = \\mathbf b$ and could be solved using numpy `solve`:"
      ]
    },
    {
      "cell_type": "code",
      "metadata": {
        "id": "JkNcOXKK2bep",
        "colab_type": "code",
        "colab": {},
        "outputId": "a7047081-5772-40f4-ed6e-ba912d25ccc6"
      },
      "source": [
        "A = array([[1, 2], [3, 4]])\n",
        "b = array([5,7])\n",
        "solve(A,b)"
      ],
      "execution_count": 0,
      "outputs": [
        {
          "output_type": "execute_result",
          "data": {
            "text/plain": [
              "array([-3.,  4.])"
            ]
          },
          "metadata": {
            "tags": []
          },
          "execution_count": 128
        }
      ]
    },
    {
      "cell_type": "markdown",
      "metadata": {
        "id": "kMvn522x2bet",
        "colab_type": "text"
      },
      "source": [
        "or"
      ]
    },
    {
      "cell_type": "code",
      "metadata": {
        "id": "iIq3Rg0s2beu",
        "colab_type": "code",
        "colab": {},
        "outputId": "c5968c1f-d5fb-41c6-a77e-2a21e5f11c92"
      },
      "source": [
        "dot(inv(A),b)"
      ],
      "execution_count": 0,
      "outputs": [
        {
          "output_type": "execute_result",
          "data": {
            "text/plain": [
              "array([-3.,  4.])"
            ]
          },
          "metadata": {
            "tags": []
          },
          "execution_count": 129
        }
      ]
    },
    {
      "cell_type": "markdown",
      "metadata": {
        "id": "nVJMDggZ2bfD",
        "colab_type": "text"
      },
      "source": [
        "## Copy and \"deep copy\""
      ]
    },
    {
      "cell_type": "markdown",
      "metadata": {
        "id": "xOluftFv2bfE",
        "colab_type": "text"
      },
      "source": [
        "To achieve high performance, assignments in Python usually do not copy the underlaying objects. This is important for example when objects are passed between functions, to avoid an excessive amount of memory copying when it is not necessary (technical term: pass by reference). "
      ]
    },
    {
      "cell_type": "code",
      "metadata": {
        "id": "0QarnYf82bfF",
        "colab_type": "code",
        "colab": {}
      },
      "source": [
        "# now B is referring to the same array data as A \n",
        "B = A "
      ],
      "execution_count": 0,
      "outputs": []
    },
    {
      "cell_type": "code",
      "metadata": {
        "id": "6kCf66vr2bfJ",
        "colab_type": "code",
        "colab": {},
        "outputId": "3a4c5923-d779-4824-af76-8ddf1ec95150"
      },
      "source": [
        "# changing B affects A\n",
        "B[0,0] = 10\n",
        "B"
      ],
      "execution_count": 0,
      "outputs": [
        {
          "output_type": "execute_result",
          "data": {
            "text/plain": [
              "array([[10,  2],\n",
              "       [ 3,  4]])"
            ]
          },
          "metadata": {
            "tags": []
          },
          "execution_count": 131
        }
      ]
    },
    {
      "cell_type": "code",
      "metadata": {
        "id": "tY6QN8mk2bfL",
        "colab_type": "code",
        "colab": {},
        "outputId": "df270b69-3c24-4ac7-91fc-32d1c770a0b7"
      },
      "source": [
        "A"
      ],
      "execution_count": 0,
      "outputs": [
        {
          "output_type": "execute_result",
          "data": {
            "text/plain": [
              "array([[10,  2],\n",
              "       [ 3,  4]])"
            ]
          },
          "metadata": {
            "tags": []
          },
          "execution_count": 132
        }
      ]
    },
    {
      "cell_type": "markdown",
      "metadata": {
        "id": "4rafIlUf2bfQ",
        "colab_type": "text"
      },
      "source": [
        "If we want to avoid this behavior, so that when we get a new completely independent object `B` copied from `A`, then we need to do a so-called \"deep copy\" using the function `copy`:"
      ]
    },
    {
      "cell_type": "code",
      "metadata": {
        "id": "mYW-sz832bfQ",
        "colab_type": "code",
        "colab": {}
      },
      "source": [
        "B = copy(A)"
      ],
      "execution_count": 0,
      "outputs": []
    },
    {
      "cell_type": "code",
      "metadata": {
        "id": "C4DvksSa2bfT",
        "colab_type": "code",
        "colab": {},
        "outputId": "176421f5-410c-4758-c112-15a5b6c63238"
      },
      "source": [
        "# now, if we modify B, A is not affected\n",
        "B[0,0] = -5\n",
        "B"
      ],
      "execution_count": 0,
      "outputs": [
        {
          "output_type": "execute_result",
          "data": {
            "text/plain": [
              "array([[-5,  2],\n",
              "       [ 3,  4]])"
            ]
          },
          "metadata": {
            "tags": []
          },
          "execution_count": 134
        }
      ]
    },
    {
      "cell_type": "code",
      "metadata": {
        "id": "nq2TalHD2bfW",
        "colab_type": "code",
        "colab": {},
        "outputId": "e47dca46-cd08-4587-83aa-665919608b12"
      },
      "source": [
        "A"
      ],
      "execution_count": 0,
      "outputs": [
        {
          "output_type": "execute_result",
          "data": {
            "text/plain": [
              "array([[10,  2],\n",
              "       [ 3,  4]])"
            ]
          },
          "metadata": {
            "tags": []
          },
          "execution_count": 135
        }
      ]
    },
    {
      "cell_type": "markdown",
      "metadata": {
        "id": "DXO-oMm52bfZ",
        "colab_type": "text"
      },
      "source": [
        "## Iterating over array elements"
      ]
    },
    {
      "cell_type": "markdown",
      "metadata": {
        "id": "74ygpp5D2bfZ",
        "colab_type": "text"
      },
      "source": [
        "Generally, we want to avoid iterating over the elements of arrays whenever we can (at all costs). The reason is that in a interpreted language like Python (or MATLAB), iterations are really slow compared to vectorized operations. \n",
        "\n",
        "However, sometimes iterations are unavoidable. For such cases, the Python `for` loop is the most convenient way to iterate over an array:"
      ]
    },
    {
      "cell_type": "code",
      "metadata": {
        "id": "lvTimdcs2bfa",
        "colab_type": "code",
        "colab": {},
        "outputId": "0fade626-24cf-4c53-b2d9-a39fc200b47f"
      },
      "source": [
        "v = array([1,2,3,4])\n",
        "\n",
        "for element in v:\n",
        "    print(element)"
      ],
      "execution_count": 0,
      "outputs": [
        {
          "output_type": "stream",
          "text": [
            "1\n",
            "2\n",
            "3\n",
            "4\n"
          ],
          "name": "stdout"
        }
      ]
    },
    {
      "cell_type": "code",
      "metadata": {
        "id": "Hoj3VdDf2bfd",
        "colab_type": "code",
        "colab": {},
        "outputId": "cd0f7121-d92a-4922-b326-6b88d959df3f"
      },
      "source": [
        "M = array([[1,2], [3,4]])\n",
        "\n",
        "for row in M:\n",
        "    print('Row', row)\n",
        "    \n",
        "    for element in row:\n",
        "        print('Element', element)"
      ],
      "execution_count": 0,
      "outputs": [
        {
          "output_type": "stream",
          "text": [
            "Row [1 2]\n",
            "Element 1\n",
            "Element 2\n",
            "Row [3 4]\n",
            "Element 3\n",
            "Element 4\n"
          ],
          "name": "stdout"
        }
      ]
    },
    {
      "cell_type": "markdown",
      "metadata": {
        "id": "tUP1AAmm2bff",
        "colab_type": "text"
      },
      "source": [
        "When we need to iterate over each element of an array and modify its elements, it is convenient to use the `enumerate` function to obtain both the element and its index in the `for` loop: "
      ]
    },
    {
      "cell_type": "code",
      "metadata": {
        "id": "QyyfAcO92bff",
        "colab_type": "code",
        "colab": {},
        "outputId": "18a4dd67-96a6-4463-b4a8-7089632c2382"
      },
      "source": [
        "for row_idx, row in enumerate(M):\n",
        "    print(\"row_idx\", row_idx, \"row\", row)\n",
        "    \n",
        "    for col_idx, element in enumerate(row):\n",
        "        print(\"row_idx\", row_idx, \"col_idx\", col_idx, \"Element\", element)\n",
        "       \n",
        "        # update the matrix M: square each element\n",
        "        M[row_idx, col_idx] = element ** 2"
      ],
      "execution_count": 0,
      "outputs": [
        {
          "output_type": "stream",
          "text": [
            "row_idx 0 row [1 2]\n",
            "row_idx 0 col_idx 0 Element 1\n",
            "row_idx 0 col_idx 1 Element 2\n",
            "row_idx 1 row [3 4]\n",
            "row_idx 1 col_idx 0 Element 3\n",
            "row_idx 1 col_idx 1 Element 4\n"
          ],
          "name": "stdout"
        }
      ]
    },
    {
      "cell_type": "code",
      "metadata": {
        "id": "JgfVqMgl2bfh",
        "colab_type": "code",
        "colab": {},
        "outputId": "890ef031-e0a6-4ac4-f347-25a69769ceb9"
      },
      "source": [
        "# each element in M is now squared\n",
        "M"
      ],
      "execution_count": 0,
      "outputs": [
        {
          "output_type": "execute_result",
          "data": {
            "text/plain": [
              "array([[ 1,  4],\n",
              "       [ 9, 16]])"
            ]
          },
          "metadata": {
            "tags": []
          },
          "execution_count": 139
        }
      ]
    },
    {
      "cell_type": "markdown",
      "metadata": {
        "id": "4d7V-CIA2bfk",
        "colab_type": "text"
      },
      "source": [
        "## Using arrays in conditions"
      ]
    },
    {
      "cell_type": "markdown",
      "metadata": {
        "id": "qk5afHeL2bfl",
        "colab_type": "text"
      },
      "source": [
        "When using arrays in conditions,for example `if` statements and other boolean expressions, one needs to use `any` or `all`, which requires that any or all elements in the array evalutes to `True`:"
      ]
    },
    {
      "cell_type": "code",
      "metadata": {
        "id": "1gGMpSIA2bfm",
        "colab_type": "code",
        "colab": {},
        "outputId": "df49bcd2-e66e-4cb0-df9f-2fa3173d86a0"
      },
      "source": [
        "M"
      ],
      "execution_count": 0,
      "outputs": [
        {
          "output_type": "execute_result",
          "data": {
            "text/plain": [
              "array([[ 1,  4],\n",
              "       [ 9, 16]])"
            ]
          },
          "metadata": {
            "tags": []
          },
          "execution_count": 140
        }
      ]
    },
    {
      "cell_type": "code",
      "metadata": {
        "id": "K-s6lniZ2bfn",
        "colab_type": "code",
        "colab": {},
        "outputId": "afc04e34-b291-4f44-d85f-fb8d3d607159"
      },
      "source": [
        "if (M > 5).any():\n",
        "    print(\"at least one element in M is larger than 5\")\n",
        "else:\n",
        "    print(\"no element in M is larger than 5\")"
      ],
      "execution_count": 0,
      "outputs": [
        {
          "output_type": "stream",
          "text": [
            "at least one element in M is larger than 5\n"
          ],
          "name": "stdout"
        }
      ]
    },
    {
      "cell_type": "code",
      "metadata": {
        "id": "Vrfz3Zm02bfq",
        "colab_type": "code",
        "colab": {},
        "outputId": "7c4e67bd-24c6-4fda-b5f6-b273381646e5"
      },
      "source": [
        "if (M > 5).all():\n",
        "    print(\"all elements in M are larger than 5\")\n",
        "else:\n",
        "    print(\"all elements in M are not larger than 5\")"
      ],
      "execution_count": 0,
      "outputs": [
        {
          "output_type": "stream",
          "text": [
            "all elements in M are not larger than 5\n"
          ],
          "name": "stdout"
        }
      ]
    },
    {
      "cell_type": "markdown",
      "metadata": {
        "id": "T6az17RP2bfs",
        "colab_type": "text"
      },
      "source": [
        "## File I/O\n",
        "\n",
        "For all possibilities check documentation on [Input and output](https://docs.scipy.org/doc/numpy/reference/routines.io.html)."
      ]
    },
    {
      "cell_type": "markdown",
      "metadata": {
        "id": "1BF4IlfQ2bfs",
        "colab_type": "text"
      },
      "source": [
        "### Comma-separated values (CSV)\n",
        "A very common file format for data files is comma-separated values (CSV), or related formats such as TSV (tab-separated values). To read data from such files into Numpy arrays we can use the `numpy.loadtxt` function. For example we will read historical temperature data measured at Prague Clementinum. Here is how file looks like:"
      ]
    },
    {
      "cell_type": "code",
      "metadata": {
        "id": "KJ68Hbbo2bft",
        "colab_type": "code",
        "colab": {
          "base_uri": "https://localhost:8080/",
          "height": 55
        },
        "outputId": "f1794fc0-6daa-4391-df1d-f26d72f1c220"
      },
      "source": [
        "#!head https://raw.githubusercontent.com/ondrolexa/r-python/master/clementinum.csv"
      ],
      "execution_count": 3,
      "outputs": [
        {
          "output_type": "stream",
          "text": [
            "head: cannot open 'https://raw.githubusercontent.com/ondrolexa/r-python/master/clementinum.csv' for reading: No such file or directory\n"
          ],
          "name": "stdout"
        }
      ]
    },
    {
      "cell_type": "code",
      "metadata": {
        "id": "V9rMmo9g2bfv",
        "colab_type": "code",
        "colab": {}
      },
      "source": [
        "# read CSV file, skip one row with headings\n",
        "data = loadtxt('https://raw.githubusercontent.com/ondrolexa/r-python/master/clementinum.csv', skiprows=1, delimiter=',')"
      ],
      "execution_count": 0,
      "outputs": []
    },
    {
      "cell_type": "code",
      "metadata": {
        "id": "7xnrAkcc2bfy",
        "colab_type": "code",
        "colab": {
          "base_uri": "https://localhost:8080/",
          "height": 35
        },
        "outputId": "f7b7a453-f6ab-4235-8433-c2d890725a60"
      },
      "source": [
        "data.shape"
      ],
      "execution_count": 17,
      "outputs": [
        {
          "output_type": "execute_result",
          "data": {
            "text/plain": [
              "(16071, 7)"
            ]
          },
          "metadata": {
            "tags": []
          },
          "execution_count": 17
        }
      ]
    },
    {
      "cell_type": "code",
      "metadata": {
        "id": "MBnG4YMx9pbC",
        "colab_type": "code",
        "colab": {
          "base_uri": "https://localhost:8080/",
          "height": 376
        },
        "outputId": "b263bd67-8f37-4f8c-c569-011b45ecbf5f"
      },
      "source": [
        "data[:0--10]"
      ],
      "execution_count": 29,
      "outputs": [
        {
          "output_type": "execute_result",
          "data": {
            "text/plain": [
              "array([[ 1.972e+03,  1.000e+00,  1.000e+00,  6.000e-01,  2.800e+00,\n",
              "        -3.000e-01,  0.000e+00],\n",
              "       [ 1.972e+03,  1.000e+00,  2.000e+00,  1.600e+00,  2.500e+00,\n",
              "        -1.400e+00,  0.000e+00],\n",
              "       [ 1.972e+03,  1.000e+00,  3.000e+00,  3.500e+00,  4.000e+00,\n",
              "         2.300e+00,  0.000e+00],\n",
              "       [ 1.972e+03,  1.000e+00,  4.000e+00,  4.000e+00,  4.800e+00,\n",
              "         2.900e+00,  2.000e-01],\n",
              "       [ 1.972e+03,  1.000e+00,  5.000e+00,  2.200e+00,  3.600e+00,\n",
              "         1.300e+00,  3.000e+00],\n",
              "       [ 1.972e+03,  1.000e+00,  6.000e+00,  5.000e-01,  2.300e+00,\n",
              "        -1.200e+00,  0.000e+00],\n",
              "       [ 1.972e+03,  1.000e+00,  7.000e+00,  1.700e+00,  2.300e+00,\n",
              "         8.000e-01,  6.000e-01],\n",
              "       [ 1.972e+03,  1.000e+00,  8.000e+00,  1.200e+00,  1.800e+00,\n",
              "         0.000e+00,  1.100e+00],\n",
              "       [ 1.972e+03,  1.000e+00,  9.000e+00,  1.700e+00,  2.200e+00,\n",
              "         2.000e-01,  0.000e+00],\n",
              "       [ 1.972e+03,  1.000e+00,  1.000e+01,  2.100e+00,  2.600e+00,\n",
              "         1.000e+00,  0.000e+00]])"
            ]
          },
          "metadata": {
            "tags": []
          },
          "execution_count": 29
        }
      ]
    },
    {
      "cell_type": "markdown",
      "metadata": {
        "id": "q1H4V_oV2bf0",
        "colab_type": "text"
      },
      "source": [
        "Let's calculate some properties from the Prague temperature dataset used above."
      ]
    },
    {
      "cell_type": "code",
      "metadata": {
        "id": "AnnBPi8M2bf0",
        "colab_type": "code",
        "colab": {
          "base_uri": "https://localhost:8080/",
          "height": 107
        },
        "outputId": "3e1fe570-6653-4ab5-a147-1976bd0eff0c"
      },
      "source": [
        "# Prague temperature over the last 43 years\n",
        "# the average temperature data is in column 3, max in column 4 a min in column 5\n",
        "print('The daily mean temperature has been {:.2f}°C.'.format(data[:,3].mean()))\n",
        "print('The highest daily average temperature has been {:.2f}°C.'.format(data[:,3].max()))\n",
        "print('The highest measured temperature has been {:.2f}°C.'.format(data[:,4].max()))\n",
        "print('The lowest daily average temperature has been {:.2f}°C.'.format(data[:,3].min()))\n",
        "print('The lowest measured temperature has been {:.2f}°C.'.format(data[:,5].min()))"
      ],
      "execution_count": 7,
      "outputs": [
        {
          "output_type": "stream",
          "text": [
            "The daily mean temperature has been 10.77°C.\n",
            "The highest daily average temperature has been 31.00°C.\n",
            "The highest measured temperature has been 37.80°C.\n",
            "The lowest daily average temperature has been -18.00°C.\n",
            "The lowest measured temperature has been -20.20°C.\n"
          ],
          "name": "stdout"
        }
      ]
    }
  ]
}