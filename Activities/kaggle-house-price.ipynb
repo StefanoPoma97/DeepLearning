{
  "nbformat": 4,
  "nbformat_minor": 0,
  "metadata": {
    "celltoolbar": "Slideshow",
    "kernelspec": {
      "display_name": "Python 3",
      "language": "python",
      "name": "python3"
    },
    "language_info": {
      "codemirror_mode": {
        "name": "ipython",
        "version": 3
      },
      "file_extension": ".py",
      "mimetype": "text/x-python",
      "name": "python",
      "nbconvert_exporter": "python",
      "pygments_lexer": "ipython3",
      "version": "3.6.8"
    },
    "colab": {
      "name": "kaggle-house-price.ipynb",
      "provenance": []
    }
  },
  "cells": [
    {
      "cell_type": "markdown",
      "metadata": {
        "id": "KUYjva6XX7tO",
        "colab_type": "text"
      },
      "source": [
        "# Predicting House Prices on [Kaggle](https://www.kaggle.com/c/house-prices-advanced-regression-techniques)"
      ]
    },
    {
      "cell_type": "code",
      "metadata": {
        "id": "H-yPeAl8X7tS",
        "colab_type": "code",
        "colab": {
          "base_uri": "https://localhost:8080/",
          "height": 1000
        },
        "outputId": "1463d3b4-1aab-4ef7-b84f-eb4136152b48"
      },
      "source": [
        "!pip install mxnet\n",
        "!pip install d2l\n",
        "# If pandas is not installed, please uncomment the following line:\n",
        "!pip install pandas"
      ],
      "execution_count": 75,
      "outputs": [
        {
          "output_type": "stream",
          "text": [
            "Requirement already satisfied: mxnet in /usr/local/lib/python3.6/dist-packages (1.5.1.post0)\n",
            "Requirement already satisfied: requests<3,>=2.20.0 in /usr/local/lib/python3.6/dist-packages (from mxnet) (2.21.0)\n",
            "Requirement already satisfied: graphviz<0.9.0,>=0.8.1 in /usr/local/lib/python3.6/dist-packages (from mxnet) (0.8.4)\n",
            "Requirement already satisfied: numpy<2.0.0,>1.16.0 in /usr/local/lib/python3.6/dist-packages (from mxnet) (1.16.5)\n",
            "Requirement already satisfied: chardet<3.1.0,>=3.0.2 in /usr/local/lib/python3.6/dist-packages (from requests<3,>=2.20.0->mxnet) (3.0.4)\n",
            "Requirement already satisfied: idna<2.9,>=2.5 in /usr/local/lib/python3.6/dist-packages (from requests<3,>=2.20.0->mxnet) (2.8)\n",
            "Requirement already satisfied: certifi>=2017.4.17 in /usr/local/lib/python3.6/dist-packages (from requests<3,>=2.20.0->mxnet) (2019.9.11)\n",
            "Requirement already satisfied: urllib3<1.25,>=1.21.1 in /usr/local/lib/python3.6/dist-packages (from requests<3,>=2.20.0->mxnet) (1.24.3)\n",
            "Requirement already satisfied: d2l in /usr/local/lib/python3.6/dist-packages (0.10.1)\n",
            "Requirement already satisfied: matplotlib in /usr/local/lib/python3.6/dist-packages (from d2l) (3.0.3)\n",
            "Requirement already satisfied: numpy in /usr/local/lib/python3.6/dist-packages (from d2l) (1.16.5)\n",
            "Requirement already satisfied: jupyter in /usr/local/lib/python3.6/dist-packages (from d2l) (1.0.0)\n",
            "Requirement already satisfied: pandas in /usr/local/lib/python3.6/dist-packages (from d2l) (0.24.2)\n",
            "Requirement already satisfied: cycler>=0.10 in /usr/local/lib/python3.6/dist-packages (from matplotlib->d2l) (0.10.0)\n",
            "Requirement already satisfied: pyparsing!=2.0.4,!=2.1.2,!=2.1.6,>=2.0.1 in /usr/local/lib/python3.6/dist-packages (from matplotlib->d2l) (2.4.2)\n",
            "Requirement already satisfied: python-dateutil>=2.1 in /usr/local/lib/python3.6/dist-packages (from matplotlib->d2l) (2.5.3)\n",
            "Requirement already satisfied: kiwisolver>=1.0.1 in /usr/local/lib/python3.6/dist-packages (from matplotlib->d2l) (1.1.0)\n",
            "Requirement already satisfied: nbconvert in /usr/local/lib/python3.6/dist-packages (from jupyter->d2l) (5.6.0)\n",
            "Requirement already satisfied: qtconsole in /usr/local/lib/python3.6/dist-packages (from jupyter->d2l) (4.5.5)\n",
            "Requirement already satisfied: ipykernel in /usr/local/lib/python3.6/dist-packages (from jupyter->d2l) (4.6.1)\n",
            "Requirement already satisfied: notebook in /usr/local/lib/python3.6/dist-packages (from jupyter->d2l) (5.2.2)\n",
            "Requirement already satisfied: ipywidgets in /usr/local/lib/python3.6/dist-packages (from jupyter->d2l) (7.5.1)\n",
            "Requirement already satisfied: jupyter-console in /usr/local/lib/python3.6/dist-packages (from jupyter->d2l) (5.2.0)\n",
            "Requirement already satisfied: pytz>=2011k in /usr/local/lib/python3.6/dist-packages (from pandas->d2l) (2018.9)\n",
            "Requirement already satisfied: six in /usr/local/lib/python3.6/dist-packages (from cycler>=0.10->matplotlib->d2l) (1.12.0)\n",
            "Requirement already satisfied: setuptools in /usr/local/lib/python3.6/dist-packages (from kiwisolver>=1.0.1->matplotlib->d2l) (41.2.0)\n",
            "Requirement already satisfied: mistune<2,>=0.8.1 in /usr/local/lib/python3.6/dist-packages (from nbconvert->jupyter->d2l) (0.8.4)\n",
            "Requirement already satisfied: bleach in /usr/local/lib/python3.6/dist-packages (from nbconvert->jupyter->d2l) (3.1.0)\n",
            "Requirement already satisfied: jupyter-core in /usr/local/lib/python3.6/dist-packages (from nbconvert->jupyter->d2l) (4.5.0)\n",
            "Requirement already satisfied: pandocfilters>=1.4.1 in /usr/local/lib/python3.6/dist-packages (from nbconvert->jupyter->d2l) (1.4.2)\n",
            "Requirement already satisfied: jinja2>=2.4 in /usr/local/lib/python3.6/dist-packages (from nbconvert->jupyter->d2l) (2.10.3)\n",
            "Requirement already satisfied: pygments in /usr/local/lib/python3.6/dist-packages (from nbconvert->jupyter->d2l) (2.1.3)\n",
            "Requirement already satisfied: traitlets>=4.2 in /usr/local/lib/python3.6/dist-packages (from nbconvert->jupyter->d2l) (4.3.3)\n",
            "Requirement already satisfied: nbformat>=4.4 in /usr/local/lib/python3.6/dist-packages (from nbconvert->jupyter->d2l) (4.4.0)\n",
            "Requirement already satisfied: testpath in /usr/local/lib/python3.6/dist-packages (from nbconvert->jupyter->d2l) (0.4.2)\n",
            "Requirement already satisfied: defusedxml in /usr/local/lib/python3.6/dist-packages (from nbconvert->jupyter->d2l) (0.6.0)\n",
            "Requirement already satisfied: entrypoints>=0.2.2 in /usr/local/lib/python3.6/dist-packages (from nbconvert->jupyter->d2l) (0.3)\n",
            "Requirement already satisfied: ipython-genutils in /usr/local/lib/python3.6/dist-packages (from qtconsole->jupyter->d2l) (0.2.0)\n",
            "Requirement already satisfied: jupyter-client>=4.1 in /usr/local/lib/python3.6/dist-packages (from qtconsole->jupyter->d2l) (5.3.3)\n",
            "Requirement already satisfied: ipython>=4.0.0 in /usr/local/lib/python3.6/dist-packages (from ipykernel->jupyter->d2l) (5.5.0)\n",
            "Requirement already satisfied: tornado>=4.0 in /usr/local/lib/python3.6/dist-packages (from ipykernel->jupyter->d2l) (4.5.3)\n",
            "Requirement already satisfied: terminado>=0.3.3; sys_platform != \"win32\" in /usr/local/lib/python3.6/dist-packages (from notebook->jupyter->d2l) (0.8.2)\n",
            "Requirement already satisfied: widgetsnbextension~=3.5.0 in /usr/local/lib/python3.6/dist-packages (from ipywidgets->jupyter->d2l) (3.5.1)\n",
            "Requirement already satisfied: prompt-toolkit<2.0.0,>=1.0.0 in /usr/local/lib/python3.6/dist-packages (from jupyter-console->jupyter->d2l) (1.0.18)\n",
            "Requirement already satisfied: webencodings in /usr/local/lib/python3.6/dist-packages (from bleach->nbconvert->jupyter->d2l) (0.5.1)\n",
            "Requirement already satisfied: MarkupSafe>=0.23 in /usr/local/lib/python3.6/dist-packages (from jinja2>=2.4->nbconvert->jupyter->d2l) (1.1.1)\n",
            "Requirement already satisfied: decorator in /usr/local/lib/python3.6/dist-packages (from traitlets>=4.2->nbconvert->jupyter->d2l) (4.4.0)\n",
            "Requirement already satisfied: jsonschema!=2.5.0,>=2.4 in /usr/local/lib/python3.6/dist-packages (from nbformat>=4.4->nbconvert->jupyter->d2l) (2.6.0)\n",
            "Requirement already satisfied: pyzmq>=13 in /usr/local/lib/python3.6/dist-packages (from jupyter-client>=4.1->qtconsole->jupyter->d2l) (17.0.0)\n",
            "Requirement already satisfied: pexpect; sys_platform != \"win32\" in /usr/local/lib/python3.6/dist-packages (from ipython>=4.0.0->ipykernel->jupyter->d2l) (4.7.0)\n",
            "Requirement already satisfied: pickleshare in /usr/local/lib/python3.6/dist-packages (from ipython>=4.0.0->ipykernel->jupyter->d2l) (0.7.5)\n",
            "Requirement already satisfied: simplegeneric>0.8 in /usr/local/lib/python3.6/dist-packages (from ipython>=4.0.0->ipykernel->jupyter->d2l) (0.8.1)\n",
            "Requirement already satisfied: ptyprocess; os_name != \"nt\" in /usr/local/lib/python3.6/dist-packages (from terminado>=0.3.3; sys_platform != \"win32\"->notebook->jupyter->d2l) (0.6.0)\n",
            "Requirement already satisfied: wcwidth in /usr/local/lib/python3.6/dist-packages (from prompt-toolkit<2.0.0,>=1.0.0->jupyter-console->jupyter->d2l) (0.1.7)\n",
            "Requirement already satisfied: pandas in /usr/local/lib/python3.6/dist-packages (0.24.2)\n",
            "Requirement already satisfied: numpy>=1.12.0 in /usr/local/lib/python3.6/dist-packages (from pandas) (1.16.5)\n",
            "Requirement already satisfied: python-dateutil>=2.5.0 in /usr/local/lib/python3.6/dist-packages (from pandas) (2.5.3)\n",
            "Requirement already satisfied: pytz>=2011k in /usr/local/lib/python3.6/dist-packages (from pandas) (2018.9)\n",
            "Requirement already satisfied: six>=1.5 in /usr/local/lib/python3.6/dist-packages (from python-dateutil>=2.5.0->pandas) (1.12.0)\n"
          ],
          "name": "stdout"
        }
      ]
    },
    {
      "cell_type": "code",
      "metadata": {
        "ExecuteTime": {
          "end_time": "2019-02-14T19:15:45.685992Z",
          "start_time": "2019-02-14T19:15:42.969213Z"
        },
        "attributes": {
          "classes": [],
          "id": "",
          "n": "3"
        },
        "id": "tNuag6kqX7tb",
        "colab_type": "code",
        "colab": {}
      },
      "source": [
        "%matplotlib inline\n",
        "import d2l\n",
        "from mxnet import autograd, gluon, init, nd\n",
        "from mxnet.gluon import data as gdata, loss as gloss, nn, utils\n",
        "import numpy as np\n",
        "import pandas as pd"
      ],
      "execution_count": 0,
      "outputs": []
    },
    {
      "cell_type": "markdown",
      "metadata": {
        "id": "8pQlPJ_7X7tg",
        "colab_type": "text"
      },
      "source": [
        "## Accessing and Reading Data Sets"
      ]
    },
    {
      "cell_type": "code",
      "metadata": {
        "ExecuteTime": {
          "end_time": "2019-02-14T19:15:45.819464Z",
          "start_time": "2019-02-14T19:15:45.691844Z"
        },
        "attributes": {
          "classes": [],
          "id": "",
          "n": "14"
        },
        "id": "Zrw-L595X7tj",
        "colab_type": "code",
        "colab": {
          "base_uri": "https://localhost:8080/",
          "height": 54
        },
        "outputId": "fe086640-12a7-4ade-b67c-bc9f1528de0f"
      },
      "source": [
        "utils.download('https://github.com/d2l-ai/d2l-en/raw/master/data/kaggle_house_pred_train.csv')\n",
        "utils.download('https://github.com/d2l-ai/d2l-en/raw/master/data/kaggle_house_pred_test.csv')\n",
        "train_data = pd.read_csv('kaggle_house_pred_train.csv')\n",
        "test_data = pd.read_csv('kaggle_house_pred_test.csv')\n",
        "print(train_data.shape)\n",
        "print(test_data.shape)"
      ],
      "execution_count": 77,
      "outputs": [
        {
          "output_type": "stream",
          "text": [
            "(1460, 81)\n",
            "(1459, 80)\n"
          ],
          "name": "stdout"
        }
      ]
    },
    {
      "cell_type": "markdown",
      "metadata": {
        "id": "HtwaEzH9X7tu",
        "colab_type": "text"
      },
      "source": [
        "## A Quick View of the Data"
      ]
    },
    {
      "cell_type": "code",
      "metadata": {
        "ExecuteTime": {
          "end_time": "2019-02-14T19:15:45.881547Z",
          "start_time": "2019-02-14T19:15:45.826648Z"
        },
        "attributes": {
          "classes": [],
          "id": "",
          "n": "28"
        },
        "id": "IelWZajaX7tx",
        "colab_type": "code",
        "colab": {
          "base_uri": "https://localhost:8080/",
          "height": 195
        },
        "outputId": "50170196-7f86-4093-a6fc-c4cec418170c"
      },
      "source": [
        "train_data.iloc[0:4, [0, 1, 2, 3, -3, -2, -1]]"
      ],
      "execution_count": 78,
      "outputs": [
        {
          "output_type": "execute_result",
          "data": {
            "text/html": [
              "<div>\n",
              "<style scoped>\n",
              "    .dataframe tbody tr th:only-of-type {\n",
              "        vertical-align: middle;\n",
              "    }\n",
              "\n",
              "    .dataframe tbody tr th {\n",
              "        vertical-align: top;\n",
              "    }\n",
              "\n",
              "    .dataframe thead th {\n",
              "        text-align: right;\n",
              "    }\n",
              "</style>\n",
              "<table border=\"1\" class=\"dataframe\">\n",
              "  <thead>\n",
              "    <tr style=\"text-align: right;\">\n",
              "      <th></th>\n",
              "      <th>Id</th>\n",
              "      <th>MSSubClass</th>\n",
              "      <th>MSZoning</th>\n",
              "      <th>LotFrontage</th>\n",
              "      <th>SaleType</th>\n",
              "      <th>SaleCondition</th>\n",
              "      <th>SalePrice</th>\n",
              "    </tr>\n",
              "  </thead>\n",
              "  <tbody>\n",
              "    <tr>\n",
              "      <th>0</th>\n",
              "      <td>1</td>\n",
              "      <td>60</td>\n",
              "      <td>RL</td>\n",
              "      <td>65.0</td>\n",
              "      <td>WD</td>\n",
              "      <td>Normal</td>\n",
              "      <td>208500</td>\n",
              "    </tr>\n",
              "    <tr>\n",
              "      <th>1</th>\n",
              "      <td>2</td>\n",
              "      <td>20</td>\n",
              "      <td>RL</td>\n",
              "      <td>80.0</td>\n",
              "      <td>WD</td>\n",
              "      <td>Normal</td>\n",
              "      <td>181500</td>\n",
              "    </tr>\n",
              "    <tr>\n",
              "      <th>2</th>\n",
              "      <td>3</td>\n",
              "      <td>60</td>\n",
              "      <td>RL</td>\n",
              "      <td>68.0</td>\n",
              "      <td>WD</td>\n",
              "      <td>Normal</td>\n",
              "      <td>223500</td>\n",
              "    </tr>\n",
              "    <tr>\n",
              "      <th>3</th>\n",
              "      <td>4</td>\n",
              "      <td>70</td>\n",
              "      <td>RL</td>\n",
              "      <td>60.0</td>\n",
              "      <td>WD</td>\n",
              "      <td>Abnorml</td>\n",
              "      <td>140000</td>\n",
              "    </tr>\n",
              "  </tbody>\n",
              "</table>\n",
              "</div>"
            ],
            "text/plain": [
              "   Id  MSSubClass MSZoning  LotFrontage SaleType SaleCondition  SalePrice\n",
              "0   1          60       RL         65.0       WD        Normal     208500\n",
              "1   2          20       RL         80.0       WD        Normal     181500\n",
              "2   3          60       RL         68.0       WD        Normal     223500\n",
              "3   4          70       RL         60.0       WD       Abnorml     140000"
            ]
          },
          "metadata": {
            "tags": []
          },
          "execution_count": 78
        }
      ]
    },
    {
      "cell_type": "markdown",
      "metadata": {
        "id": "mL6-W6ZfX7t2",
        "colab_type": "text"
      },
      "source": [
        "## Combile Train and Test for Pre-processing"
      ]
    },
    {
      "cell_type": "code",
      "metadata": {
        "ExecuteTime": {
          "end_time": "2019-02-14T19:15:45.966156Z",
          "start_time": "2019-02-14T19:15:45.887915Z"
        },
        "attributes": {
          "classes": [],
          "id": "",
          "n": "30"
        },
        "id": "22SNs9pmX7t3",
        "colab_type": "code",
        "colab": {}
      },
      "source": [
        "all_features = pd.concat((train_data.iloc[:, 1:-1], test_data.iloc[:, 1:]))"
      ],
      "execution_count": 0,
      "outputs": []
    },
    {
      "cell_type": "markdown",
      "metadata": {
        "id": "yc65qJvrX7t9",
        "colab_type": "text"
      },
      "source": [
        "## Standardize and Replace Missing Value with 0"
      ]
    },
    {
      "cell_type": "code",
      "metadata": {
        "ExecuteTime": {
          "end_time": "2019-02-14T19:15:46.184149Z",
          "start_time": "2019-02-14T19:15:45.974777Z"
        },
        "attributes": {
          "classes": [],
          "id": "",
          "n": "6"
        },
        "id": "e1KWZqvnX7t-",
        "colab_type": "code",
        "colab": {}
      },
      "source": [
        "numeric_features = all_features.dtypes[all_features.dtypes != 'object'].index\n",
        "all_features[numeric_features] = all_features[numeric_features].apply(\n",
        "    lambda x: (x - x.mean()) / (x.std()))\n",
        "all_features = all_features.fillna(0)"
      ],
      "execution_count": 0,
      "outputs": []
    },
    {
      "cell_type": "markdown",
      "metadata": {
        "id": "9RaRL0RkX7uE",
        "colab_type": "text"
      },
      "source": [
        "## Replace Discrete Feature with One-hot Encoding "
      ]
    },
    {
      "cell_type": "code",
      "metadata": {
        "ExecuteTime": {
          "end_time": "2019-02-14T19:15:46.915126Z",
          "start_time": "2019-02-14T19:15:46.193884Z"
        },
        "attributes": {
          "classes": [],
          "id": "",
          "n": "7"
        },
        "id": "jVHlR600X7uF",
        "colab_type": "code",
        "colab": {
          "base_uri": "https://localhost:8080/",
          "height": 35
        },
        "outputId": "a7174252-5d6c-4a76-ab41-54643d8a2583"
      },
      "source": [
        "all_features = pd.get_dummies(all_features, dummy_na=True)\n",
        "all_features.shape"
      ],
      "execution_count": 81,
      "outputs": [
        {
          "output_type": "execute_result",
          "data": {
            "text/plain": [
              "(2919, 354)"
            ]
          },
          "metadata": {
            "tags": []
          },
          "execution_count": 81
        }
      ]
    },
    {
      "cell_type": "markdown",
      "metadata": {
        "id": "7VSgOWFoX7uJ",
        "colab_type": "text"
      },
      "source": [
        "## Preprocessed Dataset"
      ]
    },
    {
      "cell_type": "code",
      "metadata": {
        "ExecuteTime": {
          "end_time": "2019-02-14T19:15:47.074135Z",
          "start_time": "2019-02-14T19:15:46.947678Z"
        },
        "attributes": {
          "classes": [],
          "id": "",
          "n": "9"
        },
        "id": "gBaOWdnNX7uK",
        "colab_type": "code",
        "colab": {}
      },
      "source": [
        "n_train = train_data.shape[0]\n",
        "train_features = nd.array(all_features[:n_train].values)\n",
        "test_features = nd.array(all_features[n_train:].values)\n",
        "train_labels = nd.array(train_data.SalePrice.values).reshape((-1, 1))"
      ],
      "execution_count": 0,
      "outputs": []
    },
    {
      "cell_type": "markdown",
      "metadata": {
        "id": "MJx8bqc-X7uO",
        "colab_type": "text"
      },
      "source": [
        "## Linear Regression with L2 Loss"
      ]
    },
    {
      "cell_type": "code",
      "metadata": {
        "ExecuteTime": {
          "end_time": "2019-02-14T19:15:47.110895Z",
          "start_time": "2019-02-14T19:15:47.086415Z"
        },
        "attributes": {
          "classes": [],
          "id": "",
          "n": "13"
        },
        "id": "5szijOcPX7uQ",
        "colab_type": "code",
        "colab": {}
      },
      "source": [
        "loss = gloss.L2Loss()\n",
        "\n",
        "def get_net():\n",
        "    net = nn.Sequential()\n",
        "    net.add(nn.Dense(1))\n",
        "    net.initialize()\n",
        "    return net"
      ],
      "execution_count": 0,
      "outputs": []
    },
    {
      "cell_type": "markdown",
      "metadata": {
        "id": "-0fQQW0WX7uT",
        "colab_type": "text"
      },
      "source": [
        "## Log Root Mean Square Error \n",
        "\n",
        "$$L = \\sqrt{\\frac{1}{n}\\sum_{i=1}^n\\left(\\log y_i -\\log \\hat{y}_i\\right)^2}$$\n",
        "\n",
        "A small value $\\delta$ of $\\log y - \\log \\hat{y}$ translates into $e^{-\\delta} \\leq \\frac{\\hat{y}}{y} \\leq e^\\delta$. \n"
      ]
    },
    {
      "cell_type": "code",
      "metadata": {
        "ExecuteTime": {
          "end_time": "2019-02-14T19:15:47.136759Z",
          "start_time": "2019-02-14T19:15:47.118537Z"
        },
        "attributes": {
          "classes": [],
          "id": "",
          "n": "11"
        },
        "id": "J11emN1TX7uV",
        "colab_type": "code",
        "colab": {}
      },
      "source": [
        "def log_rmse(net, features, labels):\n",
        "    clipped_preds = nd.clip(net(features), 1, float('inf'))\n",
        "    rmse = nd.sqrt(2 * loss(clipped_preds.log(), labels.log()).mean())\n",
        "    return rmse.asscalar()"
      ],
      "execution_count": 0,
      "outputs": []
    },
    {
      "cell_type": "code",
      "metadata": {
        "id": "EhKeRuKvX7uY",
        "colab_type": "code",
        "colab": {}
      },
      "source": [
        ""
      ],
      "execution_count": 0,
      "outputs": []
    },
    {
      "cell_type": "markdown",
      "metadata": {
        "id": "Vl4q0CAtX7uc",
        "colab_type": "text"
      },
      "source": [
        "## Optimization"
      ]
    },
    {
      "cell_type": "code",
      "metadata": {
        "ExecuteTime": {
          "end_time": "2019-02-14T19:15:47.187320Z",
          "start_time": "2019-02-14T19:15:47.145640Z"
        },
        "attributes": {
          "classes": [],
          "id": "",
          "n": "14"
        },
        "id": "T6bLITvwX7ud",
        "colab_type": "code",
        "colab": {}
      },
      "source": [
        "def train(net, train_features, train_labels, test_features, test_labels,\n",
        "          num_epochs, learning_rate, weight_decay, batch_size):\n",
        "    train_ls, test_ls = [], []\n",
        "    train_iter = gdata.DataLoader(gdata.ArrayDataset(\n",
        "        train_features, train_labels), batch_size, shuffle=True)\n",
        "    trainer = gluon.Trainer(net.collect_params(), 'adam', {\n",
        "        'learning_rate': learning_rate, 'wd': weight_decay})\n",
        "    for epoch in range(num_epochs):\n",
        "        for X, y in train_iter:\n",
        "            with autograd.record():\n",
        "                l = loss(net(X), y)\n",
        "            l.backward()\n",
        "            trainer.step(batch_size)\n",
        "        train_ls.append(log_rmse(net, train_features, train_labels))\n",
        "        if test_labels is not None:\n",
        "            test_ls.append(log_rmse(net, test_features, test_labels))\n",
        "    return train_ls, test_ls"
      ],
      "execution_count": 0,
      "outputs": []
    },
    {
      "cell_type": "markdown",
      "metadata": {
        "id": "pzRWJEu3X7ug",
        "colab_type": "text"
      },
      "source": [
        "## Get k-Fold Cross-Validation Data"
      ]
    },
    {
      "cell_type": "code",
      "metadata": {
        "ExecuteTime": {
          "end_time": "2019-02-14T19:15:47.239332Z",
          "start_time": "2019-02-14T19:15:47.202188Z"
        },
        "id": "ei-CpZjIX7uh",
        "colab_type": "code",
        "colab": {}
      },
      "source": [
        "def get_k_fold_data(k, i, X, y):\n",
        "    assert k > 1\n",
        "    fold_size = X.shape[0] // k\n",
        "    X_train, y_train = None, None\n",
        "    for j in range(k):\n",
        "        idx = slice(j * fold_size, (j + 1) * fold_size)\n",
        "        X_part, y_part = X[idx, :], y[idx]\n",
        "        if j == i:\n",
        "            X_valid, y_valid = X_part, y_part\n",
        "        elif X_train is None:\n",
        "            X_train, y_train = X_part, y_part\n",
        "        else:\n",
        "            X_train = nd.concat(X_train, X_part, dim=0)\n",
        "            y_train = nd.concat(y_train, y_part, dim=0)\n",
        "    return X_train, y_train, X_valid, y_valid"
      ],
      "execution_count": 0,
      "outputs": []
    },
    {
      "cell_type": "markdown",
      "metadata": {
        "id": "FEIgpvAaX7uk",
        "colab_type": "text"
      },
      "source": [
        "##  k-Fold Cross-Validation"
      ]
    },
    {
      "cell_type": "code",
      "metadata": {
        "ExecuteTime": {
          "end_time": "2019-02-14T19:16:09.311595Z",
          "start_time": "2019-02-14T19:16:09.297360Z"
        },
        "attributes": {
          "classes": [],
          "id": "",
          "n": "15"
        },
        "id": "3TWkNaGaX7ul",
        "colab_type": "code",
        "colab": {}
      },
      "source": [
        "def k_fold(k, X_train, y_train, num_epochs,\n",
        "           learning_rate, weight_decay, batch_size):\n",
        "    train_l_sum, valid_l_sum = 0, 0\n",
        "    for i in range(k):\n",
        "        data = get_k_fold_data(k, i, X_train, y_train)\n",
        "        net = get_net()\n",
        "        train_ls, valid_ls = train(net, *data, num_epochs, learning_rate,\n",
        "                                   weight_decay, batch_size)\n",
        "        train_l_sum += train_ls[-1]\n",
        "        valid_l_sum += valid_ls[-1]\n",
        "        if i == 0:\n",
        "            d2l.plot(list(range(1, num_epochs+1)), [train_ls, valid_ls],\n",
        "                     xlabel='epoch', ylabel='rmse',\n",
        "                     legend=['train', 'valid'], yscale='log')\n",
        "        print('fold %d, train rmse: %f, valid rmse: %f' % (\n",
        "            i, train_ls[-1], valid_ls[-1]))\n",
        "    return train_l_sum / k, valid_l_sum / k"
      ],
      "execution_count": 0,
      "outputs": []
    },
    {
      "cell_type": "markdown",
      "metadata": {
        "id": "4GlBztIJX7uo",
        "colab_type": "text"
      },
      "source": [
        "## Model Selection\n"
      ]
    },
    {
      "cell_type": "code",
      "metadata": {
        "ExecuteTime": {
          "end_time": "2019-02-14T19:17:07.477518Z",
          "start_time": "2019-02-14T19:16:11.486859Z"
        },
        "attributes": {
          "classes": [],
          "id": "",
          "n": "16"
        },
        "id": "5N7gtnl5X7up",
        "colab_type": "code",
        "colab": {
          "base_uri": "https://localhost:8080/",
          "height": 377
        },
        "outputId": "ee69b9fa-9011-4b28-a33b-a49d30367fa6"
      },
      "source": [
        "k, num_epochs, lr, weight_decay, batch_size = 5, 100, 5, 0, 64\n",
        "train_l, valid_l = k_fold(k, train_features, train_labels, num_epochs, lr,\n",
        "                          weight_decay, batch_size)\n",
        "print('%d-fold validation: avg train rmse: %f, avg valid rmse: %f'\n",
        "      % (k, train_l, valid_l))\n"
      ],
      "execution_count": 88,
      "outputs": [
        {
          "output_type": "stream",
          "text": [
            "fold 0, train rmse: 0.169813, valid rmse: 0.157036\n",
            "fold 1, train rmse: 0.162226, valid rmse: 0.189630\n",
            "fold 2, train rmse: 0.163775, valid rmse: 0.168133\n",
            "fold 3, train rmse: 0.167277, valid rmse: 0.154363\n",
            "fold 4, train rmse: 0.163105, valid rmse: 0.183126\n",
            "5-fold validation: avg train rmse: 0.165239, avg valid rmse: 0.170458\n"
          ],
          "name": "stdout"
        },
        {
          "output_type": "display_data",
          "data": {
            "text/plain": [
              "<Figure size 252x180 with 1 Axes>"
            ],
            "image/svg+xml": "<?xml version=\"1.0\" encoding=\"utf-8\" standalone=\"no\"?>\n<!DOCTYPE svg PUBLIC \"-//W3C//DTD SVG 1.1//EN\"\n  \"http://www.w3.org/Graphics/SVG/1.1/DTD/svg11.dtd\">\n<!-- Created with matplotlib (https://matplotlib.org/) -->\n<svg height=\"184.15625pt\" version=\"1.1\" viewBox=\"0 0 251.478125 184.15625\" width=\"251.478125pt\" xmlns=\"http://www.w3.org/2000/svg\" xmlns:xlink=\"http://www.w3.org/1999/xlink\">\n <defs>\n  <style type=\"text/css\">\n*{stroke-linecap:butt;stroke-linejoin:round;}\n  </style>\n </defs>\n <g id=\"figure_1\">\n  <g id=\"patch_1\">\n   <path d=\"M 0 184.15625 \nL 251.478125 184.15625 \nL 251.478125 -0 \nL 0 -0 \nz\n\" style=\"fill:none;\"/>\n  </g>\n  <g id=\"axes_1\">\n   <g id=\"patch_2\">\n    <path d=\"M 45.478125 146.6 \nL 240.778125 146.6 \nL 240.778125 10.7 \nL 45.478125 10.7 \nz\n\" style=\"fill:#ffffff;\"/>\n   </g>\n   <g id=\"matplotlib.axis_1\">\n    <g id=\"xtick_1\">\n     <g id=\"line2d_1\">\n      <path clip-path=\"url(#pc61cec90ce)\" d=\"M 52.562009 146.6 \nL 52.562009 10.7 \n\" style=\"fill:none;stroke:#b0b0b0;stroke-linecap:square;stroke-width:0.8;\"/>\n     </g>\n     <g id=\"line2d_2\">\n      <defs>\n       <path d=\"M 0 0 \nL 0 3.5 \n\" id=\"m21ea8d185d\" style=\"stroke:#000000;stroke-width:0.8;\"/>\n      </defs>\n      <g>\n       <use style=\"stroke:#000000;stroke-width:0.8;\" x=\"52.562009\" xlink:href=\"#m21ea8d185d\" y=\"146.6\"/>\n      </g>\n     </g>\n     <g id=\"text_1\">\n      <!-- 0 -->\n      <defs>\n       <path d=\"M 31.78125 66.40625 \nQ 24.171875 66.40625 20.328125 58.90625 \nQ 16.5 51.421875 16.5 36.375 \nQ 16.5 21.390625 20.328125 13.890625 \nQ 24.171875 6.390625 31.78125 6.390625 \nQ 39.453125 6.390625 43.28125 13.890625 \nQ 47.125 21.390625 47.125 36.375 \nQ 47.125 51.421875 43.28125 58.90625 \nQ 39.453125 66.40625 31.78125 66.40625 \nz\nM 31.78125 74.21875 \nQ 44.046875 74.21875 50.515625 64.515625 \nQ 56.984375 54.828125 56.984375 36.375 \nQ 56.984375 17.96875 50.515625 8.265625 \nQ 44.046875 -1.421875 31.78125 -1.421875 \nQ 19.53125 -1.421875 13.0625 8.265625 \nQ 6.59375 17.96875 6.59375 36.375 \nQ 6.59375 54.828125 13.0625 64.515625 \nQ 19.53125 74.21875 31.78125 74.21875 \nz\n\" id=\"DejaVuSans-48\"/>\n      </defs>\n      <g transform=\"translate(49.380759 161.198437)scale(0.1 -0.1)\">\n       <use xlink:href=\"#DejaVuSans-48\"/>\n      </g>\n     </g>\n    </g>\n    <g id=\"xtick_2\">\n     <g id=\"line2d_3\">\n      <path clip-path=\"url(#pc61cec90ce)\" d=\"M 88.429778 146.6 \nL 88.429778 10.7 \n\" style=\"fill:none;stroke:#b0b0b0;stroke-linecap:square;stroke-width:0.8;\"/>\n     </g>\n     <g id=\"line2d_4\">\n      <g>\n       <use style=\"stroke:#000000;stroke-width:0.8;\" x=\"88.429778\" xlink:href=\"#m21ea8d185d\" y=\"146.6\"/>\n      </g>\n     </g>\n     <g id=\"text_2\">\n      <!-- 20 -->\n      <defs>\n       <path d=\"M 19.1875 8.296875 \nL 53.609375 8.296875 \nL 53.609375 0 \nL 7.328125 0 \nL 7.328125 8.296875 \nQ 12.9375 14.109375 22.625 23.890625 \nQ 32.328125 33.6875 34.8125 36.53125 \nQ 39.546875 41.84375 41.421875 45.53125 \nQ 43.3125 49.21875 43.3125 52.78125 \nQ 43.3125 58.59375 39.234375 62.25 \nQ 35.15625 65.921875 28.609375 65.921875 \nQ 23.96875 65.921875 18.8125 64.3125 \nQ 13.671875 62.703125 7.8125 59.421875 \nL 7.8125 69.390625 \nQ 13.765625 71.78125 18.9375 73 \nQ 24.125 74.21875 28.421875 74.21875 \nQ 39.75 74.21875 46.484375 68.546875 \nQ 53.21875 62.890625 53.21875 53.421875 \nQ 53.21875 48.921875 51.53125 44.890625 \nQ 49.859375 40.875 45.40625 35.40625 \nQ 44.1875 33.984375 37.640625 27.21875 \nQ 31.109375 20.453125 19.1875 8.296875 \nz\n\" id=\"DejaVuSans-50\"/>\n      </defs>\n      <g transform=\"translate(82.067278 161.198437)scale(0.1 -0.1)\">\n       <use xlink:href=\"#DejaVuSans-50\"/>\n       <use x=\"63.623047\" xlink:href=\"#DejaVuSans-48\"/>\n      </g>\n     </g>\n    </g>\n    <g id=\"xtick_3\">\n     <g id=\"line2d_5\">\n      <path clip-path=\"url(#pc61cec90ce)\" d=\"M 124.297546 146.6 \nL 124.297546 10.7 \n\" style=\"fill:none;stroke:#b0b0b0;stroke-linecap:square;stroke-width:0.8;\"/>\n     </g>\n     <g id=\"line2d_6\">\n      <g>\n       <use style=\"stroke:#000000;stroke-width:0.8;\" x=\"124.297546\" xlink:href=\"#m21ea8d185d\" y=\"146.6\"/>\n      </g>\n     </g>\n     <g id=\"text_3\">\n      <!-- 40 -->\n      <defs>\n       <path d=\"M 37.796875 64.3125 \nL 12.890625 25.390625 \nL 37.796875 25.390625 \nz\nM 35.203125 72.90625 \nL 47.609375 72.90625 \nL 47.609375 25.390625 \nL 58.015625 25.390625 \nL 58.015625 17.1875 \nL 47.609375 17.1875 \nL 47.609375 0 \nL 37.796875 0 \nL 37.796875 17.1875 \nL 4.890625 17.1875 \nL 4.890625 26.703125 \nz\n\" id=\"DejaVuSans-52\"/>\n      </defs>\n      <g transform=\"translate(117.935046 161.198437)scale(0.1 -0.1)\">\n       <use xlink:href=\"#DejaVuSans-52\"/>\n       <use x=\"63.623047\" xlink:href=\"#DejaVuSans-48\"/>\n      </g>\n     </g>\n    </g>\n    <g id=\"xtick_4\">\n     <g id=\"line2d_7\">\n      <path clip-path=\"url(#pc61cec90ce)\" d=\"M 160.165315 146.6 \nL 160.165315 10.7 \n\" style=\"fill:none;stroke:#b0b0b0;stroke-linecap:square;stroke-width:0.8;\"/>\n     </g>\n     <g id=\"line2d_8\">\n      <g>\n       <use style=\"stroke:#000000;stroke-width:0.8;\" x=\"160.165315\" xlink:href=\"#m21ea8d185d\" y=\"146.6\"/>\n      </g>\n     </g>\n     <g id=\"text_4\">\n      <!-- 60 -->\n      <defs>\n       <path d=\"M 33.015625 40.375 \nQ 26.375 40.375 22.484375 35.828125 \nQ 18.609375 31.296875 18.609375 23.390625 \nQ 18.609375 15.53125 22.484375 10.953125 \nQ 26.375 6.390625 33.015625 6.390625 \nQ 39.65625 6.390625 43.53125 10.953125 \nQ 47.40625 15.53125 47.40625 23.390625 \nQ 47.40625 31.296875 43.53125 35.828125 \nQ 39.65625 40.375 33.015625 40.375 \nz\nM 52.59375 71.296875 \nL 52.59375 62.3125 \nQ 48.875 64.0625 45.09375 64.984375 \nQ 41.3125 65.921875 37.59375 65.921875 \nQ 27.828125 65.921875 22.671875 59.328125 \nQ 17.53125 52.734375 16.796875 39.40625 \nQ 19.671875 43.65625 24.015625 45.921875 \nQ 28.375 48.1875 33.59375 48.1875 \nQ 44.578125 48.1875 50.953125 41.515625 \nQ 57.328125 34.859375 57.328125 23.390625 \nQ 57.328125 12.15625 50.6875 5.359375 \nQ 44.046875 -1.421875 33.015625 -1.421875 \nQ 20.359375 -1.421875 13.671875 8.265625 \nQ 6.984375 17.96875 6.984375 36.375 \nQ 6.984375 53.65625 15.1875 63.9375 \nQ 23.390625 74.21875 37.203125 74.21875 \nQ 40.921875 74.21875 44.703125 73.484375 \nQ 48.484375 72.75 52.59375 71.296875 \nz\n\" id=\"DejaVuSans-54\"/>\n      </defs>\n      <g transform=\"translate(153.802815 161.198437)scale(0.1 -0.1)\">\n       <use xlink:href=\"#DejaVuSans-54\"/>\n       <use x=\"63.623047\" xlink:href=\"#DejaVuSans-48\"/>\n      </g>\n     </g>\n    </g>\n    <g id=\"xtick_5\">\n     <g id=\"line2d_9\">\n      <path clip-path=\"url(#pc61cec90ce)\" d=\"M 196.033084 146.6 \nL 196.033084 10.7 \n\" style=\"fill:none;stroke:#b0b0b0;stroke-linecap:square;stroke-width:0.8;\"/>\n     </g>\n     <g id=\"line2d_10\">\n      <g>\n       <use style=\"stroke:#000000;stroke-width:0.8;\" x=\"196.033084\" xlink:href=\"#m21ea8d185d\" y=\"146.6\"/>\n      </g>\n     </g>\n     <g id=\"text_5\">\n      <!-- 80 -->\n      <defs>\n       <path d=\"M 31.78125 34.625 \nQ 24.75 34.625 20.71875 30.859375 \nQ 16.703125 27.09375 16.703125 20.515625 \nQ 16.703125 13.921875 20.71875 10.15625 \nQ 24.75 6.390625 31.78125 6.390625 \nQ 38.8125 6.390625 42.859375 10.171875 \nQ 46.921875 13.96875 46.921875 20.515625 \nQ 46.921875 27.09375 42.890625 30.859375 \nQ 38.875 34.625 31.78125 34.625 \nz\nM 21.921875 38.8125 \nQ 15.578125 40.375 12.03125 44.71875 \nQ 8.5 49.078125 8.5 55.328125 \nQ 8.5 64.0625 14.71875 69.140625 \nQ 20.953125 74.21875 31.78125 74.21875 \nQ 42.671875 74.21875 48.875 69.140625 \nQ 55.078125 64.0625 55.078125 55.328125 \nQ 55.078125 49.078125 51.53125 44.71875 \nQ 48 40.375 41.703125 38.8125 \nQ 48.828125 37.15625 52.796875 32.3125 \nQ 56.78125 27.484375 56.78125 20.515625 \nQ 56.78125 9.90625 50.3125 4.234375 \nQ 43.84375 -1.421875 31.78125 -1.421875 \nQ 19.734375 -1.421875 13.25 4.234375 \nQ 6.78125 9.90625 6.78125 20.515625 \nQ 6.78125 27.484375 10.78125 32.3125 \nQ 14.796875 37.15625 21.921875 38.8125 \nz\nM 18.3125 54.390625 \nQ 18.3125 48.734375 21.84375 45.5625 \nQ 25.390625 42.390625 31.78125 42.390625 \nQ 38.140625 42.390625 41.71875 45.5625 \nQ 45.3125 48.734375 45.3125 54.390625 \nQ 45.3125 60.0625 41.71875 63.234375 \nQ 38.140625 66.40625 31.78125 66.40625 \nQ 25.390625 66.40625 21.84375 63.234375 \nQ 18.3125 60.0625 18.3125 54.390625 \nz\n\" id=\"DejaVuSans-56\"/>\n      </defs>\n      <g transform=\"translate(189.670584 161.198437)scale(0.1 -0.1)\">\n       <use xlink:href=\"#DejaVuSans-56\"/>\n       <use x=\"63.623047\" xlink:href=\"#DejaVuSans-48\"/>\n      </g>\n     </g>\n    </g>\n    <g id=\"xtick_6\">\n     <g id=\"line2d_11\">\n      <path clip-path=\"url(#pc61cec90ce)\" d=\"M 231.900852 146.6 \nL 231.900852 10.7 \n\" style=\"fill:none;stroke:#b0b0b0;stroke-linecap:square;stroke-width:0.8;\"/>\n     </g>\n     <g id=\"line2d_12\">\n      <g>\n       <use style=\"stroke:#000000;stroke-width:0.8;\" x=\"231.900852\" xlink:href=\"#m21ea8d185d\" y=\"146.6\"/>\n      </g>\n     </g>\n     <g id=\"text_6\">\n      <!-- 100 -->\n      <defs>\n       <path d=\"M 12.40625 8.296875 \nL 28.515625 8.296875 \nL 28.515625 63.921875 \nL 10.984375 60.40625 \nL 10.984375 69.390625 \nL 28.421875 72.90625 \nL 38.28125 72.90625 \nL 38.28125 8.296875 \nL 54.390625 8.296875 \nL 54.390625 0 \nL 12.40625 0 \nz\n\" id=\"DejaVuSans-49\"/>\n      </defs>\n      <g transform=\"translate(222.357102 161.198437)scale(0.1 -0.1)\">\n       <use xlink:href=\"#DejaVuSans-49\"/>\n       <use x=\"63.623047\" xlink:href=\"#DejaVuSans-48\"/>\n       <use x=\"127.246094\" xlink:href=\"#DejaVuSans-48\"/>\n      </g>\n     </g>\n    </g>\n    <g id=\"text_7\">\n     <!-- epoch -->\n     <defs>\n      <path d=\"M 56.203125 29.59375 \nL 56.203125 25.203125 \nL 14.890625 25.203125 \nQ 15.484375 15.921875 20.484375 11.0625 \nQ 25.484375 6.203125 34.421875 6.203125 \nQ 39.59375 6.203125 44.453125 7.46875 \nQ 49.3125 8.734375 54.109375 11.28125 \nL 54.109375 2.78125 \nQ 49.265625 0.734375 44.1875 -0.34375 \nQ 39.109375 -1.421875 33.890625 -1.421875 \nQ 20.796875 -1.421875 13.15625 6.1875 \nQ 5.515625 13.8125 5.515625 26.8125 \nQ 5.515625 40.234375 12.765625 48.109375 \nQ 20.015625 56 32.328125 56 \nQ 43.359375 56 49.78125 48.890625 \nQ 56.203125 41.796875 56.203125 29.59375 \nz\nM 47.21875 32.234375 \nQ 47.125 39.59375 43.09375 43.984375 \nQ 39.0625 48.390625 32.421875 48.390625 \nQ 24.90625 48.390625 20.390625 44.140625 \nQ 15.875 39.890625 15.1875 32.171875 \nz\n\" id=\"DejaVuSans-101\"/>\n      <path d=\"M 18.109375 8.203125 \nL 18.109375 -20.796875 \nL 9.078125 -20.796875 \nL 9.078125 54.6875 \nL 18.109375 54.6875 \nL 18.109375 46.390625 \nQ 20.953125 51.265625 25.265625 53.625 \nQ 29.59375 56 35.59375 56 \nQ 45.5625 56 51.78125 48.09375 \nQ 58.015625 40.1875 58.015625 27.296875 \nQ 58.015625 14.40625 51.78125 6.484375 \nQ 45.5625 -1.421875 35.59375 -1.421875 \nQ 29.59375 -1.421875 25.265625 0.953125 \nQ 20.953125 3.328125 18.109375 8.203125 \nz\nM 48.6875 27.296875 \nQ 48.6875 37.203125 44.609375 42.84375 \nQ 40.53125 48.484375 33.40625 48.484375 \nQ 26.265625 48.484375 22.1875 42.84375 \nQ 18.109375 37.203125 18.109375 27.296875 \nQ 18.109375 17.390625 22.1875 11.75 \nQ 26.265625 6.109375 33.40625 6.109375 \nQ 40.53125 6.109375 44.609375 11.75 \nQ 48.6875 17.390625 48.6875 27.296875 \nz\n\" id=\"DejaVuSans-112\"/>\n      <path d=\"M 30.609375 48.390625 \nQ 23.390625 48.390625 19.1875 42.75 \nQ 14.984375 37.109375 14.984375 27.296875 \nQ 14.984375 17.484375 19.15625 11.84375 \nQ 23.34375 6.203125 30.609375 6.203125 \nQ 37.796875 6.203125 41.984375 11.859375 \nQ 46.1875 17.53125 46.1875 27.296875 \nQ 46.1875 37.015625 41.984375 42.703125 \nQ 37.796875 48.390625 30.609375 48.390625 \nz\nM 30.609375 56 \nQ 42.328125 56 49.015625 48.375 \nQ 55.71875 40.765625 55.71875 27.296875 \nQ 55.71875 13.875 49.015625 6.21875 \nQ 42.328125 -1.421875 30.609375 -1.421875 \nQ 18.84375 -1.421875 12.171875 6.21875 \nQ 5.515625 13.875 5.515625 27.296875 \nQ 5.515625 40.765625 12.171875 48.375 \nQ 18.84375 56 30.609375 56 \nz\n\" id=\"DejaVuSans-111\"/>\n      <path d=\"M 48.78125 52.59375 \nL 48.78125 44.1875 \nQ 44.96875 46.296875 41.140625 47.34375 \nQ 37.3125 48.390625 33.40625 48.390625 \nQ 24.65625 48.390625 19.8125 42.84375 \nQ 14.984375 37.3125 14.984375 27.296875 \nQ 14.984375 17.28125 19.8125 11.734375 \nQ 24.65625 6.203125 33.40625 6.203125 \nQ 37.3125 6.203125 41.140625 7.25 \nQ 44.96875 8.296875 48.78125 10.40625 \nL 48.78125 2.09375 \nQ 45.015625 0.34375 40.984375 -0.53125 \nQ 36.96875 -1.421875 32.421875 -1.421875 \nQ 20.0625 -1.421875 12.78125 6.34375 \nQ 5.515625 14.109375 5.515625 27.296875 \nQ 5.515625 40.671875 12.859375 48.328125 \nQ 20.21875 56 33.015625 56 \nQ 37.15625 56 41.109375 55.140625 \nQ 45.0625 54.296875 48.78125 52.59375 \nz\n\" id=\"DejaVuSans-99\"/>\n      <path d=\"M 54.890625 33.015625 \nL 54.890625 0 \nL 45.90625 0 \nL 45.90625 32.71875 \nQ 45.90625 40.484375 42.875 44.328125 \nQ 39.84375 48.1875 33.796875 48.1875 \nQ 26.515625 48.1875 22.3125 43.546875 \nQ 18.109375 38.921875 18.109375 30.90625 \nL 18.109375 0 \nL 9.078125 0 \nL 9.078125 75.984375 \nL 18.109375 75.984375 \nL 18.109375 46.1875 \nQ 21.34375 51.125 25.703125 53.5625 \nQ 30.078125 56 35.796875 56 \nQ 45.21875 56 50.046875 50.171875 \nQ 54.890625 44.34375 54.890625 33.015625 \nz\n\" id=\"DejaVuSans-104\"/>\n     </defs>\n     <g transform=\"translate(127.9 174.876562)scale(0.1 -0.1)\">\n      <use xlink:href=\"#DejaVuSans-101\"/>\n      <use x=\"61.523438\" xlink:href=\"#DejaVuSans-112\"/>\n      <use x=\"125\" xlink:href=\"#DejaVuSans-111\"/>\n      <use x=\"186.181641\" xlink:href=\"#DejaVuSans-99\"/>\n      <use x=\"241.162109\" xlink:href=\"#DejaVuSans-104\"/>\n     </g>\n    </g>\n   </g>\n   <g id=\"matplotlib.axis_2\">\n    <g id=\"ytick_1\">\n     <g id=\"line2d_13\">\n      <path clip-path=\"url(#pc61cec90ce)\" d=\"M 45.478125 68.372868 \nL 240.778125 68.372868 \n\" style=\"fill:none;stroke:#b0b0b0;stroke-linecap:square;stroke-width:0.8;\"/>\n     </g>\n     <g id=\"line2d_14\">\n      <defs>\n       <path d=\"M 0 0 \nL -3.5 0 \n\" id=\"m6d899dd08a\" style=\"stroke:#000000;stroke-width:0.8;\"/>\n      </defs>\n      <g>\n       <use style=\"stroke:#000000;stroke-width:0.8;\" x=\"45.478125\" xlink:href=\"#m6d899dd08a\" y=\"68.372868\"/>\n      </g>\n     </g>\n     <g id=\"text_8\">\n      <!-- $\\mathdefault{10^{0}}$ -->\n      <g transform=\"translate(20.878125 72.172086)scale(0.1 -0.1)\">\n       <use transform=\"translate(0 0.765625)\" xlink:href=\"#DejaVuSans-49\"/>\n       <use transform=\"translate(63.623047 0.765625)\" xlink:href=\"#DejaVuSans-48\"/>\n       <use transform=\"translate(128.203125 39.046875)scale(0.7)\" xlink:href=\"#DejaVuSans-48\"/>\n      </g>\n     </g>\n    </g>\n    <g id=\"ytick_2\">\n     <g id=\"line2d_15\">\n      <defs>\n       <path d=\"M 0 0 \nL -2 0 \n\" id=\"ma315e9db08\" style=\"stroke:#000000;stroke-width:0.6;\"/>\n      </defs>\n      <g>\n       <use style=\"stroke:#000000;stroke-width:0.6;\" x=\"45.478125\" xlink:href=\"#ma315e9db08\" y=\"131.01057\"/>\n      </g>\n     </g>\n    </g>\n    <g id=\"ytick_3\">\n     <g id=\"line2d_16\">\n      <g>\n       <use style=\"stroke:#000000;stroke-width:0.6;\" x=\"45.478125\" xlink:href=\"#ma315e9db08\" y=\"115.230277\"/>\n      </g>\n     </g>\n    </g>\n    <g id=\"ytick_4\">\n     <g id=\"line2d_17\">\n      <g>\n       <use style=\"stroke:#000000;stroke-width:0.6;\" x=\"45.478125\" xlink:href=\"#ma315e9db08\" y=\"104.03398\"/>\n      </g>\n     </g>\n    </g>\n    <g id=\"ytick_5\">\n     <g id=\"line2d_18\">\n      <g>\n       <use style=\"stroke:#000000;stroke-width:0.6;\" x=\"45.478125\" xlink:href=\"#ma315e9db08\" y=\"95.349458\"/>\n      </g>\n     </g>\n    </g>\n    <g id=\"ytick_6\">\n     <g id=\"line2d_19\">\n      <g>\n       <use style=\"stroke:#000000;stroke-width:0.6;\" x=\"45.478125\" xlink:href=\"#ma315e9db08\" y=\"88.253686\"/>\n      </g>\n     </g>\n    </g>\n    <g id=\"ytick_7\">\n     <g id=\"line2d_20\">\n      <g>\n       <use style=\"stroke:#000000;stroke-width:0.6;\" x=\"45.478125\" xlink:href=\"#ma315e9db08\" y=\"82.254297\"/>\n      </g>\n     </g>\n    </g>\n    <g id=\"ytick_8\">\n     <g id=\"line2d_21\">\n      <g>\n       <use style=\"stroke:#000000;stroke-width:0.6;\" x=\"45.478125\" xlink:href=\"#ma315e9db08\" y=\"77.05739\"/>\n      </g>\n     </g>\n    </g>\n    <g id=\"ytick_9\">\n     <g id=\"line2d_22\">\n      <g>\n       <use style=\"stroke:#000000;stroke-width:0.6;\" x=\"45.478125\" xlink:href=\"#ma315e9db08\" y=\"72.473393\"/>\n      </g>\n     </g>\n    </g>\n    <g id=\"ytick_10\">\n     <g id=\"line2d_23\">\n      <g>\n       <use style=\"stroke:#000000;stroke-width:0.6;\" x=\"45.478125\" xlink:href=\"#ma315e9db08\" y=\"41.396277\"/>\n      </g>\n     </g>\n    </g>\n    <g id=\"ytick_11\">\n     <g id=\"line2d_24\">\n      <g>\n       <use style=\"stroke:#000000;stroke-width:0.6;\" x=\"45.478125\" xlink:href=\"#ma315e9db08\" y=\"25.615984\"/>\n      </g>\n     </g>\n    </g>\n    <g id=\"ytick_12\">\n     <g id=\"line2d_25\">\n      <g>\n       <use style=\"stroke:#000000;stroke-width:0.6;\" x=\"45.478125\" xlink:href=\"#ma315e9db08\" y=\"14.419687\"/>\n      </g>\n     </g>\n    </g>\n    <g id=\"text_9\">\n     <!-- rmse -->\n     <defs>\n      <path d=\"M 41.109375 46.296875 \nQ 39.59375 47.171875 37.8125 47.578125 \nQ 36.03125 48 33.890625 48 \nQ 26.265625 48 22.1875 43.046875 \nQ 18.109375 38.09375 18.109375 28.8125 \nL 18.109375 0 \nL 9.078125 0 \nL 9.078125 54.6875 \nL 18.109375 54.6875 \nL 18.109375 46.1875 \nQ 20.953125 51.171875 25.484375 53.578125 \nQ 30.03125 56 36.53125 56 \nQ 37.453125 56 38.578125 55.875 \nQ 39.703125 55.765625 41.0625 55.515625 \nz\n\" id=\"DejaVuSans-114\"/>\n      <path d=\"M 52 44.1875 \nQ 55.375 50.25 60.0625 53.125 \nQ 64.75 56 71.09375 56 \nQ 79.640625 56 84.28125 50.015625 \nQ 88.921875 44.046875 88.921875 33.015625 \nL 88.921875 0 \nL 79.890625 0 \nL 79.890625 32.71875 \nQ 79.890625 40.578125 77.09375 44.375 \nQ 74.3125 48.1875 68.609375 48.1875 \nQ 61.625 48.1875 57.5625 43.546875 \nQ 53.515625 38.921875 53.515625 30.90625 \nL 53.515625 0 \nL 44.484375 0 \nL 44.484375 32.71875 \nQ 44.484375 40.625 41.703125 44.40625 \nQ 38.921875 48.1875 33.109375 48.1875 \nQ 26.21875 48.1875 22.15625 43.53125 \nQ 18.109375 38.875 18.109375 30.90625 \nL 18.109375 0 \nL 9.078125 0 \nL 9.078125 54.6875 \nL 18.109375 54.6875 \nL 18.109375 46.1875 \nQ 21.1875 51.21875 25.484375 53.609375 \nQ 29.78125 56 35.6875 56 \nQ 41.65625 56 45.828125 52.96875 \nQ 50 49.953125 52 44.1875 \nz\n\" id=\"DejaVuSans-109\"/>\n      <path d=\"M 44.28125 53.078125 \nL 44.28125 44.578125 \nQ 40.484375 46.53125 36.375 47.5 \nQ 32.28125 48.484375 27.875 48.484375 \nQ 21.1875 48.484375 17.84375 46.4375 \nQ 14.5 44.390625 14.5 40.28125 \nQ 14.5 37.15625 16.890625 35.375 \nQ 19.28125 33.59375 26.515625 31.984375 \nL 29.59375 31.296875 \nQ 39.15625 29.25 43.1875 25.515625 \nQ 47.21875 21.78125 47.21875 15.09375 \nQ 47.21875 7.46875 41.1875 3.015625 \nQ 35.15625 -1.421875 24.609375 -1.421875 \nQ 20.21875 -1.421875 15.453125 -0.5625 \nQ 10.6875 0.296875 5.421875 2 \nL 5.421875 11.28125 \nQ 10.40625 8.6875 15.234375 7.390625 \nQ 20.0625 6.109375 24.8125 6.109375 \nQ 31.15625 6.109375 34.5625 8.28125 \nQ 37.984375 10.453125 37.984375 14.40625 \nQ 37.984375 18.0625 35.515625 20.015625 \nQ 33.0625 21.96875 24.703125 23.78125 \nL 21.578125 24.515625 \nQ 13.234375 26.265625 9.515625 29.90625 \nQ 5.8125 33.546875 5.8125 39.890625 \nQ 5.8125 47.609375 11.28125 51.796875 \nQ 16.75 56 26.8125 56 \nQ 31.78125 56 36.171875 55.265625 \nQ 40.578125 54.546875 44.28125 53.078125 \nz\n\" id=\"DejaVuSans-115\"/>\n     </defs>\n     <g transform=\"translate(14.798437 91.25625)rotate(-90)scale(0.1 -0.1)\">\n      <use xlink:href=\"#DejaVuSans-114\"/>\n      <use x=\"41.097656\" xlink:href=\"#DejaVuSans-109\"/>\n      <use x=\"138.509766\" xlink:href=\"#DejaVuSans-115\"/>\n      <use x=\"190.609375\" xlink:href=\"#DejaVuSans-101\"/>\n     </g>\n    </g>\n   </g>\n   <g id=\"line2d_26\">\n    <path clip-path=\"url(#pc61cec90ce)\" d=\"M 54.355398 17.054915 \nL 56.148786 24.855977 \nL 57.942175 30.253676 \nL 59.735563 34.575335 \nL 61.528951 38.263625 \nL 63.32234 41.544844 \nL 65.115728 44.534661 \nL 66.909117 47.291829 \nL 68.702505 49.888489 \nL 70.495894 52.337595 \nL 72.289282 54.680601 \nL 74.08267 56.92713 \nL 75.876059 59.083107 \nL 77.669447 61.201162 \nL 79.462836 63.238551 \nL 81.256224 65.223439 \nL 83.049613 67.16474 \nL 84.843001 69.077602 \nL 86.636389 70.959161 \nL 88.429778 72.795683 \nL 90.223166 74.609486 \nL 92.016555 76.390708 \nL 93.809943 78.163961 \nL 95.603332 79.910488 \nL 97.39672 81.647617 \nL 99.190108 83.349969 \nL 100.983497 85.048063 \nL 102.776885 86.721374 \nL 104.570274 88.38846 \nL 106.363662 90.02366 \nL 108.157051 91.655474 \nL 109.950439 93.271873 \nL 111.743827 94.875461 \nL 113.537216 96.46722 \nL 115.330604 98.04262 \nL 117.123993 99.596003 \nL 118.917381 101.134438 \nL 120.71077 102.670669 \nL 122.504158 104.183819 \nL 124.297546 105.658026 \nL 126.090935 107.111505 \nL 127.884323 108.562129 \nL 129.677712 109.974326 \nL 131.4711 111.365466 \nL 133.264489 112.755387 \nL 135.057877 114.077781 \nL 136.851265 115.37215 \nL 138.644654 116.643214 \nL 140.438042 117.890356 \nL 142.231431 119.113245 \nL 144.024819 120.270941 \nL 145.818208 121.386802 \nL 147.611596 122.472512 \nL 149.404985 123.506302 \nL 151.198373 124.527025 \nL 152.991761 125.469315 \nL 154.78515 126.383744 \nL 156.578538 127.249317 \nL 158.371927 128.069238 \nL 160.165315 128.830654 \nL 161.958704 129.554685 \nL 163.752092 130.242881 \nL 165.54548 130.89067 \nL 167.338869 131.481343 \nL 169.132257 132.034463 \nL 170.925646 132.553225 \nL 172.719034 133.037511 \nL 174.512423 133.464863 \nL 176.305811 133.873829 \nL 178.099199 134.237835 \nL 179.892588 134.573443 \nL 181.685976 134.878264 \nL 183.479365 135.161781 \nL 185.272753 135.417879 \nL 187.066142 135.641397 \nL 188.85953 135.853051 \nL 190.652918 136.032288 \nL 192.446307 136.206375 \nL 194.239695 136.357371 \nL 196.033084 136.480551 \nL 197.826472 136.600182 \nL 199.619861 136.705232 \nL 201.413249 136.799102 \nL 203.206637 136.883509 \nL 205.000026 136.947886 \nL 206.793414 137.016982 \nL 208.586803 137.067732 \nL 210.380191 137.111448 \nL 212.17358 137.150093 \nL 213.966968 137.184807 \nL 215.760356 137.226083 \nL 217.553745 137.249379 \nL 219.347133 137.260065 \nL 221.140522 137.293157 \nL 222.93391 137.28765 \nL 224.727299 137.312684 \nL 226.520687 137.331161 \nL 228.314075 137.348588 \nL 230.107464 137.346332 \nL 231.900852 137.378548 \n\" style=\"fill:none;stroke:#1f77b4;stroke-linecap:square;stroke-width:1.5;\"/>\n   </g>\n   <g id=\"line2d_27\">\n    <path clip-path=\"url(#pc61cec90ce)\" d=\"M 54.355398 16.877273 \nL 56.148786 24.655346 \nL 57.942175 30.033038 \nL 59.735563 34.337197 \nL 61.528951 38.008916 \nL 63.32234 41.269251 \nL 65.115728 44.244664 \nL 66.909117 46.986434 \nL 68.702505 49.564315 \nL 70.495894 52.000208 \nL 72.289282 54.32968 \nL 74.08267 56.560614 \nL 75.876059 58.705049 \nL 77.669447 60.807747 \nL 79.462836 62.830292 \nL 81.256224 64.804716 \nL 83.049613 66.732238 \nL 84.843001 68.632379 \nL 86.636389 70.501323 \nL 88.429778 72.32619 \nL 90.223166 74.128675 \nL 92.016555 75.899239 \nL 93.809943 77.664002 \nL 95.603332 79.400347 \nL 97.39672 81.129916 \nL 99.190108 82.825342 \nL 100.983497 84.517177 \nL 102.776885 86.185577 \nL 104.570274 87.850963 \nL 106.363662 89.487828 \nL 108.157051 91.117643 \nL 109.950439 92.738217 \nL 111.743827 94.346058 \nL 113.537216 95.944568 \nL 115.330604 97.532082 \nL 117.123993 99.09642 \nL 118.917381 100.652808 \nL 120.71077 102.208659 \nL 122.504158 103.74651 \nL 124.297546 105.249592 \nL 126.090935 106.736198 \nL 127.884323 108.223878 \nL 129.677712 109.67732 \nL 131.4711 111.114373 \nL 133.264489 112.557541 \nL 135.057877 113.937973 \nL 136.851265 115.297695 \nL 138.644654 116.639338 \nL 140.438042 117.959543 \nL 142.231431 119.264147 \nL 144.024819 120.509511 \nL 145.818208 121.714917 \nL 147.611596 122.894419 \nL 149.404985 124.034533 \nL 151.198373 125.162585 \nL 152.991761 126.214947 \nL 154.78515 127.239769 \nL 156.578538 128.219947 \nL 158.371927 129.161169 \nL 160.165315 130.041678 \nL 161.958704 130.883351 \nL 163.752092 131.690428 \nL 165.54548 132.454588 \nL 167.338869 133.164195 \nL 169.132257 133.822166 \nL 170.925646 134.452679 \nL 172.719034 135.044564 \nL 174.512423 135.571347 \nL 176.305811 136.081075 \nL 178.099199 136.531518 \nL 179.892588 136.951085 \nL 181.685976 137.334009 \nL 183.479365 137.698264 \nL 185.272753 138.022652 \nL 187.066142 138.306613 \nL 188.85953 138.587557 \nL 190.652918 138.809471 \nL 192.446307 139.04323 \nL 194.239695 139.231616 \nL 196.033084 139.393415 \nL 197.826472 139.546287 \nL 199.619861 139.6845 \nL 201.413249 139.798878 \nL 203.206637 139.904601 \nL 205.000026 139.986674 \nL 206.793414 140.067314 \nL 208.586803 140.135887 \nL 210.380191 140.189633 \nL 212.17358 140.239101 \nL 213.966968 140.276541 \nL 215.760356 140.323118 \nL 217.553745 140.35008 \nL 219.347133 140.357534 \nL 221.140522 140.385756 \nL 222.93391 140.38 \nL 224.727299 140.395497 \nL 226.520687 140.407316 \nL 228.314075 140.416117 \nL 230.107464 140.404569 \nL 231.900852 140.422727 \n\" style=\"fill:none;stroke:#ff7f0e;stroke-linecap:square;stroke-width:1.5;\"/>\n   </g>\n   <g id=\"patch_3\">\n    <path d=\"M 45.478125 146.6 \nL 45.478125 10.7 \n\" style=\"fill:none;stroke:#000000;stroke-linecap:square;stroke-linejoin:miter;stroke-width:0.8;\"/>\n   </g>\n   <g id=\"patch_4\">\n    <path d=\"M 240.778125 146.6 \nL 240.778125 10.7 \n\" style=\"fill:none;stroke:#000000;stroke-linecap:square;stroke-linejoin:miter;stroke-width:0.8;\"/>\n   </g>\n   <g id=\"patch_5\">\n    <path d=\"M 45.478125 146.6 \nL 240.778125 146.6 \n\" style=\"fill:none;stroke:#000000;stroke-linecap:square;stroke-linejoin:miter;stroke-width:0.8;\"/>\n   </g>\n   <g id=\"patch_6\">\n    <path d=\"M 45.478125 10.7 \nL 240.778125 10.7 \n\" style=\"fill:none;stroke:#000000;stroke-linecap:square;stroke-linejoin:miter;stroke-width:0.8;\"/>\n   </g>\n   <g id=\"legend_1\">\n    <g id=\"patch_7\">\n     <path d=\"M 177.826562 48.05625 \nL 233.778125 48.05625 \nQ 235.778125 48.05625 235.778125 46.05625 \nL 235.778125 17.7 \nQ 235.778125 15.7 233.778125 15.7 \nL 177.826562 15.7 \nQ 175.826562 15.7 175.826562 17.7 \nL 175.826562 46.05625 \nQ 175.826562 48.05625 177.826562 48.05625 \nz\n\" style=\"fill:#ffffff;opacity:0.8;stroke:#cccccc;stroke-linejoin:miter;\"/>\n    </g>\n    <g id=\"line2d_28\">\n     <path d=\"M 179.826562 23.798437 \nL 199.826562 23.798437 \n\" style=\"fill:none;stroke:#1f77b4;stroke-linecap:square;stroke-width:1.5;\"/>\n    </g>\n    <g id=\"line2d_29\"/>\n    <g id=\"text_10\">\n     <!-- train -->\n     <defs>\n      <path d=\"M 18.3125 70.21875 \nL 18.3125 54.6875 \nL 36.8125 54.6875 \nL 36.8125 47.703125 \nL 18.3125 47.703125 \nL 18.3125 18.015625 \nQ 18.3125 11.328125 20.140625 9.421875 \nQ 21.96875 7.515625 27.59375 7.515625 \nL 36.8125 7.515625 \nL 36.8125 0 \nL 27.59375 0 \nQ 17.1875 0 13.234375 3.875 \nQ 9.28125 7.765625 9.28125 18.015625 \nL 9.28125 47.703125 \nL 2.6875 47.703125 \nL 2.6875 54.6875 \nL 9.28125 54.6875 \nL 9.28125 70.21875 \nz\n\" id=\"DejaVuSans-116\"/>\n      <path d=\"M 34.28125 27.484375 \nQ 23.390625 27.484375 19.1875 25 \nQ 14.984375 22.515625 14.984375 16.5 \nQ 14.984375 11.71875 18.140625 8.90625 \nQ 21.296875 6.109375 26.703125 6.109375 \nQ 34.1875 6.109375 38.703125 11.40625 \nQ 43.21875 16.703125 43.21875 25.484375 \nL 43.21875 27.484375 \nz\nM 52.203125 31.203125 \nL 52.203125 0 \nL 43.21875 0 \nL 43.21875 8.296875 \nQ 40.140625 3.328125 35.546875 0.953125 \nQ 30.953125 -1.421875 24.3125 -1.421875 \nQ 15.921875 -1.421875 10.953125 3.296875 \nQ 6 8.015625 6 15.921875 \nQ 6 25.140625 12.171875 29.828125 \nQ 18.359375 34.515625 30.609375 34.515625 \nL 43.21875 34.515625 \nL 43.21875 35.40625 \nQ 43.21875 41.609375 39.140625 45 \nQ 35.0625 48.390625 27.6875 48.390625 \nQ 23 48.390625 18.546875 47.265625 \nQ 14.109375 46.140625 10.015625 43.890625 \nL 10.015625 52.203125 \nQ 14.9375 54.109375 19.578125 55.046875 \nQ 24.21875 56 28.609375 56 \nQ 40.484375 56 46.34375 49.84375 \nQ 52.203125 43.703125 52.203125 31.203125 \nz\n\" id=\"DejaVuSans-97\"/>\n      <path d=\"M 9.421875 54.6875 \nL 18.40625 54.6875 \nL 18.40625 0 \nL 9.421875 0 \nz\nM 9.421875 75.984375 \nL 18.40625 75.984375 \nL 18.40625 64.59375 \nL 9.421875 64.59375 \nz\n\" id=\"DejaVuSans-105\"/>\n      <path d=\"M 54.890625 33.015625 \nL 54.890625 0 \nL 45.90625 0 \nL 45.90625 32.71875 \nQ 45.90625 40.484375 42.875 44.328125 \nQ 39.84375 48.1875 33.796875 48.1875 \nQ 26.515625 48.1875 22.3125 43.546875 \nQ 18.109375 38.921875 18.109375 30.90625 \nL 18.109375 0 \nL 9.078125 0 \nL 9.078125 54.6875 \nL 18.109375 54.6875 \nL 18.109375 46.1875 \nQ 21.34375 51.125 25.703125 53.5625 \nQ 30.078125 56 35.796875 56 \nQ 45.21875 56 50.046875 50.171875 \nQ 54.890625 44.34375 54.890625 33.015625 \nz\n\" id=\"DejaVuSans-110\"/>\n     </defs>\n     <g transform=\"translate(207.826562 27.298437)scale(0.1 -0.1)\">\n      <use xlink:href=\"#DejaVuSans-116\"/>\n      <use x=\"39.208984\" xlink:href=\"#DejaVuSans-114\"/>\n      <use x=\"80.322266\" xlink:href=\"#DejaVuSans-97\"/>\n      <use x=\"141.601562\" xlink:href=\"#DejaVuSans-105\"/>\n      <use x=\"169.384766\" xlink:href=\"#DejaVuSans-110\"/>\n     </g>\n    </g>\n    <g id=\"line2d_30\">\n     <path d=\"M 179.826562 38.476562 \nL 199.826562 38.476562 \n\" style=\"fill:none;stroke:#ff7f0e;stroke-linecap:square;stroke-width:1.5;\"/>\n    </g>\n    <g id=\"line2d_31\"/>\n    <g id=\"text_11\">\n     <!-- valid -->\n     <defs>\n      <path d=\"M 2.984375 54.6875 \nL 12.5 54.6875 \nL 29.59375 8.796875 \nL 46.6875 54.6875 \nL 56.203125 54.6875 \nL 35.6875 0 \nL 23.484375 0 \nz\n\" id=\"DejaVuSans-118\"/>\n      <path d=\"M 9.421875 75.984375 \nL 18.40625 75.984375 \nL 18.40625 0 \nL 9.421875 0 \nz\n\" id=\"DejaVuSans-108\"/>\n      <path d=\"M 45.40625 46.390625 \nL 45.40625 75.984375 \nL 54.390625 75.984375 \nL 54.390625 0 \nL 45.40625 0 \nL 45.40625 8.203125 \nQ 42.578125 3.328125 38.25 0.953125 \nQ 33.9375 -1.421875 27.875 -1.421875 \nQ 17.96875 -1.421875 11.734375 6.484375 \nQ 5.515625 14.40625 5.515625 27.296875 \nQ 5.515625 40.1875 11.734375 48.09375 \nQ 17.96875 56 27.875 56 \nQ 33.9375 56 38.25 53.625 \nQ 42.578125 51.265625 45.40625 46.390625 \nz\nM 14.796875 27.296875 \nQ 14.796875 17.390625 18.875 11.75 \nQ 22.953125 6.109375 30.078125 6.109375 \nQ 37.203125 6.109375 41.296875 11.75 \nQ 45.40625 17.390625 45.40625 27.296875 \nQ 45.40625 37.203125 41.296875 42.84375 \nQ 37.203125 48.484375 30.078125 48.484375 \nQ 22.953125 48.484375 18.875 42.84375 \nQ 14.796875 37.203125 14.796875 27.296875 \nz\n\" id=\"DejaVuSans-100\"/>\n     </defs>\n     <g transform=\"translate(207.826562 41.976562)scale(0.1 -0.1)\">\n      <use xlink:href=\"#DejaVuSans-118\"/>\n      <use x=\"59.179688\" xlink:href=\"#DejaVuSans-97\"/>\n      <use x=\"120.458984\" xlink:href=\"#DejaVuSans-108\"/>\n      <use x=\"148.242188\" xlink:href=\"#DejaVuSans-105\"/>\n      <use x=\"176.025391\" xlink:href=\"#DejaVuSans-100\"/>\n     </g>\n    </g>\n   </g>\n  </g>\n </g>\n <defs>\n  <clipPath id=\"pc61cec90ce\">\n   <rect height=\"135.9\" width=\"195.3\" x=\"45.478125\" y=\"10.7\"/>\n  </clipPath>\n </defs>\n</svg>\n"
          },
          "metadata": {
            "tags": []
          }
        }
      ]
    },
    {
      "cell_type": "markdown",
      "metadata": {
        "id": "n_ifSvDBX7uw",
        "colab_type": "text"
      },
      "source": [
        "##  Predict and Submit"
      ]
    },
    {
      "cell_type": "code",
      "metadata": {
        "ExecuteTime": {
          "end_time": "2019-02-14T19:15:47.301946Z",
          "start_time": "2019-02-14T19:15:42.975Z"
        },
        "attributes": {
          "classes": [],
          "id": "",
          "n": "18"
        },
        "id": "kU89oHmqX7uw",
        "colab_type": "code",
        "colab": {}
      },
      "source": [
        "def train_and_pred(train_features, test_feature, train_labels, test_data,\n",
        "                   num_epochs, lr, weight_decay, batch_size):\n",
        "    net = get_net()\n",
        "    train_ls, _ = train(net, train_features, train_labels, None, None,\n",
        "                        num_epochs, lr, weight_decay, batch_size)\n",
        "    d2l.plot(range(1, num_epochs+1), train_ls, xlabel='epoch', ylabel='rmse',\n",
        "            yscale='log')\n",
        "    print('train rmse %f' % train_ls[-1])\n",
        "    # Apply the network to the test set\n",
        "    preds = net(test_features).asnumpy()\n",
        "    # Reformat it for export to Kaggle\n",
        "    test_data['SalePrice'] = pd.Series(preds.reshape(1, -1)[0])\n",
        "    submission = pd.concat([test_data['Id'], test_data['SalePrice']], axis=1)\n",
        "    submission.to_csv('submission.csv', index=False)\n"
      ],
      "execution_count": 0,
      "outputs": []
    },
    {
      "cell_type": "code",
      "metadata": {
        "id": "m8Wr0Gu-jYGf",
        "colab_type": "code",
        "colab": {
          "base_uri": "https://localhost:8080/",
          "height": 285
        },
        "outputId": "2c61e064-6479-4677-be73-475430537f8f"
      },
      "source": [
        "train_and_pred(train_features, test_features, train_labels, test_data,\n",
        "               num_epochs, lr, weight_decay, batch_size)"
      ],
      "execution_count": 90,
      "outputs": [
        {
          "output_type": "stream",
          "text": [
            "train rmse 0.162697\n"
          ],
          "name": "stdout"
        },
        {
          "output_type": "display_data",
          "data": {
            "text/plain": [
              "<Figure size 252x180 with 1 Axes>"
            ],
            "image/svg+xml": "<?xml version=\"1.0\" encoding=\"utf-8\" standalone=\"no\"?>\n<!DOCTYPE svg PUBLIC \"-//W3C//DTD SVG 1.1//EN\"\n  \"http://www.w3.org/Graphics/SVG/1.1/DTD/svg11.dtd\">\n<!-- Created with matplotlib (https://matplotlib.org/) -->\n<svg height=\"184.15625pt\" version=\"1.1\" viewBox=\"0 0 251.478125 184.15625\" width=\"251.478125pt\" xmlns=\"http://www.w3.org/2000/svg\" xmlns:xlink=\"http://www.w3.org/1999/xlink\">\n <defs>\n  <style type=\"text/css\">\n*{stroke-linecap:butt;stroke-linejoin:round;}\n  </style>\n </defs>\n <g id=\"figure_1\">\n  <g id=\"patch_1\">\n   <path d=\"M 0 184.15625 \nL 251.478125 184.15625 \nL 251.478125 -0 \nL 0 -0 \nz\n\" style=\"fill:none;\"/>\n  </g>\n  <g id=\"axes_1\">\n   <g id=\"patch_2\">\n    <path d=\"M 45.478125 146.6 \nL 240.778125 146.6 \nL 240.778125 10.7 \nL 45.478125 10.7 \nz\n\" style=\"fill:#ffffff;\"/>\n   </g>\n   <g id=\"matplotlib.axis_1\">\n    <g id=\"xtick_1\">\n     <g id=\"line2d_1\">\n      <path clip-path=\"url(#p7379c3ee87)\" d=\"M 52.562009 146.6 \nL 52.562009 10.7 \n\" style=\"fill:none;stroke:#b0b0b0;stroke-linecap:square;stroke-width:0.8;\"/>\n     </g>\n     <g id=\"line2d_2\">\n      <defs>\n       <path d=\"M 0 0 \nL 0 3.5 \n\" id=\"m2f96ca4083\" style=\"stroke:#000000;stroke-width:0.8;\"/>\n      </defs>\n      <g>\n       <use style=\"stroke:#000000;stroke-width:0.8;\" x=\"52.562009\" xlink:href=\"#m2f96ca4083\" y=\"146.6\"/>\n      </g>\n     </g>\n     <g id=\"text_1\">\n      <!-- 0 -->\n      <defs>\n       <path d=\"M 31.78125 66.40625 \nQ 24.171875 66.40625 20.328125 58.90625 \nQ 16.5 51.421875 16.5 36.375 \nQ 16.5 21.390625 20.328125 13.890625 \nQ 24.171875 6.390625 31.78125 6.390625 \nQ 39.453125 6.390625 43.28125 13.890625 \nQ 47.125 21.390625 47.125 36.375 \nQ 47.125 51.421875 43.28125 58.90625 \nQ 39.453125 66.40625 31.78125 66.40625 \nz\nM 31.78125 74.21875 \nQ 44.046875 74.21875 50.515625 64.515625 \nQ 56.984375 54.828125 56.984375 36.375 \nQ 56.984375 17.96875 50.515625 8.265625 \nQ 44.046875 -1.421875 31.78125 -1.421875 \nQ 19.53125 -1.421875 13.0625 8.265625 \nQ 6.59375 17.96875 6.59375 36.375 \nQ 6.59375 54.828125 13.0625 64.515625 \nQ 19.53125 74.21875 31.78125 74.21875 \nz\n\" id=\"DejaVuSans-48\"/>\n      </defs>\n      <g transform=\"translate(49.380759 161.198437)scale(0.1 -0.1)\">\n       <use xlink:href=\"#DejaVuSans-48\"/>\n      </g>\n     </g>\n    </g>\n    <g id=\"xtick_2\">\n     <g id=\"line2d_3\">\n      <path clip-path=\"url(#p7379c3ee87)\" d=\"M 88.429778 146.6 \nL 88.429778 10.7 \n\" style=\"fill:none;stroke:#b0b0b0;stroke-linecap:square;stroke-width:0.8;\"/>\n     </g>\n     <g id=\"line2d_4\">\n      <g>\n       <use style=\"stroke:#000000;stroke-width:0.8;\" x=\"88.429778\" xlink:href=\"#m2f96ca4083\" y=\"146.6\"/>\n      </g>\n     </g>\n     <g id=\"text_2\">\n      <!-- 20 -->\n      <defs>\n       <path d=\"M 19.1875 8.296875 \nL 53.609375 8.296875 \nL 53.609375 0 \nL 7.328125 0 \nL 7.328125 8.296875 \nQ 12.9375 14.109375 22.625 23.890625 \nQ 32.328125 33.6875 34.8125 36.53125 \nQ 39.546875 41.84375 41.421875 45.53125 \nQ 43.3125 49.21875 43.3125 52.78125 \nQ 43.3125 58.59375 39.234375 62.25 \nQ 35.15625 65.921875 28.609375 65.921875 \nQ 23.96875 65.921875 18.8125 64.3125 \nQ 13.671875 62.703125 7.8125 59.421875 \nL 7.8125 69.390625 \nQ 13.765625 71.78125 18.9375 73 \nQ 24.125 74.21875 28.421875 74.21875 \nQ 39.75 74.21875 46.484375 68.546875 \nQ 53.21875 62.890625 53.21875 53.421875 \nQ 53.21875 48.921875 51.53125 44.890625 \nQ 49.859375 40.875 45.40625 35.40625 \nQ 44.1875 33.984375 37.640625 27.21875 \nQ 31.109375 20.453125 19.1875 8.296875 \nz\n\" id=\"DejaVuSans-50\"/>\n      </defs>\n      <g transform=\"translate(82.067278 161.198437)scale(0.1 -0.1)\">\n       <use xlink:href=\"#DejaVuSans-50\"/>\n       <use x=\"63.623047\" xlink:href=\"#DejaVuSans-48\"/>\n      </g>\n     </g>\n    </g>\n    <g id=\"xtick_3\">\n     <g id=\"line2d_5\">\n      <path clip-path=\"url(#p7379c3ee87)\" d=\"M 124.297546 146.6 \nL 124.297546 10.7 \n\" style=\"fill:none;stroke:#b0b0b0;stroke-linecap:square;stroke-width:0.8;\"/>\n     </g>\n     <g id=\"line2d_6\">\n      <g>\n       <use style=\"stroke:#000000;stroke-width:0.8;\" x=\"124.297546\" xlink:href=\"#m2f96ca4083\" y=\"146.6\"/>\n      </g>\n     </g>\n     <g id=\"text_3\">\n      <!-- 40 -->\n      <defs>\n       <path d=\"M 37.796875 64.3125 \nL 12.890625 25.390625 \nL 37.796875 25.390625 \nz\nM 35.203125 72.90625 \nL 47.609375 72.90625 \nL 47.609375 25.390625 \nL 58.015625 25.390625 \nL 58.015625 17.1875 \nL 47.609375 17.1875 \nL 47.609375 0 \nL 37.796875 0 \nL 37.796875 17.1875 \nL 4.890625 17.1875 \nL 4.890625 26.703125 \nz\n\" id=\"DejaVuSans-52\"/>\n      </defs>\n      <g transform=\"translate(117.935046 161.198437)scale(0.1 -0.1)\">\n       <use xlink:href=\"#DejaVuSans-52\"/>\n       <use x=\"63.623047\" xlink:href=\"#DejaVuSans-48\"/>\n      </g>\n     </g>\n    </g>\n    <g id=\"xtick_4\">\n     <g id=\"line2d_7\">\n      <path clip-path=\"url(#p7379c3ee87)\" d=\"M 160.165315 146.6 \nL 160.165315 10.7 \n\" style=\"fill:none;stroke:#b0b0b0;stroke-linecap:square;stroke-width:0.8;\"/>\n     </g>\n     <g id=\"line2d_8\">\n      <g>\n       <use style=\"stroke:#000000;stroke-width:0.8;\" x=\"160.165315\" xlink:href=\"#m2f96ca4083\" y=\"146.6\"/>\n      </g>\n     </g>\n     <g id=\"text_4\">\n      <!-- 60 -->\n      <defs>\n       <path d=\"M 33.015625 40.375 \nQ 26.375 40.375 22.484375 35.828125 \nQ 18.609375 31.296875 18.609375 23.390625 \nQ 18.609375 15.53125 22.484375 10.953125 \nQ 26.375 6.390625 33.015625 6.390625 \nQ 39.65625 6.390625 43.53125 10.953125 \nQ 47.40625 15.53125 47.40625 23.390625 \nQ 47.40625 31.296875 43.53125 35.828125 \nQ 39.65625 40.375 33.015625 40.375 \nz\nM 52.59375 71.296875 \nL 52.59375 62.3125 \nQ 48.875 64.0625 45.09375 64.984375 \nQ 41.3125 65.921875 37.59375 65.921875 \nQ 27.828125 65.921875 22.671875 59.328125 \nQ 17.53125 52.734375 16.796875 39.40625 \nQ 19.671875 43.65625 24.015625 45.921875 \nQ 28.375 48.1875 33.59375 48.1875 \nQ 44.578125 48.1875 50.953125 41.515625 \nQ 57.328125 34.859375 57.328125 23.390625 \nQ 57.328125 12.15625 50.6875 5.359375 \nQ 44.046875 -1.421875 33.015625 -1.421875 \nQ 20.359375 -1.421875 13.671875 8.265625 \nQ 6.984375 17.96875 6.984375 36.375 \nQ 6.984375 53.65625 15.1875 63.9375 \nQ 23.390625 74.21875 37.203125 74.21875 \nQ 40.921875 74.21875 44.703125 73.484375 \nQ 48.484375 72.75 52.59375 71.296875 \nz\n\" id=\"DejaVuSans-54\"/>\n      </defs>\n      <g transform=\"translate(153.802815 161.198437)scale(0.1 -0.1)\">\n       <use xlink:href=\"#DejaVuSans-54\"/>\n       <use x=\"63.623047\" xlink:href=\"#DejaVuSans-48\"/>\n      </g>\n     </g>\n    </g>\n    <g id=\"xtick_5\">\n     <g id=\"line2d_9\">\n      <path clip-path=\"url(#p7379c3ee87)\" d=\"M 196.033084 146.6 \nL 196.033084 10.7 \n\" style=\"fill:none;stroke:#b0b0b0;stroke-linecap:square;stroke-width:0.8;\"/>\n     </g>\n     <g id=\"line2d_10\">\n      <g>\n       <use style=\"stroke:#000000;stroke-width:0.8;\" x=\"196.033084\" xlink:href=\"#m2f96ca4083\" y=\"146.6\"/>\n      </g>\n     </g>\n     <g id=\"text_5\">\n      <!-- 80 -->\n      <defs>\n       <path d=\"M 31.78125 34.625 \nQ 24.75 34.625 20.71875 30.859375 \nQ 16.703125 27.09375 16.703125 20.515625 \nQ 16.703125 13.921875 20.71875 10.15625 \nQ 24.75 6.390625 31.78125 6.390625 \nQ 38.8125 6.390625 42.859375 10.171875 \nQ 46.921875 13.96875 46.921875 20.515625 \nQ 46.921875 27.09375 42.890625 30.859375 \nQ 38.875 34.625 31.78125 34.625 \nz\nM 21.921875 38.8125 \nQ 15.578125 40.375 12.03125 44.71875 \nQ 8.5 49.078125 8.5 55.328125 \nQ 8.5 64.0625 14.71875 69.140625 \nQ 20.953125 74.21875 31.78125 74.21875 \nQ 42.671875 74.21875 48.875 69.140625 \nQ 55.078125 64.0625 55.078125 55.328125 \nQ 55.078125 49.078125 51.53125 44.71875 \nQ 48 40.375 41.703125 38.8125 \nQ 48.828125 37.15625 52.796875 32.3125 \nQ 56.78125 27.484375 56.78125 20.515625 \nQ 56.78125 9.90625 50.3125 4.234375 \nQ 43.84375 -1.421875 31.78125 -1.421875 \nQ 19.734375 -1.421875 13.25 4.234375 \nQ 6.78125 9.90625 6.78125 20.515625 \nQ 6.78125 27.484375 10.78125 32.3125 \nQ 14.796875 37.15625 21.921875 38.8125 \nz\nM 18.3125 54.390625 \nQ 18.3125 48.734375 21.84375 45.5625 \nQ 25.390625 42.390625 31.78125 42.390625 \nQ 38.140625 42.390625 41.71875 45.5625 \nQ 45.3125 48.734375 45.3125 54.390625 \nQ 45.3125 60.0625 41.71875 63.234375 \nQ 38.140625 66.40625 31.78125 66.40625 \nQ 25.390625 66.40625 21.84375 63.234375 \nQ 18.3125 60.0625 18.3125 54.390625 \nz\n\" id=\"DejaVuSans-56\"/>\n      </defs>\n      <g transform=\"translate(189.670584 161.198437)scale(0.1 -0.1)\">\n       <use xlink:href=\"#DejaVuSans-56\"/>\n       <use x=\"63.623047\" xlink:href=\"#DejaVuSans-48\"/>\n      </g>\n     </g>\n    </g>\n    <g id=\"xtick_6\">\n     <g id=\"line2d_11\">\n      <path clip-path=\"url(#p7379c3ee87)\" d=\"M 231.900852 146.6 \nL 231.900852 10.7 \n\" style=\"fill:none;stroke:#b0b0b0;stroke-linecap:square;stroke-width:0.8;\"/>\n     </g>\n     <g id=\"line2d_12\">\n      <g>\n       <use style=\"stroke:#000000;stroke-width:0.8;\" x=\"231.900852\" xlink:href=\"#m2f96ca4083\" y=\"146.6\"/>\n      </g>\n     </g>\n     <g id=\"text_6\">\n      <!-- 100 -->\n      <defs>\n       <path d=\"M 12.40625 8.296875 \nL 28.515625 8.296875 \nL 28.515625 63.921875 \nL 10.984375 60.40625 \nL 10.984375 69.390625 \nL 28.421875 72.90625 \nL 38.28125 72.90625 \nL 38.28125 8.296875 \nL 54.390625 8.296875 \nL 54.390625 0 \nL 12.40625 0 \nz\n\" id=\"DejaVuSans-49\"/>\n      </defs>\n      <g transform=\"translate(222.357102 161.198437)scale(0.1 -0.1)\">\n       <use xlink:href=\"#DejaVuSans-49\"/>\n       <use x=\"63.623047\" xlink:href=\"#DejaVuSans-48\"/>\n       <use x=\"127.246094\" xlink:href=\"#DejaVuSans-48\"/>\n      </g>\n     </g>\n    </g>\n    <g id=\"text_7\">\n     <!-- epoch -->\n     <defs>\n      <path d=\"M 56.203125 29.59375 \nL 56.203125 25.203125 \nL 14.890625 25.203125 \nQ 15.484375 15.921875 20.484375 11.0625 \nQ 25.484375 6.203125 34.421875 6.203125 \nQ 39.59375 6.203125 44.453125 7.46875 \nQ 49.3125 8.734375 54.109375 11.28125 \nL 54.109375 2.78125 \nQ 49.265625 0.734375 44.1875 -0.34375 \nQ 39.109375 -1.421875 33.890625 -1.421875 \nQ 20.796875 -1.421875 13.15625 6.1875 \nQ 5.515625 13.8125 5.515625 26.8125 \nQ 5.515625 40.234375 12.765625 48.109375 \nQ 20.015625 56 32.328125 56 \nQ 43.359375 56 49.78125 48.890625 \nQ 56.203125 41.796875 56.203125 29.59375 \nz\nM 47.21875 32.234375 \nQ 47.125 39.59375 43.09375 43.984375 \nQ 39.0625 48.390625 32.421875 48.390625 \nQ 24.90625 48.390625 20.390625 44.140625 \nQ 15.875 39.890625 15.1875 32.171875 \nz\n\" id=\"DejaVuSans-101\"/>\n      <path d=\"M 18.109375 8.203125 \nL 18.109375 -20.796875 \nL 9.078125 -20.796875 \nL 9.078125 54.6875 \nL 18.109375 54.6875 \nL 18.109375 46.390625 \nQ 20.953125 51.265625 25.265625 53.625 \nQ 29.59375 56 35.59375 56 \nQ 45.5625 56 51.78125 48.09375 \nQ 58.015625 40.1875 58.015625 27.296875 \nQ 58.015625 14.40625 51.78125 6.484375 \nQ 45.5625 -1.421875 35.59375 -1.421875 \nQ 29.59375 -1.421875 25.265625 0.953125 \nQ 20.953125 3.328125 18.109375 8.203125 \nz\nM 48.6875 27.296875 \nQ 48.6875 37.203125 44.609375 42.84375 \nQ 40.53125 48.484375 33.40625 48.484375 \nQ 26.265625 48.484375 22.1875 42.84375 \nQ 18.109375 37.203125 18.109375 27.296875 \nQ 18.109375 17.390625 22.1875 11.75 \nQ 26.265625 6.109375 33.40625 6.109375 \nQ 40.53125 6.109375 44.609375 11.75 \nQ 48.6875 17.390625 48.6875 27.296875 \nz\n\" id=\"DejaVuSans-112\"/>\n      <path d=\"M 30.609375 48.390625 \nQ 23.390625 48.390625 19.1875 42.75 \nQ 14.984375 37.109375 14.984375 27.296875 \nQ 14.984375 17.484375 19.15625 11.84375 \nQ 23.34375 6.203125 30.609375 6.203125 \nQ 37.796875 6.203125 41.984375 11.859375 \nQ 46.1875 17.53125 46.1875 27.296875 \nQ 46.1875 37.015625 41.984375 42.703125 \nQ 37.796875 48.390625 30.609375 48.390625 \nz\nM 30.609375 56 \nQ 42.328125 56 49.015625 48.375 \nQ 55.71875 40.765625 55.71875 27.296875 \nQ 55.71875 13.875 49.015625 6.21875 \nQ 42.328125 -1.421875 30.609375 -1.421875 \nQ 18.84375 -1.421875 12.171875 6.21875 \nQ 5.515625 13.875 5.515625 27.296875 \nQ 5.515625 40.765625 12.171875 48.375 \nQ 18.84375 56 30.609375 56 \nz\n\" id=\"DejaVuSans-111\"/>\n      <path d=\"M 48.78125 52.59375 \nL 48.78125 44.1875 \nQ 44.96875 46.296875 41.140625 47.34375 \nQ 37.3125 48.390625 33.40625 48.390625 \nQ 24.65625 48.390625 19.8125 42.84375 \nQ 14.984375 37.3125 14.984375 27.296875 \nQ 14.984375 17.28125 19.8125 11.734375 \nQ 24.65625 6.203125 33.40625 6.203125 \nQ 37.3125 6.203125 41.140625 7.25 \nQ 44.96875 8.296875 48.78125 10.40625 \nL 48.78125 2.09375 \nQ 45.015625 0.34375 40.984375 -0.53125 \nQ 36.96875 -1.421875 32.421875 -1.421875 \nQ 20.0625 -1.421875 12.78125 6.34375 \nQ 5.515625 14.109375 5.515625 27.296875 \nQ 5.515625 40.671875 12.859375 48.328125 \nQ 20.21875 56 33.015625 56 \nQ 37.15625 56 41.109375 55.140625 \nQ 45.0625 54.296875 48.78125 52.59375 \nz\n\" id=\"DejaVuSans-99\"/>\n      <path d=\"M 54.890625 33.015625 \nL 54.890625 0 \nL 45.90625 0 \nL 45.90625 32.71875 \nQ 45.90625 40.484375 42.875 44.328125 \nQ 39.84375 48.1875 33.796875 48.1875 \nQ 26.515625 48.1875 22.3125 43.546875 \nQ 18.109375 38.921875 18.109375 30.90625 \nL 18.109375 0 \nL 9.078125 0 \nL 9.078125 75.984375 \nL 18.109375 75.984375 \nL 18.109375 46.1875 \nQ 21.34375 51.125 25.703125 53.5625 \nQ 30.078125 56 35.796875 56 \nQ 45.21875 56 50.046875 50.171875 \nQ 54.890625 44.34375 54.890625 33.015625 \nz\n\" id=\"DejaVuSans-104\"/>\n     </defs>\n     <g transform=\"translate(127.9 174.876562)scale(0.1 -0.1)\">\n      <use xlink:href=\"#DejaVuSans-101\"/>\n      <use x=\"61.523438\" xlink:href=\"#DejaVuSans-112\"/>\n      <use x=\"125\" xlink:href=\"#DejaVuSans-111\"/>\n      <use x=\"186.181641\" xlink:href=\"#DejaVuSans-99\"/>\n      <use x=\"241.162109\" xlink:href=\"#DejaVuSans-104\"/>\n     </g>\n    </g>\n   </g>\n   <g id=\"matplotlib.axis_2\">\n    <g id=\"ytick_1\">\n     <g id=\"line2d_13\">\n      <path clip-path=\"url(#p7379c3ee87)\" d=\"M 45.478125 67.655135 \nL 240.778125 67.655135 \n\" style=\"fill:none;stroke:#b0b0b0;stroke-linecap:square;stroke-width:0.8;\"/>\n     </g>\n     <g id=\"line2d_14\">\n      <defs>\n       <path d=\"M 0 0 \nL -3.5 0 \n\" id=\"m9ac89931d9\" style=\"stroke:#000000;stroke-width:0.8;\"/>\n      </defs>\n      <g>\n       <use style=\"stroke:#000000;stroke-width:0.8;\" x=\"45.478125\" xlink:href=\"#m9ac89931d9\" y=\"67.655135\"/>\n      </g>\n     </g>\n     <g id=\"text_8\">\n      <!-- $\\mathdefault{10^{0}}$ -->\n      <g transform=\"translate(20.878125 71.454354)scale(0.1 -0.1)\">\n       <use transform=\"translate(0 0.765625)\" xlink:href=\"#DejaVuSans-49\"/>\n       <use transform=\"translate(63.623047 0.765625)\" xlink:href=\"#DejaVuSans-48\"/>\n       <use transform=\"translate(128.203125 39.046875)scale(0.7)\" xlink:href=\"#DejaVuSans-48\"/>\n      </g>\n     </g>\n    </g>\n    <g id=\"ytick_2\">\n     <g id=\"line2d_15\">\n      <defs>\n       <path d=\"M 0 0 \nL -2 0 \n\" id=\"m5eb7df73d5\" style=\"stroke:#000000;stroke-width:0.6;\"/>\n      </defs>\n      <g>\n       <use style=\"stroke:#000000;stroke-width:0.6;\" x=\"45.478125\" xlink:href=\"#m5eb7df73d5\" y=\"132.150507\"/>\n      </g>\n     </g>\n    </g>\n    <g id=\"ytick_3\">\n     <g id=\"line2d_16\">\n      <g>\n       <use style=\"stroke:#000000;stroke-width:0.6;\" x=\"45.478125\" xlink:href=\"#m5eb7df73d5\" y=\"115.902212\"/>\n      </g>\n     </g>\n    </g>\n    <g id=\"ytick_4\">\n     <g id=\"line2d_17\">\n      <g>\n       <use style=\"stroke:#000000;stroke-width:0.6;\" x=\"45.478125\" xlink:href=\"#m5eb7df73d5\" y=\"104.373862\"/>\n      </g>\n     </g>\n    </g>\n    <g id=\"ytick_5\">\n     <g id=\"line2d_18\">\n      <g>\n       <use style=\"stroke:#000000;stroke-width:0.6;\" x=\"45.478125\" xlink:href=\"#m5eb7df73d5\" y=\"95.43178\"/>\n      </g>\n     </g>\n    </g>\n    <g id=\"ytick_6\">\n     <g id=\"line2d_19\">\n      <g>\n       <use style=\"stroke:#000000;stroke-width:0.6;\" x=\"45.478125\" xlink:href=\"#m5eb7df73d5\" y=\"88.125567\"/>\n      </g>\n     </g>\n    </g>\n    <g id=\"ytick_7\">\n     <g id=\"line2d_20\">\n      <g>\n       <use style=\"stroke:#000000;stroke-width:0.6;\" x=\"45.478125\" xlink:href=\"#m5eb7df73d5\" y=\"81.948251\"/>\n      </g>\n     </g>\n    </g>\n    <g id=\"ytick_8\">\n     <g id=\"line2d_21\">\n      <g>\n       <use style=\"stroke:#000000;stroke-width:0.6;\" x=\"45.478125\" xlink:href=\"#m5eb7df73d5\" y=\"76.597217\"/>\n      </g>\n     </g>\n    </g>\n    <g id=\"ytick_9\">\n     <g id=\"line2d_22\">\n      <g>\n       <use style=\"stroke:#000000;stroke-width:0.6;\" x=\"45.478125\" xlink:href=\"#m5eb7df73d5\" y=\"71.877271\"/>\n      </g>\n     </g>\n    </g>\n    <g id=\"ytick_10\">\n     <g id=\"line2d_23\">\n      <g>\n       <use style=\"stroke:#000000;stroke-width:0.6;\" x=\"45.478125\" xlink:href=\"#m5eb7df73d5\" y=\"39.87849\"/>\n      </g>\n     </g>\n    </g>\n    <g id=\"ytick_11\">\n     <g id=\"line2d_24\">\n      <g>\n       <use style=\"stroke:#000000;stroke-width:0.6;\" x=\"45.478125\" xlink:href=\"#m5eb7df73d5\" y=\"23.630194\"/>\n      </g>\n     </g>\n    </g>\n    <g id=\"ytick_12\">\n     <g id=\"line2d_25\">\n      <g>\n       <use style=\"stroke:#000000;stroke-width:0.6;\" x=\"45.478125\" xlink:href=\"#m5eb7df73d5\" y=\"12.101845\"/>\n      </g>\n     </g>\n    </g>\n    <g id=\"text_9\">\n     <!-- rmse -->\n     <defs>\n      <path d=\"M 41.109375 46.296875 \nQ 39.59375 47.171875 37.8125 47.578125 \nQ 36.03125 48 33.890625 48 \nQ 26.265625 48 22.1875 43.046875 \nQ 18.109375 38.09375 18.109375 28.8125 \nL 18.109375 0 \nL 9.078125 0 \nL 9.078125 54.6875 \nL 18.109375 54.6875 \nL 18.109375 46.1875 \nQ 20.953125 51.171875 25.484375 53.578125 \nQ 30.03125 56 36.53125 56 \nQ 37.453125 56 38.578125 55.875 \nQ 39.703125 55.765625 41.0625 55.515625 \nz\n\" id=\"DejaVuSans-114\"/>\n      <path d=\"M 52 44.1875 \nQ 55.375 50.25 60.0625 53.125 \nQ 64.75 56 71.09375 56 \nQ 79.640625 56 84.28125 50.015625 \nQ 88.921875 44.046875 88.921875 33.015625 \nL 88.921875 0 \nL 79.890625 0 \nL 79.890625 32.71875 \nQ 79.890625 40.578125 77.09375 44.375 \nQ 74.3125 48.1875 68.609375 48.1875 \nQ 61.625 48.1875 57.5625 43.546875 \nQ 53.515625 38.921875 53.515625 30.90625 \nL 53.515625 0 \nL 44.484375 0 \nL 44.484375 32.71875 \nQ 44.484375 40.625 41.703125 44.40625 \nQ 38.921875 48.1875 33.109375 48.1875 \nQ 26.21875 48.1875 22.15625 43.53125 \nQ 18.109375 38.875 18.109375 30.90625 \nL 18.109375 0 \nL 9.078125 0 \nL 9.078125 54.6875 \nL 18.109375 54.6875 \nL 18.109375 46.1875 \nQ 21.1875 51.21875 25.484375 53.609375 \nQ 29.78125 56 35.6875 56 \nQ 41.65625 56 45.828125 52.96875 \nQ 50 49.953125 52 44.1875 \nz\n\" id=\"DejaVuSans-109\"/>\n      <path d=\"M 44.28125 53.078125 \nL 44.28125 44.578125 \nQ 40.484375 46.53125 36.375 47.5 \nQ 32.28125 48.484375 27.875 48.484375 \nQ 21.1875 48.484375 17.84375 46.4375 \nQ 14.5 44.390625 14.5 40.28125 \nQ 14.5 37.15625 16.890625 35.375 \nQ 19.28125 33.59375 26.515625 31.984375 \nL 29.59375 31.296875 \nQ 39.15625 29.25 43.1875 25.515625 \nQ 47.21875 21.78125 47.21875 15.09375 \nQ 47.21875 7.46875 41.1875 3.015625 \nQ 35.15625 -1.421875 24.609375 -1.421875 \nQ 20.21875 -1.421875 15.453125 -0.5625 \nQ 10.6875 0.296875 5.421875 2 \nL 5.421875 11.28125 \nQ 10.40625 8.6875 15.234375 7.390625 \nQ 20.0625 6.109375 24.8125 6.109375 \nQ 31.15625 6.109375 34.5625 8.28125 \nQ 37.984375 10.453125 37.984375 14.40625 \nQ 37.984375 18.0625 35.515625 20.015625 \nQ 33.0625 21.96875 24.703125 23.78125 \nL 21.578125 24.515625 \nQ 13.234375 26.265625 9.515625 29.90625 \nQ 5.8125 33.546875 5.8125 39.890625 \nQ 5.8125 47.609375 11.28125 51.796875 \nQ 16.75 56 26.8125 56 \nQ 31.78125 56 36.171875 55.265625 \nQ 40.578125 54.546875 44.28125 53.078125 \nz\n\" id=\"DejaVuSans-115\"/>\n     </defs>\n     <g transform=\"translate(14.798437 91.25625)rotate(-90)scale(0.1 -0.1)\">\n      <use xlink:href=\"#DejaVuSans-114\"/>\n      <use x=\"41.097656\" xlink:href=\"#DejaVuSans-109\"/>\n      <use x=\"138.509766\" xlink:href=\"#DejaVuSans-115\"/>\n      <use x=\"190.609375\" xlink:href=\"#DejaVuSans-101\"/>\n     </g>\n    </g>\n   </g>\n   <g id=\"line2d_26\">\n    <path clip-path=\"url(#p7379c3ee87)\" d=\"M 54.355398 16.877273 \nL 56.148786 25.467504 \nL 57.942175 31.466472 \nL 59.735563 36.283816 \nL 61.528951 40.43482 \nL 63.32234 44.137066 \nL 65.115728 47.514442 \nL 66.909117 50.666761 \nL 68.702505 53.629957 \nL 70.495894 56.449514 \nL 72.289282 59.150383 \nL 74.08267 61.767452 \nL 75.876059 64.288744 \nL 77.669447 66.736223 \nL 79.462836 69.132765 \nL 81.256224 71.475311 \nL 83.049613 73.783363 \nL 84.843001 76.05737 \nL 86.636389 78.284675 \nL 88.429778 80.481565 \nL 90.223166 82.644561 \nL 92.016555 84.792773 \nL 93.809943 86.89505 \nL 95.603332 89.016175 \nL 97.39672 91.071543 \nL 99.190108 93.132869 \nL 100.983497 95.174724 \nL 102.776885 97.18121 \nL 104.570274 99.183845 \nL 106.363662 101.129929 \nL 108.157051 103.059204 \nL 109.950439 104.977409 \nL 111.743827 106.853932 \nL 113.537216 108.705808 \nL 115.330604 110.518248 \nL 117.123993 112.299343 \nL 118.917381 114.035332 \nL 120.71077 115.725021 \nL 122.504158 117.341209 \nL 124.297546 118.962166 \nL 126.090935 120.482441 \nL 127.884323 121.963749 \nL 129.677712 123.378122 \nL 131.4711 124.746303 \nL 133.264489 126.029615 \nL 135.057877 127.240286 \nL 136.851265 128.398499 \nL 138.644654 129.462021 \nL 140.438042 130.48096 \nL 142.231431 131.408685 \nL 144.024819 132.262085 \nL 145.818208 133.064976 \nL 147.611596 133.814557 \nL 149.404985 134.476657 \nL 151.198373 135.069189 \nL 152.991761 135.626856 \nL 154.78515 136.110205 \nL 156.578538 136.552481 \nL 158.371927 136.958452 \nL 160.165315 137.309734 \nL 161.958704 137.618064 \nL 163.752092 137.906644 \nL 165.54548 138.151627 \nL 167.338869 138.367383 \nL 169.132257 138.55044 \nL 170.925646 138.710187 \nL 172.719034 138.85345 \nL 174.512423 138.976599 \nL 176.305811 139.085092 \nL 178.099199 139.170324 \nL 179.892588 139.255412 \nL 181.685976 139.314694 \nL 183.479365 139.372218 \nL 185.272753 139.418867 \nL 187.066142 139.474548 \nL 188.85953 139.503789 \nL 190.652918 139.528314 \nL 192.446307 139.558626 \nL 194.239695 139.604054 \nL 196.033084 139.593864 \nL 197.826472 139.625589 \nL 199.619861 139.654365 \nL 201.413249 139.646996 \nL 203.206637 139.674609 \nL 205.000026 139.717399 \nL 206.793414 139.73634 \nL 208.586803 139.733923 \nL 210.380191 139.783729 \nL 212.17358 139.791355 \nL 213.966968 139.833116 \nL 215.760356 139.884943 \nL 217.553745 139.942216 \nL 219.347133 140.001131 \nL 221.140522 140.026748 \nL 222.93391 140.065223 \nL 224.727299 140.152169 \nL 226.520687 140.208558 \nL 228.314075 140.252383 \nL 230.107464 140.354438 \nL 231.900852 140.422727 \n\" style=\"fill:none;stroke:#1f77b4;stroke-linecap:square;stroke-width:1.5;\"/>\n   </g>\n   <g id=\"patch_3\">\n    <path d=\"M 45.478125 146.6 \nL 45.478125 10.7 \n\" style=\"fill:none;stroke:#000000;stroke-linecap:square;stroke-linejoin:miter;stroke-width:0.8;\"/>\n   </g>\n   <g id=\"patch_4\">\n    <path d=\"M 240.778125 146.6 \nL 240.778125 10.7 \n\" style=\"fill:none;stroke:#000000;stroke-linecap:square;stroke-linejoin:miter;stroke-width:0.8;\"/>\n   </g>\n   <g id=\"patch_5\">\n    <path d=\"M 45.478125 146.6 \nL 240.778125 146.6 \n\" style=\"fill:none;stroke:#000000;stroke-linecap:square;stroke-linejoin:miter;stroke-width:0.8;\"/>\n   </g>\n   <g id=\"patch_6\">\n    <path d=\"M 45.478125 10.7 \nL 240.778125 10.7 \n\" style=\"fill:none;stroke:#000000;stroke-linecap:square;stroke-linejoin:miter;stroke-width:0.8;\"/>\n   </g>\n  </g>\n </g>\n <defs>\n  <clipPath id=\"p7379c3ee87\">\n   <rect height=\"135.9\" width=\"195.3\" x=\"45.478125\" y=\"10.7\"/>\n  </clipPath>\n </defs>\n</svg>\n"
          },
          "metadata": {
            "tags": []
          }
        }
      ]
    },
    {
      "cell_type": "markdown",
      "metadata": {
        "id": "ojyzwJz_dVG6",
        "colab_type": "text"
      },
      "source": [
        "#Keras"
      ]
    },
    {
      "cell_type": "code",
      "metadata": {
        "id": "2Z71JpTmX7uz",
        "colab_type": "code",
        "colab": {}
      },
      "source": [
        "train_features = np.array(all_features[:n_train].values)\n",
        "test_features = np.array(all_features[n_train:].values)\n",
        "train_labels = np.array(train_data.SalePrice.values).reshape((-1, 1))\n"
      ],
      "execution_count": 0,
      "outputs": []
    },
    {
      "cell_type": "code",
      "metadata": {
        "id": "o_u6PNvWX7u3",
        "colab_type": "code",
        "colab": {}
      },
      "source": [
        "from keras.models import Sequential\n",
        "from keras.layers import Dense\n",
        "import keras.regularizers as regularizers\n",
        "import keras.optimizers as optimizers\n",
        "import keras.initializers as initializers\n",
        "import tensorflow as tf\n",
        "from matplotlib import pyplot as plt\n",
        "\n",
        "def get_keras_net(learning_rate, weight_decay):\n",
        "    model = Sequential()\n",
        "    model.add(Dense(1, kernel_initializer=initializers.RandomNormal(stddev=1),\n",
        "                    kernel_regularizer=regularizers.l2(weight_decay), input_shape=(train_features.shape[1],)))\n",
        "    sgd = optimizers.SGD(lr=learning_rate, momentum=0.9)\n",
        "    model.compile(optimizer=sgd, loss='mean_squared_logarithmic_error',metrics=['mse'])\n",
        "    return model"
      ],
      "execution_count": 0,
      "outputs": []
    },
    {
      "cell_type": "code",
      "metadata": {
        "id": "yn3aQ3QWaG9z",
        "colab_type": "code",
        "colab": {}
      },
      "source": [
        "from keras.models import Model\n",
        "from keras.layers import Dense, Input, Dropout\n",
        "from keras.optimizers import Adam\n",
        "\n",
        "def create_model(dim_layer1, dim_layer2, learning_rate, dropout) -> Model:\n",
        "    input_layer = Input(shape=(11,))\n",
        "    \n",
        "    first_hidden = Dense(dim_layer1, kernel_initializer='uniform', activation='relu')(input_layer)\n",
        "    \n",
        "    dropout = Dropout(dropout)(first_hidden)\n",
        "    \n",
        "    second_hidden = Dense(dim_layer2, kernel_initializer='uniform', activation='relu')(dropout)\n",
        "    \n",
        "    output = Dense(1, kernel_initializer='uniform', activation='sigmoid')(second_hidden)\n",
        "    \n",
        "    model = Model(inputs=input_layer, outputs=output)\n",
        "    \n",
        "    adam = Adam(lr=learning_rate, beta_1=0.9, beta_2=0.999)\n",
        "    model.compile(loss='mean_squared_error', optimizer=adam, metrics=['mse'])\n",
        "    \n",
        "    model.summary()\n",
        "    return model"
      ],
      "execution_count": 0,
      "outputs": []
    },
    {
      "cell_type": "code",
      "metadata": {
        "id": "eExtXt9vX7u4",
        "colab_type": "code",
        "colab": {}
      },
      "source": [
        "def get_k_fold_data(k, i, X, y):\n",
        "    assert k > 1\n",
        "    fold_size = X.shape[0] // k\n",
        "    X_train, y_train = None, None\n",
        "    for j in range(k):\n",
        "        idx = slice(j * fold_size, (j + 1) * fold_size)\n",
        "        X_part, y_part = X[idx, :], y[idx]\n",
        "        if j == i:\n",
        "            X_valid, y_valid = X_part, y_part\n",
        "        elif X_train is None:\n",
        "            X_train, y_train = X_part, y_part\n",
        "        else:\n",
        "            X_train = np.concatenate([X_train, X_part], axis=0)\n",
        "            y_train = np.concatenate([y_train, y_part], axis=0)\n",
        "    return X_train, y_train, X_valid, y_valid\n",
        "\n",
        "\n",
        "def k_fold(k, X_train, y_train, num_epochs,\n",
        "           learning_rate, weight_decay, batch_size):\n",
        "    train_l_sum, valid_l_sum = 0, 0\n",
        "    for i in range(k):\n",
        "        data = get_k_fold_data(k, i, X_train, y_train)\n",
        "        net = get_keras_net(learning_rate, weight_decay)\n",
        "        history = net.fit(data[0], data[1], epochs=num_epochs, batch_size=batch_size, verbose=2,\n",
        "                          validation_data=(data[2], data[3]))\n",
        "        if i != 0:\n",
        "            plt.plot(history.history['loss'])\n",
        "            plt.plot(history.history['val_loss'])\n",
        "            plt.title('model loss')\n",
        "            plt.ylabel('loss')\n",
        "            plt.xlabel('epoch')\n",
        "            plt.legend(['train', 'test'], loc='upper left')\n",
        "            plt.show()\n",
        "    return train_l_sum / k, valid_l_sum / k"
      ],
      "execution_count": 0,
      "outputs": []
    },
    {
      "cell_type": "code",
      "metadata": {
        "id": "abm_Y5oHX7u-",
        "colab_type": "code",
        "colab": {
          "base_uri": "https://localhost:8080/",
          "height": 1000
        },
        "outputId": "e6bab07f-1195-4db1-d222-cbe890eeef28"
      },
      "source": [
        "k, num_epochs, lr, weight_decay, batch_size = 5, 100, 5, 0, 64\n",
        "train_l, valid_l = k_fold(k, train_features, train_labels, num_epochs, lr,\n",
        "                          weight_decay, batch_size)\n",
        "print('\\n%d-fold validation: avg train rmse: %f, avg valid rmse: %f'\n",
        "      % (k, train_l, valid_l))"
      ],
      "execution_count": 95,
      "outputs": [
        {
          "output_type": "stream",
          "text": [
            "Train on 1168 samples, validate on 292 samples\n",
            "Epoch 1/100\n",
            " - 2s - loss: 29.2885 - mean_squared_error: 38608810488.9863 - val_loss: 17.9352 - val_mean_squared_error: 37639463304.7671\n",
            "Epoch 2/100\n",
            " - 0s - loss: 17.0537 - mean_squared_error: 38152065416.7671 - val_loss: 16.6364 - val_mean_squared_error: 37485245369.8630\n",
            "Epoch 3/100\n",
            " - 0s - loss: 16.3608 - mean_squared_error: 38065960707.5069 - val_loss: 16.3007 - val_mean_squared_error: 37440716856.1096\n",
            "Epoch 4/100\n",
            " - 0s - loss: 16.1030 - mean_squared_error: 38031219108.8219 - val_loss: 16.0933 - val_mean_squared_error: 37412275298.1918\n",
            "Epoch 5/100\n",
            " - 0s - loss: 15.9107 - mean_squared_error: 38004599990.3562 - val_loss: 15.9117 - val_mean_squared_error: 37386566782.2466\n",
            "Epoch 6/100\n",
            " - 0s - loss: 15.7355 - mean_squared_error: 37979642024.3288 - val_loss: 15.7423 - val_mean_squared_error: 37361974005.4795\n",
            "Epoch 7/100\n",
            " - 0s - loss: 15.5709 - mean_squared_error: 37955626474.9589 - val_loss: 15.5816 - val_mean_squared_error: 37338012181.0411\n",
            "Epoch 8/100\n",
            " - 0s - loss: 15.4145 - mean_squared_error: 37931969942.7945 - val_loss: 15.4294 - val_mean_squared_error: 37314738035.7260\n",
            "Epoch 9/100\n",
            " - 0s - loss: 15.2659 - mean_squared_error: 37909131768.9863 - val_loss: 15.2841 - val_mean_squared_error: 37291974992.6575\n",
            "Epoch 10/100\n",
            " - 0s - loss: 15.1241 - mean_squared_error: 37886785900.7123 - val_loss: 15.1452 - val_mean_squared_error: 37269727091.7260\n",
            "Epoch 11/100\n",
            " - 0s - loss: 14.9886 - mean_squared_error: 37864867811.9452 - val_loss: 15.0127 - val_mean_squared_error: 37247995735.6712\n",
            "Epoch 12/100\n",
            " - 0s - loss: 14.8594 - mean_squared_error: 37843687452.0548 - val_loss: 14.8857 - val_mean_squared_error: 37226729359.7808\n",
            "Epoch 13/100\n",
            " - 0s - loss: 14.7351 - mean_squared_error: 37822628513.3151 - val_loss: 14.7641 - val_mean_squared_error: 37205988899.0685\n",
            "Epoch 14/100\n",
            " - 0s - loss: 14.6161 - mean_squared_error: 37802329859.5069 - val_loss: 14.6467 - val_mean_squared_error: 37185476187.1781\n",
            "Epoch 15/100\n",
            " - 0s - loss: 14.5012 - mean_squared_error: 37782027951.3425 - val_loss: 14.5342 - val_mean_squared_error: 37165539215.7808\n",
            "Epoch 16/100\n",
            " - 0s - loss: 14.3909 - mean_squared_error: 37762490929.0959 - val_loss: 14.4257 - val_mean_squared_error: 37145913428.1644\n",
            "Epoch 17/100\n",
            " - 0s - loss: 14.2845 - mean_squared_error: 37742960696.1096 - val_loss: 14.3211 - val_mean_squared_error: 37126692976.2192\n",
            "Epoch 18/100\n",
            " - 0s - loss: 14.1820 - mean_squared_error: 37724195349.0411 - val_loss: 14.2200 - val_mean_squared_error: 37107715647.1233\n",
            "Epoch 19/100\n",
            " - 0s - loss: 14.0828 - mean_squared_error: 37705457299.2877 - val_loss: 14.1223 - val_mean_squared_error: 37089187475.2877\n",
            "Epoch 20/100\n",
            " - 0s - loss: 13.9869 - mean_squared_error: 37687099279.7808 - val_loss: 14.0279 - val_mean_squared_error: 37070940805.2603\n",
            "Epoch 21/100\n",
            " - 0s - loss: 13.8942 - mean_squared_error: 37669174734.9041 - val_loss: 13.9363 - val_mean_squared_error: 37052921154.6301\n",
            "Epoch 22/100\n",
            " - 0s - loss: 13.8042 - mean_squared_error: 37651434902.7945 - val_loss: 13.8476 - val_mean_squared_error: 37035199165.3699\n",
            "Epoch 23/100\n",
            " - 0s - loss: 13.7169 - mean_squared_error: 37633866373.2603 - val_loss: 13.7613 - val_mean_squared_error: 37017720860.0548\n",
            "Epoch 24/100\n",
            " - 0s - loss: 13.6322 - mean_squared_error: 37616693837.1507 - val_loss: 13.6776 - val_mean_squared_error: 37000508794.7397\n",
            "Epoch 25/100\n",
            " - 0s - loss: 13.5500 - mean_squared_error: 37599760776.7671 - val_loss: 13.5963 - val_mean_squared_error: 36983570544.2192\n",
            "Epoch 26/100\n",
            " - 0s - loss: 13.4700 - mean_squared_error: 37583054735.7808 - val_loss: 13.5174 - val_mean_squared_error: 36966902349.1507\n",
            "Epoch 27/100\n",
            " - 0s - loss: 13.3923 - mean_squared_error: 37566495196.9315 - val_loss: 13.4406 - val_mean_squared_error: 36950525980.0548\n",
            "Epoch 28/100\n",
            " - 0s - loss: 13.3169 - mean_squared_error: 37550400834.6301 - val_loss: 13.3657 - val_mean_squared_error: 36934247409.9726\n",
            "Epoch 29/100\n",
            " - 0s - loss: 13.2431 - mean_squared_error: 37534318872.5479 - val_loss: 13.2928 - val_mean_squared_error: 36918257804.2740\n",
            "Epoch 30/100\n",
            " - 0s - loss: 13.1714 - mean_squared_error: 37518484465.9726 - val_loss: 13.2218 - val_mean_squared_error: 36902479114.5205\n",
            "Epoch 31/100\n",
            " - 0s - loss: 13.1014 - mean_squared_error: 37502805931.8356 - val_loss: 13.1525 - val_mean_squared_error: 36886837107.7260\n",
            "Epoch 32/100\n",
            " - 0s - loss: 13.0331 - mean_squared_error: 37487602702.0274 - val_loss: 13.0846 - val_mean_squared_error: 36871332232.7671\n",
            "Epoch 33/100\n",
            " - 0s - loss: 12.9663 - mean_squared_error: 37472155788.2740 - val_loss: 13.0187 - val_mean_squared_error: 36856149819.6164\n",
            "Epoch 34/100\n",
            " - 0s - loss: 12.9013 - mean_squared_error: 37457209680.6575 - val_loss: 12.9541 - val_mean_squared_error: 36841094494.6849\n",
            "Epoch 35/100\n",
            " - 0s - loss: 12.8377 - mean_squared_error: 37442346222.4658 - val_loss: 12.8913 - val_mean_squared_error: 36826275783.8904\n",
            "Epoch 36/100\n",
            " - 0s - loss: 12.7756 - mean_squared_error: 37427666635.3973 - val_loss: 12.8295 - val_mean_squared_error: 36811560370.8493\n",
            "Epoch 37/100\n",
            " - 0s - loss: 12.7148 - mean_squared_error: 37413032665.4247 - val_loss: 12.7693 - val_mean_squared_error: 36797059857.5342\n",
            "Epoch 38/100\n",
            " - 0s - loss: 12.6554 - mean_squared_error: 37398829813.4795 - val_loss: 12.7103 - val_mean_squared_error: 36782695914.9589\n",
            "Epoch 39/100\n",
            " - 0s - loss: 12.5972 - mean_squared_error: 37384578538.9589 - val_loss: 12.6527 - val_mean_squared_error: 36768525045.4795\n",
            "Epoch 40/100\n",
            " - 0s - loss: 12.5403 - mean_squared_error: 37370572912.2192 - val_loss: 12.5962 - val_mean_squared_error: 36754488334.0274\n",
            "Epoch 41/100\n",
            " - 0s - loss: 12.4846 - mean_squared_error: 37356775957.0411 - val_loss: 12.5408 - val_mean_squared_error: 36740581909.0411\n",
            "Epoch 42/100\n",
            " - 0s - loss: 12.4299 - mean_squared_error: 37342947692.7123 - val_loss: 12.4865 - val_mean_squared_error: 36726828326.5753\n",
            "Epoch 43/100\n",
            " - 0s - loss: 12.3764 - mean_squared_error: 37329382385.9726 - val_loss: 12.4333 - val_mean_squared_error: 36713203066.7397\n",
            "Epoch 44/100\n",
            " - 0s - loss: 12.3239 - mean_squared_error: 37315917683.7260 - val_loss: 12.3811 - val_mean_squared_error: 36699708093.3699\n",
            "Epoch 45/100\n",
            " - 0s - loss: 12.2723 - mean_squared_error: 37302573645.1507 - val_loss: 12.3299 - val_mean_squared_error: 36686373425.0959\n",
            "Epoch 46/100\n",
            " - 0s - loss: 12.2218 - mean_squared_error: 37289360734.6849 - val_loss: 12.2797 - val_mean_squared_error: 36673173419.8356\n",
            "Epoch 47/100\n",
            " - 0s - loss: 12.1722 - mean_squared_error: 37276306446.0274 - val_loss: 12.2304 - val_mean_squared_error: 36660079012.8219\n",
            "Epoch 48/100\n",
            " - 0s - loss: 12.1234 - mean_squared_error: 37263315785.6438 - val_loss: 12.1819 - val_mean_squared_error: 36647065291.3973\n",
            "Epoch 49/100\n",
            " - 0s - loss: 12.0755 - mean_squared_error: 37250449632.4384 - val_loss: 12.1342 - val_mean_squared_error: 36634190328.9863\n",
            "Epoch 50/100\n",
            " - 0s - loss: 12.0284 - mean_squared_error: 37237760561.0959 - val_loss: 12.0875 - val_mean_squared_error: 36621427697.9726\n",
            "Epoch 51/100\n",
            " - 0s - loss: 11.9822 - mean_squared_error: 37225103303.8904 - val_loss: 12.0415 - val_mean_squared_error: 36608783009.3151\n",
            "Epoch 52/100\n",
            " - 0s - loss: 11.9368 - mean_squared_error: 37212492168.7671 - val_loss: 11.9963 - val_mean_squared_error: 36596248519.8904\n",
            "Epoch 53/100\n",
            " - 0s - loss: 11.8921 - mean_squared_error: 37200143121.5342 - val_loss: 11.9519 - val_mean_squared_error: 36583814971.6164\n",
            "Epoch 54/100\n",
            " - 0s - loss: 11.8482 - mean_squared_error: 37187828301.1507 - val_loss: 11.9082 - val_mean_squared_error: 36571498916.8219\n",
            "Epoch 55/100\n",
            " - 0s - loss: 11.8050 - mean_squared_error: 37175648564.6027 - val_loss: 11.8652 - val_mean_squared_error: 36559252045.1507\n",
            "Epoch 56/100\n",
            " - 0s - loss: 11.7625 - mean_squared_error: 37163496377.8630 - val_loss: 11.8229 - val_mean_squared_error: 36547130858.9589\n",
            "Epoch 57/100\n",
            " - 0s - loss: 11.7206 - mean_squared_error: 37151548289.7534 - val_loss: 11.7811 - val_mean_squared_error: 36535080651.3973\n",
            "Epoch 58/100\n",
            " - 0s - loss: 11.6794 - mean_squared_error: 37139681223.8904 - val_loss: 11.7401 - val_mean_squared_error: 36523114271.5616\n",
            "Epoch 59/100\n",
            " - 0s - loss: 11.6389 - mean_squared_error: 37127813653.0411 - val_loss: 11.6998 - val_mean_squared_error: 36511314032.2192\n",
            "Epoch 60/100\n",
            " - 0s - loss: 11.5989 - mean_squared_error: 37116096231.4521 - val_loss: 11.6600 - val_mean_squared_error: 36499547290.3014\n",
            "Epoch 61/100\n",
            " - 0s - loss: 11.5596 - mean_squared_error: 37104434695.0137 - val_loss: 11.6208 - val_mean_squared_error: 36487873185.3151\n",
            "Epoch 62/100\n",
            " - 0s - loss: 11.5209 - mean_squared_error: 37092914386.4110 - val_loss: 11.5822 - val_mean_squared_error: 36476320052.6027\n",
            "Epoch 63/100\n",
            " - 0s - loss: 11.4828 - mean_squared_error: 37081521390.4658 - val_loss: 11.5442 - val_mean_squared_error: 36464849625.4247\n",
            "Epoch 64/100\n",
            " - 0s - loss: 11.4452 - mean_squared_error: 37070098768.6575 - val_loss: 11.5069 - val_mean_squared_error: 36453485301.4795\n",
            "Epoch 65/100\n",
            " - 0s - loss: 11.4082 - mean_squared_error: 37058860074.0822 - val_loss: 11.4699 - val_mean_squared_error: 36442177928.7671\n",
            "Epoch 66/100\n",
            " - 0s - loss: 11.3716 - mean_squared_error: 37047617956.8219 - val_loss: 11.4336 - val_mean_squared_error: 36430999383.6712\n",
            "Epoch 67/100\n",
            " - 0s - loss: 11.3357 - mean_squared_error: 37036644267.8356 - val_loss: 11.3977 - val_mean_squared_error: 36419851025.5342\n",
            "Epoch 68/100\n",
            " - 0s - loss: 11.3002 - mean_squared_error: 37025648808.3288 - val_loss: 11.3623 - val_mean_squared_error: 36408814549.9178\n",
            "Epoch 69/100\n",
            " - 0s - loss: 11.2652 - mean_squared_error: 37014615530.9589 - val_loss: 11.3274 - val_mean_squared_error: 36397827114.0822\n",
            "Epoch 70/100\n",
            " - 0s - loss: 11.2306 - mean_squared_error: 37003780208.2192 - val_loss: 11.2929 - val_mean_squared_error: 36386898144.4384\n",
            "Epoch 71/100\n",
            " - 0s - loss: 11.1965 - mean_squared_error: 36992936104.3288 - val_loss: 11.2589 - val_mean_squared_error: 36376054573.5890\n",
            "Epoch 72/100\n",
            " - 0s - loss: 11.1629 - mean_squared_error: 36982271102.2466 - val_loss: 11.2255 - val_mean_squared_error: 36365332199.4521\n",
            "Epoch 73/100\n",
            " - 0s - loss: 11.1297 - mean_squared_error: 36971570835.2877 - val_loss: 11.1924 - val_mean_squared_error: 36354685404.9315\n",
            "Epoch 74/100\n",
            " - 0s - loss: 11.0970 - mean_squared_error: 36960978242.6301 - val_loss: 11.1597 - val_mean_squared_error: 36344059595.3973\n",
            "Epoch 75/100\n",
            " - 0s - loss: 11.0647 - mean_squared_error: 36950544215.6712 - val_loss: 11.1274 - val_mean_squared_error: 36333461896.7671\n",
            "Epoch 76/100\n",
            " - 0s - loss: 11.0327 - mean_squared_error: 36939994827.3973 - val_loss: 11.0955 - val_mean_squared_error: 36322978325.0411\n",
            "Epoch 77/100\n",
            " - 0s - loss: 11.0011 - mean_squared_error: 36929598618.3014 - val_loss: 11.0640 - val_mean_squared_error: 36312525052.4931\n",
            "Epoch 78/100\n",
            " - 0s - loss: 10.9699 - mean_squared_error: 36919244491.3973 - val_loss: 11.0329 - val_mean_squared_error: 36302127721.2055\n",
            "Epoch 79/100\n",
            " - 0s - loss: 10.9391 - mean_squared_error: 36908969731.5069 - val_loss: 11.0022 - val_mean_squared_error: 36291840420.8219\n",
            "Epoch 80/100\n",
            " - 0s - loss: 10.9087 - mean_squared_error: 36898781436.4931 - val_loss: 10.9719 - val_mean_squared_error: 36281628868.3836\n",
            "Epoch 81/100\n",
            " - 0s - loss: 10.8786 - mean_squared_error: 36888691192.9863 - val_loss: 10.9419 - val_mean_squared_error: 36271435719.8904\n",
            "Epoch 82/100\n",
            " - 0s - loss: 10.8489 - mean_squared_error: 36878605887.1233 - val_loss: 10.9122 - val_mean_squared_error: 36261340258.1918\n",
            "Epoch 83/100\n",
            " - 0s - loss: 10.8196 - mean_squared_error: 36868531887.3425 - val_loss: 10.8830 - val_mean_squared_error: 36251335581.8082\n",
            "Epoch 84/100\n",
            " - 0s - loss: 10.7906 - mean_squared_error: 36858673011.7260 - val_loss: 10.8540 - val_mean_squared_error: 36241342912.8767\n",
            "Epoch 85/100\n",
            " - 0s - loss: 10.7620 - mean_squared_error: 36848834812.4931 - val_loss: 10.8254 - val_mean_squared_error: 36231418024.3288\n",
            "Epoch 86/100\n",
            " - 0s - loss: 10.7336 - mean_squared_error: 36838885909.0411 - val_loss: 10.7971 - val_mean_squared_error: 36221550535.8904\n",
            "Epoch 87/100\n",
            " - 0s - loss: 10.7056 - mean_squared_error: 36829140122.3014 - val_loss: 10.7692 - val_mean_squared_error: 36211728945.0959\n",
            "Epoch 88/100\n",
            " - 0s - loss: 10.6778 - mean_squared_error: 36819346530.1918 - val_loss: 10.7415 - val_mean_squared_error: 36201977491.2877\n",
            "Epoch 89/100\n",
            " - 0s - loss: 10.6505 - mean_squared_error: 36809725699.5069 - val_loss: 10.7141 - val_mean_squared_error: 36192255495.0137\n",
            "Epoch 90/100\n",
            " - 0s - loss: 10.6233 - mean_squared_error: 36800091290.3014 - val_loss: 10.6871 - val_mean_squared_error: 36182624676.8219\n",
            "Epoch 91/100\n",
            " - 0s - loss: 10.5965 - mean_squared_error: 36790565060.3836 - val_loss: 10.6603 - val_mean_squared_error: 36173011084.2740\n",
            "Epoch 92/100\n",
            " - 0s - loss: 10.5700 - mean_squared_error: 36781012178.4110 - val_loss: 10.6338 - val_mean_squared_error: 36163495627.3973\n",
            "Epoch 93/100\n",
            " - 0s - loss: 10.5438 - mean_squared_error: 36771661627.6164 - val_loss: 10.6076 - val_mean_squared_error: 36153976747.8356\n",
            "Epoch 94/100\n",
            " - 0s - loss: 10.5178 - mean_squared_error: 36762234767.7808 - val_loss: 10.5817 - val_mean_squared_error: 36144547587.5069\n",
            "Epoch 95/100\n",
            " - 0s - loss: 10.4922 - mean_squared_error: 36752893250.6301 - val_loss: 10.5560 - val_mean_squared_error: 36135152261.2603\n",
            "Epoch 96/100\n",
            " - 0s - loss: 10.4667 - mean_squared_error: 36743539585.7534 - val_loss: 10.5307 - val_mean_squared_error: 36125868705.3151\n",
            "Epoch 97/100\n",
            " - 0s - loss: 10.4416 - mean_squared_error: 36734342494.6849 - val_loss: 10.5056 - val_mean_squared_error: 36116577069.5890\n",
            "Epoch 98/100\n",
            " - 0s - loss: 10.4167 - mean_squared_error: 36725151884.2740 - val_loss: 10.4807 - val_mean_squared_error: 36107343619.5069\n",
            "Epoch 99/100\n",
            " - 0s - loss: 10.3920 - mean_squared_error: 36715958664.7671 - val_loss: 10.4560 - val_mean_squared_error: 36098137102.0274\n",
            "Epoch 100/100\n",
            " - 0s - loss: 10.3676 - mean_squared_error: 36706833197.5890 - val_loss: 10.4317 - val_mean_squared_error: 36088985571.9452\n",
            "Train on 1168 samples, validate on 292 samples\n",
            "Epoch 1/100\n",
            " - 1s - loss: 31.2526 - mean_squared_error: 38350364840.3288 - val_loss: 19.7559 - val_mean_squared_error: 39312189187.5069\n",
            "Epoch 2/100\n",
            " - 0s - loss: 18.4586 - mean_squared_error: 37971895815.0137 - val_loss: 17.9546 - val_mean_squared_error: 39172399889.5342\n",
            "Epoch 3/100\n",
            " - 0s - loss: 17.6214 - mean_squared_error: 37887914937.8630 - val_loss: 17.4800 - val_mean_squared_error: 39123511772.9315\n",
            "Epoch 4/100\n",
            " - 0s - loss: 17.2625 - mean_squared_error: 37847810665.2055 - val_loss: 17.1651 - val_mean_squared_error: 39088473859.5069\n",
            "Epoch 5/100\n",
            " - 0s - loss: 16.9849 - mean_squared_error: 37815080875.8356 - val_loss: 16.8949 - val_mean_squared_error: 39056618425.8630\n",
            "Epoch 6/100\n",
            " - 0s - loss: 16.7371 - mean_squared_error: 37784622570.9589 - val_loss: 16.6532 - val_mean_squared_error: 39026730194.4110\n",
            "Epoch 7/100\n",
            " - 0s - loss: 16.5113 - mean_squared_error: 37755758451.7260 - val_loss: 16.4290 - val_mean_squared_error: 38997827079.0137\n",
            "Epoch 8/100\n",
            " - 0s - loss: 16.2990 - mean_squared_error: 37727616575.1233 - val_loss: 16.2212 - val_mean_squared_error: 38970025450.9589\n",
            "Epoch 9/100\n",
            " - 0s - loss: 16.0202 - mean_squared_error: 37695454614.7945 - val_loss: 15.9516 - val_mean_squared_error: 38930983388.9315\n",
            "Epoch 10/100\n",
            " - 0s - loss: 15.7494 - mean_squared_error: 37662135225.8630 - val_loss: 15.7625 - val_mean_squared_error: 38903074872.1096\n",
            "Epoch 11/100\n",
            " - 0s - loss: 15.5745 - mean_squared_error: 37636538592.4384 - val_loss: 15.5952 - val_mean_squared_error: 38877917015.6712\n",
            "Epoch 12/100\n",
            " - 0s - loss: 15.4137 - mean_squared_error: 37612239886.0274 - val_loss: 15.4378 - val_mean_squared_error: 38853642324.1644\n",
            "Epoch 13/100\n",
            " - 0s - loss: 15.2607 - mean_squared_error: 37588478597.2603 - val_loss: 15.2892 - val_mean_squared_error: 38830175779.0685\n",
            "Epoch 14/100\n",
            " - 0s - loss: 15.1164 - mean_squared_error: 37565722399.5616 - val_loss: 15.1462 - val_mean_squared_error: 38806984900.3836\n",
            "Epoch 15/100\n",
            " - 0s - loss: 14.9782 - mean_squared_error: 37543263442.4110 - val_loss: 15.0109 - val_mean_squared_error: 38784563676.9315\n",
            "Epoch 16/100\n",
            " - 0s - loss: 14.8467 - mean_squared_error: 37521405895.8904 - val_loss: 14.8820 - val_mean_squared_error: 38762754833.5342\n",
            "Epoch 17/100\n",
            " - 0s - loss: 14.7211 - mean_squared_error: 37500079118.0274 - val_loss: 14.7583 - val_mean_squared_error: 38741355253.4795\n",
            "Epoch 18/100\n",
            " - 0s - loss: 14.6006 - mean_squared_error: 37479200122.7397 - val_loss: 14.6399 - val_mean_squared_error: 38720473340.4931\n",
            "Epoch 19/100\n",
            " - 0s - loss: 14.4848 - mean_squared_error: 37458836662.3562 - val_loss: 14.5255 - val_mean_squared_error: 38699886395.6164\n",
            "Epoch 20/100\n",
            " - 0s - loss: 14.3730 - mean_squared_error: 37438646019.5069 - val_loss: 14.4155 - val_mean_squared_error: 38679720216.5479\n",
            "Epoch 21/100\n",
            " - 0s - loss: 14.2658 - mean_squared_error: 37419108211.7260 - val_loss: 14.3095 - val_mean_squared_error: 38659925539.0685\n",
            "Epoch 22/100\n",
            " - 0s - loss: 14.1620 - mean_squared_error: 37399705880.5479 - val_loss: 14.2076 - val_mean_squared_error: 38640582712.1096\n",
            "Epoch 23/100\n",
            " - 0s - loss: 14.0622 - mean_squared_error: 37380764573.8082 - val_loss: 14.1094 - val_mean_squared_error: 38621619522.6301\n",
            "Epoch 24/100\n",
            " - 0s - loss: 13.9661 - mean_squared_error: 37362207645.8082 - val_loss: 14.0145 - val_mean_squared_error: 38603006176.4384\n",
            "Epoch 25/100\n",
            " - 0s - loss: 13.8729 - mean_squared_error: 37343992453.2603 - val_loss: 13.9219 - val_mean_squared_error: 38584517898.5205\n",
            "Epoch 26/100\n",
            " - 0s - loss: 13.7824 - mean_squared_error: 37325940483.5069 - val_loss: 13.8329 - val_mean_squared_error: 38566470641.9726\n",
            "Epoch 27/100\n",
            " - 0s - loss: 13.6947 - mean_squared_error: 37308151555.5069 - val_loss: 13.7461 - val_mean_squared_error: 38548605348.8219\n",
            "Epoch 28/100\n",
            " - 0s - loss: 13.6098 - mean_squared_error: 37290727115.3973 - val_loss: 13.6621 - val_mean_squared_error: 38531075815.4521\n",
            "Epoch 29/100\n",
            " - 0s - loss: 13.5273 - mean_squared_error: 37273522568.7671 - val_loss: 13.5808 - val_mean_squared_error: 38513856904.7671\n",
            "Epoch 30/100\n",
            " - 0s - loss: 13.4474 - mean_squared_error: 37256692637.8082 - val_loss: 13.5011 - val_mean_squared_error: 38496737644.7123\n",
            "Epoch 31/100\n",
            " - 0s - loss: 13.3693 - mean_squared_error: 37239952903.0137 - val_loss: 13.4243 - val_mean_squared_error: 38480031295.1233\n",
            "Epoch 32/100\n",
            " - 0s - loss: 13.2939 - mean_squared_error: 37223619654.1370 - val_loss: 13.3495 - val_mean_squared_error: 38463540518.5753\n",
            "Epoch 33/100\n",
            " - 0s - loss: 13.2204 - mean_squared_error: 37207522430.2466 - val_loss: 13.2763 - val_mean_squared_error: 38447193326.4658\n",
            "Epoch 34/100\n",
            " - 0s - loss: 13.1486 - mean_squared_error: 37191493632.0000 - val_loss: 13.2055 - val_mean_squared_error: 38431186439.0137\n",
            "Epoch 35/100\n",
            " - 0s - loss: 13.0787 - mean_squared_error: 37175796048.6575 - val_loss: 13.1361 - val_mean_squared_error: 38415308547.5069\n",
            "Epoch 36/100\n",
            " - 0s - loss: 13.0104 - mean_squared_error: 37160149889.7534 - val_loss: 13.0687 - val_mean_squared_error: 38399716983.2329\n",
            "Epoch 37/100\n",
            " - 0s - loss: 12.9440 - mean_squared_error: 37144925057.7534 - val_loss: 13.0021 - val_mean_squared_error: 38384042937.8630\n",
            "Epoch 38/100\n",
            " - 0s - loss: 12.8787 - mean_squared_error: 37129609777.0959 - val_loss: 12.9378 - val_mean_squared_error: 38368813336.5479\n",
            "Epoch 39/100\n",
            " - 0s - loss: 12.8153 - mean_squared_error: 37114667681.3151 - val_loss: 12.8748 - val_mean_squared_error: 38353699320.9863\n",
            "Epoch 40/100\n",
            " - 0s - loss: 12.7530 - mean_squared_error: 37099731084.2740 - val_loss: 12.8133 - val_mean_squared_error: 38338772879.7808\n",
            "Epoch 41/100\n",
            " - 0s - loss: 12.6924 - mean_squared_error: 37085115574.3562 - val_loss: 12.7529 - val_mean_squared_error: 38323946818.6301\n",
            "Epoch 42/100\n",
            " - 0s - loss: 12.6330 - mean_squared_error: 37070575559.8904 - val_loss: 12.6941 - val_mean_squared_error: 38309388231.8904\n",
            "Epoch 43/100\n",
            " - 0s - loss: 12.5751 - mean_squared_error: 37056336096.4384 - val_loss: 12.6364 - val_mean_squared_error: 38294934682.3014\n",
            "Epoch 44/100\n",
            " - 0s - loss: 12.5182 - mean_squared_error: 37042157259.3973 - val_loss: 12.5801 - val_mean_squared_error: 38280717859.0685\n",
            "Epoch 45/100\n",
            " - 0s - loss: 12.4626 - mean_squared_error: 37028184961.7534 - val_loss: 12.5249 - val_mean_squared_error: 38266624533.0411\n",
            "Epoch 46/100\n",
            " - 0s - loss: 12.4079 - mean_squared_error: 37014276965.6986 - val_loss: 12.4703 - val_mean_squared_error: 38252516842.9589\n",
            "Epoch 47/100\n",
            " - 0s - loss: 12.3544 - mean_squared_error: 37000515752.3288 - val_loss: 12.4170 - val_mean_squared_error: 38238623547.6164\n",
            "Epoch 48/100\n",
            " - 0s - loss: 12.3019 - mean_squared_error: 36986913048.5479 - val_loss: 12.3649 - val_mean_squared_error: 38224915918.9041\n",
            "Epoch 49/100\n",
            " - 0s - loss: 12.2504 - mean_squared_error: 36973392264.7671 - val_loss: 12.3140 - val_mean_squared_error: 38211393788.4931\n",
            "Epoch 50/100\n",
            " - 0s - loss: 12.2000 - mean_squared_error: 36960143444.1644 - val_loss: 12.2635 - val_mean_squared_error: 38197844444.9315\n",
            "Epoch 51/100\n",
            " - 0s - loss: 12.1504 - mean_squared_error: 36946939567.3425 - val_loss: 12.2142 - val_mean_squared_error: 38184519876.3836\n",
            "Epoch 52/100\n",
            " - 0s - loss: 12.1018 - mean_squared_error: 36933878321.0959 - val_loss: 12.1660 - val_mean_squared_error: 38171363412.1644\n",
            "Epoch 53/100\n",
            " - 0s - loss: 12.0541 - mean_squared_error: 36920902417.5342 - val_loss: 12.1187 - val_mean_squared_error: 38158377324.7123\n",
            "Epoch 54/100\n",
            " - 0s - loss: 12.0073 - mean_squared_error: 36908132267.8356 - val_loss: 12.0720 - val_mean_squared_error: 38145407509.0411\n",
            "Epoch 55/100\n",
            " - 0s - loss: 11.9612 - mean_squared_error: 36895345678.0274 - val_loss: 12.0263 - val_mean_squared_error: 38132625183.5616\n",
            "Epoch 56/100\n",
            " - 0s - loss: 11.9160 - mean_squared_error: 36882824037.6986 - val_loss: 11.9810 - val_mean_squared_error: 38119818254.0274\n",
            "Epoch 57/100\n",
            " - 0s - loss: 11.8713 - mean_squared_error: 36870318725.2603 - val_loss: 11.9367 - val_mean_squared_error: 38107213992.3288\n",
            "Epoch 58/100\n",
            " - 0s - loss: 11.8275 - mean_squared_error: 36857886074.7397 - val_loss: 11.8930 - val_mean_squared_error: 38094662501.6986\n",
            "Epoch 59/100\n",
            " - 0s - loss: 11.7845 - mean_squared_error: 36845653511.0137 - val_loss: 11.8501 - val_mean_squared_error: 38082258915.9452\n",
            "Epoch 60/100\n",
            " - 0s - loss: 11.7420 - mean_squared_error: 36833420554.5205 - val_loss: 11.8081 - val_mean_squared_error: 38070010024.3288\n",
            "Epoch 61/100\n",
            " - 0s - loss: 11.7004 - mean_squared_error: 36821379015.8904 - val_loss: 11.7666 - val_mean_squared_error: 38057815951.7808\n",
            "Epoch 62/100\n",
            " - 0s - loss: 11.6595 - mean_squared_error: 36809395438.4658 - val_loss: 11.7259 - val_mean_squared_error: 38045779238.5753\n",
            "Epoch 63/100\n",
            " - 0s - loss: 11.6191 - mean_squared_error: 36797532131.9452 - val_loss: 11.6856 - val_mean_squared_error: 38033770888.7671\n",
            "Epoch 64/100\n",
            " - 0s - loss: 11.5793 - mean_squared_error: 36785730742.3562 - val_loss: 11.6462 - val_mean_squared_error: 38021921890.1918\n",
            "Epoch 65/100\n",
            " - 0s - loss: 11.5404 - mean_squared_error: 36774141222.5753 - val_loss: 11.6072 - val_mean_squared_error: 38010103471.3425\n",
            "Epoch 66/100\n",
            " - 0s - loss: 11.5018 - mean_squared_error: 36762522890.5205 - val_loss: 11.5688 - val_mean_squared_error: 37998420949.9178\n",
            "Epoch 67/100\n",
            " - 0s - loss: 11.4639 - mean_squared_error: 36751056138.5205 - val_loss: 11.5309 - val_mean_squared_error: 37986788674.6301\n",
            "Epoch 68/100\n",
            " - 0s - loss: 11.4264 - mean_squared_error: 36739597045.4795 - val_loss: 11.4938 - val_mean_squared_error: 37975321670.1370\n",
            "Epoch 69/100\n",
            " - 0s - loss: 11.3896 - mean_squared_error: 36728311976.3288 - val_loss: 11.4572 - val_mean_squared_error: 37963939727.7808\n",
            "Epoch 70/100\n",
            " - 0s - loss: 11.3534 - mean_squared_error: 36717166367.5616 - val_loss: 11.4209 - val_mean_squared_error: 37952556887.6712\n",
            "Epoch 71/100\n",
            " - 0s - loss: 11.3175 - mean_squared_error: 36706004094.2466 - val_loss: 11.3851 - val_mean_squared_error: 37941258773.0411\n",
            "Epoch 72/100\n",
            " - 0s - loss: 11.2821 - mean_squared_error: 36694883959.2329 - val_loss: 11.3500 - val_mean_squared_error: 37930097902.4658\n",
            "Epoch 73/100\n",
            " - 0s - loss: 11.2474 - mean_squared_error: 36683941803.8356 - val_loss: 11.3153 - val_mean_squared_error: 37919013817.8630\n",
            "Epoch 74/100\n",
            " - 0s - loss: 11.2130 - mean_squared_error: 36672990783.1233 - val_loss: 11.2811 - val_mean_squared_error: 37908037463.6712\n",
            "Epoch 75/100\n",
            " - 0s - loss: 11.1791 - mean_squared_error: 36662213730.1918 - val_loss: 11.2471 - val_mean_squared_error: 37896979890.8493\n",
            "Epoch 76/100\n",
            " - 0s - loss: 11.1456 - mean_squared_error: 36651378295.2329 - val_loss: 11.2138 - val_mean_squared_error: 37886123162.3014\n",
            "Epoch 77/100\n",
            " - 0s - loss: 11.1126 - mean_squared_error: 36640701734.5753 - val_loss: 11.1809 - val_mean_squared_error: 37875311938.6301\n",
            "Epoch 78/100\n",
            " - 0s - loss: 11.0800 - mean_squared_error: 36630087371.3973 - val_loss: 11.1484 - val_mean_squared_error: 37864568102.5753\n",
            "Epoch 79/100\n",
            " - 0s - loss: 11.0478 - mean_squared_error: 36619509311.1233 - val_loss: 11.1163 - val_mean_squared_error: 37853900631.6712\n",
            "Epoch 80/100\n",
            " - 0s - loss: 11.0160 - mean_squared_error: 36609003239.4521 - val_loss: 11.0845 - val_mean_squared_error: 37843278497.3151\n",
            "Epoch 81/100\n",
            " - 0s - loss: 10.9845 - mean_squared_error: 36598567753.6438 - val_loss: 11.0531 - val_mean_squared_error: 37832729333.4795\n",
            "Epoch 82/100\n",
            " - 0s - loss: 10.9535 - mean_squared_error: 36588236295.0137 - val_loss: 11.0221 - val_mean_squared_error: 37822217089.7534\n",
            "Epoch 83/100\n",
            " - 0s - loss: 10.9227 - mean_squared_error: 36577831669.4795 - val_loss: 10.9916 - val_mean_squared_error: 37811832242.8493\n",
            "Epoch 84/100\n",
            " - 0s - loss: 10.8925 - mean_squared_error: 36567631395.0685 - val_loss: 10.9614 - val_mean_squared_error: 37801487991.2329\n",
            "Epoch 85/100\n",
            " - 0s - loss: 10.8626 - mean_squared_error: 36557521709.5890 - val_loss: 10.9315 - val_mean_squared_error: 37791197099.8356\n",
            "Epoch 86/100\n",
            " - 0s - loss: 10.8331 - mean_squared_error: 36547399006.6849 - val_loss: 10.9022 - val_mean_squared_error: 37781039300.3836\n",
            "Epoch 87/100\n",
            " - 0s - loss: 10.8039 - mean_squared_error: 36537372672.0000 - val_loss: 10.8731 - val_mean_squared_error: 37770893873.0959\n",
            "Epoch 88/100\n",
            " - 0s - loss: 10.7751 - mean_squared_error: 36527384491.8356 - val_loss: 10.8442 - val_mean_squared_error: 37760778941.3699\n",
            "Epoch 89/100\n",
            " - 0s - loss: 10.7466 - mean_squared_error: 36517510831.3425 - val_loss: 10.8157 - val_mean_squared_error: 37750727609.8630\n",
            "Epoch 90/100\n",
            " - 0s - loss: 10.7183 - mean_squared_error: 36507557888.0000 - val_loss: 10.7876 - val_mean_squared_error: 37740762574.9041\n",
            "Epoch 91/100\n",
            " - 0s - loss: 10.6904 - mean_squared_error: 36497792014.0274 - val_loss: 10.7598 - val_mean_squared_error: 37730855837.8082\n",
            "Epoch 92/100\n",
            " - 0s - loss: 10.6629 - mean_squared_error: 36488058066.4110 - val_loss: 10.7322 - val_mean_squared_error: 37720950559.5616\n",
            "Epoch 93/100\n",
            " - 0s - loss: 10.6355 - mean_squared_error: 36478273395.7260 - val_loss: 10.7050 - val_mean_squared_error: 37711199947.3973\n",
            "Epoch 94/100\n",
            " - 0s - loss: 10.6086 - mean_squared_error: 36468720233.2055 - val_loss: 10.6781 - val_mean_squared_error: 37701422935.6712\n",
            "Epoch 95/100\n",
            " - 0s - loss: 10.5819 - mean_squared_error: 36459126559.5616 - val_loss: 10.6514 - val_mean_squared_error: 37691727254.7945\n",
            "Epoch 96/100\n",
            " - 0s - loss: 10.5555 - mean_squared_error: 36449623615.1233 - val_loss: 10.6251 - val_mean_squared_error: 37682081062.5753\n",
            "Epoch 97/100\n",
            " - 0s - loss: 10.5294 - mean_squared_error: 36440116518.5753 - val_loss: 10.5991 - val_mean_squared_error: 37672543274.0822\n",
            "Epoch 98/100\n",
            " - 0s - loss: 10.5036 - mean_squared_error: 36430691847.0137 - val_loss: 10.5734 - val_mean_squared_error: 37663070208.0000\n",
            "Epoch 99/100\n",
            " - 0s - loss: 10.4781 - mean_squared_error: 36421336470.7945 - val_loss: 10.5479 - val_mean_squared_error: 37653572397.5890\n",
            "Epoch 100/100\n",
            " - 0s - loss: 10.4528 - mean_squared_error: 36412026094.4658 - val_loss: 10.5227 - val_mean_squared_error: 37644177239.6712\n"
          ],
          "name": "stdout"
        },
        {
          "output_type": "display_data",
          "data": {
            "text/plain": [
              "<Figure size 252x180 with 1 Axes>"
            ],
            "image/svg+xml": "<?xml version=\"1.0\" encoding=\"utf-8\" standalone=\"no\"?>\n<!DOCTYPE svg PUBLIC \"-//W3C//DTD SVG 1.1//EN\"\n  \"http://www.w3.org/Graphics/SVG/1.1/DTD/svg11.dtd\">\n<!-- Created with matplotlib (https://matplotlib.org/) -->\n<svg height=\"195.774375pt\" version=\"1.1\" viewBox=\"0 0 246.603125 195.774375\" width=\"246.603125pt\" xmlns=\"http://www.w3.org/2000/svg\" xmlns:xlink=\"http://www.w3.org/1999/xlink\">\n <defs>\n  <style type=\"text/css\">\n*{stroke-linecap:butt;stroke-linejoin:round;}\n  </style>\n </defs>\n <g id=\"figure_1\">\n  <g id=\"patch_1\">\n   <path d=\"M 0 195.774375 \nL 246.603125 195.774375 \nL 246.603125 0 \nL 0 0 \nz\n\" style=\"fill:none;\"/>\n  </g>\n  <g id=\"axes_1\">\n   <g id=\"patch_2\">\n    <path d=\"M 40.603125 158.218125 \nL 235.903125 158.218125 \nL 235.903125 22.318125 \nL 40.603125 22.318125 \nz\n\" style=\"fill:#ffffff;\"/>\n   </g>\n   <g id=\"matplotlib.axis_1\">\n    <g id=\"xtick_1\">\n     <g id=\"line2d_1\">\n      <defs>\n       <path d=\"M 0 0 \nL 0 3.5 \n\" id=\"mc253463db5\" style=\"stroke:#000000;stroke-width:0.8;\"/>\n      </defs>\n      <g>\n       <use style=\"stroke:#000000;stroke-width:0.8;\" x=\"49.480398\" xlink:href=\"#mc253463db5\" y=\"158.218125\"/>\n      </g>\n     </g>\n     <g id=\"text_1\">\n      <!-- 0 -->\n      <defs>\n       <path d=\"M 31.78125 66.40625 \nQ 24.171875 66.40625 20.328125 58.90625 \nQ 16.5 51.421875 16.5 36.375 \nQ 16.5 21.390625 20.328125 13.890625 \nQ 24.171875 6.390625 31.78125 6.390625 \nQ 39.453125 6.390625 43.28125 13.890625 \nQ 47.125 21.390625 47.125 36.375 \nQ 47.125 51.421875 43.28125 58.90625 \nQ 39.453125 66.40625 31.78125 66.40625 \nz\nM 31.78125 74.21875 \nQ 44.046875 74.21875 50.515625 64.515625 \nQ 56.984375 54.828125 56.984375 36.375 \nQ 56.984375 17.96875 50.515625 8.265625 \nQ 44.046875 -1.421875 31.78125 -1.421875 \nQ 19.53125 -1.421875 13.0625 8.265625 \nQ 6.59375 17.96875 6.59375 36.375 \nQ 6.59375 54.828125 13.0625 64.515625 \nQ 19.53125 74.21875 31.78125 74.21875 \nz\n\" id=\"DejaVuSans-48\"/>\n      </defs>\n      <g transform=\"translate(46.299148 172.816562)scale(0.1 -0.1)\">\n       <use xlink:href=\"#DejaVuSans-48\"/>\n      </g>\n     </g>\n    </g>\n    <g id=\"xtick_2\">\n     <g id=\"line2d_2\">\n      <g>\n       <use style=\"stroke:#000000;stroke-width:0.8;\" x=\"85.348166\" xlink:href=\"#mc253463db5\" y=\"158.218125\"/>\n      </g>\n     </g>\n     <g id=\"text_2\">\n      <!-- 20 -->\n      <defs>\n       <path d=\"M 19.1875 8.296875 \nL 53.609375 8.296875 \nL 53.609375 0 \nL 7.328125 0 \nL 7.328125 8.296875 \nQ 12.9375 14.109375 22.625 23.890625 \nQ 32.328125 33.6875 34.8125 36.53125 \nQ 39.546875 41.84375 41.421875 45.53125 \nQ 43.3125 49.21875 43.3125 52.78125 \nQ 43.3125 58.59375 39.234375 62.25 \nQ 35.15625 65.921875 28.609375 65.921875 \nQ 23.96875 65.921875 18.8125 64.3125 \nQ 13.671875 62.703125 7.8125 59.421875 \nL 7.8125 69.390625 \nQ 13.765625 71.78125 18.9375 73 \nQ 24.125 74.21875 28.421875 74.21875 \nQ 39.75 74.21875 46.484375 68.546875 \nQ 53.21875 62.890625 53.21875 53.421875 \nQ 53.21875 48.921875 51.53125 44.890625 \nQ 49.859375 40.875 45.40625 35.40625 \nQ 44.1875 33.984375 37.640625 27.21875 \nQ 31.109375 20.453125 19.1875 8.296875 \nz\n\" id=\"DejaVuSans-50\"/>\n      </defs>\n      <g transform=\"translate(78.985666 172.816562)scale(0.1 -0.1)\">\n       <use xlink:href=\"#DejaVuSans-50\"/>\n       <use x=\"63.623047\" xlink:href=\"#DejaVuSans-48\"/>\n      </g>\n     </g>\n    </g>\n    <g id=\"xtick_3\">\n     <g id=\"line2d_3\">\n      <g>\n       <use style=\"stroke:#000000;stroke-width:0.8;\" x=\"121.215935\" xlink:href=\"#mc253463db5\" y=\"158.218125\"/>\n      </g>\n     </g>\n     <g id=\"text_3\">\n      <!-- 40 -->\n      <defs>\n       <path d=\"M 37.796875 64.3125 \nL 12.890625 25.390625 \nL 37.796875 25.390625 \nz\nM 35.203125 72.90625 \nL 47.609375 72.90625 \nL 47.609375 25.390625 \nL 58.015625 25.390625 \nL 58.015625 17.1875 \nL 47.609375 17.1875 \nL 47.609375 0 \nL 37.796875 0 \nL 37.796875 17.1875 \nL 4.890625 17.1875 \nL 4.890625 26.703125 \nz\n\" id=\"DejaVuSans-52\"/>\n      </defs>\n      <g transform=\"translate(114.853435 172.816562)scale(0.1 -0.1)\">\n       <use xlink:href=\"#DejaVuSans-52\"/>\n       <use x=\"63.623047\" xlink:href=\"#DejaVuSans-48\"/>\n      </g>\n     </g>\n    </g>\n    <g id=\"xtick_4\">\n     <g id=\"line2d_4\">\n      <g>\n       <use style=\"stroke:#000000;stroke-width:0.8;\" x=\"157.083704\" xlink:href=\"#mc253463db5\" y=\"158.218125\"/>\n      </g>\n     </g>\n     <g id=\"text_4\">\n      <!-- 60 -->\n      <defs>\n       <path d=\"M 33.015625 40.375 \nQ 26.375 40.375 22.484375 35.828125 \nQ 18.609375 31.296875 18.609375 23.390625 \nQ 18.609375 15.53125 22.484375 10.953125 \nQ 26.375 6.390625 33.015625 6.390625 \nQ 39.65625 6.390625 43.53125 10.953125 \nQ 47.40625 15.53125 47.40625 23.390625 \nQ 47.40625 31.296875 43.53125 35.828125 \nQ 39.65625 40.375 33.015625 40.375 \nz\nM 52.59375 71.296875 \nL 52.59375 62.3125 \nQ 48.875 64.0625 45.09375 64.984375 \nQ 41.3125 65.921875 37.59375 65.921875 \nQ 27.828125 65.921875 22.671875 59.328125 \nQ 17.53125 52.734375 16.796875 39.40625 \nQ 19.671875 43.65625 24.015625 45.921875 \nQ 28.375 48.1875 33.59375 48.1875 \nQ 44.578125 48.1875 50.953125 41.515625 \nQ 57.328125 34.859375 57.328125 23.390625 \nQ 57.328125 12.15625 50.6875 5.359375 \nQ 44.046875 -1.421875 33.015625 -1.421875 \nQ 20.359375 -1.421875 13.671875 8.265625 \nQ 6.984375 17.96875 6.984375 36.375 \nQ 6.984375 53.65625 15.1875 63.9375 \nQ 23.390625 74.21875 37.203125 74.21875 \nQ 40.921875 74.21875 44.703125 73.484375 \nQ 48.484375 72.75 52.59375 71.296875 \nz\n\" id=\"DejaVuSans-54\"/>\n      </defs>\n      <g transform=\"translate(150.721204 172.816562)scale(0.1 -0.1)\">\n       <use xlink:href=\"#DejaVuSans-54\"/>\n       <use x=\"63.623047\" xlink:href=\"#DejaVuSans-48\"/>\n      </g>\n     </g>\n    </g>\n    <g id=\"xtick_5\">\n     <g id=\"line2d_5\">\n      <g>\n       <use style=\"stroke:#000000;stroke-width:0.8;\" x=\"192.951472\" xlink:href=\"#mc253463db5\" y=\"158.218125\"/>\n      </g>\n     </g>\n     <g id=\"text_5\">\n      <!-- 80 -->\n      <defs>\n       <path d=\"M 31.78125 34.625 \nQ 24.75 34.625 20.71875 30.859375 \nQ 16.703125 27.09375 16.703125 20.515625 \nQ 16.703125 13.921875 20.71875 10.15625 \nQ 24.75 6.390625 31.78125 6.390625 \nQ 38.8125 6.390625 42.859375 10.171875 \nQ 46.921875 13.96875 46.921875 20.515625 \nQ 46.921875 27.09375 42.890625 30.859375 \nQ 38.875 34.625 31.78125 34.625 \nz\nM 21.921875 38.8125 \nQ 15.578125 40.375 12.03125 44.71875 \nQ 8.5 49.078125 8.5 55.328125 \nQ 8.5 64.0625 14.71875 69.140625 \nQ 20.953125 74.21875 31.78125 74.21875 \nQ 42.671875 74.21875 48.875 69.140625 \nQ 55.078125 64.0625 55.078125 55.328125 \nQ 55.078125 49.078125 51.53125 44.71875 \nQ 48 40.375 41.703125 38.8125 \nQ 48.828125 37.15625 52.796875 32.3125 \nQ 56.78125 27.484375 56.78125 20.515625 \nQ 56.78125 9.90625 50.3125 4.234375 \nQ 43.84375 -1.421875 31.78125 -1.421875 \nQ 19.734375 -1.421875 13.25 4.234375 \nQ 6.78125 9.90625 6.78125 20.515625 \nQ 6.78125 27.484375 10.78125 32.3125 \nQ 14.796875 37.15625 21.921875 38.8125 \nz\nM 18.3125 54.390625 \nQ 18.3125 48.734375 21.84375 45.5625 \nQ 25.390625 42.390625 31.78125 42.390625 \nQ 38.140625 42.390625 41.71875 45.5625 \nQ 45.3125 48.734375 45.3125 54.390625 \nQ 45.3125 60.0625 41.71875 63.234375 \nQ 38.140625 66.40625 31.78125 66.40625 \nQ 25.390625 66.40625 21.84375 63.234375 \nQ 18.3125 60.0625 18.3125 54.390625 \nz\n\" id=\"DejaVuSans-56\"/>\n      </defs>\n      <g transform=\"translate(186.588972 172.816562)scale(0.1 -0.1)\">\n       <use xlink:href=\"#DejaVuSans-56\"/>\n       <use x=\"63.623047\" xlink:href=\"#DejaVuSans-48\"/>\n      </g>\n     </g>\n    </g>\n    <g id=\"xtick_6\">\n     <g id=\"line2d_6\">\n      <g>\n       <use style=\"stroke:#000000;stroke-width:0.8;\" x=\"228.819241\" xlink:href=\"#mc253463db5\" y=\"158.218125\"/>\n      </g>\n     </g>\n     <g id=\"text_6\">\n      <!-- 100 -->\n      <defs>\n       <path d=\"M 12.40625 8.296875 \nL 28.515625 8.296875 \nL 28.515625 63.921875 \nL 10.984375 60.40625 \nL 10.984375 69.390625 \nL 28.421875 72.90625 \nL 38.28125 72.90625 \nL 38.28125 8.296875 \nL 54.390625 8.296875 \nL 54.390625 0 \nL 12.40625 0 \nz\n\" id=\"DejaVuSans-49\"/>\n      </defs>\n      <g transform=\"translate(219.275491 172.816562)scale(0.1 -0.1)\">\n       <use xlink:href=\"#DejaVuSans-49\"/>\n       <use x=\"63.623047\" xlink:href=\"#DejaVuSans-48\"/>\n       <use x=\"127.246094\" xlink:href=\"#DejaVuSans-48\"/>\n      </g>\n     </g>\n    </g>\n    <g id=\"text_7\">\n     <!-- epoch -->\n     <defs>\n      <path d=\"M 56.203125 29.59375 \nL 56.203125 25.203125 \nL 14.890625 25.203125 \nQ 15.484375 15.921875 20.484375 11.0625 \nQ 25.484375 6.203125 34.421875 6.203125 \nQ 39.59375 6.203125 44.453125 7.46875 \nQ 49.3125 8.734375 54.109375 11.28125 \nL 54.109375 2.78125 \nQ 49.265625 0.734375 44.1875 -0.34375 \nQ 39.109375 -1.421875 33.890625 -1.421875 \nQ 20.796875 -1.421875 13.15625 6.1875 \nQ 5.515625 13.8125 5.515625 26.8125 \nQ 5.515625 40.234375 12.765625 48.109375 \nQ 20.015625 56 32.328125 56 \nQ 43.359375 56 49.78125 48.890625 \nQ 56.203125 41.796875 56.203125 29.59375 \nz\nM 47.21875 32.234375 \nQ 47.125 39.59375 43.09375 43.984375 \nQ 39.0625 48.390625 32.421875 48.390625 \nQ 24.90625 48.390625 20.390625 44.140625 \nQ 15.875 39.890625 15.1875 32.171875 \nz\n\" id=\"DejaVuSans-101\"/>\n      <path d=\"M 18.109375 8.203125 \nL 18.109375 -20.796875 \nL 9.078125 -20.796875 \nL 9.078125 54.6875 \nL 18.109375 54.6875 \nL 18.109375 46.390625 \nQ 20.953125 51.265625 25.265625 53.625 \nQ 29.59375 56 35.59375 56 \nQ 45.5625 56 51.78125 48.09375 \nQ 58.015625 40.1875 58.015625 27.296875 \nQ 58.015625 14.40625 51.78125 6.484375 \nQ 45.5625 -1.421875 35.59375 -1.421875 \nQ 29.59375 -1.421875 25.265625 0.953125 \nQ 20.953125 3.328125 18.109375 8.203125 \nz\nM 48.6875 27.296875 \nQ 48.6875 37.203125 44.609375 42.84375 \nQ 40.53125 48.484375 33.40625 48.484375 \nQ 26.265625 48.484375 22.1875 42.84375 \nQ 18.109375 37.203125 18.109375 27.296875 \nQ 18.109375 17.390625 22.1875 11.75 \nQ 26.265625 6.109375 33.40625 6.109375 \nQ 40.53125 6.109375 44.609375 11.75 \nQ 48.6875 17.390625 48.6875 27.296875 \nz\n\" id=\"DejaVuSans-112\"/>\n      <path d=\"M 30.609375 48.390625 \nQ 23.390625 48.390625 19.1875 42.75 \nQ 14.984375 37.109375 14.984375 27.296875 \nQ 14.984375 17.484375 19.15625 11.84375 \nQ 23.34375 6.203125 30.609375 6.203125 \nQ 37.796875 6.203125 41.984375 11.859375 \nQ 46.1875 17.53125 46.1875 27.296875 \nQ 46.1875 37.015625 41.984375 42.703125 \nQ 37.796875 48.390625 30.609375 48.390625 \nz\nM 30.609375 56 \nQ 42.328125 56 49.015625 48.375 \nQ 55.71875 40.765625 55.71875 27.296875 \nQ 55.71875 13.875 49.015625 6.21875 \nQ 42.328125 -1.421875 30.609375 -1.421875 \nQ 18.84375 -1.421875 12.171875 6.21875 \nQ 5.515625 13.875 5.515625 27.296875 \nQ 5.515625 40.765625 12.171875 48.375 \nQ 18.84375 56 30.609375 56 \nz\n\" id=\"DejaVuSans-111\"/>\n      <path d=\"M 48.78125 52.59375 \nL 48.78125 44.1875 \nQ 44.96875 46.296875 41.140625 47.34375 \nQ 37.3125 48.390625 33.40625 48.390625 \nQ 24.65625 48.390625 19.8125 42.84375 \nQ 14.984375 37.3125 14.984375 27.296875 \nQ 14.984375 17.28125 19.8125 11.734375 \nQ 24.65625 6.203125 33.40625 6.203125 \nQ 37.3125 6.203125 41.140625 7.25 \nQ 44.96875 8.296875 48.78125 10.40625 \nL 48.78125 2.09375 \nQ 45.015625 0.34375 40.984375 -0.53125 \nQ 36.96875 -1.421875 32.421875 -1.421875 \nQ 20.0625 -1.421875 12.78125 6.34375 \nQ 5.515625 14.109375 5.515625 27.296875 \nQ 5.515625 40.671875 12.859375 48.328125 \nQ 20.21875 56 33.015625 56 \nQ 37.15625 56 41.109375 55.140625 \nQ 45.0625 54.296875 48.78125 52.59375 \nz\n\" id=\"DejaVuSans-99\"/>\n      <path d=\"M 54.890625 33.015625 \nL 54.890625 0 \nL 45.90625 0 \nL 45.90625 32.71875 \nQ 45.90625 40.484375 42.875 44.328125 \nQ 39.84375 48.1875 33.796875 48.1875 \nQ 26.515625 48.1875 22.3125 43.546875 \nQ 18.109375 38.921875 18.109375 30.90625 \nL 18.109375 0 \nL 9.078125 0 \nL 9.078125 75.984375 \nL 18.109375 75.984375 \nL 18.109375 46.1875 \nQ 21.34375 51.125 25.703125 53.5625 \nQ 30.078125 56 35.796875 56 \nQ 45.21875 56 50.046875 50.171875 \nQ 54.890625 44.34375 54.890625 33.015625 \nz\n\" id=\"DejaVuSans-104\"/>\n     </defs>\n     <g transform=\"translate(123.025 186.494687)scale(0.1 -0.1)\">\n      <use xlink:href=\"#DejaVuSans-101\"/>\n      <use x=\"61.523438\" xlink:href=\"#DejaVuSans-112\"/>\n      <use x=\"125\" xlink:href=\"#DejaVuSans-111\"/>\n      <use x=\"186.181641\" xlink:href=\"#DejaVuSans-99\"/>\n      <use x=\"241.162109\" xlink:href=\"#DejaVuSans-104\"/>\n     </g>\n    </g>\n   </g>\n   <g id=\"matplotlib.axis_2\">\n    <g id=\"ytick_1\">\n     <g id=\"line2d_7\">\n      <defs>\n       <path d=\"M 0 0 \nL -3.5 0 \n\" id=\"m6bd60d4535\" style=\"stroke:#000000;stroke-width:0.8;\"/>\n      </defs>\n      <g>\n       <use style=\"stroke:#000000;stroke-width:0.8;\" x=\"40.603125\" xlink:href=\"#m6bd60d4535\" y=\"154.730571\"/>\n      </g>\n     </g>\n     <g id=\"text_8\">\n      <!-- 10 -->\n      <g transform=\"translate(20.878125 158.52979)scale(0.1 -0.1)\">\n       <use xlink:href=\"#DejaVuSans-49\"/>\n       <use x=\"63.623047\" xlink:href=\"#DejaVuSans-48\"/>\n      </g>\n     </g>\n    </g>\n    <g id=\"ytick_2\">\n     <g id=\"line2d_8\">\n      <g>\n       <use style=\"stroke:#000000;stroke-width:0.8;\" x=\"40.603125\" xlink:href=\"#m6bd60d4535\" y=\"125.031847\"/>\n      </g>\n     </g>\n     <g id=\"text_9\">\n      <!-- 15 -->\n      <defs>\n       <path d=\"M 10.796875 72.90625 \nL 49.515625 72.90625 \nL 49.515625 64.59375 \nL 19.828125 64.59375 \nL 19.828125 46.734375 \nQ 21.96875 47.46875 24.109375 47.828125 \nQ 26.265625 48.1875 28.421875 48.1875 \nQ 40.625 48.1875 47.75 41.5 \nQ 54.890625 34.8125 54.890625 23.390625 \nQ 54.890625 11.625 47.5625 5.09375 \nQ 40.234375 -1.421875 26.90625 -1.421875 \nQ 22.3125 -1.421875 17.546875 -0.640625 \nQ 12.796875 0.140625 7.71875 1.703125 \nL 7.71875 11.625 \nQ 12.109375 9.234375 16.796875 8.0625 \nQ 21.484375 6.890625 26.703125 6.890625 \nQ 35.15625 6.890625 40.078125 11.328125 \nQ 45.015625 15.765625 45.015625 23.390625 \nQ 45.015625 31 40.078125 35.4375 \nQ 35.15625 39.890625 26.703125 39.890625 \nQ 22.75 39.890625 18.8125 39.015625 \nQ 14.890625 38.140625 10.796875 36.28125 \nz\n\" id=\"DejaVuSans-53\"/>\n      </defs>\n      <g transform=\"translate(20.878125 128.831065)scale(0.1 -0.1)\">\n       <use xlink:href=\"#DejaVuSans-49\"/>\n       <use x=\"63.623047\" xlink:href=\"#DejaVuSans-53\"/>\n      </g>\n     </g>\n    </g>\n    <g id=\"ytick_3\">\n     <g id=\"line2d_9\">\n      <g>\n       <use style=\"stroke:#000000;stroke-width:0.8;\" x=\"40.603125\" xlink:href=\"#m6bd60d4535\" y=\"95.333122\"/>\n      </g>\n     </g>\n     <g id=\"text_10\">\n      <!-- 20 -->\n      <g transform=\"translate(20.878125 99.132341)scale(0.1 -0.1)\">\n       <use xlink:href=\"#DejaVuSans-50\"/>\n       <use x=\"63.623047\" xlink:href=\"#DejaVuSans-48\"/>\n      </g>\n     </g>\n    </g>\n    <g id=\"ytick_4\">\n     <g id=\"line2d_10\">\n      <g>\n       <use style=\"stroke:#000000;stroke-width:0.8;\" x=\"40.603125\" xlink:href=\"#m6bd60d4535\" y=\"65.634398\"/>\n      </g>\n     </g>\n     <g id=\"text_11\">\n      <!-- 25 -->\n      <g transform=\"translate(20.878125 69.433617)scale(0.1 -0.1)\">\n       <use xlink:href=\"#DejaVuSans-50\"/>\n       <use x=\"63.623047\" xlink:href=\"#DejaVuSans-53\"/>\n      </g>\n     </g>\n    </g>\n    <g id=\"ytick_5\">\n     <g id=\"line2d_11\">\n      <g>\n       <use style=\"stroke:#000000;stroke-width:0.8;\" x=\"40.603125\" xlink:href=\"#m6bd60d4535\" y=\"35.935674\"/>\n      </g>\n     </g>\n     <g id=\"text_12\">\n      <!-- 30 -->\n      <defs>\n       <path d=\"M 40.578125 39.3125 \nQ 47.65625 37.796875 51.625 33 \nQ 55.609375 28.21875 55.609375 21.1875 \nQ 55.609375 10.40625 48.1875 4.484375 \nQ 40.765625 -1.421875 27.09375 -1.421875 \nQ 22.515625 -1.421875 17.65625 -0.515625 \nQ 12.796875 0.390625 7.625 2.203125 \nL 7.625 11.71875 \nQ 11.71875 9.328125 16.59375 8.109375 \nQ 21.484375 6.890625 26.8125 6.890625 \nQ 36.078125 6.890625 40.9375 10.546875 \nQ 45.796875 14.203125 45.796875 21.1875 \nQ 45.796875 27.640625 41.28125 31.265625 \nQ 36.765625 34.90625 28.71875 34.90625 \nL 20.21875 34.90625 \nL 20.21875 43.015625 \nL 29.109375 43.015625 \nQ 36.375 43.015625 40.234375 45.921875 \nQ 44.09375 48.828125 44.09375 54.296875 \nQ 44.09375 59.90625 40.109375 62.90625 \nQ 36.140625 65.921875 28.71875 65.921875 \nQ 24.65625 65.921875 20.015625 65.03125 \nQ 15.375 64.15625 9.8125 62.3125 \nL 9.8125 71.09375 \nQ 15.4375 72.65625 20.34375 73.4375 \nQ 25.25 74.21875 29.59375 74.21875 \nQ 40.828125 74.21875 47.359375 69.109375 \nQ 53.90625 64.015625 53.90625 55.328125 \nQ 53.90625 49.265625 50.4375 45.09375 \nQ 46.96875 40.921875 40.578125 39.3125 \nz\n\" id=\"DejaVuSans-51\"/>\n      </defs>\n      <g transform=\"translate(20.878125 39.734893)scale(0.1 -0.1)\">\n       <use xlink:href=\"#DejaVuSans-51\"/>\n       <use x=\"63.623047\" xlink:href=\"#DejaVuSans-48\"/>\n      </g>\n     </g>\n    </g>\n    <g id=\"text_13\">\n     <!-- loss -->\n     <defs>\n      <path d=\"M 9.421875 75.984375 \nL 18.40625 75.984375 \nL 18.40625 0 \nL 9.421875 0 \nz\n\" id=\"DejaVuSans-108\"/>\n      <path d=\"M 44.28125 53.078125 \nL 44.28125 44.578125 \nQ 40.484375 46.53125 36.375 47.5 \nQ 32.28125 48.484375 27.875 48.484375 \nQ 21.1875 48.484375 17.84375 46.4375 \nQ 14.5 44.390625 14.5 40.28125 \nQ 14.5 37.15625 16.890625 35.375 \nQ 19.28125 33.59375 26.515625 31.984375 \nL 29.59375 31.296875 \nQ 39.15625 29.25 43.1875 25.515625 \nQ 47.21875 21.78125 47.21875 15.09375 \nQ 47.21875 7.46875 41.1875 3.015625 \nQ 35.15625 -1.421875 24.609375 -1.421875 \nQ 20.21875 -1.421875 15.453125 -0.5625 \nQ 10.6875 0.296875 5.421875 2 \nL 5.421875 11.28125 \nQ 10.40625 8.6875 15.234375 7.390625 \nQ 20.0625 6.109375 24.8125 6.109375 \nQ 31.15625 6.109375 34.5625 8.28125 \nQ 37.984375 10.453125 37.984375 14.40625 \nQ 37.984375 18.0625 35.515625 20.015625 \nQ 33.0625 21.96875 24.703125 23.78125 \nL 21.578125 24.515625 \nQ 13.234375 26.265625 9.515625 29.90625 \nQ 5.8125 33.546875 5.8125 39.890625 \nQ 5.8125 47.609375 11.28125 51.796875 \nQ 16.75 56 26.8125 56 \nQ 31.78125 56 36.171875 55.265625 \nQ 40.578125 54.546875 44.28125 53.078125 \nz\n\" id=\"DejaVuSans-115\"/>\n     </defs>\n     <g transform=\"translate(14.798437 99.925937)rotate(-90)scale(0.1 -0.1)\">\n      <use xlink:href=\"#DejaVuSans-108\"/>\n      <use x=\"27.783203\" xlink:href=\"#DejaVuSans-111\"/>\n      <use x=\"88.964844\" xlink:href=\"#DejaVuSans-115\"/>\n      <use x=\"141.064453\" xlink:href=\"#DejaVuSans-115\"/>\n     </g>\n    </g>\n   </g>\n   <g id=\"line2d_12\">\n    <path clip-path=\"url(#p255aa3a7a5)\" d=\"M 49.480398 28.495398 \nL 51.273786 104.488491 \nL 53.067175 109.461568 \nL 54.860563 111.593235 \nL 56.653951 113.242103 \nL 58.44734 114.713777 \nL 60.240728 116.054998 \nL 62.034117 117.315872 \nL 63.827505 118.972096 \nL 65.620894 120.580481 \nL 67.414282 121.619456 \nL 69.20767 122.574818 \nL 71.001059 123.483399 \nL 72.794447 124.34036 \nL 74.587836 125.161045 \nL 76.381224 125.942277 \nL 78.174613 126.688553 \nL 79.968001 127.404225 \nL 81.761389 128.091908 \nL 83.554778 128.756098 \nL 85.348166 129.392885 \nL 87.141555 130.009476 \nL 88.934943 130.602103 \nL 90.728332 131.17307 \nL 92.52172 131.726426 \nL 94.315108 132.263911 \nL 96.108497 132.785176 \nL 97.901885 133.289414 \nL 99.695274 133.779138 \nL 101.488662 134.254023 \nL 103.282051 134.71787 \nL 105.075439 135.165845 \nL 106.868827 135.602293 \nL 108.662216 136.028983 \nL 110.455604 136.443607 \nL 112.248993 136.849343 \nL 114.042381 137.243873 \nL 115.83577 137.631599 \nL 117.629158 138.008313 \nL 119.422546 138.378254 \nL 121.215935 138.738396 \nL 123.009323 139.091446 \nL 124.802712 139.435143 \nL 126.5961 139.772997 \nL 128.389489 140.103276 \nL 130.182877 140.428046 \nL 131.976265 140.746302 \nL 133.769654 141.058168 \nL 135.563042 141.36389 \nL 137.356431 141.663001 \nL 139.149819 141.958021 \nL 140.943208 142.246194 \nL 142.736596 142.529815 \nL 144.529985 142.807661 \nL 146.323373 143.081779 \nL 148.116761 143.349993 \nL 149.91015 143.615365 \nL 151.703538 143.875653 \nL 153.496927 144.131321 \nL 155.290315 144.383295 \nL 157.083704 144.63034 \nL 158.877092 144.873695 \nL 160.67048 145.113441 \nL 162.463869 145.349677 \nL 164.257257 145.581 \nL 166.050646 145.810126 \nL 167.844034 146.035355 \nL 169.637423 146.257992 \nL 171.430811 146.476469 \nL 173.224199 146.691671 \nL 175.017588 146.904768 \nL 176.810976 147.115011 \nL 178.604365 147.321591 \nL 180.397753 147.525671 \nL 182.191142 147.726775 \nL 183.98453 147.926081 \nL 185.777918 148.121973 \nL 187.571307 148.315779 \nL 189.364695 148.507162 \nL 191.158084 148.695967 \nL 192.951472 148.88277 \nL 194.744861 149.066997 \nL 196.538249 149.249688 \nL 198.331637 149.429444 \nL 200.125026 149.606677 \nL 201.918414 149.782246 \nL 203.711803 149.95538 \nL 205.505191 150.12675 \nL 207.29858 150.296042 \nL 209.091968 150.464273 \nL 210.885356 150.62953 \nL 212.678745 150.793265 \nL 214.472133 150.956007 \nL 216.265522 151.115675 \nL 218.05891 151.274086 \nL 219.852299 151.430782 \nL 221.645687 151.58591 \nL 223.439075 151.73907 \nL 225.232464 151.89062 \nL 227.025852 152.040852 \n\" style=\"fill:none;stroke:#1f77b4;stroke-linecap:square;stroke-width:1.5;\"/>\n   </g>\n   <g id=\"line2d_13\">\n    <path clip-path=\"url(#p255aa3a7a5)\" d=\"M 49.480398 96.783156 \nL 51.273786 107.482026 \nL 53.067175 110.301157 \nL 54.860563 112.171793 \nL 56.653951 113.776616 \nL 58.44734 115.212182 \nL 60.240728 116.54415 \nL 62.034117 117.778448 \nL 63.827505 119.379585 \nL 65.620894 120.502838 \nL 67.414282 121.496644 \nL 69.20767 122.43158 \nL 71.001059 123.313826 \nL 72.794447 124.1635 \nL 74.587836 124.966966 \nL 76.381224 125.732706 \nL 78.174613 126.46777 \nL 79.968001 127.170938 \nL 81.761389 127.850204 \nL 83.554778 128.503762 \nL 85.348166 129.133191 \nL 87.141555 129.738324 \nL 88.934943 130.321866 \nL 90.728332 130.885454 \nL 92.52172 131.435231 \nL 94.315108 131.964335 \nL 96.108497 132.479772 \nL 97.901885 132.978537 \nL 99.695274 133.461825 \nL 101.488662 133.934713 \nL 103.282051 134.391049 \nL 105.075439 134.835511 \nL 106.868827 135.270035 \nL 108.662216 135.690862 \nL 110.455604 136.102809 \nL 112.248993 136.502983 \nL 114.042381 136.898901 \nL 115.83577 137.280567 \nL 117.629158 137.654899 \nL 119.422546 138.020395 \nL 121.215935 138.379278 \nL 123.009323 138.728449 \nL 124.802712 139.071275 \nL 126.5961 139.405489 \nL 128.389489 139.73348 \nL 130.182877 140.057507 \nL 131.976265 140.37405 \nL 133.769654 140.683472 \nL 135.563042 140.986296 \nL 137.356431 141.286181 \nL 139.149819 141.578718 \nL 140.943208 141.865364 \nL 142.736596 142.14611 \nL 144.529985 142.423402 \nL 146.323373 142.694986 \nL 148.116761 142.96407 \nL 149.91015 143.227133 \nL 151.703538 143.486615 \nL 153.496927 143.741232 \nL 155.290315 143.991026 \nL 157.083704 144.237457 \nL 158.877092 144.479157 \nL 160.67048 144.71832 \nL 162.463869 144.952646 \nL 164.257257 145.184493 \nL 166.050646 145.41222 \nL 167.844034 145.637159 \nL 169.637423 145.857722 \nL 171.430811 146.075116 \nL 173.224199 146.290672 \nL 175.017588 146.50315 \nL 176.810976 146.712016 \nL 178.604365 146.917979 \nL 180.397753 147.120891 \nL 182.191142 147.322883 \nL 183.98453 147.520708 \nL 185.777918 147.716397 \nL 187.571307 147.90955 \nL 189.364695 148.10028 \nL 191.158084 148.288904 \nL 192.951472 148.475166 \nL 194.744861 148.65943 \nL 196.538249 148.840667 \nL 198.331637 149.020097 \nL 200.125026 149.197438 \nL 201.918414 149.371906 \nL 203.711803 149.544867 \nL 205.505191 149.716143 \nL 207.29858 149.88547 \nL 209.091968 150.052513 \nL 210.885356 150.217728 \nL 212.678745 150.38176 \nL 214.472133 150.542762 \nL 216.265522 150.703039 \nL 218.05891 150.861212 \nL 219.852299 151.017759 \nL 221.645687 151.172076 \nL 223.439075 151.324565 \nL 225.232464 151.476403 \nL 227.025852 151.626055 \n\" style=\"fill:none;stroke:#ff7f0e;stroke-linecap:square;stroke-width:1.5;\"/>\n   </g>\n   <g id=\"patch_3\">\n    <path d=\"M 40.603125 158.218125 \nL 40.603125 22.318125 \n\" style=\"fill:none;stroke:#000000;stroke-linecap:square;stroke-linejoin:miter;stroke-width:0.8;\"/>\n   </g>\n   <g id=\"patch_4\">\n    <path d=\"M 235.903125 158.218125 \nL 235.903125 22.318125 \n\" style=\"fill:none;stroke:#000000;stroke-linecap:square;stroke-linejoin:miter;stroke-width:0.8;\"/>\n   </g>\n   <g id=\"patch_5\">\n    <path d=\"M 40.603125 158.218125 \nL 235.903125 158.218125 \n\" style=\"fill:none;stroke:#000000;stroke-linecap:square;stroke-linejoin:miter;stroke-width:0.8;\"/>\n   </g>\n   <g id=\"patch_6\">\n    <path d=\"M 40.603125 22.318125 \nL 235.903125 22.318125 \n\" style=\"fill:none;stroke:#000000;stroke-linecap:square;stroke-linejoin:miter;stroke-width:0.8;\"/>\n   </g>\n   <g id=\"text_14\">\n    <!-- model loss -->\n    <defs>\n     <path d=\"M 52 44.1875 \nQ 55.375 50.25 60.0625 53.125 \nQ 64.75 56 71.09375 56 \nQ 79.640625 56 84.28125 50.015625 \nQ 88.921875 44.046875 88.921875 33.015625 \nL 88.921875 0 \nL 79.890625 0 \nL 79.890625 32.71875 \nQ 79.890625 40.578125 77.09375 44.375 \nQ 74.3125 48.1875 68.609375 48.1875 \nQ 61.625 48.1875 57.5625 43.546875 \nQ 53.515625 38.921875 53.515625 30.90625 \nL 53.515625 0 \nL 44.484375 0 \nL 44.484375 32.71875 \nQ 44.484375 40.625 41.703125 44.40625 \nQ 38.921875 48.1875 33.109375 48.1875 \nQ 26.21875 48.1875 22.15625 43.53125 \nQ 18.109375 38.875 18.109375 30.90625 \nL 18.109375 0 \nL 9.078125 0 \nL 9.078125 54.6875 \nL 18.109375 54.6875 \nL 18.109375 46.1875 \nQ 21.1875 51.21875 25.484375 53.609375 \nQ 29.78125 56 35.6875 56 \nQ 41.65625 56 45.828125 52.96875 \nQ 50 49.953125 52 44.1875 \nz\n\" id=\"DejaVuSans-109\"/>\n     <path d=\"M 45.40625 46.390625 \nL 45.40625 75.984375 \nL 54.390625 75.984375 \nL 54.390625 0 \nL 45.40625 0 \nL 45.40625 8.203125 \nQ 42.578125 3.328125 38.25 0.953125 \nQ 33.9375 -1.421875 27.875 -1.421875 \nQ 17.96875 -1.421875 11.734375 6.484375 \nQ 5.515625 14.40625 5.515625 27.296875 \nQ 5.515625 40.1875 11.734375 48.09375 \nQ 17.96875 56 27.875 56 \nQ 33.9375 56 38.25 53.625 \nQ 42.578125 51.265625 45.40625 46.390625 \nz\nM 14.796875 27.296875 \nQ 14.796875 17.390625 18.875 11.75 \nQ 22.953125 6.109375 30.078125 6.109375 \nQ 37.203125 6.109375 41.296875 11.75 \nQ 45.40625 17.390625 45.40625 27.296875 \nQ 45.40625 37.203125 41.296875 42.84375 \nQ 37.203125 48.484375 30.078125 48.484375 \nQ 22.953125 48.484375 18.875 42.84375 \nQ 14.796875 37.203125 14.796875 27.296875 \nz\n\" id=\"DejaVuSans-100\"/>\n     <path id=\"DejaVuSans-32\"/>\n    </defs>\n    <g transform=\"translate(106.073437 16.318125)scale(0.12 -0.12)\">\n     <use xlink:href=\"#DejaVuSans-109\"/>\n     <use x=\"97.412109\" xlink:href=\"#DejaVuSans-111\"/>\n     <use x=\"158.59375\" xlink:href=\"#DejaVuSans-100\"/>\n     <use x=\"222.070312\" xlink:href=\"#DejaVuSans-101\"/>\n     <use x=\"283.59375\" xlink:href=\"#DejaVuSans-108\"/>\n     <use x=\"311.376953\" xlink:href=\"#DejaVuSans-32\"/>\n     <use x=\"343.164062\" xlink:href=\"#DejaVuSans-108\"/>\n     <use x=\"370.947266\" xlink:href=\"#DejaVuSans-111\"/>\n     <use x=\"432.128906\" xlink:href=\"#DejaVuSans-115\"/>\n     <use x=\"484.228516\" xlink:href=\"#DejaVuSans-115\"/>\n    </g>\n   </g>\n   <g id=\"legend_1\">\n    <g id=\"patch_7\">\n     <path d=\"M 47.603125 59.674375 \nL 102.878125 59.674375 \nQ 104.878125 59.674375 104.878125 57.674375 \nL 104.878125 29.318125 \nQ 104.878125 27.318125 102.878125 27.318125 \nL 47.603125 27.318125 \nQ 45.603125 27.318125 45.603125 29.318125 \nL 45.603125 57.674375 \nQ 45.603125 59.674375 47.603125 59.674375 \nz\n\" style=\"fill:#ffffff;opacity:0.8;stroke:#cccccc;stroke-linejoin:miter;\"/>\n    </g>\n    <g id=\"line2d_14\">\n     <path d=\"M 49.603125 35.416562 \nL 69.603125 35.416562 \n\" style=\"fill:none;stroke:#1f77b4;stroke-linecap:square;stroke-width:1.5;\"/>\n    </g>\n    <g id=\"line2d_15\"/>\n    <g id=\"text_15\">\n     <!-- train -->\n     <defs>\n      <path d=\"M 18.3125 70.21875 \nL 18.3125 54.6875 \nL 36.8125 54.6875 \nL 36.8125 47.703125 \nL 18.3125 47.703125 \nL 18.3125 18.015625 \nQ 18.3125 11.328125 20.140625 9.421875 \nQ 21.96875 7.515625 27.59375 7.515625 \nL 36.8125 7.515625 \nL 36.8125 0 \nL 27.59375 0 \nQ 17.1875 0 13.234375 3.875 \nQ 9.28125 7.765625 9.28125 18.015625 \nL 9.28125 47.703125 \nL 2.6875 47.703125 \nL 2.6875 54.6875 \nL 9.28125 54.6875 \nL 9.28125 70.21875 \nz\n\" id=\"DejaVuSans-116\"/>\n      <path d=\"M 41.109375 46.296875 \nQ 39.59375 47.171875 37.8125 47.578125 \nQ 36.03125 48 33.890625 48 \nQ 26.265625 48 22.1875 43.046875 \nQ 18.109375 38.09375 18.109375 28.8125 \nL 18.109375 0 \nL 9.078125 0 \nL 9.078125 54.6875 \nL 18.109375 54.6875 \nL 18.109375 46.1875 \nQ 20.953125 51.171875 25.484375 53.578125 \nQ 30.03125 56 36.53125 56 \nQ 37.453125 56 38.578125 55.875 \nQ 39.703125 55.765625 41.0625 55.515625 \nz\n\" id=\"DejaVuSans-114\"/>\n      <path d=\"M 34.28125 27.484375 \nQ 23.390625 27.484375 19.1875 25 \nQ 14.984375 22.515625 14.984375 16.5 \nQ 14.984375 11.71875 18.140625 8.90625 \nQ 21.296875 6.109375 26.703125 6.109375 \nQ 34.1875 6.109375 38.703125 11.40625 \nQ 43.21875 16.703125 43.21875 25.484375 \nL 43.21875 27.484375 \nz\nM 52.203125 31.203125 \nL 52.203125 0 \nL 43.21875 0 \nL 43.21875 8.296875 \nQ 40.140625 3.328125 35.546875 0.953125 \nQ 30.953125 -1.421875 24.3125 -1.421875 \nQ 15.921875 -1.421875 10.953125 3.296875 \nQ 6 8.015625 6 15.921875 \nQ 6 25.140625 12.171875 29.828125 \nQ 18.359375 34.515625 30.609375 34.515625 \nL 43.21875 34.515625 \nL 43.21875 35.40625 \nQ 43.21875 41.609375 39.140625 45 \nQ 35.0625 48.390625 27.6875 48.390625 \nQ 23 48.390625 18.546875 47.265625 \nQ 14.109375 46.140625 10.015625 43.890625 \nL 10.015625 52.203125 \nQ 14.9375 54.109375 19.578125 55.046875 \nQ 24.21875 56 28.609375 56 \nQ 40.484375 56 46.34375 49.84375 \nQ 52.203125 43.703125 52.203125 31.203125 \nz\n\" id=\"DejaVuSans-97\"/>\n      <path d=\"M 9.421875 54.6875 \nL 18.40625 54.6875 \nL 18.40625 0 \nL 9.421875 0 \nz\nM 9.421875 75.984375 \nL 18.40625 75.984375 \nL 18.40625 64.59375 \nL 9.421875 64.59375 \nz\n\" id=\"DejaVuSans-105\"/>\n      <path d=\"M 54.890625 33.015625 \nL 54.890625 0 \nL 45.90625 0 \nL 45.90625 32.71875 \nQ 45.90625 40.484375 42.875 44.328125 \nQ 39.84375 48.1875 33.796875 48.1875 \nQ 26.515625 48.1875 22.3125 43.546875 \nQ 18.109375 38.921875 18.109375 30.90625 \nL 18.109375 0 \nL 9.078125 0 \nL 9.078125 54.6875 \nL 18.109375 54.6875 \nL 18.109375 46.1875 \nQ 21.34375 51.125 25.703125 53.5625 \nQ 30.078125 56 35.796875 56 \nQ 45.21875 56 50.046875 50.171875 \nQ 54.890625 44.34375 54.890625 33.015625 \nz\n\" id=\"DejaVuSans-110\"/>\n     </defs>\n     <g transform=\"translate(77.603125 38.916562)scale(0.1 -0.1)\">\n      <use xlink:href=\"#DejaVuSans-116\"/>\n      <use x=\"39.208984\" xlink:href=\"#DejaVuSans-114\"/>\n      <use x=\"80.322266\" xlink:href=\"#DejaVuSans-97\"/>\n      <use x=\"141.601562\" xlink:href=\"#DejaVuSans-105\"/>\n      <use x=\"169.384766\" xlink:href=\"#DejaVuSans-110\"/>\n     </g>\n    </g>\n    <g id=\"line2d_16\">\n     <path d=\"M 49.603125 50.094687 \nL 69.603125 50.094687 \n\" style=\"fill:none;stroke:#ff7f0e;stroke-linecap:square;stroke-width:1.5;\"/>\n    </g>\n    <g id=\"line2d_17\"/>\n    <g id=\"text_16\">\n     <!-- test -->\n     <g transform=\"translate(77.603125 53.594687)scale(0.1 -0.1)\">\n      <use xlink:href=\"#DejaVuSans-116\"/>\n      <use x=\"39.208984\" xlink:href=\"#DejaVuSans-101\"/>\n      <use x=\"100.732422\" xlink:href=\"#DejaVuSans-115\"/>\n      <use x=\"152.832031\" xlink:href=\"#DejaVuSans-116\"/>\n     </g>\n    </g>\n   </g>\n  </g>\n </g>\n <defs>\n  <clipPath id=\"p255aa3a7a5\">\n   <rect height=\"135.9\" width=\"195.3\" x=\"40.603125\" y=\"22.318125\"/>\n  </clipPath>\n </defs>\n</svg>\n"
          },
          "metadata": {
            "tags": []
          }
        },
        {
          "output_type": "stream",
          "text": [
            "Train on 1168 samples, validate on 292 samples\n",
            "Epoch 1/100\n",
            " - 2s - loss: 24.9589 - mean_squared_error: 37621221572.3836 - val_loss: 15.2659 - val_mean_squared_error: 40341451228.9315\n",
            "Epoch 2/100\n",
            " - 0s - loss: 14.4702 - mean_squared_error: 37004792088.5479 - val_loss: 14.1910 - val_mean_squared_error: 40147017307.1781\n",
            "Epoch 3/100\n",
            " - 0s - loss: 13.9390 - mean_squared_error: 36905876886.7945 - val_loss: 13.9784 - val_mean_squared_error: 40104729473.7534\n",
            "Epoch 4/100\n",
            " - 0s - loss: 13.7926 - mean_squared_error: 36877173998.4658 - val_loss: 13.8738 - val_mean_squared_error: 40083616333.1507\n",
            "Epoch 5/100\n",
            " - 0s - loss: 13.6978 - mean_squared_error: 36858292588.7123 - val_loss: 13.7857 - val_mean_squared_error: 40065610766.0274\n",
            "Epoch 6/100\n",
            " - 0s - loss: 13.6122 - mean_squared_error: 36840998940.0548 - val_loss: 13.7021 - val_mean_squared_error: 40048287575.6712\n",
            "Epoch 7/100\n",
            " - 0s - loss: 13.5298 - mean_squared_error: 36824196362.5205 - val_loss: 13.6210 - val_mean_squared_error: 40031229727.5616\n",
            "Epoch 8/100\n",
            " - 0s - loss: 13.4497 - mean_squared_error: 36807500140.7123 - val_loss: 13.5422 - val_mean_squared_error: 40014400469.9178\n",
            "Epoch 9/100\n",
            " - 0s - loss: 13.3719 - mean_squared_error: 36791064604.0548 - val_loss: 13.4656 - val_mean_squared_error: 39997859587.5069\n",
            "Epoch 10/100\n",
            " - 0s - loss: 13.2964 - mean_squared_error: 36774989094.5753 - val_loss: 13.3909 - val_mean_squared_error: 39981475559.4521\n",
            "Epoch 11/100\n",
            " - 0s - loss: 13.2227 - mean_squared_error: 36759032874.0822 - val_loss: 13.3183 - val_mean_squared_error: 39965400947.7260\n",
            "Epoch 12/100\n",
            " - 0s - loss: 13.1509 - mean_squared_error: 36743357341.8082 - val_loss: 13.2475 - val_mean_squared_error: 39949483330.6301\n",
            "Epoch 13/100\n",
            " - 0s - loss: 13.0810 - mean_squared_error: 36727919209.2055 - val_loss: 13.1784 - val_mean_squared_error: 39933741981.8082\n",
            "Epoch 14/100\n",
            " - 0s - loss: 13.0127 - mean_squared_error: 36712489072.2192 - val_loss: 13.1108 - val_mean_squared_error: 39918189077.0411\n",
            "Epoch 15/100\n",
            " - 0s - loss: 12.9460 - mean_squared_error: 36697355306.0822 - val_loss: 13.0449 - val_mean_squared_error: 39902829750.3562\n",
            "Epoch 16/100\n",
            " - 0s - loss: 12.8808 - mean_squared_error: 36682302281.6438 - val_loss: 12.9806 - val_mean_squared_error: 39887693711.7808\n",
            "Epoch 17/100\n",
            " - 0s - loss: 12.8173 - mean_squared_error: 36667617504.4384 - val_loss: 12.9177 - val_mean_squared_error: 39872690007.6712\n",
            "Epoch 18/100\n",
            " - 0s - loss: 12.7552 - mean_squared_error: 36653025083.6164 - val_loss: 12.8563 - val_mean_squared_error: 39857876571.1781\n",
            "Epoch 19/100\n",
            " - 0s - loss: 12.6944 - mean_squared_error: 36638532117.0411 - val_loss: 12.7963 - val_mean_squared_error: 39843275172.8219\n",
            "Epoch 20/100\n",
            " - 0s - loss: 12.6350 - mean_squared_error: 36624307550.6849 - val_loss: 12.7375 - val_mean_squared_error: 39828799824.6575\n",
            "Epoch 21/100\n",
            " - 0s - loss: 12.5768 - mean_squared_error: 36610165661.8082 - val_loss: 12.6799 - val_mean_squared_error: 39814488597.0411\n",
            "Epoch 22/100\n",
            " - 0s - loss: 12.5199 - mean_squared_error: 36596171649.7534 - val_loss: 12.6234 - val_mean_squared_error: 39800296462.0274\n",
            "Epoch 23/100\n",
            " - 0s - loss: 12.4640 - mean_squared_error: 36582354887.8904 - val_loss: 12.5681 - val_mean_squared_error: 39786266848.4384\n",
            "Epoch 24/100\n",
            " - 0s - loss: 12.4093 - mean_squared_error: 36568700282.7397 - val_loss: 12.5139 - val_mean_squared_error: 39772300610.6301\n",
            "Epoch 25/100\n",
            " - 0s - loss: 12.3557 - mean_squared_error: 36555104873.2055 - val_loss: 12.4608 - val_mean_squared_error: 39758569836.7123\n",
            "Epoch 26/100\n",
            " - 0s - loss: 12.3032 - mean_squared_error: 36541719089.0959 - val_loss: 12.4086 - val_mean_squared_error: 39744896042.0822\n",
            "Epoch 27/100\n",
            " - 0s - loss: 12.2516 - mean_squared_error: 36528357376.0000 - val_loss: 12.3576 - val_mean_squared_error: 39731454344.7671\n",
            "Epoch 28/100\n",
            " - 0s - loss: 12.2011 - mean_squared_error: 36515186603.8356 - val_loss: 12.3076 - val_mean_squared_error: 39718159766.7945\n",
            "Epoch 29/100\n",
            " - 0s - loss: 12.1515 - mean_squared_error: 36502276797.3699 - val_loss: 12.2583 - val_mean_squared_error: 39704909122.6301\n",
            "Epoch 30/100\n",
            " - 0s - loss: 12.1027 - mean_squared_error: 36489346567.0137 - val_loss: 12.2100 - val_mean_squared_error: 39691822683.1781\n",
            "Epoch 31/100\n",
            " - 0s - loss: 12.0550 - mean_squared_error: 36476578886.1370 - val_loss: 12.1626 - val_mean_squared_error: 39678886028.2740\n",
            "Epoch 32/100\n",
            " - 0s - loss: 12.0080 - mean_squared_error: 36463938012.9315 - val_loss: 12.1160 - val_mean_squared_error: 39666033958.5753\n",
            "Epoch 33/100\n",
            " - 0s - loss: 11.9619 - mean_squared_error: 36451365256.7671 - val_loss: 12.0702 - val_mean_squared_error: 39653261087.5616\n",
            "Epoch 34/100\n",
            " - 0s - loss: 11.9164 - mean_squared_error: 36438915717.2603 - val_loss: 12.0251 - val_mean_squared_error: 39640617913.8630\n",
            "Epoch 35/100\n",
            " - 0s - loss: 11.8718 - mean_squared_error: 36426502536.7671 - val_loss: 11.9808 - val_mean_squared_error: 39628075989.9178\n",
            "Epoch 36/100\n",
            " - 0s - loss: 11.8280 - mean_squared_error: 36414345580.7123 - val_loss: 11.9372 - val_mean_squared_error: 39615611104.4384\n",
            "Epoch 37/100\n",
            " - 0s - loss: 11.7848 - mean_squared_error: 36402179927.6712 - val_loss: 11.8944 - val_mean_squared_error: 39603311433.6438\n",
            "Epoch 38/100\n",
            " - 0s - loss: 11.7423 - mean_squared_error: 36390110642.8493 - val_loss: 11.8522 - val_mean_squared_error: 39591059456.0000\n",
            "Epoch 39/100\n",
            " - 0s - loss: 11.7005 - mean_squared_error: 36378184661.9178 - val_loss: 11.8106 - val_mean_squared_error: 39578892596.6027\n",
            "Epoch 40/100\n",
            " - 0s - loss: 11.6594 - mean_squared_error: 36366333418.9589 - val_loss: 11.7697 - val_mean_squared_error: 39566870079.1233\n",
            "Epoch 41/100\n",
            " - 0s - loss: 11.6189 - mean_squared_error: 36354651851.3973 - val_loss: 11.7295 - val_mean_squared_error: 39554894721.7534\n",
            "Epoch 42/100\n",
            " - 0s - loss: 11.5790 - mean_squared_error: 36342851780.3836 - val_loss: 11.6899 - val_mean_squared_error: 39543096277.9178\n",
            "Epoch 43/100\n",
            " - 0s - loss: 11.5397 - mean_squared_error: 36331342357.0411 - val_loss: 11.6508 - val_mean_squared_error: 39531336549.6986\n",
            "Epoch 44/100\n",
            " - 0s - loss: 11.5011 - mean_squared_error: 36319921418.5205 - val_loss: 11.6123 - val_mean_squared_error: 39519655178.5205\n",
            "Epoch 45/100\n",
            " - 0s - loss: 11.4629 - mean_squared_error: 36308465187.0685 - val_loss: 11.5745 - val_mean_squared_error: 39508108273.9726\n",
            "Epoch 46/100\n",
            " - 0s - loss: 11.4254 - mean_squared_error: 36297218188.2740 - val_loss: 11.5371 - val_mean_squared_error: 39496598429.8082\n",
            "Epoch 47/100\n",
            " - 0s - loss: 11.3883 - mean_squared_error: 36286001993.6438 - val_loss: 11.5002 - val_mean_squared_error: 39485162061.1507\n",
            "Epoch 48/100\n",
            " - 0s - loss: 11.3518 - mean_squared_error: 36274815817.6438 - val_loss: 11.4639 - val_mean_squared_error: 39473828260.8219\n",
            "Epoch 49/100\n",
            " - 0s - loss: 11.3158 - mean_squared_error: 36263712150.7945 - val_loss: 11.4281 - val_mean_squared_error: 39462600086.7945\n",
            "Epoch 50/100\n",
            " - 0s - loss: 11.2804 - mean_squared_error: 36252724855.2329 - val_loss: 11.3929 - val_mean_squared_error: 39451445781.0411\n",
            "Epoch 51/100\n",
            " - 0s - loss: 11.2454 - mean_squared_error: 36241920336.6575 - val_loss: 11.3580 - val_mean_squared_error: 39440316752.6575\n",
            "Epoch 52/100\n",
            " - 0s - loss: 11.2109 - mean_squared_error: 36231069499.6164 - val_loss: 11.3237 - val_mean_squared_error: 39429328503.2329\n",
            "Epoch 53/100\n",
            " - 0s - loss: 11.1769 - mean_squared_error: 36220355569.9726 - val_loss: 11.2898 - val_mean_squared_error: 39418398355.2877\n",
            "Epoch 54/100\n",
            " - 0s - loss: 11.1433 - mean_squared_error: 36209678840.9863 - val_loss: 11.2564 - val_mean_squared_error: 39407553465.8630\n",
            "Epoch 55/100\n",
            " - 0s - loss: 11.1101 - mean_squared_error: 36199040266.5205 - val_loss: 11.2234 - val_mean_squared_error: 39396788728.9863\n",
            "Epoch 56/100\n",
            " - 0s - loss: 11.0774 - mean_squared_error: 36188527742.2466 - val_loss: 11.1908 - val_mean_squared_error: 39386088770.6301\n",
            "Epoch 57/100\n",
            " - 0s - loss: 11.0451 - mean_squared_error: 36178010055.8904 - val_loss: 11.1587 - val_mean_squared_error: 39375432718.0274\n",
            "Epoch 58/100\n",
            " - 0s - loss: 11.0132 - mean_squared_error: 36167644847.3425 - val_loss: 11.1268 - val_mean_squared_error: 39364818102.3562\n",
            "Epoch 59/100\n",
            " - 0s - loss: 10.9817 - mean_squared_error: 36157294115.0685 - val_loss: 11.0955 - val_mean_squared_error: 39354308888.5479\n",
            "Epoch 60/100\n",
            " - 0s - loss: 10.9506 - mean_squared_error: 36147094121.2055 - val_loss: 11.0644 - val_mean_squared_error: 39343837408.4384\n",
            "Epoch 61/100\n",
            " - 0s - loss: 10.9198 - mean_squared_error: 36136886272.0000 - val_loss: 11.0338 - val_mean_squared_error: 39333456573.3699\n",
            "Epoch 62/100\n",
            " - 0s - loss: 10.8894 - mean_squared_error: 36126662992.6575 - val_loss: 11.0036 - val_mean_squared_error: 39323198309.6986\n",
            "Epoch 63/100\n",
            " - 0s - loss: 10.8595 - mean_squared_error: 36116728677.6986 - val_loss: 10.9737 - val_mean_squared_error: 39312926663.8904\n",
            "Epoch 64/100\n",
            " - 0s - loss: 10.8299 - mean_squared_error: 36106638097.5342 - val_loss: 10.9442 - val_mean_squared_error: 39302782078.2466\n",
            "Epoch 65/100\n",
            " - 0s - loss: 10.8006 - mean_squared_error: 36096776893.3699 - val_loss: 10.9150 - val_mean_squared_error: 39292640382.2466\n",
            "Epoch 66/100\n",
            " - 0s - loss: 10.7717 - mean_squared_error: 36086771880.3288 - val_loss: 10.8862 - val_mean_squared_error: 39282588461.5890\n",
            "Epoch 67/100\n",
            " - 0s - loss: 10.7431 - mean_squared_error: 36076992820.6027 - val_loss: 10.8577 - val_mean_squared_error: 39272568775.8904\n",
            "Epoch 68/100\n",
            " - 0s - loss: 10.7148 - mean_squared_error: 36067239038.2466 - val_loss: 10.8295 - val_mean_squared_error: 39262610642.4110\n",
            "Epoch 69/100\n",
            " - 0s - loss: 10.6868 - mean_squared_error: 36057480711.0137 - val_loss: 10.8016 - val_mean_squared_error: 39252755666.4110\n",
            "Epoch 70/100\n",
            " - 0s - loss: 10.6592 - mean_squared_error: 36047852978.8493 - val_loss: 10.7741 - val_mean_squared_error: 39242943922.8493\n",
            "Epoch 71/100\n",
            " - 0s - loss: 10.6318 - mean_squared_error: 36038236356.3836 - val_loss: 10.7468 - val_mean_squared_error: 39233168117.4795\n",
            "Epoch 72/100\n",
            " - 0s - loss: 10.6048 - mean_squared_error: 36028754509.1507 - val_loss: 10.7198 - val_mean_squared_error: 39223407377.5342\n",
            "Epoch 73/100\n",
            " - 0s - loss: 10.5780 - mean_squared_error: 36019219918.9041 - val_loss: 10.6931 - val_mean_squared_error: 39213757594.3014\n",
            "Epoch 74/100\n",
            " - 0s - loss: 10.5515 - mean_squared_error: 36009771484.9315 - val_loss: 10.6667 - val_mean_squared_error: 39204163612.0548\n",
            "Epoch 75/100\n",
            " - 0s - loss: 10.5254 - mean_squared_error: 36000435915.3973 - val_loss: 10.6406 - val_mean_squared_error: 39194603015.0137\n",
            "Epoch 76/100\n",
            " - 0s - loss: 10.4995 - mean_squared_error: 35991109968.6575 - val_loss: 10.6148 - val_mean_squared_error: 39185102735.7808\n",
            "Epoch 77/100\n",
            " - 0s - loss: 10.4738 - mean_squared_error: 35981793784.9863 - val_loss: 10.5893 - val_mean_squared_error: 39175686452.6027\n",
            "Epoch 78/100\n",
            " - 0s - loss: 10.4485 - mean_squared_error: 35972568134.1370 - val_loss: 10.5640 - val_mean_squared_error: 39166313710.4658\n",
            "Epoch 79/100\n",
            " - 0s - loss: 10.4234 - mean_squared_error: 35963368938.9589 - val_loss: 10.5390 - val_mean_squared_error: 39156967311.7808\n",
            "Epoch 80/100\n",
            " - 0s - loss: 10.3985 - mean_squared_error: 35954199622.1370 - val_loss: 10.5141 - val_mean_squared_error: 39147642767.7808\n",
            "Epoch 81/100\n",
            " - 0s - loss: 10.3739 - mean_squared_error: 35945137081.8630 - val_loss: 10.4896 - val_mean_squared_error: 39138367375.7808\n",
            "Epoch 82/100\n",
            " - 0s - loss: 10.3496 - mean_squared_error: 35936087390.6849 - val_loss: 10.4653 - val_mean_squared_error: 39129150001.0959\n",
            "Epoch 83/100\n",
            " - 0s - loss: 10.3255 - mean_squared_error: 35927060143.3425 - val_loss: 10.4412 - val_mean_squared_error: 39119982311.4521\n",
            "Epoch 84/100\n",
            " - 0s - loss: 10.3016 - mean_squared_error: 35918115713.7534 - val_loss: 10.4174 - val_mean_squared_error: 39110860687.7808\n",
            "Epoch 85/100\n",
            " - 0s - loss: 10.2780 - mean_squared_error: 35909231826.4110 - val_loss: 10.3938 - val_mean_squared_error: 39101780416.8767\n",
            "Epoch 86/100\n",
            " - 0s - loss: 10.2545 - mean_squared_error: 35900342889.2055 - val_loss: 10.3704 - val_mean_squared_error: 39092746099.7260\n",
            "Epoch 87/100\n",
            " - 0s - loss: 10.2313 - mean_squared_error: 35891535198.6849 - val_loss: 10.3473 - val_mean_squared_error: 39083768902.1370\n",
            "Epoch 88/100\n",
            " - 0s - loss: 10.2084 - mean_squared_error: 35882715893.4795 - val_loss: 10.3244 - val_mean_squared_error: 39074831879.0137\n",
            "Epoch 89/100\n",
            " - 0s - loss: 10.1857 - mean_squared_error: 35874023003.1781 - val_loss: 10.3016 - val_mean_squared_error: 39065920974.9041\n",
            "Epoch 90/100\n",
            " - 0s - loss: 10.1631 - mean_squared_error: 35865337182.6849 - val_loss: 10.2792 - val_mean_squared_error: 39057088063.1233\n",
            "Epoch 91/100\n",
            " - 0s - loss: 10.1408 - mean_squared_error: 35856714148.8219 - val_loss: 10.2569 - val_mean_squared_error: 39048301750.3562\n",
            "Epoch 92/100\n",
            " - 0s - loss: 10.1187 - mean_squared_error: 35848064911.7808 - val_loss: 10.2349 - val_mean_squared_error: 39039560521.6438\n",
            "Epoch 93/100\n",
            " - 0s - loss: 10.0968 - mean_squared_error: 35839568629.4795 - val_loss: 10.2130 - val_mean_squared_error: 39030817188.8219\n",
            "Epoch 94/100\n",
            " - 0s - loss: 10.0751 - mean_squared_error: 35831003332.3836 - val_loss: 10.1913 - val_mean_squared_error: 39022126346.5205\n",
            "Epoch 95/100\n",
            " - 0s - loss: 10.0536 - mean_squared_error: 35822488365.5890 - val_loss: 10.1698 - val_mean_squared_error: 39013482383.7808\n",
            "Epoch 96/100\n",
            " - 0s - loss: 10.0322 - mean_squared_error: 35814045387.3973 - val_loss: 10.1485 - val_mean_squared_error: 39004849250.1918\n",
            "Epoch 97/100\n",
            " - 0s - loss: 10.0111 - mean_squared_error: 35805642611.7260 - val_loss: 10.1274 - val_mean_squared_error: 38996264006.1370\n",
            "Epoch 98/100\n",
            " - 0s - loss: 9.9901 - mean_squared_error: 35797250468.8219 - val_loss: 10.1064 - val_mean_squared_error: 38987739107.9452\n",
            "Epoch 99/100\n",
            " - 0s - loss: 9.9694 - mean_squared_error: 35788888064.0000 - val_loss: 10.0857 - val_mean_squared_error: 38979262856.7671\n",
            "Epoch 100/100\n",
            " - 0s - loss: 9.9488 - mean_squared_error: 35780612657.0959 - val_loss: 10.0651 - val_mean_squared_error: 38970821169.0959\n"
          ],
          "name": "stdout"
        },
        {
          "output_type": "display_data",
          "data": {
            "text/plain": [
              "<Figure size 252x180 with 1 Axes>"
            ],
            "image/svg+xml": "<?xml version=\"1.0\" encoding=\"utf-8\" standalone=\"no\"?>\n<!DOCTYPE svg PUBLIC \"-//W3C//DTD SVG 1.1//EN\"\n  \"http://www.w3.org/Graphics/SVG/1.1/DTD/svg11.dtd\">\n<!-- Created with matplotlib (https://matplotlib.org/) -->\n<svg height=\"195.774375pt\" version=\"1.1\" viewBox=\"0 0 246.603125 195.774375\" width=\"246.603125pt\" xmlns=\"http://www.w3.org/2000/svg\" xmlns:xlink=\"http://www.w3.org/1999/xlink\">\n <defs>\n  <style type=\"text/css\">\n*{stroke-linecap:butt;stroke-linejoin:round;}\n  </style>\n </defs>\n <g id=\"figure_1\">\n  <g id=\"patch_1\">\n   <path d=\"M 0 195.774375 \nL 246.603125 195.774375 \nL 246.603125 0 \nL 0 0 \nz\n\" style=\"fill:none;\"/>\n  </g>\n  <g id=\"axes_1\">\n   <g id=\"patch_2\">\n    <path d=\"M 40.603125 158.218125 \nL 235.903125 158.218125 \nL 235.903125 22.318125 \nL 40.603125 22.318125 \nz\n\" style=\"fill:#ffffff;\"/>\n   </g>\n   <g id=\"matplotlib.axis_1\">\n    <g id=\"xtick_1\">\n     <g id=\"line2d_1\">\n      <defs>\n       <path d=\"M 0 0 \nL 0 3.5 \n\" id=\"mfa5c8b8249\" style=\"stroke:#000000;stroke-width:0.8;\"/>\n      </defs>\n      <g>\n       <use style=\"stroke:#000000;stroke-width:0.8;\" x=\"49.480398\" xlink:href=\"#mfa5c8b8249\" y=\"158.218125\"/>\n      </g>\n     </g>\n     <g id=\"text_1\">\n      <!-- 0 -->\n      <defs>\n       <path d=\"M 31.78125 66.40625 \nQ 24.171875 66.40625 20.328125 58.90625 \nQ 16.5 51.421875 16.5 36.375 \nQ 16.5 21.390625 20.328125 13.890625 \nQ 24.171875 6.390625 31.78125 6.390625 \nQ 39.453125 6.390625 43.28125 13.890625 \nQ 47.125 21.390625 47.125 36.375 \nQ 47.125 51.421875 43.28125 58.90625 \nQ 39.453125 66.40625 31.78125 66.40625 \nz\nM 31.78125 74.21875 \nQ 44.046875 74.21875 50.515625 64.515625 \nQ 56.984375 54.828125 56.984375 36.375 \nQ 56.984375 17.96875 50.515625 8.265625 \nQ 44.046875 -1.421875 31.78125 -1.421875 \nQ 19.53125 -1.421875 13.0625 8.265625 \nQ 6.59375 17.96875 6.59375 36.375 \nQ 6.59375 54.828125 13.0625 64.515625 \nQ 19.53125 74.21875 31.78125 74.21875 \nz\n\" id=\"DejaVuSans-48\"/>\n      </defs>\n      <g transform=\"translate(46.299148 172.816562)scale(0.1 -0.1)\">\n       <use xlink:href=\"#DejaVuSans-48\"/>\n      </g>\n     </g>\n    </g>\n    <g id=\"xtick_2\">\n     <g id=\"line2d_2\">\n      <g>\n       <use style=\"stroke:#000000;stroke-width:0.8;\" x=\"85.348166\" xlink:href=\"#mfa5c8b8249\" y=\"158.218125\"/>\n      </g>\n     </g>\n     <g id=\"text_2\">\n      <!-- 20 -->\n      <defs>\n       <path d=\"M 19.1875 8.296875 \nL 53.609375 8.296875 \nL 53.609375 0 \nL 7.328125 0 \nL 7.328125 8.296875 \nQ 12.9375 14.109375 22.625 23.890625 \nQ 32.328125 33.6875 34.8125 36.53125 \nQ 39.546875 41.84375 41.421875 45.53125 \nQ 43.3125 49.21875 43.3125 52.78125 \nQ 43.3125 58.59375 39.234375 62.25 \nQ 35.15625 65.921875 28.609375 65.921875 \nQ 23.96875 65.921875 18.8125 64.3125 \nQ 13.671875 62.703125 7.8125 59.421875 \nL 7.8125 69.390625 \nQ 13.765625 71.78125 18.9375 73 \nQ 24.125 74.21875 28.421875 74.21875 \nQ 39.75 74.21875 46.484375 68.546875 \nQ 53.21875 62.890625 53.21875 53.421875 \nQ 53.21875 48.921875 51.53125 44.890625 \nQ 49.859375 40.875 45.40625 35.40625 \nQ 44.1875 33.984375 37.640625 27.21875 \nQ 31.109375 20.453125 19.1875 8.296875 \nz\n\" id=\"DejaVuSans-50\"/>\n      </defs>\n      <g transform=\"translate(78.985666 172.816562)scale(0.1 -0.1)\">\n       <use xlink:href=\"#DejaVuSans-50\"/>\n       <use x=\"63.623047\" xlink:href=\"#DejaVuSans-48\"/>\n      </g>\n     </g>\n    </g>\n    <g id=\"xtick_3\">\n     <g id=\"line2d_3\">\n      <g>\n       <use style=\"stroke:#000000;stroke-width:0.8;\" x=\"121.215935\" xlink:href=\"#mfa5c8b8249\" y=\"158.218125\"/>\n      </g>\n     </g>\n     <g id=\"text_3\">\n      <!-- 40 -->\n      <defs>\n       <path d=\"M 37.796875 64.3125 \nL 12.890625 25.390625 \nL 37.796875 25.390625 \nz\nM 35.203125 72.90625 \nL 47.609375 72.90625 \nL 47.609375 25.390625 \nL 58.015625 25.390625 \nL 58.015625 17.1875 \nL 47.609375 17.1875 \nL 47.609375 0 \nL 37.796875 0 \nL 37.796875 17.1875 \nL 4.890625 17.1875 \nL 4.890625 26.703125 \nz\n\" id=\"DejaVuSans-52\"/>\n      </defs>\n      <g transform=\"translate(114.853435 172.816562)scale(0.1 -0.1)\">\n       <use xlink:href=\"#DejaVuSans-52\"/>\n       <use x=\"63.623047\" xlink:href=\"#DejaVuSans-48\"/>\n      </g>\n     </g>\n    </g>\n    <g id=\"xtick_4\">\n     <g id=\"line2d_4\">\n      <g>\n       <use style=\"stroke:#000000;stroke-width:0.8;\" x=\"157.083704\" xlink:href=\"#mfa5c8b8249\" y=\"158.218125\"/>\n      </g>\n     </g>\n     <g id=\"text_4\">\n      <!-- 60 -->\n      <defs>\n       <path d=\"M 33.015625 40.375 \nQ 26.375 40.375 22.484375 35.828125 \nQ 18.609375 31.296875 18.609375 23.390625 \nQ 18.609375 15.53125 22.484375 10.953125 \nQ 26.375 6.390625 33.015625 6.390625 \nQ 39.65625 6.390625 43.53125 10.953125 \nQ 47.40625 15.53125 47.40625 23.390625 \nQ 47.40625 31.296875 43.53125 35.828125 \nQ 39.65625 40.375 33.015625 40.375 \nz\nM 52.59375 71.296875 \nL 52.59375 62.3125 \nQ 48.875 64.0625 45.09375 64.984375 \nQ 41.3125 65.921875 37.59375 65.921875 \nQ 27.828125 65.921875 22.671875 59.328125 \nQ 17.53125 52.734375 16.796875 39.40625 \nQ 19.671875 43.65625 24.015625 45.921875 \nQ 28.375 48.1875 33.59375 48.1875 \nQ 44.578125 48.1875 50.953125 41.515625 \nQ 57.328125 34.859375 57.328125 23.390625 \nQ 57.328125 12.15625 50.6875 5.359375 \nQ 44.046875 -1.421875 33.015625 -1.421875 \nQ 20.359375 -1.421875 13.671875 8.265625 \nQ 6.984375 17.96875 6.984375 36.375 \nQ 6.984375 53.65625 15.1875 63.9375 \nQ 23.390625 74.21875 37.203125 74.21875 \nQ 40.921875 74.21875 44.703125 73.484375 \nQ 48.484375 72.75 52.59375 71.296875 \nz\n\" id=\"DejaVuSans-54\"/>\n      </defs>\n      <g transform=\"translate(150.721204 172.816562)scale(0.1 -0.1)\">\n       <use xlink:href=\"#DejaVuSans-54\"/>\n       <use x=\"63.623047\" xlink:href=\"#DejaVuSans-48\"/>\n      </g>\n     </g>\n    </g>\n    <g id=\"xtick_5\">\n     <g id=\"line2d_5\">\n      <g>\n       <use style=\"stroke:#000000;stroke-width:0.8;\" x=\"192.951472\" xlink:href=\"#mfa5c8b8249\" y=\"158.218125\"/>\n      </g>\n     </g>\n     <g id=\"text_5\">\n      <!-- 80 -->\n      <defs>\n       <path d=\"M 31.78125 34.625 \nQ 24.75 34.625 20.71875 30.859375 \nQ 16.703125 27.09375 16.703125 20.515625 \nQ 16.703125 13.921875 20.71875 10.15625 \nQ 24.75 6.390625 31.78125 6.390625 \nQ 38.8125 6.390625 42.859375 10.171875 \nQ 46.921875 13.96875 46.921875 20.515625 \nQ 46.921875 27.09375 42.890625 30.859375 \nQ 38.875 34.625 31.78125 34.625 \nz\nM 21.921875 38.8125 \nQ 15.578125 40.375 12.03125 44.71875 \nQ 8.5 49.078125 8.5 55.328125 \nQ 8.5 64.0625 14.71875 69.140625 \nQ 20.953125 74.21875 31.78125 74.21875 \nQ 42.671875 74.21875 48.875 69.140625 \nQ 55.078125 64.0625 55.078125 55.328125 \nQ 55.078125 49.078125 51.53125 44.71875 \nQ 48 40.375 41.703125 38.8125 \nQ 48.828125 37.15625 52.796875 32.3125 \nQ 56.78125 27.484375 56.78125 20.515625 \nQ 56.78125 9.90625 50.3125 4.234375 \nQ 43.84375 -1.421875 31.78125 -1.421875 \nQ 19.734375 -1.421875 13.25 4.234375 \nQ 6.78125 9.90625 6.78125 20.515625 \nQ 6.78125 27.484375 10.78125 32.3125 \nQ 14.796875 37.15625 21.921875 38.8125 \nz\nM 18.3125 54.390625 \nQ 18.3125 48.734375 21.84375 45.5625 \nQ 25.390625 42.390625 31.78125 42.390625 \nQ 38.140625 42.390625 41.71875 45.5625 \nQ 45.3125 48.734375 45.3125 54.390625 \nQ 45.3125 60.0625 41.71875 63.234375 \nQ 38.140625 66.40625 31.78125 66.40625 \nQ 25.390625 66.40625 21.84375 63.234375 \nQ 18.3125 60.0625 18.3125 54.390625 \nz\n\" id=\"DejaVuSans-56\"/>\n      </defs>\n      <g transform=\"translate(186.588972 172.816562)scale(0.1 -0.1)\">\n       <use xlink:href=\"#DejaVuSans-56\"/>\n       <use x=\"63.623047\" xlink:href=\"#DejaVuSans-48\"/>\n      </g>\n     </g>\n    </g>\n    <g id=\"xtick_6\">\n     <g id=\"line2d_6\">\n      <g>\n       <use style=\"stroke:#000000;stroke-width:0.8;\" x=\"228.819241\" xlink:href=\"#mfa5c8b8249\" y=\"158.218125\"/>\n      </g>\n     </g>\n     <g id=\"text_6\">\n      <!-- 100 -->\n      <defs>\n       <path d=\"M 12.40625 8.296875 \nL 28.515625 8.296875 \nL 28.515625 63.921875 \nL 10.984375 60.40625 \nL 10.984375 69.390625 \nL 28.421875 72.90625 \nL 38.28125 72.90625 \nL 38.28125 8.296875 \nL 54.390625 8.296875 \nL 54.390625 0 \nL 12.40625 0 \nz\n\" id=\"DejaVuSans-49\"/>\n      </defs>\n      <g transform=\"translate(219.275491 172.816562)scale(0.1 -0.1)\">\n       <use xlink:href=\"#DejaVuSans-49\"/>\n       <use x=\"63.623047\" xlink:href=\"#DejaVuSans-48\"/>\n       <use x=\"127.246094\" xlink:href=\"#DejaVuSans-48\"/>\n      </g>\n     </g>\n    </g>\n    <g id=\"text_7\">\n     <!-- epoch -->\n     <defs>\n      <path d=\"M 56.203125 29.59375 \nL 56.203125 25.203125 \nL 14.890625 25.203125 \nQ 15.484375 15.921875 20.484375 11.0625 \nQ 25.484375 6.203125 34.421875 6.203125 \nQ 39.59375 6.203125 44.453125 7.46875 \nQ 49.3125 8.734375 54.109375 11.28125 \nL 54.109375 2.78125 \nQ 49.265625 0.734375 44.1875 -0.34375 \nQ 39.109375 -1.421875 33.890625 -1.421875 \nQ 20.796875 -1.421875 13.15625 6.1875 \nQ 5.515625 13.8125 5.515625 26.8125 \nQ 5.515625 40.234375 12.765625 48.109375 \nQ 20.015625 56 32.328125 56 \nQ 43.359375 56 49.78125 48.890625 \nQ 56.203125 41.796875 56.203125 29.59375 \nz\nM 47.21875 32.234375 \nQ 47.125 39.59375 43.09375 43.984375 \nQ 39.0625 48.390625 32.421875 48.390625 \nQ 24.90625 48.390625 20.390625 44.140625 \nQ 15.875 39.890625 15.1875 32.171875 \nz\n\" id=\"DejaVuSans-101\"/>\n      <path d=\"M 18.109375 8.203125 \nL 18.109375 -20.796875 \nL 9.078125 -20.796875 \nL 9.078125 54.6875 \nL 18.109375 54.6875 \nL 18.109375 46.390625 \nQ 20.953125 51.265625 25.265625 53.625 \nQ 29.59375 56 35.59375 56 \nQ 45.5625 56 51.78125 48.09375 \nQ 58.015625 40.1875 58.015625 27.296875 \nQ 58.015625 14.40625 51.78125 6.484375 \nQ 45.5625 -1.421875 35.59375 -1.421875 \nQ 29.59375 -1.421875 25.265625 0.953125 \nQ 20.953125 3.328125 18.109375 8.203125 \nz\nM 48.6875 27.296875 \nQ 48.6875 37.203125 44.609375 42.84375 \nQ 40.53125 48.484375 33.40625 48.484375 \nQ 26.265625 48.484375 22.1875 42.84375 \nQ 18.109375 37.203125 18.109375 27.296875 \nQ 18.109375 17.390625 22.1875 11.75 \nQ 26.265625 6.109375 33.40625 6.109375 \nQ 40.53125 6.109375 44.609375 11.75 \nQ 48.6875 17.390625 48.6875 27.296875 \nz\n\" id=\"DejaVuSans-112\"/>\n      <path d=\"M 30.609375 48.390625 \nQ 23.390625 48.390625 19.1875 42.75 \nQ 14.984375 37.109375 14.984375 27.296875 \nQ 14.984375 17.484375 19.15625 11.84375 \nQ 23.34375 6.203125 30.609375 6.203125 \nQ 37.796875 6.203125 41.984375 11.859375 \nQ 46.1875 17.53125 46.1875 27.296875 \nQ 46.1875 37.015625 41.984375 42.703125 \nQ 37.796875 48.390625 30.609375 48.390625 \nz\nM 30.609375 56 \nQ 42.328125 56 49.015625 48.375 \nQ 55.71875 40.765625 55.71875 27.296875 \nQ 55.71875 13.875 49.015625 6.21875 \nQ 42.328125 -1.421875 30.609375 -1.421875 \nQ 18.84375 -1.421875 12.171875 6.21875 \nQ 5.515625 13.875 5.515625 27.296875 \nQ 5.515625 40.765625 12.171875 48.375 \nQ 18.84375 56 30.609375 56 \nz\n\" id=\"DejaVuSans-111\"/>\n      <path d=\"M 48.78125 52.59375 \nL 48.78125 44.1875 \nQ 44.96875 46.296875 41.140625 47.34375 \nQ 37.3125 48.390625 33.40625 48.390625 \nQ 24.65625 48.390625 19.8125 42.84375 \nQ 14.984375 37.3125 14.984375 27.296875 \nQ 14.984375 17.28125 19.8125 11.734375 \nQ 24.65625 6.203125 33.40625 6.203125 \nQ 37.3125 6.203125 41.140625 7.25 \nQ 44.96875 8.296875 48.78125 10.40625 \nL 48.78125 2.09375 \nQ 45.015625 0.34375 40.984375 -0.53125 \nQ 36.96875 -1.421875 32.421875 -1.421875 \nQ 20.0625 -1.421875 12.78125 6.34375 \nQ 5.515625 14.109375 5.515625 27.296875 \nQ 5.515625 40.671875 12.859375 48.328125 \nQ 20.21875 56 33.015625 56 \nQ 37.15625 56 41.109375 55.140625 \nQ 45.0625 54.296875 48.78125 52.59375 \nz\n\" id=\"DejaVuSans-99\"/>\n      <path d=\"M 54.890625 33.015625 \nL 54.890625 0 \nL 45.90625 0 \nL 45.90625 32.71875 \nQ 45.90625 40.484375 42.875 44.328125 \nQ 39.84375 48.1875 33.796875 48.1875 \nQ 26.515625 48.1875 22.3125 43.546875 \nQ 18.109375 38.921875 18.109375 30.90625 \nL 18.109375 0 \nL 9.078125 0 \nL 9.078125 75.984375 \nL 18.109375 75.984375 \nL 18.109375 46.1875 \nQ 21.34375 51.125 25.703125 53.5625 \nQ 30.078125 56 35.796875 56 \nQ 45.21875 56 50.046875 50.171875 \nQ 54.890625 44.34375 54.890625 33.015625 \nz\n\" id=\"DejaVuSans-104\"/>\n     </defs>\n     <g transform=\"translate(123.025 186.494687)scale(0.1 -0.1)\">\n      <use xlink:href=\"#DejaVuSans-101\"/>\n      <use x=\"61.523438\" xlink:href=\"#DejaVuSans-112\"/>\n      <use x=\"125\" xlink:href=\"#DejaVuSans-111\"/>\n      <use x=\"186.181641\" xlink:href=\"#DejaVuSans-99\"/>\n      <use x=\"241.162109\" xlink:href=\"#DejaVuSans-104\"/>\n     </g>\n    </g>\n   </g>\n   <g id=\"matplotlib.axis_2\">\n    <g id=\"ytick_1\">\n     <g id=\"line2d_7\">\n      <defs>\n       <path d=\"M 0 0 \nL -3.5 0 \n\" id=\"m8a891fde7f\" style=\"stroke:#000000;stroke-width:0.8;\"/>\n      </defs>\n      <g>\n       <use style=\"stroke:#000000;stroke-width:0.8;\" x=\"40.603125\" xlink:href=\"#m8a891fde7f\" y=\"151.61941\"/>\n      </g>\n     </g>\n     <g id=\"text_8\">\n      <!-- 10 -->\n      <g transform=\"translate(20.878125 155.418629)scale(0.1 -0.1)\">\n       <use xlink:href=\"#DejaVuSans-49\"/>\n       <use x=\"63.623047\" xlink:href=\"#DejaVuSans-48\"/>\n      </g>\n     </g>\n    </g>\n    <g id=\"ytick_2\">\n     <g id=\"line2d_8\">\n      <g>\n       <use style=\"stroke:#000000;stroke-width:0.8;\" x=\"40.603125\" xlink:href=\"#m8a891fde7f\" y=\"110.46526\"/>\n      </g>\n     </g>\n     <g id=\"text_9\">\n      <!-- 15 -->\n      <defs>\n       <path d=\"M 10.796875 72.90625 \nL 49.515625 72.90625 \nL 49.515625 64.59375 \nL 19.828125 64.59375 \nL 19.828125 46.734375 \nQ 21.96875 47.46875 24.109375 47.828125 \nQ 26.265625 48.1875 28.421875 48.1875 \nQ 40.625 48.1875 47.75 41.5 \nQ 54.890625 34.8125 54.890625 23.390625 \nQ 54.890625 11.625 47.5625 5.09375 \nQ 40.234375 -1.421875 26.90625 -1.421875 \nQ 22.3125 -1.421875 17.546875 -0.640625 \nQ 12.796875 0.140625 7.71875 1.703125 \nL 7.71875 11.625 \nQ 12.109375 9.234375 16.796875 8.0625 \nQ 21.484375 6.890625 26.703125 6.890625 \nQ 35.15625 6.890625 40.078125 11.328125 \nQ 45.015625 15.765625 45.015625 23.390625 \nQ 45.015625 31 40.078125 35.4375 \nQ 35.15625 39.890625 26.703125 39.890625 \nQ 22.75 39.890625 18.8125 39.015625 \nQ 14.890625 38.140625 10.796875 36.28125 \nz\n\" id=\"DejaVuSans-53\"/>\n      </defs>\n      <g transform=\"translate(20.878125 114.264479)scale(0.1 -0.1)\">\n       <use xlink:href=\"#DejaVuSans-49\"/>\n       <use x=\"63.623047\" xlink:href=\"#DejaVuSans-53\"/>\n      </g>\n     </g>\n    </g>\n    <g id=\"ytick_3\">\n     <g id=\"line2d_9\">\n      <g>\n       <use style=\"stroke:#000000;stroke-width:0.8;\" x=\"40.603125\" xlink:href=\"#m8a891fde7f\" y=\"69.31111\"/>\n      </g>\n     </g>\n     <g id=\"text_10\">\n      <!-- 20 -->\n      <g transform=\"translate(20.878125 73.110329)scale(0.1 -0.1)\">\n       <use xlink:href=\"#DejaVuSans-50\"/>\n       <use x=\"63.623047\" xlink:href=\"#DejaVuSans-48\"/>\n      </g>\n     </g>\n    </g>\n    <g id=\"ytick_4\">\n     <g id=\"line2d_10\">\n      <g>\n       <use style=\"stroke:#000000;stroke-width:0.8;\" x=\"40.603125\" xlink:href=\"#m8a891fde7f\" y=\"28.15696\"/>\n      </g>\n     </g>\n     <g id=\"text_11\">\n      <!-- 25 -->\n      <g transform=\"translate(20.878125 31.956179)scale(0.1 -0.1)\">\n       <use xlink:href=\"#DejaVuSans-50\"/>\n       <use x=\"63.623047\" xlink:href=\"#DejaVuSans-53\"/>\n      </g>\n     </g>\n    </g>\n    <g id=\"text_12\">\n     <!-- loss -->\n     <defs>\n      <path d=\"M 9.421875 75.984375 \nL 18.40625 75.984375 \nL 18.40625 0 \nL 9.421875 0 \nz\n\" id=\"DejaVuSans-108\"/>\n      <path d=\"M 44.28125 53.078125 \nL 44.28125 44.578125 \nQ 40.484375 46.53125 36.375 47.5 \nQ 32.28125 48.484375 27.875 48.484375 \nQ 21.1875 48.484375 17.84375 46.4375 \nQ 14.5 44.390625 14.5 40.28125 \nQ 14.5 37.15625 16.890625 35.375 \nQ 19.28125 33.59375 26.515625 31.984375 \nL 29.59375 31.296875 \nQ 39.15625 29.25 43.1875 25.515625 \nQ 47.21875 21.78125 47.21875 15.09375 \nQ 47.21875 7.46875 41.1875 3.015625 \nQ 35.15625 -1.421875 24.609375 -1.421875 \nQ 20.21875 -1.421875 15.453125 -0.5625 \nQ 10.6875 0.296875 5.421875 2 \nL 5.421875 11.28125 \nQ 10.40625 8.6875 15.234375 7.390625 \nQ 20.0625 6.109375 24.8125 6.109375 \nQ 31.15625 6.109375 34.5625 8.28125 \nQ 37.984375 10.453125 37.984375 14.40625 \nQ 37.984375 18.0625 35.515625 20.015625 \nQ 33.0625 21.96875 24.703125 23.78125 \nL 21.578125 24.515625 \nQ 13.234375 26.265625 9.515625 29.90625 \nQ 5.8125 33.546875 5.8125 39.890625 \nQ 5.8125 47.609375 11.28125 51.796875 \nQ 16.75 56 26.8125 56 \nQ 31.78125 56 36.171875 55.265625 \nQ 40.578125 54.546875 44.28125 53.078125 \nz\n\" id=\"DejaVuSans-115\"/>\n     </defs>\n     <g transform=\"translate(14.798437 99.925937)rotate(-90)scale(0.1 -0.1)\">\n      <use xlink:href=\"#DejaVuSans-108\"/>\n      <use x=\"27.783203\" xlink:href=\"#DejaVuSans-111\"/>\n      <use x=\"88.964844\" xlink:href=\"#DejaVuSans-115\"/>\n      <use x=\"141.064453\" xlink:href=\"#DejaVuSans-115\"/>\n     </g>\n    </g>\n   </g>\n   <g id=\"line2d_11\">\n    <path clip-path=\"url(#pe58309bae1)\" d=\"M 49.480398 28.495398 \nL 51.273786 114.826086 \nL 53.067175 119.198514 \nL 54.860563 120.403188 \nL 56.653951 121.183331 \nL 58.44734 121.887967 \nL 60.240728 122.566095 \nL 62.034117 123.225476 \nL 63.827505 123.865512 \nL 65.620894 124.487576 \nL 67.414282 125.094043 \nL 69.20767 125.6845 \nL 71.001059 126.260358 \nL 72.794447 126.822455 \nL 74.587836 127.37156 \nL 76.381224 127.907704 \nL 78.174613 128.430494 \nL 79.968001 128.942199 \nL 81.761389 129.442405 \nL 83.554778 129.930949 \nL 85.348166 130.410117 \nL 87.141555 130.878712 \nL 88.934943 131.338741 \nL 90.728332 131.788746 \nL 92.52172 132.230447 \nL 94.315108 132.662484 \nL 96.108497 133.087245 \nL 97.901885 133.502901 \nL 99.695274 133.910903 \nL 101.488662 134.31204 \nL 103.282051 134.70534 \nL 105.075439 135.091656 \nL 106.868827 135.471678 \nL 108.662216 135.845533 \nL 110.455604 136.212753 \nL 112.248993 136.573778 \nL 114.042381 136.928981 \nL 115.83577 137.278582 \nL 117.629158 137.622626 \nL 119.422546 137.961429 \nL 121.215935 138.294534 \nL 123.009323 138.62309 \nL 124.802712 138.946185 \nL 126.5961 139.264336 \nL 128.389489 139.57847 \nL 130.182877 139.887538 \nL 131.976265 140.192303 \nL 133.769654 140.492917 \nL 135.563042 140.788996 \nL 137.356431 141.080967 \nL 139.149819 141.368486 \nL 140.943208 141.652677 \nL 142.736596 141.932708 \nL 144.529985 142.209084 \nL 146.323373 142.482107 \nL 148.116761 142.75113 \nL 149.91015 143.017166 \nL 151.703538 143.279883 \nL 153.496927 143.539431 \nL 155.290315 143.795364 \nL 157.083704 144.048364 \nL 158.877092 144.298502 \nL 160.67048 144.544829 \nL 162.463869 144.788836 \nL 164.257257 145.029642 \nL 166.050646 145.26804 \nL 167.844034 145.503484 \nL 169.637423 145.736302 \nL 171.430811 145.966337 \nL 173.224199 146.193929 \nL 175.017588 146.419058 \nL 176.810976 146.64171 \nL 178.604365 146.862125 \nL 180.397753 147.079849 \nL 182.191142 147.295114 \nL 183.98453 147.508172 \nL 185.777918 147.719243 \nL 187.571307 147.927773 \nL 189.364695 148.134468 \nL 191.158084 148.339075 \nL 192.951472 148.541651 \nL 194.744861 148.742143 \nL 196.538249 148.940611 \nL 198.331637 149.137216 \nL 200.125026 149.331628 \nL 201.918414 149.524405 \nL 203.711803 149.715217 \nL 205.505191 149.904265 \nL 207.29858 150.091307 \nL 209.091968 150.276694 \nL 210.885356 150.460273 \nL 212.678745 150.642161 \nL 214.472133 150.822278 \nL 216.265522 151.001189 \nL 218.05891 151.178289 \nL 219.852299 151.354023 \nL 221.645687 151.528058 \nL 223.439075 151.700491 \nL 225.232464 151.871428 \nL 227.025852 152.040852 \n\" style=\"fill:none;stroke:#1f77b4;stroke-linecap:square;stroke-width:1.5;\"/>\n   </g>\n   <g id=\"line2d_12\">\n    <path clip-path=\"url(#pe58309bae1)\" d=\"M 49.480398 108.27701 \nL 51.273786 117.123715 \nL 53.067175 118.873557 \nL 54.860563 119.734982 \nL 56.653951 120.459664 \nL 58.44734 121.147823 \nL 60.240728 121.815696 \nL 62.034117 122.464453 \nL 63.827505 123.094911 \nL 65.620894 123.709375 \nL 67.414282 124.306997 \nL 69.20767 124.889671 \nL 71.001059 125.458542 \nL 72.794447 126.014614 \nL 74.587836 126.557495 \nL 76.381224 127.086276 \nL 78.174613 127.603935 \nL 79.968001 128.109576 \nL 81.761389 128.603528 \nL 83.554778 129.08784 \nL 85.348166 129.561263 \nL 87.141555 130.026743 \nL 88.934943 130.481434 \nL 90.728332 130.928222 \nL 92.52172 131.365206 \nL 94.315108 131.79472 \nL 96.108497 132.21451 \nL 97.901885 132.626233 \nL 99.695274 133.031634 \nL 101.488662 133.429133 \nL 103.282051 133.819089 \nL 105.075439 134.202732 \nL 106.868827 134.580228 \nL 108.662216 134.951052 \nL 110.455604 135.315614 \nL 112.248993 135.674446 \nL 114.042381 136.026956 \nL 115.83577 136.374191 \nL 117.629158 136.716663 \nL 119.422546 137.053004 \nL 121.215935 137.384503 \nL 123.009323 137.710308 \nL 124.802712 138.031666 \nL 126.5961 138.348561 \nL 128.389489 138.660181 \nL 130.182877 138.96794 \nL 131.976265 139.271324 \nL 133.769654 139.570275 \nL 135.563042 139.86457 \nL 137.356431 140.15492 \nL 139.149819 140.441903 \nL 140.943208 140.724178 \nL 142.736596 141.00317 \nL 144.529985 141.278379 \nL 146.323373 141.5497 \nL 148.116761 141.817848 \nL 149.91015 142.082744 \nL 151.703538 142.34474 \nL 153.496927 142.6029 \nL 155.290315 142.858395 \nL 157.083704 143.110422 \nL 158.877092 143.358774 \nL 160.67048 143.604996 \nL 162.463869 143.847554 \nL 164.257257 144.087903 \nL 166.050646 144.32524 \nL 167.844034 144.560093 \nL 169.637423 144.792155 \nL 171.430811 145.021513 \nL 173.224199 145.248296 \nL 175.017588 145.472739 \nL 176.810976 145.695124 \nL 178.604365 145.914665 \nL 180.397753 146.131741 \nL 182.191142 146.346597 \nL 183.98453 146.559197 \nL 185.777918 146.769188 \nL 187.571307 146.97722 \nL 189.364695 147.183357 \nL 191.158084 147.387597 \nL 192.951472 147.589715 \nL 194.744861 147.789912 \nL 196.538249 147.988096 \nL 198.331637 148.184126 \nL 200.125026 148.37824 \nL 201.918414 148.570655 \nL 203.711803 148.76108 \nL 205.505191 148.949668 \nL 207.29858 149.136663 \nL 209.091968 149.321604 \nL 210.885356 149.504701 \nL 212.678745 149.686273 \nL 214.472133 149.866542 \nL 216.265522 150.044979 \nL 218.05891 150.221961 \nL 219.852299 150.397377 \nL 221.645687 150.57117 \nL 223.439075 150.743355 \nL 225.232464 150.914091 \nL 227.025852 151.083196 \n\" style=\"fill:none;stroke:#ff7f0e;stroke-linecap:square;stroke-width:1.5;\"/>\n   </g>\n   <g id=\"patch_3\">\n    <path d=\"M 40.603125 158.218125 \nL 40.603125 22.318125 \n\" style=\"fill:none;stroke:#000000;stroke-linecap:square;stroke-linejoin:miter;stroke-width:0.8;\"/>\n   </g>\n   <g id=\"patch_4\">\n    <path d=\"M 235.903125 158.218125 \nL 235.903125 22.318125 \n\" style=\"fill:none;stroke:#000000;stroke-linecap:square;stroke-linejoin:miter;stroke-width:0.8;\"/>\n   </g>\n   <g id=\"patch_5\">\n    <path d=\"M 40.603125 158.218125 \nL 235.903125 158.218125 \n\" style=\"fill:none;stroke:#000000;stroke-linecap:square;stroke-linejoin:miter;stroke-width:0.8;\"/>\n   </g>\n   <g id=\"patch_6\">\n    <path d=\"M 40.603125 22.318125 \nL 235.903125 22.318125 \n\" style=\"fill:none;stroke:#000000;stroke-linecap:square;stroke-linejoin:miter;stroke-width:0.8;\"/>\n   </g>\n   <g id=\"text_13\">\n    <!-- model loss -->\n    <defs>\n     <path d=\"M 52 44.1875 \nQ 55.375 50.25 60.0625 53.125 \nQ 64.75 56 71.09375 56 \nQ 79.640625 56 84.28125 50.015625 \nQ 88.921875 44.046875 88.921875 33.015625 \nL 88.921875 0 \nL 79.890625 0 \nL 79.890625 32.71875 \nQ 79.890625 40.578125 77.09375 44.375 \nQ 74.3125 48.1875 68.609375 48.1875 \nQ 61.625 48.1875 57.5625 43.546875 \nQ 53.515625 38.921875 53.515625 30.90625 \nL 53.515625 0 \nL 44.484375 0 \nL 44.484375 32.71875 \nQ 44.484375 40.625 41.703125 44.40625 \nQ 38.921875 48.1875 33.109375 48.1875 \nQ 26.21875 48.1875 22.15625 43.53125 \nQ 18.109375 38.875 18.109375 30.90625 \nL 18.109375 0 \nL 9.078125 0 \nL 9.078125 54.6875 \nL 18.109375 54.6875 \nL 18.109375 46.1875 \nQ 21.1875 51.21875 25.484375 53.609375 \nQ 29.78125 56 35.6875 56 \nQ 41.65625 56 45.828125 52.96875 \nQ 50 49.953125 52 44.1875 \nz\n\" id=\"DejaVuSans-109\"/>\n     <path d=\"M 45.40625 46.390625 \nL 45.40625 75.984375 \nL 54.390625 75.984375 \nL 54.390625 0 \nL 45.40625 0 \nL 45.40625 8.203125 \nQ 42.578125 3.328125 38.25 0.953125 \nQ 33.9375 -1.421875 27.875 -1.421875 \nQ 17.96875 -1.421875 11.734375 6.484375 \nQ 5.515625 14.40625 5.515625 27.296875 \nQ 5.515625 40.1875 11.734375 48.09375 \nQ 17.96875 56 27.875 56 \nQ 33.9375 56 38.25 53.625 \nQ 42.578125 51.265625 45.40625 46.390625 \nz\nM 14.796875 27.296875 \nQ 14.796875 17.390625 18.875 11.75 \nQ 22.953125 6.109375 30.078125 6.109375 \nQ 37.203125 6.109375 41.296875 11.75 \nQ 45.40625 17.390625 45.40625 27.296875 \nQ 45.40625 37.203125 41.296875 42.84375 \nQ 37.203125 48.484375 30.078125 48.484375 \nQ 22.953125 48.484375 18.875 42.84375 \nQ 14.796875 37.203125 14.796875 27.296875 \nz\n\" id=\"DejaVuSans-100\"/>\n     <path id=\"DejaVuSans-32\"/>\n    </defs>\n    <g transform=\"translate(106.073437 16.318125)scale(0.12 -0.12)\">\n     <use xlink:href=\"#DejaVuSans-109\"/>\n     <use x=\"97.412109\" xlink:href=\"#DejaVuSans-111\"/>\n     <use x=\"158.59375\" xlink:href=\"#DejaVuSans-100\"/>\n     <use x=\"222.070312\" xlink:href=\"#DejaVuSans-101\"/>\n     <use x=\"283.59375\" xlink:href=\"#DejaVuSans-108\"/>\n     <use x=\"311.376953\" xlink:href=\"#DejaVuSans-32\"/>\n     <use x=\"343.164062\" xlink:href=\"#DejaVuSans-108\"/>\n     <use x=\"370.947266\" xlink:href=\"#DejaVuSans-111\"/>\n     <use x=\"432.128906\" xlink:href=\"#DejaVuSans-115\"/>\n     <use x=\"484.228516\" xlink:href=\"#DejaVuSans-115\"/>\n    </g>\n   </g>\n   <g id=\"legend_1\">\n    <g id=\"patch_7\">\n     <path d=\"M 47.603125 59.674375 \nL 102.878125 59.674375 \nQ 104.878125 59.674375 104.878125 57.674375 \nL 104.878125 29.318125 \nQ 104.878125 27.318125 102.878125 27.318125 \nL 47.603125 27.318125 \nQ 45.603125 27.318125 45.603125 29.318125 \nL 45.603125 57.674375 \nQ 45.603125 59.674375 47.603125 59.674375 \nz\n\" style=\"fill:#ffffff;opacity:0.8;stroke:#cccccc;stroke-linejoin:miter;\"/>\n    </g>\n    <g id=\"line2d_13\">\n     <path d=\"M 49.603125 35.416562 \nL 69.603125 35.416562 \n\" style=\"fill:none;stroke:#1f77b4;stroke-linecap:square;stroke-width:1.5;\"/>\n    </g>\n    <g id=\"line2d_14\"/>\n    <g id=\"text_14\">\n     <!-- train -->\n     <defs>\n      <path d=\"M 18.3125 70.21875 \nL 18.3125 54.6875 \nL 36.8125 54.6875 \nL 36.8125 47.703125 \nL 18.3125 47.703125 \nL 18.3125 18.015625 \nQ 18.3125 11.328125 20.140625 9.421875 \nQ 21.96875 7.515625 27.59375 7.515625 \nL 36.8125 7.515625 \nL 36.8125 0 \nL 27.59375 0 \nQ 17.1875 0 13.234375 3.875 \nQ 9.28125 7.765625 9.28125 18.015625 \nL 9.28125 47.703125 \nL 2.6875 47.703125 \nL 2.6875 54.6875 \nL 9.28125 54.6875 \nL 9.28125 70.21875 \nz\n\" id=\"DejaVuSans-116\"/>\n      <path d=\"M 41.109375 46.296875 \nQ 39.59375 47.171875 37.8125 47.578125 \nQ 36.03125 48 33.890625 48 \nQ 26.265625 48 22.1875 43.046875 \nQ 18.109375 38.09375 18.109375 28.8125 \nL 18.109375 0 \nL 9.078125 0 \nL 9.078125 54.6875 \nL 18.109375 54.6875 \nL 18.109375 46.1875 \nQ 20.953125 51.171875 25.484375 53.578125 \nQ 30.03125 56 36.53125 56 \nQ 37.453125 56 38.578125 55.875 \nQ 39.703125 55.765625 41.0625 55.515625 \nz\n\" id=\"DejaVuSans-114\"/>\n      <path d=\"M 34.28125 27.484375 \nQ 23.390625 27.484375 19.1875 25 \nQ 14.984375 22.515625 14.984375 16.5 \nQ 14.984375 11.71875 18.140625 8.90625 \nQ 21.296875 6.109375 26.703125 6.109375 \nQ 34.1875 6.109375 38.703125 11.40625 \nQ 43.21875 16.703125 43.21875 25.484375 \nL 43.21875 27.484375 \nz\nM 52.203125 31.203125 \nL 52.203125 0 \nL 43.21875 0 \nL 43.21875 8.296875 \nQ 40.140625 3.328125 35.546875 0.953125 \nQ 30.953125 -1.421875 24.3125 -1.421875 \nQ 15.921875 -1.421875 10.953125 3.296875 \nQ 6 8.015625 6 15.921875 \nQ 6 25.140625 12.171875 29.828125 \nQ 18.359375 34.515625 30.609375 34.515625 \nL 43.21875 34.515625 \nL 43.21875 35.40625 \nQ 43.21875 41.609375 39.140625 45 \nQ 35.0625 48.390625 27.6875 48.390625 \nQ 23 48.390625 18.546875 47.265625 \nQ 14.109375 46.140625 10.015625 43.890625 \nL 10.015625 52.203125 \nQ 14.9375 54.109375 19.578125 55.046875 \nQ 24.21875 56 28.609375 56 \nQ 40.484375 56 46.34375 49.84375 \nQ 52.203125 43.703125 52.203125 31.203125 \nz\n\" id=\"DejaVuSans-97\"/>\n      <path d=\"M 9.421875 54.6875 \nL 18.40625 54.6875 \nL 18.40625 0 \nL 9.421875 0 \nz\nM 9.421875 75.984375 \nL 18.40625 75.984375 \nL 18.40625 64.59375 \nL 9.421875 64.59375 \nz\n\" id=\"DejaVuSans-105\"/>\n      <path d=\"M 54.890625 33.015625 \nL 54.890625 0 \nL 45.90625 0 \nL 45.90625 32.71875 \nQ 45.90625 40.484375 42.875 44.328125 \nQ 39.84375 48.1875 33.796875 48.1875 \nQ 26.515625 48.1875 22.3125 43.546875 \nQ 18.109375 38.921875 18.109375 30.90625 \nL 18.109375 0 \nL 9.078125 0 \nL 9.078125 54.6875 \nL 18.109375 54.6875 \nL 18.109375 46.1875 \nQ 21.34375 51.125 25.703125 53.5625 \nQ 30.078125 56 35.796875 56 \nQ 45.21875 56 50.046875 50.171875 \nQ 54.890625 44.34375 54.890625 33.015625 \nz\n\" id=\"DejaVuSans-110\"/>\n     </defs>\n     <g transform=\"translate(77.603125 38.916562)scale(0.1 -0.1)\">\n      <use xlink:href=\"#DejaVuSans-116\"/>\n      <use x=\"39.208984\" xlink:href=\"#DejaVuSans-114\"/>\n      <use x=\"80.322266\" xlink:href=\"#DejaVuSans-97\"/>\n      <use x=\"141.601562\" xlink:href=\"#DejaVuSans-105\"/>\n      <use x=\"169.384766\" xlink:href=\"#DejaVuSans-110\"/>\n     </g>\n    </g>\n    <g id=\"line2d_15\">\n     <path d=\"M 49.603125 50.094687 \nL 69.603125 50.094687 \n\" style=\"fill:none;stroke:#ff7f0e;stroke-linecap:square;stroke-width:1.5;\"/>\n    </g>\n    <g id=\"line2d_16\"/>\n    <g id=\"text_15\">\n     <!-- test -->\n     <g transform=\"translate(77.603125 53.594687)scale(0.1 -0.1)\">\n      <use xlink:href=\"#DejaVuSans-116\"/>\n      <use x=\"39.208984\" xlink:href=\"#DejaVuSans-101\"/>\n      <use x=\"100.732422\" xlink:href=\"#DejaVuSans-115\"/>\n      <use x=\"152.832031\" xlink:href=\"#DejaVuSans-116\"/>\n     </g>\n    </g>\n   </g>\n  </g>\n </g>\n <defs>\n  <clipPath id=\"pe58309bae1\">\n   <rect height=\"135.9\" width=\"195.3\" x=\"40.603125\" y=\"22.318125\"/>\n  </clipPath>\n </defs>\n</svg>\n"
          },
          "metadata": {
            "tags": []
          }
        },
        {
          "output_type": "stream",
          "text": [
            "Train on 1168 samples, validate on 292 samples\n",
            "Epoch 1/100\n",
            " - 2s - loss: 32.0402 - mean_squared_error: 39618613809.0959 - val_loss: 19.1899 - val_mean_squared_error: 34328354226.8493\n",
            "Epoch 2/100\n",
            " - 0s - loss: 18.8202 - mean_squared_error: 39244979831.2329 - val_loss: 17.6935 - val_mean_squared_error: 34195718003.7260\n",
            "Epoch 3/100\n",
            " - 0s - loss: 17.9467 - mean_squared_error: 39160055050.5205 - val_loss: 17.2310 - val_mean_squared_error: 34148030688.4384\n",
            "Epoch 4/100\n",
            " - 0s - loss: 17.5611 - mean_squared_error: 39118066000.6575 - val_loss: 16.9243 - val_mean_squared_error: 34114404688.6575\n",
            "Epoch 5/100\n",
            " - 0s - loss: 17.2662 - mean_squared_error: 39084055622.1370 - val_loss: 16.6586 - val_mean_squared_error: 34083919731.7260\n",
            "Epoch 6/100\n",
            " - 0s - loss: 17.0043 - mean_squared_error: 39052350786.6301 - val_loss: 16.4150 - val_mean_squared_error: 34054847333.6986\n",
            "Epoch 7/100\n",
            " - 0s - loss: 16.7616 - mean_squared_error: 39022015866.7397 - val_loss: 16.1898 - val_mean_squared_error: 34027009739.3973\n",
            "Epoch 8/100\n",
            " - 0s - loss: 16.5357 - mean_squared_error: 38992451387.6164 - val_loss: 15.9790 - val_mean_squared_error: 33999979309.5890\n",
            "Epoch 9/100\n",
            " - 0s - loss: 16.3269 - mean_squared_error: 38964474697.6438 - val_loss: 15.7818 - val_mean_squared_error: 33973868347.6164\n",
            "Epoch 10/100\n",
            " - 0s - loss: 16.1300 - mean_squared_error: 38937046983.8904 - val_loss: 15.5976 - val_mean_squared_error: 33948778748.4931\n",
            "Epoch 11/100\n",
            " - 0s - loss: 15.9464 - mean_squared_error: 38910765027.9452 - val_loss: 15.4242 - val_mean_squared_error: 33924491376.2192\n",
            "Epoch 12/100\n",
            " - 0s - loss: 15.7731 - mean_squared_error: 38885287515.1781 - val_loss: 15.2597 - val_mean_squared_error: 33900793294.9041\n",
            "Epoch 13/100\n",
            " - 0s - loss: 15.6093 - mean_squared_error: 38860488423.4521 - val_loss: 15.1046 - val_mean_squared_error: 33877907315.7260\n",
            "Epoch 14/100\n",
            " - 0s - loss: 15.4543 - mean_squared_error: 38836485470.6849 - val_loss: 14.9569 - val_mean_squared_error: 33855581703.0137\n",
            "Epoch 15/100\n",
            " - 0s - loss: 15.3066 - mean_squared_error: 38813004224.8767 - val_loss: 14.8163 - val_mean_squared_error: 33833815025.9726\n",
            "Epoch 16/100\n",
            " - 0s - loss: 15.1654 - mean_squared_error: 38790029592.5479 - val_loss: 14.6820 - val_mean_squared_error: 33812558890.0822\n",
            "Epoch 17/100\n",
            " - 0s - loss: 15.0310 - mean_squared_error: 38767766934.7945 - val_loss: 14.5535 - val_mean_squared_error: 33791766023.0137\n",
            "Epoch 18/100\n",
            " - 0s - loss: 14.9022 - mean_squared_error: 38745924117.0411 - val_loss: 14.4300 - val_mean_squared_error: 33771364211.7260\n",
            "Epoch 19/100\n",
            " - 0s - loss: 14.7786 - mean_squared_error: 38724514072.5479 - val_loss: 14.3118 - val_mean_squared_error: 33751444522.0822\n",
            "Epoch 20/100\n",
            " - 0s - loss: 14.6599 - mean_squared_error: 38703501199.7808 - val_loss: 14.1981 - val_mean_squared_error: 33731918328.9863\n",
            "Epoch 21/100\n",
            " - 0s - loss: 14.5456 - mean_squared_error: 38682886031.7808 - val_loss: 14.0885 - val_mean_squared_error: 33712744055.2329\n",
            "Epoch 22/100\n",
            " - 0s - loss: 14.4357 - mean_squared_error: 38662791168.0000 - val_loss: 13.9831 - val_mean_squared_error: 33693966279.8904\n",
            "Epoch 23/100\n",
            " - 0s - loss: 14.3299 - mean_squared_error: 38643044632.5479 - val_loss: 13.8813 - val_mean_squared_error: 33675504036.8219\n",
            "Epoch 24/100\n",
            " - 0s - loss: 14.2279 - mean_squared_error: 38623593177.4247 - val_loss: 13.7835 - val_mean_squared_error: 33657473781.4795\n",
            "Epoch 25/100\n",
            " - 0s - loss: 14.1295 - mean_squared_error: 38604593292.2740 - val_loss: 13.6887 - val_mean_squared_error: 33639712796.0548\n",
            "Epoch 26/100\n",
            " - 0s - loss: 14.0339 - mean_squared_error: 38585778512.6575 - val_loss: 13.5968 - val_mean_squared_error: 33622217237.0411\n",
            "Epoch 27/100\n",
            " - 0s - loss: 13.9415 - mean_squared_error: 38567301288.3288 - val_loss: 13.5078 - val_mean_squared_error: 33605027026.4110\n",
            "Epoch 28/100\n",
            " - 0s - loss: 13.8520 - mean_squared_error: 38549211332.3836 - val_loss: 13.4215 - val_mean_squared_error: 33588074439.8904\n",
            "Epoch 29/100\n",
            " - 0s - loss: 13.7650 - mean_squared_error: 38531288470.7945 - val_loss: 13.3378 - val_mean_squared_error: 33571405262.9041\n",
            "Epoch 30/100\n",
            " - 0s - loss: 13.6810 - mean_squared_error: 38513793500.9315 - val_loss: 13.2564 - val_mean_squared_error: 33554961730.6301\n",
            "Epoch 31/100\n",
            " - 0s - loss: 13.5988 - mean_squared_error: 38496372090.7397 - val_loss: 13.1774 - val_mean_squared_error: 33538751754.5205\n",
            "Epoch 32/100\n",
            " - 0s - loss: 13.5196 - mean_squared_error: 38479424890.7397 - val_loss: 13.1004 - val_mean_squared_error: 33522757491.7260\n",
            "Epoch 33/100\n",
            " - 0s - loss: 13.4421 - mean_squared_error: 38462484928.8767 - val_loss: 13.0259 - val_mean_squared_error: 33507101205.0411\n",
            "Epoch 34/100\n",
            " - 0s - loss: 13.3669 - mean_squared_error: 38445981022.6849 - val_loss: 12.9532 - val_mean_squared_error: 33491615239.0137\n",
            "Epoch 35/100\n",
            " - 0s - loss: 13.2936 - mean_squared_error: 38429573624.9863 - val_loss: 12.8822 - val_mean_squared_error: 33476279310.0274\n",
            "Epoch 36/100\n",
            " - 0s - loss: 13.2220 - mean_squared_error: 38413380622.0274 - val_loss: 12.8128 - val_mean_squared_error: 33461101077.0411\n",
            "Epoch 37/100\n",
            " - 0s - loss: 13.1523 - mean_squared_error: 38397516589.5890 - val_loss: 12.7453 - val_mean_squared_error: 33446169782.3562\n",
            "Epoch 38/100\n",
            " - 0s - loss: 13.0843 - mean_squared_error: 38381725162.9589 - val_loss: 12.6794 - val_mean_squared_error: 33431424014.0274\n",
            "Epoch 39/100\n",
            " - 0s - loss: 13.0180 - mean_squared_error: 38366222925.1507 - val_loss: 12.6153 - val_mean_squared_error: 33416916487.0137\n",
            "Epoch 40/100\n",
            " - 0s - loss: 12.9532 - mean_squared_error: 38350858043.6164 - val_loss: 12.5525 - val_mean_squared_error: 33402562223.3425\n",
            "Epoch 41/100\n",
            " - 0s - loss: 12.8900 - mean_squared_error: 38335721808.6575 - val_loss: 12.4910 - val_mean_squared_error: 33388316615.8904\n",
            "Epoch 42/100\n",
            " - 0s - loss: 12.8280 - mean_squared_error: 38320643534.9041 - val_loss: 12.4310 - val_mean_squared_error: 33374281980.4931\n",
            "Epoch 43/100\n",
            " - 0s - loss: 12.7674 - mean_squared_error: 38305807935.1233 - val_loss: 12.3723 - val_mean_squared_error: 33360389667.0685\n",
            "Epoch 44/100\n",
            " - 0s - loss: 12.7079 - mean_squared_error: 38291032821.4795 - val_loss: 12.3147 - val_mean_squared_error: 33346590860.2740\n",
            "Epoch 45/100\n",
            " - 0s - loss: 12.6500 - mean_squared_error: 38276584041.2055 - val_loss: 12.2583 - val_mean_squared_error: 33332985070.4658\n",
            "Epoch 46/100\n",
            " - 0s - loss: 12.5932 - mean_squared_error: 38262198552.5479 - val_loss: 12.2034 - val_mean_squared_error: 33319596733.3699\n",
            "Epoch 47/100\n",
            " - 0s - loss: 12.5377 - mean_squared_error: 38248047489.7534 - val_loss: 12.1494 - val_mean_squared_error: 33306287987.7260\n",
            "Epoch 48/100\n",
            " - 0s - loss: 12.4832 - mean_squared_error: 38233978459.1781 - val_loss: 12.0965 - val_mean_squared_error: 33293126950.5753\n",
            "Epoch 49/100\n",
            " - 0s - loss: 12.4298 - mean_squared_error: 38220080647.0137 - val_loss: 12.0447 - val_mean_squared_error: 33280143219.7260\n",
            "Epoch 50/100\n",
            " - 0s - loss: 12.3776 - mean_squared_error: 38206437712.6575 - val_loss: 11.9937 - val_mean_squared_error: 33267207799.2329\n",
            "Epoch 51/100\n",
            " - 0s - loss: 12.3261 - mean_squared_error: 38192735835.1781 - val_loss: 11.9439 - val_mean_squared_error: 33254475186.8493\n",
            "Epoch 52/100\n",
            " - 0s - loss: 12.2757 - mean_squared_error: 38179240469.0411 - val_loss: 11.8948 - val_mean_squared_error: 33241802359.2329\n",
            "Epoch 53/100\n",
            " - 0s - loss: 12.2262 - mean_squared_error: 38165903107.5069 - val_loss: 11.8466 - val_mean_squared_error: 33229239113.6438\n",
            "Epoch 54/100\n",
            " - 0s - loss: 12.1776 - mean_squared_error: 38152649068.7123 - val_loss: 11.7994 - val_mean_squared_error: 33216806715.6164\n",
            "Epoch 55/100\n",
            " - 0s - loss: 12.1298 - mean_squared_error: 38139475771.6164 - val_loss: 11.7531 - val_mean_squared_error: 33204549211.1781\n",
            "Epoch 56/100\n",
            " - 0s - loss: 12.0831 - mean_squared_error: 38126553845.4795 - val_loss: 11.7075 - val_mean_squared_error: 33192365855.5616\n",
            "Epoch 57/100\n",
            " - 0s - loss: 12.0371 - mean_squared_error: 38113689151.1233 - val_loss: 11.6628 - val_mean_squared_error: 33180325102.4658\n",
            "Epoch 58/100\n",
            " - 0s - loss: 11.9919 - mean_squared_error: 38100979936.4384 - val_loss: 11.6187 - val_mean_squared_error: 33168352634.7397\n",
            "Epoch 59/100\n",
            " - 0s - loss: 11.9474 - mean_squared_error: 38088351968.4384 - val_loss: 11.5754 - val_mean_squared_error: 33156486663.0137\n",
            "Epoch 60/100\n",
            " - 0s - loss: 11.9036 - mean_squared_error: 38075752728.5479 - val_loss: 11.5328 - val_mean_squared_error: 33144724690.4110\n",
            "Epoch 61/100\n",
            " - 0s - loss: 11.8605 - mean_squared_error: 38063226403.0685 - val_loss: 11.4909 - val_mean_squared_error: 33133055663.3425\n",
            "Epoch 62/100\n",
            " - 0s - loss: 11.8181 - mean_squared_error: 38050880105.2055 - val_loss: 11.4497 - val_mean_squared_error: 33121504270.0274\n",
            "Epoch 63/100\n",
            " - 0s - loss: 11.7765 - mean_squared_error: 38038729096.7671 - val_loss: 11.4091 - val_mean_squared_error: 33110017458.8493\n",
            "Epoch 64/100\n",
            " - 0s - loss: 11.7354 - mean_squared_error: 38026590825.2055 - val_loss: 11.3690 - val_mean_squared_error: 33098598624.4384\n",
            "Epoch 65/100\n",
            " - 0s - loss: 11.6950 - mean_squared_error: 38014555178.0822 - val_loss: 11.3297 - val_mean_squared_error: 33087326404.3836\n",
            "Epoch 66/100\n",
            " - 0s - loss: 11.6552 - mean_squared_error: 38002585992.7671 - val_loss: 11.2909 - val_mean_squared_error: 33076106197.9178\n",
            "Epoch 67/100\n",
            " - 0s - loss: 11.6160 - mean_squared_error: 37990800734.6849 - val_loss: 11.2527 - val_mean_squared_error: 33064947235.0685\n",
            "Epoch 68/100\n",
            " - 0s - loss: 11.5774 - mean_squared_error: 37978964977.9726 - val_loss: 11.2150 - val_mean_squared_error: 33053903156.6027\n",
            "Epoch 69/100\n",
            " - 0s - loss: 11.5393 - mean_squared_error: 37967243909.2603 - val_loss: 11.1780 - val_mean_squared_error: 33042971662.0274\n",
            "Epoch 70/100\n",
            " - 0s - loss: 11.5019 - mean_squared_error: 37955722590.6849 - val_loss: 11.1414 - val_mean_squared_error: 33032083680.4384\n",
            "Epoch 71/100\n",
            " - 0s - loss: 11.4648 - mean_squared_error: 37944178884.3836 - val_loss: 11.1054 - val_mean_squared_error: 33021290243.5069\n",
            "Epoch 72/100\n",
            " - 0s - loss: 11.4284 - mean_squared_error: 37932781960.7671 - val_loss: 11.0697 - val_mean_squared_error: 33010504184.9863\n",
            "Epoch 73/100\n",
            " - 0s - loss: 11.3923 - mean_squared_error: 37921349519.7808 - val_loss: 11.0347 - val_mean_squared_error: 32999883930.3014\n",
            "Epoch 74/100\n",
            " - 0s - loss: 11.3569 - mean_squared_error: 37910142947.9452 - val_loss: 11.0002 - val_mean_squared_error: 32989311873.7534\n",
            "Epoch 75/100\n",
            " - 0s - loss: 11.3219 - mean_squared_error: 37898940191.5616 - val_loss: 10.9661 - val_mean_squared_error: 32978834642.4110\n",
            "Epoch 76/100\n",
            " - 0s - loss: 11.2875 - mean_squared_error: 37887848504.1096 - val_loss: 10.9324 - val_mean_squared_error: 32968390571.8356\n",
            "Epoch 77/100\n",
            " - 0s - loss: 11.2534 - mean_squared_error: 37876844347.6164 - val_loss: 10.8992 - val_mean_squared_error: 32958001067.8356\n",
            "Epoch 78/100\n",
            " - 0s - loss: 11.2198 - mean_squared_error: 37865824704.8767 - val_loss: 10.8666 - val_mean_squared_error: 32947783259.1781\n",
            "Epoch 79/100\n",
            " - 0s - loss: 11.1867 - mean_squared_error: 37854997461.9178 - val_loss: 10.8342 - val_mean_squared_error: 32937561915.6164\n",
            "Epoch 80/100\n",
            " - 0s - loss: 11.1540 - mean_squared_error: 37844221390.9041 - val_loss: 10.8023 - val_mean_squared_error: 32927441513.2055\n",
            "Epoch 81/100\n",
            " - 0s - loss: 11.1218 - mean_squared_error: 37833534870.7945 - val_loss: 10.7707 - val_mean_squared_error: 32917337214.2466\n",
            "Epoch 82/100\n",
            " - 0s - loss: 11.0898 - mean_squared_error: 37822839373.1507 - val_loss: 10.7396 - val_mean_squared_error: 32907317528.5479\n",
            "Epoch 83/100\n",
            " - 0s - loss: 11.0583 - mean_squared_error: 37812243526.1370 - val_loss: 10.7089 - val_mean_squared_error: 32897370813.3699\n",
            "Epoch 84/100\n",
            " - 0s - loss: 11.0272 - mean_squared_error: 37801666195.2877 - val_loss: 10.6785 - val_mean_squared_error: 32887488231.4521\n",
            "Epoch 85/100\n",
            " - 0s - loss: 10.9964 - mean_squared_error: 37791209724.4931 - val_loss: 10.6484 - val_mean_squared_error: 32877631796.6027\n",
            "Epoch 86/100\n",
            " - 0s - loss: 10.9661 - mean_squared_error: 37780858795.8356 - val_loss: 10.6188 - val_mean_squared_error: 32867846284.2740\n",
            "Epoch 87/100\n",
            " - 0s - loss: 10.9360 - mean_squared_error: 37770469824.8767 - val_loss: 10.5895 - val_mean_squared_error: 32858154559.1233\n",
            "Epoch 88/100\n",
            " - 0s - loss: 10.9063 - mean_squared_error: 37760151495.8904 - val_loss: 10.5606 - val_mean_squared_error: 32848507300.8219\n",
            "Epoch 89/100\n",
            " - 0s - loss: 10.8770 - mean_squared_error: 37749951333.6986 - val_loss: 10.5320 - val_mean_squared_error: 32838921286.1370\n",
            "Epoch 90/100\n",
            " - 0s - loss: 10.8481 - mean_squared_error: 37739854188.7123 - val_loss: 10.5037 - val_mean_squared_error: 32829380720.2192\n",
            "Epoch 91/100\n",
            " - 0s - loss: 10.8195 - mean_squared_error: 37729766806.7945 - val_loss: 10.4757 - val_mean_squared_error: 32819878869.9178\n",
            "Epoch 92/100\n",
            " - 0s - loss: 10.7911 - mean_squared_error: 37719675272.7671 - val_loss: 10.4481 - val_mean_squared_error: 32810491006.2466\n",
            "Epoch 93/100\n",
            " - 0s - loss: 10.7632 - mean_squared_error: 37709742388.6027 - val_loss: 10.4208 - val_mean_squared_error: 32801127101.3699\n",
            "Epoch 94/100\n",
            " - 0s - loss: 10.7355 - mean_squared_error: 37699886374.5753 - val_loss: 10.3938 - val_mean_squared_error: 32791835437.5890\n",
            "Epoch 95/100\n",
            " - 0s - loss: 10.7082 - mean_squared_error: 37690006317.5890 - val_loss: 10.3671 - val_mean_squared_error: 32782592981.9178\n",
            "Epoch 96/100\n",
            " - 0s - loss: 10.6812 - mean_squared_error: 37680261428.6027 - val_loss: 10.3407 - val_mean_squared_error: 32773391037.3699\n",
            "Epoch 97/100\n",
            " - 0s - loss: 10.6544 - mean_squared_error: 37670504644.3836 - val_loss: 10.3145 - val_mean_squared_error: 32764250476.7123\n",
            "Epoch 98/100\n",
            " - 0s - loss: 10.6279 - mean_squared_error: 37660754873.8630 - val_loss: 10.2887 - val_mean_squared_error: 32755185383.4521\n",
            "Epoch 99/100\n",
            " - 0s - loss: 10.6017 - mean_squared_error: 37651188637.8082 - val_loss: 10.2630 - val_mean_squared_error: 32746079049.6438\n",
            "Epoch 100/100\n",
            " - 0s - loss: 10.5757 - mean_squared_error: 37641562196.1644 - val_loss: 10.2377 - val_mean_squared_error: 32737086786.6301\n"
          ],
          "name": "stdout"
        },
        {
          "output_type": "display_data",
          "data": {
            "text/plain": [
              "<Figure size 252x180 with 1 Axes>"
            ],
            "image/svg+xml": "<?xml version=\"1.0\" encoding=\"utf-8\" standalone=\"no\"?>\n<!DOCTYPE svg PUBLIC \"-//W3C//DTD SVG 1.1//EN\"\n  \"http://www.w3.org/Graphics/SVG/1.1/DTD/svg11.dtd\">\n<!-- Created with matplotlib (https://matplotlib.org/) -->\n<svg height=\"195.774375pt\" version=\"1.1\" viewBox=\"0 0 246.603125 195.774375\" width=\"246.603125pt\" xmlns=\"http://www.w3.org/2000/svg\" xmlns:xlink=\"http://www.w3.org/1999/xlink\">\n <defs>\n  <style type=\"text/css\">\n*{stroke-linecap:butt;stroke-linejoin:round;}\n  </style>\n </defs>\n <g id=\"figure_1\">\n  <g id=\"patch_1\">\n   <path d=\"M 0 195.774375 \nL 246.603125 195.774375 \nL 246.603125 0 \nL 0 0 \nz\n\" style=\"fill:none;\"/>\n  </g>\n  <g id=\"axes_1\">\n   <g id=\"patch_2\">\n    <path d=\"M 40.603125 158.218125 \nL 235.903125 158.218125 \nL 235.903125 22.318125 \nL 40.603125 22.318125 \nz\n\" style=\"fill:#ffffff;\"/>\n   </g>\n   <g id=\"matplotlib.axis_1\">\n    <g id=\"xtick_1\">\n     <g id=\"line2d_1\">\n      <defs>\n       <path d=\"M 0 0 \nL 0 3.5 \n\" id=\"mbb3c3ebe04\" style=\"stroke:#000000;stroke-width:0.8;\"/>\n      </defs>\n      <g>\n       <use style=\"stroke:#000000;stroke-width:0.8;\" x=\"49.480398\" xlink:href=\"#mbb3c3ebe04\" y=\"158.218125\"/>\n      </g>\n     </g>\n     <g id=\"text_1\">\n      <!-- 0 -->\n      <defs>\n       <path d=\"M 31.78125 66.40625 \nQ 24.171875 66.40625 20.328125 58.90625 \nQ 16.5 51.421875 16.5 36.375 \nQ 16.5 21.390625 20.328125 13.890625 \nQ 24.171875 6.390625 31.78125 6.390625 \nQ 39.453125 6.390625 43.28125 13.890625 \nQ 47.125 21.390625 47.125 36.375 \nQ 47.125 51.421875 43.28125 58.90625 \nQ 39.453125 66.40625 31.78125 66.40625 \nz\nM 31.78125 74.21875 \nQ 44.046875 74.21875 50.515625 64.515625 \nQ 56.984375 54.828125 56.984375 36.375 \nQ 56.984375 17.96875 50.515625 8.265625 \nQ 44.046875 -1.421875 31.78125 -1.421875 \nQ 19.53125 -1.421875 13.0625 8.265625 \nQ 6.59375 17.96875 6.59375 36.375 \nQ 6.59375 54.828125 13.0625 64.515625 \nQ 19.53125 74.21875 31.78125 74.21875 \nz\n\" id=\"DejaVuSans-48\"/>\n      </defs>\n      <g transform=\"translate(46.299148 172.816562)scale(0.1 -0.1)\">\n       <use xlink:href=\"#DejaVuSans-48\"/>\n      </g>\n     </g>\n    </g>\n    <g id=\"xtick_2\">\n     <g id=\"line2d_2\">\n      <g>\n       <use style=\"stroke:#000000;stroke-width:0.8;\" x=\"85.348166\" xlink:href=\"#mbb3c3ebe04\" y=\"158.218125\"/>\n      </g>\n     </g>\n     <g id=\"text_2\">\n      <!-- 20 -->\n      <defs>\n       <path d=\"M 19.1875 8.296875 \nL 53.609375 8.296875 \nL 53.609375 0 \nL 7.328125 0 \nL 7.328125 8.296875 \nQ 12.9375 14.109375 22.625 23.890625 \nQ 32.328125 33.6875 34.8125 36.53125 \nQ 39.546875 41.84375 41.421875 45.53125 \nQ 43.3125 49.21875 43.3125 52.78125 \nQ 43.3125 58.59375 39.234375 62.25 \nQ 35.15625 65.921875 28.609375 65.921875 \nQ 23.96875 65.921875 18.8125 64.3125 \nQ 13.671875 62.703125 7.8125 59.421875 \nL 7.8125 69.390625 \nQ 13.765625 71.78125 18.9375 73 \nQ 24.125 74.21875 28.421875 74.21875 \nQ 39.75 74.21875 46.484375 68.546875 \nQ 53.21875 62.890625 53.21875 53.421875 \nQ 53.21875 48.921875 51.53125 44.890625 \nQ 49.859375 40.875 45.40625 35.40625 \nQ 44.1875 33.984375 37.640625 27.21875 \nQ 31.109375 20.453125 19.1875 8.296875 \nz\n\" id=\"DejaVuSans-50\"/>\n      </defs>\n      <g transform=\"translate(78.985666 172.816562)scale(0.1 -0.1)\">\n       <use xlink:href=\"#DejaVuSans-50\"/>\n       <use x=\"63.623047\" xlink:href=\"#DejaVuSans-48\"/>\n      </g>\n     </g>\n    </g>\n    <g id=\"xtick_3\">\n     <g id=\"line2d_3\">\n      <g>\n       <use style=\"stroke:#000000;stroke-width:0.8;\" x=\"121.215935\" xlink:href=\"#mbb3c3ebe04\" y=\"158.218125\"/>\n      </g>\n     </g>\n     <g id=\"text_3\">\n      <!-- 40 -->\n      <defs>\n       <path d=\"M 37.796875 64.3125 \nL 12.890625 25.390625 \nL 37.796875 25.390625 \nz\nM 35.203125 72.90625 \nL 47.609375 72.90625 \nL 47.609375 25.390625 \nL 58.015625 25.390625 \nL 58.015625 17.1875 \nL 47.609375 17.1875 \nL 47.609375 0 \nL 37.796875 0 \nL 37.796875 17.1875 \nL 4.890625 17.1875 \nL 4.890625 26.703125 \nz\n\" id=\"DejaVuSans-52\"/>\n      </defs>\n      <g transform=\"translate(114.853435 172.816562)scale(0.1 -0.1)\">\n       <use xlink:href=\"#DejaVuSans-52\"/>\n       <use x=\"63.623047\" xlink:href=\"#DejaVuSans-48\"/>\n      </g>\n     </g>\n    </g>\n    <g id=\"xtick_4\">\n     <g id=\"line2d_4\">\n      <g>\n       <use style=\"stroke:#000000;stroke-width:0.8;\" x=\"157.083704\" xlink:href=\"#mbb3c3ebe04\" y=\"158.218125\"/>\n      </g>\n     </g>\n     <g id=\"text_4\">\n      <!-- 60 -->\n      <defs>\n       <path d=\"M 33.015625 40.375 \nQ 26.375 40.375 22.484375 35.828125 \nQ 18.609375 31.296875 18.609375 23.390625 \nQ 18.609375 15.53125 22.484375 10.953125 \nQ 26.375 6.390625 33.015625 6.390625 \nQ 39.65625 6.390625 43.53125 10.953125 \nQ 47.40625 15.53125 47.40625 23.390625 \nQ 47.40625 31.296875 43.53125 35.828125 \nQ 39.65625 40.375 33.015625 40.375 \nz\nM 52.59375 71.296875 \nL 52.59375 62.3125 \nQ 48.875 64.0625 45.09375 64.984375 \nQ 41.3125 65.921875 37.59375 65.921875 \nQ 27.828125 65.921875 22.671875 59.328125 \nQ 17.53125 52.734375 16.796875 39.40625 \nQ 19.671875 43.65625 24.015625 45.921875 \nQ 28.375 48.1875 33.59375 48.1875 \nQ 44.578125 48.1875 50.953125 41.515625 \nQ 57.328125 34.859375 57.328125 23.390625 \nQ 57.328125 12.15625 50.6875 5.359375 \nQ 44.046875 -1.421875 33.015625 -1.421875 \nQ 20.359375 -1.421875 13.671875 8.265625 \nQ 6.984375 17.96875 6.984375 36.375 \nQ 6.984375 53.65625 15.1875 63.9375 \nQ 23.390625 74.21875 37.203125 74.21875 \nQ 40.921875 74.21875 44.703125 73.484375 \nQ 48.484375 72.75 52.59375 71.296875 \nz\n\" id=\"DejaVuSans-54\"/>\n      </defs>\n      <g transform=\"translate(150.721204 172.816562)scale(0.1 -0.1)\">\n       <use xlink:href=\"#DejaVuSans-54\"/>\n       <use x=\"63.623047\" xlink:href=\"#DejaVuSans-48\"/>\n      </g>\n     </g>\n    </g>\n    <g id=\"xtick_5\">\n     <g id=\"line2d_5\">\n      <g>\n       <use style=\"stroke:#000000;stroke-width:0.8;\" x=\"192.951472\" xlink:href=\"#mbb3c3ebe04\" y=\"158.218125\"/>\n      </g>\n     </g>\n     <g id=\"text_5\">\n      <!-- 80 -->\n      <defs>\n       <path d=\"M 31.78125 34.625 \nQ 24.75 34.625 20.71875 30.859375 \nQ 16.703125 27.09375 16.703125 20.515625 \nQ 16.703125 13.921875 20.71875 10.15625 \nQ 24.75 6.390625 31.78125 6.390625 \nQ 38.8125 6.390625 42.859375 10.171875 \nQ 46.921875 13.96875 46.921875 20.515625 \nQ 46.921875 27.09375 42.890625 30.859375 \nQ 38.875 34.625 31.78125 34.625 \nz\nM 21.921875 38.8125 \nQ 15.578125 40.375 12.03125 44.71875 \nQ 8.5 49.078125 8.5 55.328125 \nQ 8.5 64.0625 14.71875 69.140625 \nQ 20.953125 74.21875 31.78125 74.21875 \nQ 42.671875 74.21875 48.875 69.140625 \nQ 55.078125 64.0625 55.078125 55.328125 \nQ 55.078125 49.078125 51.53125 44.71875 \nQ 48 40.375 41.703125 38.8125 \nQ 48.828125 37.15625 52.796875 32.3125 \nQ 56.78125 27.484375 56.78125 20.515625 \nQ 56.78125 9.90625 50.3125 4.234375 \nQ 43.84375 -1.421875 31.78125 -1.421875 \nQ 19.734375 -1.421875 13.25 4.234375 \nQ 6.78125 9.90625 6.78125 20.515625 \nQ 6.78125 27.484375 10.78125 32.3125 \nQ 14.796875 37.15625 21.921875 38.8125 \nz\nM 18.3125 54.390625 \nQ 18.3125 48.734375 21.84375 45.5625 \nQ 25.390625 42.390625 31.78125 42.390625 \nQ 38.140625 42.390625 41.71875 45.5625 \nQ 45.3125 48.734375 45.3125 54.390625 \nQ 45.3125 60.0625 41.71875 63.234375 \nQ 38.140625 66.40625 31.78125 66.40625 \nQ 25.390625 66.40625 21.84375 63.234375 \nQ 18.3125 60.0625 18.3125 54.390625 \nz\n\" id=\"DejaVuSans-56\"/>\n      </defs>\n      <g transform=\"translate(186.588972 172.816562)scale(0.1 -0.1)\">\n       <use xlink:href=\"#DejaVuSans-56\"/>\n       <use x=\"63.623047\" xlink:href=\"#DejaVuSans-48\"/>\n      </g>\n     </g>\n    </g>\n    <g id=\"xtick_6\">\n     <g id=\"line2d_6\">\n      <g>\n       <use style=\"stroke:#000000;stroke-width:0.8;\" x=\"228.819241\" xlink:href=\"#mbb3c3ebe04\" y=\"158.218125\"/>\n      </g>\n     </g>\n     <g id=\"text_6\">\n      <!-- 100 -->\n      <defs>\n       <path d=\"M 12.40625 8.296875 \nL 28.515625 8.296875 \nL 28.515625 63.921875 \nL 10.984375 60.40625 \nL 10.984375 69.390625 \nL 28.421875 72.90625 \nL 38.28125 72.90625 \nL 38.28125 8.296875 \nL 54.390625 8.296875 \nL 54.390625 0 \nL 12.40625 0 \nz\n\" id=\"DejaVuSans-49\"/>\n      </defs>\n      <g transform=\"translate(219.275491 172.816562)scale(0.1 -0.1)\">\n       <use xlink:href=\"#DejaVuSans-49\"/>\n       <use x=\"63.623047\" xlink:href=\"#DejaVuSans-48\"/>\n       <use x=\"127.246094\" xlink:href=\"#DejaVuSans-48\"/>\n      </g>\n     </g>\n    </g>\n    <g id=\"text_7\">\n     <!-- epoch -->\n     <defs>\n      <path d=\"M 56.203125 29.59375 \nL 56.203125 25.203125 \nL 14.890625 25.203125 \nQ 15.484375 15.921875 20.484375 11.0625 \nQ 25.484375 6.203125 34.421875 6.203125 \nQ 39.59375 6.203125 44.453125 7.46875 \nQ 49.3125 8.734375 54.109375 11.28125 \nL 54.109375 2.78125 \nQ 49.265625 0.734375 44.1875 -0.34375 \nQ 39.109375 -1.421875 33.890625 -1.421875 \nQ 20.796875 -1.421875 13.15625 6.1875 \nQ 5.515625 13.8125 5.515625 26.8125 \nQ 5.515625 40.234375 12.765625 48.109375 \nQ 20.015625 56 32.328125 56 \nQ 43.359375 56 49.78125 48.890625 \nQ 56.203125 41.796875 56.203125 29.59375 \nz\nM 47.21875 32.234375 \nQ 47.125 39.59375 43.09375 43.984375 \nQ 39.0625 48.390625 32.421875 48.390625 \nQ 24.90625 48.390625 20.390625 44.140625 \nQ 15.875 39.890625 15.1875 32.171875 \nz\n\" id=\"DejaVuSans-101\"/>\n      <path d=\"M 18.109375 8.203125 \nL 18.109375 -20.796875 \nL 9.078125 -20.796875 \nL 9.078125 54.6875 \nL 18.109375 54.6875 \nL 18.109375 46.390625 \nQ 20.953125 51.265625 25.265625 53.625 \nQ 29.59375 56 35.59375 56 \nQ 45.5625 56 51.78125 48.09375 \nQ 58.015625 40.1875 58.015625 27.296875 \nQ 58.015625 14.40625 51.78125 6.484375 \nQ 45.5625 -1.421875 35.59375 -1.421875 \nQ 29.59375 -1.421875 25.265625 0.953125 \nQ 20.953125 3.328125 18.109375 8.203125 \nz\nM 48.6875 27.296875 \nQ 48.6875 37.203125 44.609375 42.84375 \nQ 40.53125 48.484375 33.40625 48.484375 \nQ 26.265625 48.484375 22.1875 42.84375 \nQ 18.109375 37.203125 18.109375 27.296875 \nQ 18.109375 17.390625 22.1875 11.75 \nQ 26.265625 6.109375 33.40625 6.109375 \nQ 40.53125 6.109375 44.609375 11.75 \nQ 48.6875 17.390625 48.6875 27.296875 \nz\n\" id=\"DejaVuSans-112\"/>\n      <path d=\"M 30.609375 48.390625 \nQ 23.390625 48.390625 19.1875 42.75 \nQ 14.984375 37.109375 14.984375 27.296875 \nQ 14.984375 17.484375 19.15625 11.84375 \nQ 23.34375 6.203125 30.609375 6.203125 \nQ 37.796875 6.203125 41.984375 11.859375 \nQ 46.1875 17.53125 46.1875 27.296875 \nQ 46.1875 37.015625 41.984375 42.703125 \nQ 37.796875 48.390625 30.609375 48.390625 \nz\nM 30.609375 56 \nQ 42.328125 56 49.015625 48.375 \nQ 55.71875 40.765625 55.71875 27.296875 \nQ 55.71875 13.875 49.015625 6.21875 \nQ 42.328125 -1.421875 30.609375 -1.421875 \nQ 18.84375 -1.421875 12.171875 6.21875 \nQ 5.515625 13.875 5.515625 27.296875 \nQ 5.515625 40.765625 12.171875 48.375 \nQ 18.84375 56 30.609375 56 \nz\n\" id=\"DejaVuSans-111\"/>\n      <path d=\"M 48.78125 52.59375 \nL 48.78125 44.1875 \nQ 44.96875 46.296875 41.140625 47.34375 \nQ 37.3125 48.390625 33.40625 48.390625 \nQ 24.65625 48.390625 19.8125 42.84375 \nQ 14.984375 37.3125 14.984375 27.296875 \nQ 14.984375 17.28125 19.8125 11.734375 \nQ 24.65625 6.203125 33.40625 6.203125 \nQ 37.3125 6.203125 41.140625 7.25 \nQ 44.96875 8.296875 48.78125 10.40625 \nL 48.78125 2.09375 \nQ 45.015625 0.34375 40.984375 -0.53125 \nQ 36.96875 -1.421875 32.421875 -1.421875 \nQ 20.0625 -1.421875 12.78125 6.34375 \nQ 5.515625 14.109375 5.515625 27.296875 \nQ 5.515625 40.671875 12.859375 48.328125 \nQ 20.21875 56 33.015625 56 \nQ 37.15625 56 41.109375 55.140625 \nQ 45.0625 54.296875 48.78125 52.59375 \nz\n\" id=\"DejaVuSans-99\"/>\n      <path d=\"M 54.890625 33.015625 \nL 54.890625 0 \nL 45.90625 0 \nL 45.90625 32.71875 \nQ 45.90625 40.484375 42.875 44.328125 \nQ 39.84375 48.1875 33.796875 48.1875 \nQ 26.515625 48.1875 22.3125 43.546875 \nQ 18.109375 38.921875 18.109375 30.90625 \nL 18.109375 0 \nL 9.078125 0 \nL 9.078125 75.984375 \nL 18.109375 75.984375 \nL 18.109375 46.1875 \nQ 21.34375 51.125 25.703125 53.5625 \nQ 30.078125 56 35.796875 56 \nQ 45.21875 56 50.046875 50.171875 \nQ 54.890625 44.34375 54.890625 33.015625 \nz\n\" id=\"DejaVuSans-104\"/>\n     </defs>\n     <g transform=\"translate(123.025 186.494687)scale(0.1 -0.1)\">\n      <use xlink:href=\"#DejaVuSans-101\"/>\n      <use x=\"61.523438\" xlink:href=\"#DejaVuSans-112\"/>\n      <use x=\"125\" xlink:href=\"#DejaVuSans-111\"/>\n      <use x=\"186.181641\" xlink:href=\"#DejaVuSans-99\"/>\n      <use x=\"241.162109\" xlink:href=\"#DejaVuSans-104\"/>\n     </g>\n    </g>\n   </g>\n   <g id=\"matplotlib.axis_2\">\n    <g id=\"ytick_1\">\n     <g id=\"line2d_7\">\n      <defs>\n       <path d=\"M 0 0 \nL -3.5 0 \n\" id=\"m9f1399d59c\" style=\"stroke:#000000;stroke-width:0.8;\"/>\n      </defs>\n      <g>\n       <use style=\"stroke:#000000;stroke-width:0.8;\" x=\"40.603125\" xlink:href=\"#m9f1399d59c\" y=\"153.387968\"/>\n      </g>\n     </g>\n     <g id=\"text_8\">\n      <!-- 10 -->\n      <g transform=\"translate(20.878125 157.187187)scale(0.1 -0.1)\">\n       <use xlink:href=\"#DejaVuSans-49\"/>\n       <use x=\"63.623047\" xlink:href=\"#DejaVuSans-48\"/>\n      </g>\n     </g>\n    </g>\n    <g id=\"ytick_2\">\n     <g id=\"line2d_8\">\n      <g>\n       <use style=\"stroke:#000000;stroke-width:0.8;\" x=\"40.603125\" xlink:href=\"#m9f1399d59c\" y=\"125.055073\"/>\n      </g>\n     </g>\n     <g id=\"text_9\">\n      <!-- 15 -->\n      <defs>\n       <path d=\"M 10.796875 72.90625 \nL 49.515625 72.90625 \nL 49.515625 64.59375 \nL 19.828125 64.59375 \nL 19.828125 46.734375 \nQ 21.96875 47.46875 24.109375 47.828125 \nQ 26.265625 48.1875 28.421875 48.1875 \nQ 40.625 48.1875 47.75 41.5 \nQ 54.890625 34.8125 54.890625 23.390625 \nQ 54.890625 11.625 47.5625 5.09375 \nQ 40.234375 -1.421875 26.90625 -1.421875 \nQ 22.3125 -1.421875 17.546875 -0.640625 \nQ 12.796875 0.140625 7.71875 1.703125 \nL 7.71875 11.625 \nQ 12.109375 9.234375 16.796875 8.0625 \nQ 21.484375 6.890625 26.703125 6.890625 \nQ 35.15625 6.890625 40.078125 11.328125 \nQ 45.015625 15.765625 45.015625 23.390625 \nQ 45.015625 31 40.078125 35.4375 \nQ 35.15625 39.890625 26.703125 39.890625 \nQ 22.75 39.890625 18.8125 39.015625 \nQ 14.890625 38.140625 10.796875 36.28125 \nz\n\" id=\"DejaVuSans-53\"/>\n      </defs>\n      <g transform=\"translate(20.878125 128.854292)scale(0.1 -0.1)\">\n       <use xlink:href=\"#DejaVuSans-49\"/>\n       <use x=\"63.623047\" xlink:href=\"#DejaVuSans-53\"/>\n      </g>\n     </g>\n    </g>\n    <g id=\"ytick_3\">\n     <g id=\"line2d_9\">\n      <g>\n       <use style=\"stroke:#000000;stroke-width:0.8;\" x=\"40.603125\" xlink:href=\"#m9f1399d59c\" y=\"96.722178\"/>\n      </g>\n     </g>\n     <g id=\"text_10\">\n      <!-- 20 -->\n      <g transform=\"translate(20.878125 100.521396)scale(0.1 -0.1)\">\n       <use xlink:href=\"#DejaVuSans-50\"/>\n       <use x=\"63.623047\" xlink:href=\"#DejaVuSans-48\"/>\n      </g>\n     </g>\n    </g>\n    <g id=\"ytick_4\">\n     <g id=\"line2d_10\">\n      <g>\n       <use style=\"stroke:#000000;stroke-width:0.8;\" x=\"40.603125\" xlink:href=\"#m9f1399d59c\" y=\"68.389283\"/>\n      </g>\n     </g>\n     <g id=\"text_11\">\n      <!-- 25 -->\n      <g transform=\"translate(20.878125 72.188501)scale(0.1 -0.1)\">\n       <use xlink:href=\"#DejaVuSans-50\"/>\n       <use x=\"63.623047\" xlink:href=\"#DejaVuSans-53\"/>\n      </g>\n     </g>\n    </g>\n    <g id=\"ytick_5\">\n     <g id=\"line2d_11\">\n      <g>\n       <use style=\"stroke:#000000;stroke-width:0.8;\" x=\"40.603125\" xlink:href=\"#m9f1399d59c\" y=\"40.056387\"/>\n      </g>\n     </g>\n     <g id=\"text_12\">\n      <!-- 30 -->\n      <defs>\n       <path d=\"M 40.578125 39.3125 \nQ 47.65625 37.796875 51.625 33 \nQ 55.609375 28.21875 55.609375 21.1875 \nQ 55.609375 10.40625 48.1875 4.484375 \nQ 40.765625 -1.421875 27.09375 -1.421875 \nQ 22.515625 -1.421875 17.65625 -0.515625 \nQ 12.796875 0.390625 7.625 2.203125 \nL 7.625 11.71875 \nQ 11.71875 9.328125 16.59375 8.109375 \nQ 21.484375 6.890625 26.8125 6.890625 \nQ 36.078125 6.890625 40.9375 10.546875 \nQ 45.796875 14.203125 45.796875 21.1875 \nQ 45.796875 27.640625 41.28125 31.265625 \nQ 36.765625 34.90625 28.71875 34.90625 \nL 20.21875 34.90625 \nL 20.21875 43.015625 \nL 29.109375 43.015625 \nQ 36.375 43.015625 40.234375 45.921875 \nQ 44.09375 48.828125 44.09375 54.296875 \nQ 44.09375 59.90625 40.109375 62.90625 \nQ 36.140625 65.921875 28.71875 65.921875 \nQ 24.65625 65.921875 20.015625 65.03125 \nQ 15.375 64.15625 9.8125 62.3125 \nL 9.8125 71.09375 \nQ 15.4375 72.65625 20.34375 73.4375 \nQ 25.25 74.21875 29.59375 74.21875 \nQ 40.828125 74.21875 47.359375 69.109375 \nQ 53.90625 64.015625 53.90625 55.328125 \nQ 53.90625 49.265625 50.4375 45.09375 \nQ 46.96875 40.921875 40.578125 39.3125 \nz\n\" id=\"DejaVuSans-51\"/>\n      </defs>\n      <g transform=\"translate(20.878125 43.855606)scale(0.1 -0.1)\">\n       <use xlink:href=\"#DejaVuSans-51\"/>\n       <use x=\"63.623047\" xlink:href=\"#DejaVuSans-48\"/>\n      </g>\n     </g>\n    </g>\n    <g id=\"text_13\">\n     <!-- loss -->\n     <defs>\n      <path d=\"M 9.421875 75.984375 \nL 18.40625 75.984375 \nL 18.40625 0 \nL 9.421875 0 \nz\n\" id=\"DejaVuSans-108\"/>\n      <path d=\"M 44.28125 53.078125 \nL 44.28125 44.578125 \nQ 40.484375 46.53125 36.375 47.5 \nQ 32.28125 48.484375 27.875 48.484375 \nQ 21.1875 48.484375 17.84375 46.4375 \nQ 14.5 44.390625 14.5 40.28125 \nQ 14.5 37.15625 16.890625 35.375 \nQ 19.28125 33.59375 26.515625 31.984375 \nL 29.59375 31.296875 \nQ 39.15625 29.25 43.1875 25.515625 \nQ 47.21875 21.78125 47.21875 15.09375 \nQ 47.21875 7.46875 41.1875 3.015625 \nQ 35.15625 -1.421875 24.609375 -1.421875 \nQ 20.21875 -1.421875 15.453125 -0.5625 \nQ 10.6875 0.296875 5.421875 2 \nL 5.421875 11.28125 \nQ 10.40625 8.6875 15.234375 7.390625 \nQ 20.0625 6.109375 24.8125 6.109375 \nQ 31.15625 6.109375 34.5625 8.28125 \nQ 37.984375 10.453125 37.984375 14.40625 \nQ 37.984375 18.0625 35.515625 20.015625 \nQ 33.0625 21.96875 24.703125 23.78125 \nL 21.578125 24.515625 \nQ 13.234375 26.265625 9.515625 29.90625 \nQ 5.8125 33.546875 5.8125 39.890625 \nQ 5.8125 47.609375 11.28125 51.796875 \nQ 16.75 56 26.8125 56 \nQ 31.78125 56 36.171875 55.265625 \nQ 40.578125 54.546875 44.28125 53.078125 \nz\n\" id=\"DejaVuSans-115\"/>\n     </defs>\n     <g transform=\"translate(14.798437 99.925937)rotate(-90)scale(0.1 -0.1)\">\n      <use xlink:href=\"#DejaVuSans-108\"/>\n      <use x=\"27.783203\" xlink:href=\"#DejaVuSans-111\"/>\n      <use x=\"88.964844\" xlink:href=\"#DejaVuSans-115\"/>\n      <use x=\"141.064453\" xlink:href=\"#DejaVuSans-115\"/>\n     </g>\n    </g>\n   </g>\n   <g id=\"line2d_12\">\n    <path clip-path=\"url(#p85bdca4d60)\" d=\"M 49.480398 28.495398 \nL 51.273786 103.407826 \nL 53.067175 108.357346 \nL 54.860563 110.54266 \nL 56.653951 112.213591 \nL 58.44734 113.697632 \nL 60.240728 115.07287 \nL 62.034117 116.352761 \nL 63.827505 117.536089 \nL 65.620894 118.651649 \nL 67.414282 119.692081 \nL 69.20767 120.673988 \nL 71.001059 121.602366 \nL 72.794447 122.480546 \nL 74.587836 123.317791 \nL 76.381224 124.117877 \nL 78.174613 124.87923 \nL 79.968001 125.609301 \nL 81.761389 126.309565 \nL 83.554778 126.982274 \nL 85.348166 127.629954 \nL 87.141555 128.252457 \nL 88.934943 128.85242 \nL 90.728332 129.430464 \nL 92.52172 129.987972 \nL 94.315108 130.529531 \nL 96.108497 131.053163 \nL 97.901885 131.560409 \nL 99.695274 132.053124 \nL 101.488662 132.529365 \nL 103.282051 132.994906 \nL 105.075439 133.444055 \nL 106.868827 133.883122 \nL 108.662216 134.309221 \nL 110.455604 134.724564 \nL 112.248993 135.130181 \nL 114.042381 135.525122 \nL 115.83577 135.910725 \nL 117.629158 136.286196 \nL 119.422546 136.653425 \nL 121.215935 137.011536 \nL 123.009323 137.362947 \nL 124.802712 137.706262 \nL 126.5961 138.043368 \nL 128.389489 138.371718 \nL 130.182877 138.693517 \nL 131.976265 139.007942 \nL 133.769654 139.316903 \nL 135.563042 139.619469 \nL 137.356431 139.915386 \nL 139.149819 140.207189 \nL 140.943208 140.492488 \nL 142.736596 140.773175 \nL 144.529985 141.048656 \nL 146.323373 141.319049 \nL 148.116761 141.583876 \nL 149.91015 141.844757 \nL 151.703538 142.100908 \nL 153.496927 142.352954 \nL 155.290315 142.601048 \nL 157.083704 142.845513 \nL 158.877092 143.085496 \nL 160.67048 143.321437 \nL 162.463869 143.553983 \nL 164.257257 143.782842 \nL 166.050646 144.008508 \nL 167.844034 144.230507 \nL 169.637423 144.449679 \nL 171.430811 144.66561 \nL 173.224199 144.877581 \nL 175.017588 145.087517 \nL 176.810976 145.29411 \nL 178.604365 145.498348 \nL 180.397753 145.699006 \nL 182.191142 145.89715 \nL 183.98453 146.092469 \nL 185.777918 146.285615 \nL 187.571307 146.475988 \nL 189.364695 146.663298 \nL 191.158084 146.848612 \nL 192.951472 147.031447 \nL 194.744861 147.212509 \nL 196.538249 147.390997 \nL 198.331637 147.567385 \nL 200.125026 147.741625 \nL 201.918414 147.913538 \nL 203.711803 148.084242 \nL 205.505191 148.252248 \nL 207.29858 148.418301 \nL 209.091968 148.582149 \nL 210.885356 148.74442 \nL 212.678745 148.90516 \nL 214.472133 149.063399 \nL 216.265522 149.219963 \nL 218.05891 149.374943 \nL 219.852299 149.528054 \nL 221.645687 149.679893 \nL 223.439075 149.82994 \nL 225.232464 149.978183 \nL 227.025852 150.125491 \n\" style=\"fill:none;stroke:#1f77b4;stroke-linecap:square;stroke-width:1.5;\"/>\n   </g>\n   <g id=\"line2d_13\">\n    <path clip-path=\"url(#p85bdca4d60)\" d=\"M 49.480398 101.312749 \nL 51.273786 109.79226 \nL 53.067175 112.41279 \nL 54.860563 114.150616 \nL 56.653951 115.656731 \nL 58.44734 117.036981 \nL 60.240728 118.312712 \nL 62.034117 119.507299 \nL 63.827505 120.625221 \nL 65.620894 121.669002 \nL 67.414282 122.651397 \nL 69.20767 123.583693 \nL 71.001059 124.462599 \nL 72.794447 125.299371 \nL 74.587836 126.096263 \nL 76.381224 126.857015 \nL 78.174613 127.585429 \nL 79.968001 128.285104 \nL 81.761389 128.955013 \nL 83.554778 129.59925 \nL 85.348166 130.219907 \nL 87.141555 130.817211 \nL 88.934943 131.394026 \nL 90.728332 131.9486 \nL 92.52172 132.485842 \nL 94.315108 133.006595 \nL 96.108497 133.510529 \nL 97.901885 133.99984 \nL 99.695274 134.473952 \nL 101.488662 134.935124 \nL 103.282051 135.383016 \nL 105.075439 135.819231 \nL 106.868827 136.241352 \nL 108.662216 136.653321 \nL 110.455604 137.055982 \nL 112.248993 137.448895 \nL 114.042381 137.831432 \nL 115.83577 138.204869 \nL 117.629158 138.568361 \nL 119.422546 138.923889 \nL 121.215935 139.272342 \nL 123.009323 139.61224 \nL 124.802712 139.944994 \nL 126.5961 140.271776 \nL 128.389489 140.590906 \nL 130.182877 140.902307 \nL 131.976265 141.208222 \nL 133.769654 141.508103 \nL 135.563042 141.801421 \nL 137.356431 142.090434 \nL 139.149819 142.372768 \nL 140.943208 142.650828 \nL 142.736596 142.923843 \nL 144.529985 143.191767 \nL 146.323373 143.454055 \nL 148.116761 143.712448 \nL 149.91015 143.965832 \nL 151.703538 144.215399 \nL 153.496927 144.460784 \nL 155.290315 144.70214 \nL 157.083704 144.939539 \nL 158.877092 145.173 \nL 160.67048 145.40322 \nL 162.463869 145.630155 \nL 164.257257 145.852893 \nL 166.050646 146.072753 \nL 167.844034 146.289609 \nL 169.637423 146.5028 \nL 171.430811 146.7126 \nL 173.224199 146.919948 \nL 175.017588 147.124106 \nL 176.810976 147.326259 \nL 178.604365 147.524561 \nL 180.397753 147.720379 \nL 182.191142 147.913389 \nL 183.98453 148.104199 \nL 185.777918 148.29272 \nL 187.571307 148.477531 \nL 189.364695 148.660931 \nL 191.158084 148.841569 \nL 192.951472 149.020579 \nL 194.744861 149.197003 \nL 196.538249 149.371169 \nL 198.331637 149.543207 \nL 200.125026 149.713604 \nL 201.918414 149.881717 \nL 203.711803 150.047457 \nL 205.505191 150.211505 \nL 207.29858 150.373481 \nL 209.091968 150.533758 \nL 210.885356 150.692488 \nL 212.678745 150.848806 \nL 214.472133 151.003582 \nL 216.265522 151.156515 \nL 218.05891 151.307821 \nL 219.852299 151.457593 \nL 221.645687 151.605666 \nL 223.439075 151.751891 \nL 225.232464 151.897472 \nL 227.025852 152.040852 \n\" style=\"fill:none;stroke:#ff7f0e;stroke-linecap:square;stroke-width:1.5;\"/>\n   </g>\n   <g id=\"patch_3\">\n    <path d=\"M 40.603125 158.218125 \nL 40.603125 22.318125 \n\" style=\"fill:none;stroke:#000000;stroke-linecap:square;stroke-linejoin:miter;stroke-width:0.8;\"/>\n   </g>\n   <g id=\"patch_4\">\n    <path d=\"M 235.903125 158.218125 \nL 235.903125 22.318125 \n\" style=\"fill:none;stroke:#000000;stroke-linecap:square;stroke-linejoin:miter;stroke-width:0.8;\"/>\n   </g>\n   <g id=\"patch_5\">\n    <path d=\"M 40.603125 158.218125 \nL 235.903125 158.218125 \n\" style=\"fill:none;stroke:#000000;stroke-linecap:square;stroke-linejoin:miter;stroke-width:0.8;\"/>\n   </g>\n   <g id=\"patch_6\">\n    <path d=\"M 40.603125 22.318125 \nL 235.903125 22.318125 \n\" style=\"fill:none;stroke:#000000;stroke-linecap:square;stroke-linejoin:miter;stroke-width:0.8;\"/>\n   </g>\n   <g id=\"text_14\">\n    <!-- model loss -->\n    <defs>\n     <path d=\"M 52 44.1875 \nQ 55.375 50.25 60.0625 53.125 \nQ 64.75 56 71.09375 56 \nQ 79.640625 56 84.28125 50.015625 \nQ 88.921875 44.046875 88.921875 33.015625 \nL 88.921875 0 \nL 79.890625 0 \nL 79.890625 32.71875 \nQ 79.890625 40.578125 77.09375 44.375 \nQ 74.3125 48.1875 68.609375 48.1875 \nQ 61.625 48.1875 57.5625 43.546875 \nQ 53.515625 38.921875 53.515625 30.90625 \nL 53.515625 0 \nL 44.484375 0 \nL 44.484375 32.71875 \nQ 44.484375 40.625 41.703125 44.40625 \nQ 38.921875 48.1875 33.109375 48.1875 \nQ 26.21875 48.1875 22.15625 43.53125 \nQ 18.109375 38.875 18.109375 30.90625 \nL 18.109375 0 \nL 9.078125 0 \nL 9.078125 54.6875 \nL 18.109375 54.6875 \nL 18.109375 46.1875 \nQ 21.1875 51.21875 25.484375 53.609375 \nQ 29.78125 56 35.6875 56 \nQ 41.65625 56 45.828125 52.96875 \nQ 50 49.953125 52 44.1875 \nz\n\" id=\"DejaVuSans-109\"/>\n     <path d=\"M 45.40625 46.390625 \nL 45.40625 75.984375 \nL 54.390625 75.984375 \nL 54.390625 0 \nL 45.40625 0 \nL 45.40625 8.203125 \nQ 42.578125 3.328125 38.25 0.953125 \nQ 33.9375 -1.421875 27.875 -1.421875 \nQ 17.96875 -1.421875 11.734375 6.484375 \nQ 5.515625 14.40625 5.515625 27.296875 \nQ 5.515625 40.1875 11.734375 48.09375 \nQ 17.96875 56 27.875 56 \nQ 33.9375 56 38.25 53.625 \nQ 42.578125 51.265625 45.40625 46.390625 \nz\nM 14.796875 27.296875 \nQ 14.796875 17.390625 18.875 11.75 \nQ 22.953125 6.109375 30.078125 6.109375 \nQ 37.203125 6.109375 41.296875 11.75 \nQ 45.40625 17.390625 45.40625 27.296875 \nQ 45.40625 37.203125 41.296875 42.84375 \nQ 37.203125 48.484375 30.078125 48.484375 \nQ 22.953125 48.484375 18.875 42.84375 \nQ 14.796875 37.203125 14.796875 27.296875 \nz\n\" id=\"DejaVuSans-100\"/>\n     <path id=\"DejaVuSans-32\"/>\n    </defs>\n    <g transform=\"translate(106.073437 16.318125)scale(0.12 -0.12)\">\n     <use xlink:href=\"#DejaVuSans-109\"/>\n     <use x=\"97.412109\" xlink:href=\"#DejaVuSans-111\"/>\n     <use x=\"158.59375\" xlink:href=\"#DejaVuSans-100\"/>\n     <use x=\"222.070312\" xlink:href=\"#DejaVuSans-101\"/>\n     <use x=\"283.59375\" xlink:href=\"#DejaVuSans-108\"/>\n     <use x=\"311.376953\" xlink:href=\"#DejaVuSans-32\"/>\n     <use x=\"343.164062\" xlink:href=\"#DejaVuSans-108\"/>\n     <use x=\"370.947266\" xlink:href=\"#DejaVuSans-111\"/>\n     <use x=\"432.128906\" xlink:href=\"#DejaVuSans-115\"/>\n     <use x=\"484.228516\" xlink:href=\"#DejaVuSans-115\"/>\n    </g>\n   </g>\n   <g id=\"legend_1\">\n    <g id=\"patch_7\">\n     <path d=\"M 47.603125 59.674375 \nL 102.878125 59.674375 \nQ 104.878125 59.674375 104.878125 57.674375 \nL 104.878125 29.318125 \nQ 104.878125 27.318125 102.878125 27.318125 \nL 47.603125 27.318125 \nQ 45.603125 27.318125 45.603125 29.318125 \nL 45.603125 57.674375 \nQ 45.603125 59.674375 47.603125 59.674375 \nz\n\" style=\"fill:#ffffff;opacity:0.8;stroke:#cccccc;stroke-linejoin:miter;\"/>\n    </g>\n    <g id=\"line2d_14\">\n     <path d=\"M 49.603125 35.416562 \nL 69.603125 35.416562 \n\" style=\"fill:none;stroke:#1f77b4;stroke-linecap:square;stroke-width:1.5;\"/>\n    </g>\n    <g id=\"line2d_15\"/>\n    <g id=\"text_15\">\n     <!-- train -->\n     <defs>\n      <path d=\"M 18.3125 70.21875 \nL 18.3125 54.6875 \nL 36.8125 54.6875 \nL 36.8125 47.703125 \nL 18.3125 47.703125 \nL 18.3125 18.015625 \nQ 18.3125 11.328125 20.140625 9.421875 \nQ 21.96875 7.515625 27.59375 7.515625 \nL 36.8125 7.515625 \nL 36.8125 0 \nL 27.59375 0 \nQ 17.1875 0 13.234375 3.875 \nQ 9.28125 7.765625 9.28125 18.015625 \nL 9.28125 47.703125 \nL 2.6875 47.703125 \nL 2.6875 54.6875 \nL 9.28125 54.6875 \nL 9.28125 70.21875 \nz\n\" id=\"DejaVuSans-116\"/>\n      <path d=\"M 41.109375 46.296875 \nQ 39.59375 47.171875 37.8125 47.578125 \nQ 36.03125 48 33.890625 48 \nQ 26.265625 48 22.1875 43.046875 \nQ 18.109375 38.09375 18.109375 28.8125 \nL 18.109375 0 \nL 9.078125 0 \nL 9.078125 54.6875 \nL 18.109375 54.6875 \nL 18.109375 46.1875 \nQ 20.953125 51.171875 25.484375 53.578125 \nQ 30.03125 56 36.53125 56 \nQ 37.453125 56 38.578125 55.875 \nQ 39.703125 55.765625 41.0625 55.515625 \nz\n\" id=\"DejaVuSans-114\"/>\n      <path d=\"M 34.28125 27.484375 \nQ 23.390625 27.484375 19.1875 25 \nQ 14.984375 22.515625 14.984375 16.5 \nQ 14.984375 11.71875 18.140625 8.90625 \nQ 21.296875 6.109375 26.703125 6.109375 \nQ 34.1875 6.109375 38.703125 11.40625 \nQ 43.21875 16.703125 43.21875 25.484375 \nL 43.21875 27.484375 \nz\nM 52.203125 31.203125 \nL 52.203125 0 \nL 43.21875 0 \nL 43.21875 8.296875 \nQ 40.140625 3.328125 35.546875 0.953125 \nQ 30.953125 -1.421875 24.3125 -1.421875 \nQ 15.921875 -1.421875 10.953125 3.296875 \nQ 6 8.015625 6 15.921875 \nQ 6 25.140625 12.171875 29.828125 \nQ 18.359375 34.515625 30.609375 34.515625 \nL 43.21875 34.515625 \nL 43.21875 35.40625 \nQ 43.21875 41.609375 39.140625 45 \nQ 35.0625 48.390625 27.6875 48.390625 \nQ 23 48.390625 18.546875 47.265625 \nQ 14.109375 46.140625 10.015625 43.890625 \nL 10.015625 52.203125 \nQ 14.9375 54.109375 19.578125 55.046875 \nQ 24.21875 56 28.609375 56 \nQ 40.484375 56 46.34375 49.84375 \nQ 52.203125 43.703125 52.203125 31.203125 \nz\n\" id=\"DejaVuSans-97\"/>\n      <path d=\"M 9.421875 54.6875 \nL 18.40625 54.6875 \nL 18.40625 0 \nL 9.421875 0 \nz\nM 9.421875 75.984375 \nL 18.40625 75.984375 \nL 18.40625 64.59375 \nL 9.421875 64.59375 \nz\n\" id=\"DejaVuSans-105\"/>\n      <path d=\"M 54.890625 33.015625 \nL 54.890625 0 \nL 45.90625 0 \nL 45.90625 32.71875 \nQ 45.90625 40.484375 42.875 44.328125 \nQ 39.84375 48.1875 33.796875 48.1875 \nQ 26.515625 48.1875 22.3125 43.546875 \nQ 18.109375 38.921875 18.109375 30.90625 \nL 18.109375 0 \nL 9.078125 0 \nL 9.078125 54.6875 \nL 18.109375 54.6875 \nL 18.109375 46.1875 \nQ 21.34375 51.125 25.703125 53.5625 \nQ 30.078125 56 35.796875 56 \nQ 45.21875 56 50.046875 50.171875 \nQ 54.890625 44.34375 54.890625 33.015625 \nz\n\" id=\"DejaVuSans-110\"/>\n     </defs>\n     <g transform=\"translate(77.603125 38.916562)scale(0.1 -0.1)\">\n      <use xlink:href=\"#DejaVuSans-116\"/>\n      <use x=\"39.208984\" xlink:href=\"#DejaVuSans-114\"/>\n      <use x=\"80.322266\" xlink:href=\"#DejaVuSans-97\"/>\n      <use x=\"141.601562\" xlink:href=\"#DejaVuSans-105\"/>\n      <use x=\"169.384766\" xlink:href=\"#DejaVuSans-110\"/>\n     </g>\n    </g>\n    <g id=\"line2d_16\">\n     <path d=\"M 49.603125 50.094687 \nL 69.603125 50.094687 \n\" style=\"fill:none;stroke:#ff7f0e;stroke-linecap:square;stroke-width:1.5;\"/>\n    </g>\n    <g id=\"line2d_17\"/>\n    <g id=\"text_16\">\n     <!-- test -->\n     <g transform=\"translate(77.603125 53.594687)scale(0.1 -0.1)\">\n      <use xlink:href=\"#DejaVuSans-116\"/>\n      <use x=\"39.208984\" xlink:href=\"#DejaVuSans-101\"/>\n      <use x=\"100.732422\" xlink:href=\"#DejaVuSans-115\"/>\n      <use x=\"152.832031\" xlink:href=\"#DejaVuSans-116\"/>\n     </g>\n    </g>\n   </g>\n  </g>\n </g>\n <defs>\n  <clipPath id=\"p85bdca4d60\">\n   <rect height=\"135.9\" width=\"195.3\" x=\"40.603125\" y=\"22.318125\"/>\n  </clipPath>\n </defs>\n</svg>\n"
          },
          "metadata": {
            "tags": []
          }
        },
        {
          "output_type": "stream",
          "text": [
            "Train on 1168 samples, validate on 292 samples\n",
            "Epoch 1/100\n",
            " - 1s - loss: 25.0394 - mean_squared_error: 37971118276.3836 - val_loss: 14.4266 - val_mean_squared_error: 38528617962.9589\n",
            "Epoch 2/100\n",
            " - 0s - loss: 13.7136 - mean_squared_error: 37316798520.1096 - val_loss: 13.4037 - val_mean_squared_error: 38325477852.9315\n",
            "Epoch 3/100\n",
            " - 0s - loss: 13.2171 - mean_squared_error: 37213133501.3699 - val_loss: 13.2159 - val_mean_squared_error: 38284104465.5342\n",
            "Epoch 4/100\n",
            " - 0s - loss: 13.0933 - mean_squared_error: 37185679303.8904 - val_loss: 13.1313 - val_mean_squared_error: 38264948371.2877\n",
            "Epoch 5/100\n",
            " - 0s - loss: 13.0181 - mean_squared_error: 37168520542.6849 - val_loss: 13.0622 - val_mean_squared_error: 38249100554.5205\n",
            "Epoch 6/100\n",
            " - 0s - loss: 12.9511 - mean_squared_error: 37153091527.8904 - val_loss: 12.9963 - val_mean_squared_error: 38233813609.2055\n",
            "Epoch 7/100\n",
            " - 0s - loss: 12.8861 - mean_squared_error: 37137904317.3699 - val_loss: 12.9323 - val_mean_squared_error: 38218772648.3288\n",
            "Epoch 8/100\n",
            " - 0s - loss: 12.8231 - mean_squared_error: 37123067511.2329 - val_loss: 12.8697 - val_mean_squared_error: 38203884024.9863\n",
            "Epoch 9/100\n",
            " - 0s - loss: 12.7613 - mean_squared_error: 37108391851.8356 - val_loss: 12.8084 - val_mean_squared_error: 38189163590.1370\n",
            "Epoch 10/100\n",
            " - 0s - loss: 12.7009 - mean_squared_error: 37093813205.9178 - val_loss: 12.7486 - val_mean_squared_error: 38174688494.4658\n",
            "Epoch 11/100\n",
            " - 0s - loss: 12.6419 - mean_squared_error: 37079498864.2192 - val_loss: 12.6899 - val_mean_squared_error: 38160238760.3288\n",
            "Epoch 12/100\n",
            " - 0s - loss: 12.5840 - mean_squared_error: 37065242315.3973 - val_loss: 12.6325 - val_mean_squared_error: 38146036806.1370\n",
            "Epoch 13/100\n",
            " - 0s - loss: 12.5274 - mean_squared_error: 37051189837.1507 - val_loss: 12.5761 - val_mean_squared_error: 38131893542.5753\n",
            "Epoch 14/100\n",
            " - 0s - loss: 12.4718 - mean_squared_error: 37037238131.7260 - val_loss: 12.5210 - val_mean_squared_error: 38117951936.8767\n",
            "Epoch 15/100\n",
            " - 0s - loss: 12.4174 - mean_squared_error: 37023431525.6986 - val_loss: 12.4671 - val_mean_squared_error: 38104197765.2603\n",
            "Epoch 16/100\n",
            " - 0s - loss: 12.3641 - mean_squared_error: 37009736465.5342 - val_loss: 12.4143 - val_mean_squared_error: 38090584905.6438\n",
            "Epoch 17/100\n",
            " - 0s - loss: 12.3119 - mean_squared_error: 36996334241.3151 - val_loss: 12.3623 - val_mean_squared_error: 38077060222.2466\n",
            "Epoch 18/100\n",
            " - 0s - loss: 12.2606 - mean_squared_error: 36982904186.7397 - val_loss: 12.3114 - val_mean_squared_error: 38063652695.6712\n",
            "Epoch 19/100\n",
            " - 0s - loss: 12.2101 - mean_squared_error: 36969534141.3699 - val_loss: 12.2614 - val_mean_squared_error: 38050400031.5616\n",
            "Epoch 20/100\n",
            " - 0s - loss: 12.1609 - mean_squared_error: 36956535204.8219 - val_loss: 12.2123 - val_mean_squared_error: 38037264019.2877\n",
            "Epoch 21/100\n",
            " - 0s - loss: 12.1123 - mean_squared_error: 36943561321.2055 - val_loss: 12.1640 - val_mean_squared_error: 38024222439.4521\n",
            "Epoch 22/100\n",
            " - 0s - loss: 12.0647 - mean_squared_error: 36930629912.5479 - val_loss: 12.1166 - val_mean_squared_error: 38011321694.6849\n",
            "Epoch 23/100\n",
            " - 0s - loss: 12.0178 - mean_squared_error: 36917842396.9315 - val_loss: 12.0701 - val_mean_squared_error: 37998542960.2192\n",
            "Epoch 24/100\n",
            " - 0s - loss: 11.9719 - mean_squared_error: 36905216925.8082 - val_loss: 12.0244 - val_mean_squared_error: 37985931937.3151\n",
            "Epoch 25/100\n",
            " - 0s - loss: 11.9267 - mean_squared_error: 36892670148.3836 - val_loss: 11.9796 - val_mean_squared_error: 37973434199.6712\n",
            "Epoch 26/100\n",
            " - 0s - loss: 11.8824 - mean_squared_error: 36880307803.1781 - val_loss: 11.9353 - val_mean_squared_error: 37960948188.9315\n",
            "Epoch 27/100\n",
            " - 0s - loss: 11.8385 - mean_squared_error: 36867951742.2466 - val_loss: 11.8918 - val_mean_squared_error: 37948584412.9315\n",
            "Epoch 28/100\n",
            " - 0s - loss: 11.7955 - mean_squared_error: 36855673168.6575 - val_loss: 11.8489 - val_mean_squared_error: 37936328339.2877\n",
            "Epoch 29/100\n",
            " - 0s - loss: 11.7532 - mean_squared_error: 36843568759.2329 - val_loss: 11.8067 - val_mean_squared_error: 37924127281.0959\n",
            "Epoch 30/100\n",
            " - 0s - loss: 11.7115 - mean_squared_error: 36831533140.1644 - val_loss: 11.7653 - val_mean_squared_error: 37912099825.9726\n",
            "Epoch 31/100\n",
            " - 0s - loss: 11.6705 - mean_squared_error: 36819540893.8082 - val_loss: 11.7245 - val_mean_squared_error: 37900158667.3973\n",
            "Epoch 32/100\n",
            " - 0s - loss: 11.6302 - mean_squared_error: 36807826670.4658 - val_loss: 11.6842 - val_mean_squared_error: 37888280071.0137\n",
            "Epoch 33/100\n",
            " - 0s - loss: 11.5904 - mean_squared_error: 36795993382.5753 - val_loss: 11.6449 - val_mean_squared_error: 37876611212.2740\n",
            "Epoch 34/100\n",
            " - 0s - loss: 11.5513 - mean_squared_error: 36784425212.4931 - val_loss: 11.6058 - val_mean_squared_error: 37864880969.6438\n",
            "Epoch 35/100\n",
            " - 0s - loss: 11.5127 - mean_squared_error: 36772783482.7397 - val_loss: 11.5674 - val_mean_squared_error: 37853283089.5342\n",
            "Epoch 36/100\n",
            " - 0s - loss: 11.4747 - mean_squared_error: 36761319957.0411 - val_loss: 11.5295 - val_mean_squared_error: 37841772039.0137\n",
            "Epoch 37/100\n",
            " - 0s - loss: 11.4372 - mean_squared_error: 36749932067.0685 - val_loss: 11.4922 - val_mean_squared_error: 37830358787.5069\n",
            "Epoch 38/100\n",
            " - 0s - loss: 11.4002 - mean_squared_error: 36738584295.4521 - val_loss: 11.4554 - val_mean_squared_error: 37819021059.5069\n",
            "Epoch 39/100\n",
            " - 0s - loss: 11.3639 - mean_squared_error: 36727447720.3288 - val_loss: 11.4191 - val_mean_squared_error: 37807774986.5205\n",
            "Epoch 40/100\n",
            " - 0s - loss: 11.3280 - mean_squared_error: 36716257280.0000 - val_loss: 11.3835 - val_mean_squared_error: 37796658863.3425\n",
            "Epoch 41/100\n",
            " - 0s - loss: 11.2927 - mean_squared_error: 36705239657.2055 - val_loss: 11.3482 - val_mean_squared_error: 37785578453.9178\n",
            "Epoch 42/100\n",
            " - 0s - loss: 11.2578 - mean_squared_error: 36694235220.1644 - val_loss: 11.3134 - val_mean_squared_error: 37774560354.1918\n",
            "Epoch 43/100\n",
            " - 0s - loss: 11.2233 - mean_squared_error: 36683358151.8904 - val_loss: 11.2791 - val_mean_squared_error: 37763632506.7397\n",
            "Epoch 44/100\n",
            " - 0s - loss: 11.1894 - mean_squared_error: 36672526897.0959 - val_loss: 11.2452 - val_mean_squared_error: 37752775076.8219\n",
            "Epoch 45/100\n",
            " - 0s - loss: 11.1558 - mean_squared_error: 36661766733.1507 - val_loss: 11.2119 - val_mean_squared_error: 37742033008.2192\n",
            "Epoch 46/100\n",
            " - 0s - loss: 11.1228 - mean_squared_error: 36651143672.9863 - val_loss: 11.1789 - val_mean_squared_error: 37731290883.5069\n",
            "Epoch 47/100\n",
            " - 0s - loss: 11.0901 - mean_squared_error: 36640469945.8630 - val_loss: 11.1463 - val_mean_squared_error: 37720648886.3562\n",
            "Epoch 48/100\n",
            " - 0s - loss: 11.0579 - mean_squared_error: 36629957730.1918 - val_loss: 11.1141 - val_mean_squared_error: 37710066533.6986\n",
            "Epoch 49/100\n",
            " - 0s - loss: 11.0260 - mean_squared_error: 36619458616.1096 - val_loss: 11.0824 - val_mean_squared_error: 37699586244.3836\n",
            "Epoch 50/100\n",
            " - 0s - loss: 10.9946 - mean_squared_error: 36609090461.8082 - val_loss: 11.0511 - val_mean_squared_error: 37689182741.0411\n",
            "Epoch 51/100\n",
            " - 0s - loss: 10.9636 - mean_squared_error: 36598726880.4384 - val_loss: 11.0203 - val_mean_squared_error: 37678860680.7671\n",
            "Epoch 52/100\n",
            " - 0s - loss: 10.9330 - mean_squared_error: 36588524417.7534 - val_loss: 10.9896 - val_mean_squared_error: 37668526276.3836\n",
            "Epoch 53/100\n",
            " - 0s - loss: 10.9026 - mean_squared_error: 36578245084.9315 - val_loss: 10.9594 - val_mean_squared_error: 37658291747.0685\n",
            "Epoch 54/100\n",
            " - 0s - loss: 10.8727 - mean_squared_error: 36568119913.2055 - val_loss: 10.9295 - val_mean_squared_error: 37648114449.5342\n",
            "Epoch 55/100\n",
            " - 0s - loss: 10.8432 - mean_squared_error: 36558116050.4110 - val_loss: 10.9000 - val_mean_squared_error: 37637982937.4247\n",
            "Epoch 56/100\n",
            " - 0s - loss: 10.8139 - mean_squared_error: 36548062727.0137 - val_loss: 10.8709 - val_mean_squared_error: 37627980645.6986\n",
            "Epoch 57/100\n",
            " - 0s - loss: 10.7850 - mean_squared_error: 36538076342.3562 - val_loss: 10.8421 - val_mean_squared_error: 37618035585.7534\n",
            "Epoch 58/100\n",
            " - 0s - loss: 10.7565 - mean_squared_error: 36528245605.6986 - val_loss: 10.8136 - val_mean_squared_error: 37608071925.4795\n",
            "Epoch 59/100\n",
            " - 0s - loss: 10.7283 - mean_squared_error: 36518457456.2192 - val_loss: 10.7854 - val_mean_squared_error: 37598183760.6575\n",
            "Epoch 60/100\n",
            " - 0s - loss: 10.7004 - mean_squared_error: 36508579419.1781 - val_loss: 10.7576 - val_mean_squared_error: 37588436234.5205\n",
            "Epoch 61/100\n",
            " - 0s - loss: 10.6728 - mean_squared_error: 36498935303.0137 - val_loss: 10.7301 - val_mean_squared_error: 37578662533.2603\n",
            "Epoch 62/100\n",
            " - 0s - loss: 10.6455 - mean_squared_error: 36489233955.0685 - val_loss: 10.7029 - val_mean_squared_error: 37568991905.3151\n",
            "Epoch 63/100\n",
            " - 0s - loss: 10.6185 - mean_squared_error: 36479598928.6575 - val_loss: 10.6759 - val_mean_squared_error: 37559348546.6301\n",
            "Epoch 64/100\n",
            " - 0s - loss: 10.5918 - mean_squared_error: 36470093571.5069 - val_loss: 10.6492 - val_mean_squared_error: 37549688747.8356\n",
            "Epoch 65/100\n",
            " - 0s - loss: 10.5654 - mean_squared_error: 36460500458.9589 - val_loss: 10.6228 - val_mean_squared_error: 37540176096.4384\n",
            "Epoch 66/100\n",
            " - 0s - loss: 10.5392 - mean_squared_error: 36451024671.5616 - val_loss: 10.5968 - val_mean_squared_error: 37530688638.2466\n",
            "Epoch 67/100\n",
            " - 0s - loss: 10.5133 - mean_squared_error: 36441596689.5342 - val_loss: 10.5709 - val_mean_squared_error: 37521248536.5479\n",
            "Epoch 68/100\n",
            " - 0s - loss: 10.4877 - mean_squared_error: 36432199623.8904 - val_loss: 10.5453 - val_mean_squared_error: 37511837359.3425\n",
            "Epoch 69/100\n",
            " - 0s - loss: 10.4623 - mean_squared_error: 36422910625.3151 - val_loss: 10.5200 - val_mean_squared_error: 37502461503.1233\n",
            "Epoch 70/100\n",
            " - 0s - loss: 10.4372 - mean_squared_error: 36413665111.6712 - val_loss: 10.4948 - val_mean_squared_error: 37493104724.1644\n",
            "Epoch 71/100\n",
            " - 0s - loss: 10.4123 - mean_squared_error: 36404410901.0411 - val_loss: 10.4700 - val_mean_squared_error: 37483861482.9589\n",
            "Epoch 72/100\n",
            " - 0s - loss: 10.3878 - mean_squared_error: 36395252778.0822 - val_loss: 10.4455 - val_mean_squared_error: 37474689977.8630\n",
            "Epoch 73/100\n",
            " - 0s - loss: 10.3635 - mean_squared_error: 36386184991.5616 - val_loss: 10.4213 - val_mean_squared_error: 37465564426.5205\n",
            "Epoch 74/100\n",
            " - 0s - loss: 10.3394 - mean_squared_error: 36377060450.1918 - val_loss: 10.3973 - val_mean_squared_error: 37456474953.6438\n",
            "Epoch 75/100\n",
            " - 0s - loss: 10.3156 - mean_squared_error: 36368030846.2466 - val_loss: 10.3735 - val_mean_squared_error: 37447418641.5342\n",
            "Epoch 76/100\n",
            " - 0s - loss: 10.2920 - mean_squared_error: 36359083611.1781 - val_loss: 10.3498 - val_mean_squared_error: 37438389318.1370\n",
            "Epoch 77/100\n",
            " - 0s - loss: 10.2686 - mean_squared_error: 36350172061.8082 - val_loss: 10.3264 - val_mean_squared_error: 37429396606.2466\n",
            "Epoch 78/100\n",
            " - 0s - loss: 10.2454 - mean_squared_error: 36341249935.7808 - val_loss: 10.3034 - val_mean_squared_error: 37420547955.7260\n",
            "Epoch 79/100\n",
            " - 0s - loss: 10.2225 - mean_squared_error: 36332448838.1370 - val_loss: 10.2805 - val_mean_squared_error: 37411675851.3973\n",
            "Epoch 80/100\n",
            " - 0s - loss: 10.1998 - mean_squared_error: 36323704439.2329 - val_loss: 10.2578 - val_mean_squared_error: 37402838703.3425\n",
            "Epoch 81/100\n",
            " - 0s - loss: 10.1773 - mean_squared_error: 36314935632.6575 - val_loss: 10.2353 - val_mean_squared_error: 37394043525.2603\n",
            "Epoch 82/100\n",
            " - 0s - loss: 10.1550 - mean_squared_error: 36306183434.5205 - val_loss: 10.2130 - val_mean_squared_error: 37385308019.7260\n",
            "Epoch 83/100\n",
            " - 0s - loss: 10.1329 - mean_squared_error: 36297498567.8904 - val_loss: 10.1910 - val_mean_squared_error: 37376604636.9315\n",
            "Epoch 84/100\n",
            " - 0s - loss: 10.1110 - mean_squared_error: 36288858364.4931 - val_loss: 10.1691 - val_mean_squared_error: 37367935957.9178\n",
            "Epoch 85/100\n",
            " - 0s - loss: 10.0893 - mean_squared_error: 36280274691.5069 - val_loss: 10.1474 - val_mean_squared_error: 37359323332.3836\n",
            "Epoch 86/100\n",
            " - 0s - loss: 10.0678 - mean_squared_error: 36271722552.1096 - val_loss: 10.1260 - val_mean_squared_error: 37350764600.1096\n",
            "Epoch 87/100\n",
            " - 0s - loss: 10.0465 - mean_squared_error: 36263249667.5069 - val_loss: 10.1046 - val_mean_squared_error: 37342178065.5342\n",
            "Epoch 88/100\n",
            " - 0s - loss: 10.0254 - mean_squared_error: 36254764775.4521 - val_loss: 10.0835 - val_mean_squared_error: 37333670421.0411\n",
            "Epoch 89/100\n",
            " - 0s - loss: 10.0045 - mean_squared_error: 36246385481.6438 - val_loss: 10.0625 - val_mean_squared_error: 37325180423.0137\n",
            "Epoch 90/100\n",
            " - 0s - loss: 9.9836 - mean_squared_error: 36237855477.4795 - val_loss: 10.0419 - val_mean_squared_error: 37316797229.5890\n",
            "Epoch 91/100\n",
            " - 0s - loss: 9.9631 - mean_squared_error: 36229556420.3836 - val_loss: 10.0212 - val_mean_squared_error: 37308365080.5479\n",
            "Epoch 92/100\n",
            " - 0s - loss: 9.9427 - mean_squared_error: 36221234302.2466 - val_loss: 10.0009 - val_mean_squared_error: 37300011541.0411\n",
            "Epoch 93/100\n",
            " - 0s - loss: 9.9225 - mean_squared_error: 36212943044.3836 - val_loss: 9.9807 - val_mean_squared_error: 37291718431.5616\n",
            "Epoch 94/100\n",
            " - 0s - loss: 9.9024 - mean_squared_error: 36204713114.3014 - val_loss: 9.9606 - val_mean_squared_error: 37283429530.3014\n",
            "Epoch 95/100\n",
            " - 0s - loss: 9.8826 - mean_squared_error: 36196504898.6301 - val_loss: 9.9408 - val_mean_squared_error: 37275206978.6301\n",
            "Epoch 96/100\n",
            " - 0s - loss: 9.8629 - mean_squared_error: 36188320950.3562 - val_loss: 9.9212 - val_mean_squared_error: 37267041013.4795\n",
            "Epoch 97/100\n",
            " - 0s - loss: 9.8433 - mean_squared_error: 36180195917.1507 - val_loss: 9.9017 - val_mean_squared_error: 37258885260.2740\n",
            "Epoch 98/100\n",
            " - 0s - loss: 9.8240 - mean_squared_error: 36172097564.0548 - val_loss: 9.8823 - val_mean_squared_error: 37250741290.0822\n",
            "Epoch 99/100\n",
            " - 0s - loss: 9.8047 - mean_squared_error: 36164052290.6301 - val_loss: 9.8630 - val_mean_squared_error: 37242634576.6575\n",
            "Epoch 100/100\n",
            " - 0s - loss: 9.7857 - mean_squared_error: 36156030078.2466 - val_loss: 9.8440 - val_mean_squared_error: 37234558555.1781\n"
          ],
          "name": "stdout"
        },
        {
          "output_type": "display_data",
          "data": {
            "text/plain": [
              "<Figure size 252x180 with 1 Axes>"
            ],
            "image/svg+xml": "<?xml version=\"1.0\" encoding=\"utf-8\" standalone=\"no\"?>\n<!DOCTYPE svg PUBLIC \"-//W3C//DTD SVG 1.1//EN\"\n  \"http://www.w3.org/Graphics/SVG/1.1/DTD/svg11.dtd\">\n<!-- Created with matplotlib (https://matplotlib.org/) -->\n<svg height=\"195.774375pt\" version=\"1.1\" viewBox=\"0 0 246.603125 195.774375\" width=\"246.603125pt\" xmlns=\"http://www.w3.org/2000/svg\" xmlns:xlink=\"http://www.w3.org/1999/xlink\">\n <defs>\n  <style type=\"text/css\">\n*{stroke-linecap:butt;stroke-linejoin:round;}\n  </style>\n </defs>\n <g id=\"figure_1\">\n  <g id=\"patch_1\">\n   <path d=\"M 0 195.774375 \nL 246.603125 195.774375 \nL 246.603125 0 \nL 0 0 \nz\n\" style=\"fill:none;\"/>\n  </g>\n  <g id=\"axes_1\">\n   <g id=\"patch_2\">\n    <path d=\"M 40.603125 158.218125 \nL 235.903125 158.218125 \nL 235.903125 22.318125 \nL 40.603125 22.318125 \nz\n\" style=\"fill:#ffffff;\"/>\n   </g>\n   <g id=\"matplotlib.axis_1\">\n    <g id=\"xtick_1\">\n     <g id=\"line2d_1\">\n      <defs>\n       <path d=\"M 0 0 \nL 0 3.5 \n\" id=\"mc1f5c888b6\" style=\"stroke:#000000;stroke-width:0.8;\"/>\n      </defs>\n      <g>\n       <use style=\"stroke:#000000;stroke-width:0.8;\" x=\"49.480398\" xlink:href=\"#mc1f5c888b6\" y=\"158.218125\"/>\n      </g>\n     </g>\n     <g id=\"text_1\">\n      <!-- 0 -->\n      <defs>\n       <path d=\"M 31.78125 66.40625 \nQ 24.171875 66.40625 20.328125 58.90625 \nQ 16.5 51.421875 16.5 36.375 \nQ 16.5 21.390625 20.328125 13.890625 \nQ 24.171875 6.390625 31.78125 6.390625 \nQ 39.453125 6.390625 43.28125 13.890625 \nQ 47.125 21.390625 47.125 36.375 \nQ 47.125 51.421875 43.28125 58.90625 \nQ 39.453125 66.40625 31.78125 66.40625 \nz\nM 31.78125 74.21875 \nQ 44.046875 74.21875 50.515625 64.515625 \nQ 56.984375 54.828125 56.984375 36.375 \nQ 56.984375 17.96875 50.515625 8.265625 \nQ 44.046875 -1.421875 31.78125 -1.421875 \nQ 19.53125 -1.421875 13.0625 8.265625 \nQ 6.59375 17.96875 6.59375 36.375 \nQ 6.59375 54.828125 13.0625 64.515625 \nQ 19.53125 74.21875 31.78125 74.21875 \nz\n\" id=\"DejaVuSans-48\"/>\n      </defs>\n      <g transform=\"translate(46.299148 172.816562)scale(0.1 -0.1)\">\n       <use xlink:href=\"#DejaVuSans-48\"/>\n      </g>\n     </g>\n    </g>\n    <g id=\"xtick_2\">\n     <g id=\"line2d_2\">\n      <g>\n       <use style=\"stroke:#000000;stroke-width:0.8;\" x=\"85.348166\" xlink:href=\"#mc1f5c888b6\" y=\"158.218125\"/>\n      </g>\n     </g>\n     <g id=\"text_2\">\n      <!-- 20 -->\n      <defs>\n       <path d=\"M 19.1875 8.296875 \nL 53.609375 8.296875 \nL 53.609375 0 \nL 7.328125 0 \nL 7.328125 8.296875 \nQ 12.9375 14.109375 22.625 23.890625 \nQ 32.328125 33.6875 34.8125 36.53125 \nQ 39.546875 41.84375 41.421875 45.53125 \nQ 43.3125 49.21875 43.3125 52.78125 \nQ 43.3125 58.59375 39.234375 62.25 \nQ 35.15625 65.921875 28.609375 65.921875 \nQ 23.96875 65.921875 18.8125 64.3125 \nQ 13.671875 62.703125 7.8125 59.421875 \nL 7.8125 69.390625 \nQ 13.765625 71.78125 18.9375 73 \nQ 24.125 74.21875 28.421875 74.21875 \nQ 39.75 74.21875 46.484375 68.546875 \nQ 53.21875 62.890625 53.21875 53.421875 \nQ 53.21875 48.921875 51.53125 44.890625 \nQ 49.859375 40.875 45.40625 35.40625 \nQ 44.1875 33.984375 37.640625 27.21875 \nQ 31.109375 20.453125 19.1875 8.296875 \nz\n\" id=\"DejaVuSans-50\"/>\n      </defs>\n      <g transform=\"translate(78.985666 172.816562)scale(0.1 -0.1)\">\n       <use xlink:href=\"#DejaVuSans-50\"/>\n       <use x=\"63.623047\" xlink:href=\"#DejaVuSans-48\"/>\n      </g>\n     </g>\n    </g>\n    <g id=\"xtick_3\">\n     <g id=\"line2d_3\">\n      <g>\n       <use style=\"stroke:#000000;stroke-width:0.8;\" x=\"121.215935\" xlink:href=\"#mc1f5c888b6\" y=\"158.218125\"/>\n      </g>\n     </g>\n     <g id=\"text_3\">\n      <!-- 40 -->\n      <defs>\n       <path d=\"M 37.796875 64.3125 \nL 12.890625 25.390625 \nL 37.796875 25.390625 \nz\nM 35.203125 72.90625 \nL 47.609375 72.90625 \nL 47.609375 25.390625 \nL 58.015625 25.390625 \nL 58.015625 17.1875 \nL 47.609375 17.1875 \nL 47.609375 0 \nL 37.796875 0 \nL 37.796875 17.1875 \nL 4.890625 17.1875 \nL 4.890625 26.703125 \nz\n\" id=\"DejaVuSans-52\"/>\n      </defs>\n      <g transform=\"translate(114.853435 172.816562)scale(0.1 -0.1)\">\n       <use xlink:href=\"#DejaVuSans-52\"/>\n       <use x=\"63.623047\" xlink:href=\"#DejaVuSans-48\"/>\n      </g>\n     </g>\n    </g>\n    <g id=\"xtick_4\">\n     <g id=\"line2d_4\">\n      <g>\n       <use style=\"stroke:#000000;stroke-width:0.8;\" x=\"157.083704\" xlink:href=\"#mc1f5c888b6\" y=\"158.218125\"/>\n      </g>\n     </g>\n     <g id=\"text_4\">\n      <!-- 60 -->\n      <defs>\n       <path d=\"M 33.015625 40.375 \nQ 26.375 40.375 22.484375 35.828125 \nQ 18.609375 31.296875 18.609375 23.390625 \nQ 18.609375 15.53125 22.484375 10.953125 \nQ 26.375 6.390625 33.015625 6.390625 \nQ 39.65625 6.390625 43.53125 10.953125 \nQ 47.40625 15.53125 47.40625 23.390625 \nQ 47.40625 31.296875 43.53125 35.828125 \nQ 39.65625 40.375 33.015625 40.375 \nz\nM 52.59375 71.296875 \nL 52.59375 62.3125 \nQ 48.875 64.0625 45.09375 64.984375 \nQ 41.3125 65.921875 37.59375 65.921875 \nQ 27.828125 65.921875 22.671875 59.328125 \nQ 17.53125 52.734375 16.796875 39.40625 \nQ 19.671875 43.65625 24.015625 45.921875 \nQ 28.375 48.1875 33.59375 48.1875 \nQ 44.578125 48.1875 50.953125 41.515625 \nQ 57.328125 34.859375 57.328125 23.390625 \nQ 57.328125 12.15625 50.6875 5.359375 \nQ 44.046875 -1.421875 33.015625 -1.421875 \nQ 20.359375 -1.421875 13.671875 8.265625 \nQ 6.984375 17.96875 6.984375 36.375 \nQ 6.984375 53.65625 15.1875 63.9375 \nQ 23.390625 74.21875 37.203125 74.21875 \nQ 40.921875 74.21875 44.703125 73.484375 \nQ 48.484375 72.75 52.59375 71.296875 \nz\n\" id=\"DejaVuSans-54\"/>\n      </defs>\n      <g transform=\"translate(150.721204 172.816562)scale(0.1 -0.1)\">\n       <use xlink:href=\"#DejaVuSans-54\"/>\n       <use x=\"63.623047\" xlink:href=\"#DejaVuSans-48\"/>\n      </g>\n     </g>\n    </g>\n    <g id=\"xtick_5\">\n     <g id=\"line2d_5\">\n      <g>\n       <use style=\"stroke:#000000;stroke-width:0.8;\" x=\"192.951472\" xlink:href=\"#mc1f5c888b6\" y=\"158.218125\"/>\n      </g>\n     </g>\n     <g id=\"text_5\">\n      <!-- 80 -->\n      <defs>\n       <path d=\"M 31.78125 34.625 \nQ 24.75 34.625 20.71875 30.859375 \nQ 16.703125 27.09375 16.703125 20.515625 \nQ 16.703125 13.921875 20.71875 10.15625 \nQ 24.75 6.390625 31.78125 6.390625 \nQ 38.8125 6.390625 42.859375 10.171875 \nQ 46.921875 13.96875 46.921875 20.515625 \nQ 46.921875 27.09375 42.890625 30.859375 \nQ 38.875 34.625 31.78125 34.625 \nz\nM 21.921875 38.8125 \nQ 15.578125 40.375 12.03125 44.71875 \nQ 8.5 49.078125 8.5 55.328125 \nQ 8.5 64.0625 14.71875 69.140625 \nQ 20.953125 74.21875 31.78125 74.21875 \nQ 42.671875 74.21875 48.875 69.140625 \nQ 55.078125 64.0625 55.078125 55.328125 \nQ 55.078125 49.078125 51.53125 44.71875 \nQ 48 40.375 41.703125 38.8125 \nQ 48.828125 37.15625 52.796875 32.3125 \nQ 56.78125 27.484375 56.78125 20.515625 \nQ 56.78125 9.90625 50.3125 4.234375 \nQ 43.84375 -1.421875 31.78125 -1.421875 \nQ 19.734375 -1.421875 13.25 4.234375 \nQ 6.78125 9.90625 6.78125 20.515625 \nQ 6.78125 27.484375 10.78125 32.3125 \nQ 14.796875 37.15625 21.921875 38.8125 \nz\nM 18.3125 54.390625 \nQ 18.3125 48.734375 21.84375 45.5625 \nQ 25.390625 42.390625 31.78125 42.390625 \nQ 38.140625 42.390625 41.71875 45.5625 \nQ 45.3125 48.734375 45.3125 54.390625 \nQ 45.3125 60.0625 41.71875 63.234375 \nQ 38.140625 66.40625 31.78125 66.40625 \nQ 25.390625 66.40625 21.84375 63.234375 \nQ 18.3125 60.0625 18.3125 54.390625 \nz\n\" id=\"DejaVuSans-56\"/>\n      </defs>\n      <g transform=\"translate(186.588972 172.816562)scale(0.1 -0.1)\">\n       <use xlink:href=\"#DejaVuSans-56\"/>\n       <use x=\"63.623047\" xlink:href=\"#DejaVuSans-48\"/>\n      </g>\n     </g>\n    </g>\n    <g id=\"xtick_6\">\n     <g id=\"line2d_6\">\n      <g>\n       <use style=\"stroke:#000000;stroke-width:0.8;\" x=\"228.819241\" xlink:href=\"#mc1f5c888b6\" y=\"158.218125\"/>\n      </g>\n     </g>\n     <g id=\"text_6\">\n      <!-- 100 -->\n      <defs>\n       <path d=\"M 12.40625 8.296875 \nL 28.515625 8.296875 \nL 28.515625 63.921875 \nL 10.984375 60.40625 \nL 10.984375 69.390625 \nL 28.421875 72.90625 \nL 38.28125 72.90625 \nL 38.28125 8.296875 \nL 54.390625 8.296875 \nL 54.390625 0 \nL 12.40625 0 \nz\n\" id=\"DejaVuSans-49\"/>\n      </defs>\n      <g transform=\"translate(219.275491 172.816562)scale(0.1 -0.1)\">\n       <use xlink:href=\"#DejaVuSans-49\"/>\n       <use x=\"63.623047\" xlink:href=\"#DejaVuSans-48\"/>\n       <use x=\"127.246094\" xlink:href=\"#DejaVuSans-48\"/>\n      </g>\n     </g>\n    </g>\n    <g id=\"text_7\">\n     <!-- epoch -->\n     <defs>\n      <path d=\"M 56.203125 29.59375 \nL 56.203125 25.203125 \nL 14.890625 25.203125 \nQ 15.484375 15.921875 20.484375 11.0625 \nQ 25.484375 6.203125 34.421875 6.203125 \nQ 39.59375 6.203125 44.453125 7.46875 \nQ 49.3125 8.734375 54.109375 11.28125 \nL 54.109375 2.78125 \nQ 49.265625 0.734375 44.1875 -0.34375 \nQ 39.109375 -1.421875 33.890625 -1.421875 \nQ 20.796875 -1.421875 13.15625 6.1875 \nQ 5.515625 13.8125 5.515625 26.8125 \nQ 5.515625 40.234375 12.765625 48.109375 \nQ 20.015625 56 32.328125 56 \nQ 43.359375 56 49.78125 48.890625 \nQ 56.203125 41.796875 56.203125 29.59375 \nz\nM 47.21875 32.234375 \nQ 47.125 39.59375 43.09375 43.984375 \nQ 39.0625 48.390625 32.421875 48.390625 \nQ 24.90625 48.390625 20.390625 44.140625 \nQ 15.875 39.890625 15.1875 32.171875 \nz\n\" id=\"DejaVuSans-101\"/>\n      <path d=\"M 18.109375 8.203125 \nL 18.109375 -20.796875 \nL 9.078125 -20.796875 \nL 9.078125 54.6875 \nL 18.109375 54.6875 \nL 18.109375 46.390625 \nQ 20.953125 51.265625 25.265625 53.625 \nQ 29.59375 56 35.59375 56 \nQ 45.5625 56 51.78125 48.09375 \nQ 58.015625 40.1875 58.015625 27.296875 \nQ 58.015625 14.40625 51.78125 6.484375 \nQ 45.5625 -1.421875 35.59375 -1.421875 \nQ 29.59375 -1.421875 25.265625 0.953125 \nQ 20.953125 3.328125 18.109375 8.203125 \nz\nM 48.6875 27.296875 \nQ 48.6875 37.203125 44.609375 42.84375 \nQ 40.53125 48.484375 33.40625 48.484375 \nQ 26.265625 48.484375 22.1875 42.84375 \nQ 18.109375 37.203125 18.109375 27.296875 \nQ 18.109375 17.390625 22.1875 11.75 \nQ 26.265625 6.109375 33.40625 6.109375 \nQ 40.53125 6.109375 44.609375 11.75 \nQ 48.6875 17.390625 48.6875 27.296875 \nz\n\" id=\"DejaVuSans-112\"/>\n      <path d=\"M 30.609375 48.390625 \nQ 23.390625 48.390625 19.1875 42.75 \nQ 14.984375 37.109375 14.984375 27.296875 \nQ 14.984375 17.484375 19.15625 11.84375 \nQ 23.34375 6.203125 30.609375 6.203125 \nQ 37.796875 6.203125 41.984375 11.859375 \nQ 46.1875 17.53125 46.1875 27.296875 \nQ 46.1875 37.015625 41.984375 42.703125 \nQ 37.796875 48.390625 30.609375 48.390625 \nz\nM 30.609375 56 \nQ 42.328125 56 49.015625 48.375 \nQ 55.71875 40.765625 55.71875 27.296875 \nQ 55.71875 13.875 49.015625 6.21875 \nQ 42.328125 -1.421875 30.609375 -1.421875 \nQ 18.84375 -1.421875 12.171875 6.21875 \nQ 5.515625 13.875 5.515625 27.296875 \nQ 5.515625 40.765625 12.171875 48.375 \nQ 18.84375 56 30.609375 56 \nz\n\" id=\"DejaVuSans-111\"/>\n      <path d=\"M 48.78125 52.59375 \nL 48.78125 44.1875 \nQ 44.96875 46.296875 41.140625 47.34375 \nQ 37.3125 48.390625 33.40625 48.390625 \nQ 24.65625 48.390625 19.8125 42.84375 \nQ 14.984375 37.3125 14.984375 27.296875 \nQ 14.984375 17.28125 19.8125 11.734375 \nQ 24.65625 6.203125 33.40625 6.203125 \nQ 37.3125 6.203125 41.140625 7.25 \nQ 44.96875 8.296875 48.78125 10.40625 \nL 48.78125 2.09375 \nQ 45.015625 0.34375 40.984375 -0.53125 \nQ 36.96875 -1.421875 32.421875 -1.421875 \nQ 20.0625 -1.421875 12.78125 6.34375 \nQ 5.515625 14.109375 5.515625 27.296875 \nQ 5.515625 40.671875 12.859375 48.328125 \nQ 20.21875 56 33.015625 56 \nQ 37.15625 56 41.109375 55.140625 \nQ 45.0625 54.296875 48.78125 52.59375 \nz\n\" id=\"DejaVuSans-99\"/>\n      <path d=\"M 54.890625 33.015625 \nL 54.890625 0 \nL 45.90625 0 \nL 45.90625 32.71875 \nQ 45.90625 40.484375 42.875 44.328125 \nQ 39.84375 48.1875 33.796875 48.1875 \nQ 26.515625 48.1875 22.3125 43.546875 \nQ 18.109375 38.921875 18.109375 30.90625 \nL 18.109375 0 \nL 9.078125 0 \nL 9.078125 75.984375 \nL 18.109375 75.984375 \nL 18.109375 46.1875 \nQ 21.34375 51.125 25.703125 53.5625 \nQ 30.078125 56 35.796875 56 \nQ 45.21875 56 50.046875 50.171875 \nQ 54.890625 44.34375 54.890625 33.015625 \nz\n\" id=\"DejaVuSans-104\"/>\n     </defs>\n     <g transform=\"translate(123.025 186.494687)scale(0.1 -0.1)\">\n      <use xlink:href=\"#DejaVuSans-101\"/>\n      <use x=\"61.523438\" xlink:href=\"#DejaVuSans-112\"/>\n      <use x=\"125\" xlink:href=\"#DejaVuSans-111\"/>\n      <use x=\"186.181641\" xlink:href=\"#DejaVuSans-99\"/>\n      <use x=\"241.162109\" xlink:href=\"#DejaVuSans-104\"/>\n     </g>\n    </g>\n   </g>\n   <g id=\"matplotlib.axis_2\">\n    <g id=\"ytick_1\">\n     <g id=\"line2d_7\">\n      <defs>\n       <path d=\"M 0 0 \nL -3.5 0 \n\" id=\"mdbe35d08d7\" style=\"stroke:#000000;stroke-width:0.8;\"/>\n      </defs>\n      <g>\n       <use style=\"stroke:#000000;stroke-width:0.8;\" x=\"40.603125\" xlink:href=\"#mdbe35d08d7\" y=\"150.305033\"/>\n      </g>\n     </g>\n     <g id=\"text_8\">\n      <!-- 10 -->\n      <g transform=\"translate(20.878125 154.104252)scale(0.1 -0.1)\">\n       <use xlink:href=\"#DejaVuSans-49\"/>\n       <use x=\"63.623047\" xlink:href=\"#DejaVuSans-48\"/>\n      </g>\n     </g>\n    </g>\n    <g id=\"ytick_2\">\n     <g id=\"line2d_8\">\n      <g>\n       <use style=\"stroke:#000000;stroke-width:0.8;\" x=\"40.603125\" xlink:href=\"#mdbe35d08d7\" y=\"109.808176\"/>\n      </g>\n     </g>\n     <g id=\"text_9\">\n      <!-- 15 -->\n      <defs>\n       <path d=\"M 10.796875 72.90625 \nL 49.515625 72.90625 \nL 49.515625 64.59375 \nL 19.828125 64.59375 \nL 19.828125 46.734375 \nQ 21.96875 47.46875 24.109375 47.828125 \nQ 26.265625 48.1875 28.421875 48.1875 \nQ 40.625 48.1875 47.75 41.5 \nQ 54.890625 34.8125 54.890625 23.390625 \nQ 54.890625 11.625 47.5625 5.09375 \nQ 40.234375 -1.421875 26.90625 -1.421875 \nQ 22.3125 -1.421875 17.546875 -0.640625 \nQ 12.796875 0.140625 7.71875 1.703125 \nL 7.71875 11.625 \nQ 12.109375 9.234375 16.796875 8.0625 \nQ 21.484375 6.890625 26.703125 6.890625 \nQ 35.15625 6.890625 40.078125 11.328125 \nQ 45.015625 15.765625 45.015625 23.390625 \nQ 45.015625 31 40.078125 35.4375 \nQ 35.15625 39.890625 26.703125 39.890625 \nQ 22.75 39.890625 18.8125 39.015625 \nQ 14.890625 38.140625 10.796875 36.28125 \nz\n\" id=\"DejaVuSans-53\"/>\n      </defs>\n      <g transform=\"translate(20.878125 113.607395)scale(0.1 -0.1)\">\n       <use xlink:href=\"#DejaVuSans-49\"/>\n       <use x=\"63.623047\" xlink:href=\"#DejaVuSans-53\"/>\n      </g>\n     </g>\n    </g>\n    <g id=\"ytick_3\">\n     <g id=\"line2d_9\">\n      <g>\n       <use style=\"stroke:#000000;stroke-width:0.8;\" x=\"40.603125\" xlink:href=\"#mdbe35d08d7\" y=\"69.311319\"/>\n      </g>\n     </g>\n     <g id=\"text_10\">\n      <!-- 20 -->\n      <g transform=\"translate(20.878125 73.110538)scale(0.1 -0.1)\">\n       <use xlink:href=\"#DejaVuSans-50\"/>\n       <use x=\"63.623047\" xlink:href=\"#DejaVuSans-48\"/>\n      </g>\n     </g>\n    </g>\n    <g id=\"ytick_4\">\n     <g id=\"line2d_10\">\n      <g>\n       <use style=\"stroke:#000000;stroke-width:0.8;\" x=\"40.603125\" xlink:href=\"#mdbe35d08d7\" y=\"28.814462\"/>\n      </g>\n     </g>\n     <g id=\"text_11\">\n      <!-- 25 -->\n      <g transform=\"translate(20.878125 32.613681)scale(0.1 -0.1)\">\n       <use xlink:href=\"#DejaVuSans-50\"/>\n       <use x=\"63.623047\" xlink:href=\"#DejaVuSans-53\"/>\n      </g>\n     </g>\n    </g>\n    <g id=\"text_12\">\n     <!-- loss -->\n     <defs>\n      <path d=\"M 9.421875 75.984375 \nL 18.40625 75.984375 \nL 18.40625 0 \nL 9.421875 0 \nz\n\" id=\"DejaVuSans-108\"/>\n      <path d=\"M 44.28125 53.078125 \nL 44.28125 44.578125 \nQ 40.484375 46.53125 36.375 47.5 \nQ 32.28125 48.484375 27.875 48.484375 \nQ 21.1875 48.484375 17.84375 46.4375 \nQ 14.5 44.390625 14.5 40.28125 \nQ 14.5 37.15625 16.890625 35.375 \nQ 19.28125 33.59375 26.515625 31.984375 \nL 29.59375 31.296875 \nQ 39.15625 29.25 43.1875 25.515625 \nQ 47.21875 21.78125 47.21875 15.09375 \nQ 47.21875 7.46875 41.1875 3.015625 \nQ 35.15625 -1.421875 24.609375 -1.421875 \nQ 20.21875 -1.421875 15.453125 -0.5625 \nQ 10.6875 0.296875 5.421875 2 \nL 5.421875 11.28125 \nQ 10.40625 8.6875 15.234375 7.390625 \nQ 20.0625 6.109375 24.8125 6.109375 \nQ 31.15625 6.109375 34.5625 8.28125 \nQ 37.984375 10.453125 37.984375 14.40625 \nQ 37.984375 18.0625 35.515625 20.015625 \nQ 33.0625 21.96875 24.703125 23.78125 \nL 21.578125 24.515625 \nQ 13.234375 26.265625 9.515625 29.90625 \nQ 5.8125 33.546875 5.8125 39.890625 \nQ 5.8125 47.609375 11.28125 51.796875 \nQ 16.75 56 26.8125 56 \nQ 31.78125 56 36.171875 55.265625 \nQ 40.578125 54.546875 44.28125 53.078125 \nz\n\" id=\"DejaVuSans-115\"/>\n     </defs>\n     <g transform=\"translate(14.798437 99.925937)rotate(-90)scale(0.1 -0.1)\">\n      <use xlink:href=\"#DejaVuSans-108\"/>\n      <use x=\"27.783203\" xlink:href=\"#DejaVuSans-111\"/>\n      <use x=\"88.964844\" xlink:href=\"#DejaVuSans-115\"/>\n      <use x=\"141.064453\" xlink:href=\"#DejaVuSans-115\"/>\n     </g>\n    </g>\n   </g>\n   <g id=\"line2d_11\">\n    <path clip-path=\"url(#p7850f19aa5)\" d=\"M 49.480398 28.495398 \nL 51.273786 120.226842 \nL 53.067175 124.248462 \nL 54.860563 125.251473 \nL 56.653951 125.860458 \nL 58.44734 126.403364 \nL 60.240728 126.929239 \nL 62.034117 127.44007 \nL 63.827505 127.940457 \nL 65.620894 128.429405 \nL 67.414282 128.90738 \nL 69.20767 129.376523 \nL 71.001059 129.834772 \nL 72.794447 130.285273 \nL 74.587836 130.725661 \nL 76.381224 131.157496 \nL 78.174613 131.580132 \nL 79.968001 131.995762 \nL 81.761389 132.404374 \nL 83.554778 132.803396 \nL 85.348166 133.196397 \nL 87.141555 133.582626 \nL 88.934943 133.961752 \nL 90.728332 134.333934 \nL 92.52172 134.699737 \nL 94.315108 135.059049 \nL 96.108497 135.413986 \nL 97.901885 135.762652 \nL 99.695274 136.105494 \nL 101.488662 136.443322 \nL 103.282051 136.775238 \nL 105.075439 137.101536 \nL 106.868827 137.423647 \nL 108.662216 137.740337 \nL 110.455604 138.053198 \nL 112.248993 138.361241 \nL 114.042381 138.664558 \nL 115.83577 138.964015 \nL 117.629158 139.258337 \nL 119.422546 139.548864 \nL 121.215935 139.835232 \nL 123.009323 140.118007 \nL 124.802712 140.396728 \nL 126.5961 140.671813 \nL 128.389489 140.943406 \nL 130.182877 141.211035 \nL 131.976265 141.475822 \nL 133.769654 141.736981 \nL 135.563042 141.994754 \nL 137.356431 142.249059 \nL 139.149819 142.500438 \nL 140.943208 142.74857 \nL 142.736596 142.994255 \nL 144.529985 143.236784 \nL 146.323373 143.475936 \nL 148.116761 143.712875 \nL 149.91015 143.946785 \nL 151.703538 144.177586 \nL 153.496927 144.406025 \nL 155.290315 144.632584 \nL 157.083704 144.855493 \nL 158.877092 145.076705 \nL 160.67048 145.295179 \nL 162.463869 145.5117 \nL 164.257257 145.726048 \nL 166.050646 145.938026 \nL 167.844034 146.147428 \nL 169.637423 146.355131 \nL 171.430811 146.560376 \nL 173.224199 146.763778 \nL 175.017588 146.965443 \nL 176.810976 147.164 \nL 178.604365 147.360668 \nL 180.397753 147.555931 \nL 182.191142 147.74896 \nL 183.98453 147.94036 \nL 185.777918 148.129706 \nL 187.571307 148.317409 \nL 189.364695 148.50267 \nL 191.158084 148.686451 \nL 192.951472 148.868848 \nL 194.744861 149.049758 \nL 196.538249 149.228695 \nL 198.331637 149.406115 \nL 200.125026 149.581823 \nL 201.918414 149.75589 \nL 203.711803 149.928167 \nL 205.505191 150.099603 \nL 207.29858 150.268866 \nL 209.091968 150.43763 \nL 210.885356 150.603984 \nL 212.678745 150.769356 \nL 214.472133 150.93313 \nL 216.265522 151.095267 \nL 218.05891 151.256252 \nL 219.852299 151.415722 \nL 221.645687 151.573805 \nL 223.439075 151.730669 \nL 225.232464 151.88647 \nL 227.025852 152.040852 \n\" style=\"fill:none;stroke:#1f77b4;stroke-linecap:square;stroke-width:1.5;\"/>\n   </g>\n   <g id=\"line2d_12\">\n    <path clip-path=\"url(#p7850f19aa5)\" d=\"M 49.480398 114.452453 \nL 51.273786 122.737057 \nL 53.067175 124.258296 \nL 54.860563 124.943286 \nL 56.653951 125.503346 \nL 58.44734 126.036485 \nL 60.240728 126.555056 \nL 62.034117 127.062567 \nL 63.827505 127.558976 \nL 65.620894 128.042749 \nL 67.414282 128.518879 \nL 69.20767 128.983386 \nL 71.001059 129.44008 \nL 72.794447 129.886311 \nL 74.587836 130.322831 \nL 76.381224 130.750715 \nL 78.174613 131.171505 \nL 79.968001 131.584519 \nL 81.761389 131.98951 \nL 83.554778 132.387155 \nL 85.348166 132.778103 \nL 87.141555 133.161909 \nL 88.934943 133.538864 \nL 90.728332 133.908262 \nL 92.52172 134.271349 \nL 94.315108 134.630195 \nL 96.108497 134.982803 \nL 97.901885 135.329793 \nL 99.695274 135.672024 \nL 101.488662 136.007402 \nL 103.282051 136.33788 \nL 105.075439 136.663683 \nL 106.868827 136.982372 \nL 108.662216 137.298873 \nL 110.455604 137.610241 \nL 112.248993 137.917048 \nL 114.042381 138.219235 \nL 115.83577 138.517171 \nL 117.629158 138.810837 \nL 119.422546 139.09955 \nL 121.215935 139.385209 \nL 123.009323 139.667134 \nL 124.802712 139.944972 \nL 126.5961 140.219366 \nL 128.389489 140.4893 \nL 130.182877 140.756913 \nL 131.976265 141.020805 \nL 133.769654 141.281356 \nL 135.563042 141.538218 \nL 137.356431 141.791557 \nL 139.149819 142.041644 \nL 140.943208 142.289791 \nL 142.736596 142.534596 \nL 144.529985 142.776621 \nL 146.323373 143.01594 \nL 148.116761 143.251442 \nL 149.91015 143.484315 \nL 151.703538 143.715587 \nL 153.496927 143.943983 \nL 155.290315 144.168572 \nL 157.083704 144.391949 \nL 158.877092 144.612076 \nL 160.67048 144.830333 \nL 162.463869 145.047199 \nL 164.257257 145.260398 \nL 166.050646 145.471705 \nL 167.844034 145.680908 \nL 169.637423 145.888122 \nL 171.430811 146.093456 \nL 173.224199 146.297278 \nL 175.017588 146.497939 \nL 176.810976 146.696373 \nL 178.604365 146.892789 \nL 180.397753 147.087293 \nL 182.191142 147.280291 \nL 183.98453 147.471591 \nL 185.777918 147.661123 \nL 187.571307 147.847486 \nL 189.364695 148.033048 \nL 191.158084 148.217108 \nL 192.951472 148.399263 \nL 194.744861 148.579521 \nL 196.538249 148.758336 \nL 198.331637 148.935609 \nL 200.125026 149.111086 \nL 201.918414 149.284706 \nL 203.711803 149.45776 \nL 205.505191 149.628718 \nL 207.29858 149.798468 \nL 209.091968 149.965829 \nL 210.885356 150.132996 \nL 212.678745 150.298102 \nL 214.472133 150.461429 \nL 216.265522 150.623811 \nL 218.05891 150.78447 \nL 219.852299 150.943555 \nL 221.645687 151.101573 \nL 223.439075 151.258627 \nL 225.232464 151.414298 \nL 227.025852 151.568763 \n\" style=\"fill:none;stroke:#ff7f0e;stroke-linecap:square;stroke-width:1.5;\"/>\n   </g>\n   <g id=\"patch_3\">\n    <path d=\"M 40.603125 158.218125 \nL 40.603125 22.318125 \n\" style=\"fill:none;stroke:#000000;stroke-linecap:square;stroke-linejoin:miter;stroke-width:0.8;\"/>\n   </g>\n   <g id=\"patch_4\">\n    <path d=\"M 235.903125 158.218125 \nL 235.903125 22.318125 \n\" style=\"fill:none;stroke:#000000;stroke-linecap:square;stroke-linejoin:miter;stroke-width:0.8;\"/>\n   </g>\n   <g id=\"patch_5\">\n    <path d=\"M 40.603125 158.218125 \nL 235.903125 158.218125 \n\" style=\"fill:none;stroke:#000000;stroke-linecap:square;stroke-linejoin:miter;stroke-width:0.8;\"/>\n   </g>\n   <g id=\"patch_6\">\n    <path d=\"M 40.603125 22.318125 \nL 235.903125 22.318125 \n\" style=\"fill:none;stroke:#000000;stroke-linecap:square;stroke-linejoin:miter;stroke-width:0.8;\"/>\n   </g>\n   <g id=\"text_13\">\n    <!-- model loss -->\n    <defs>\n     <path d=\"M 52 44.1875 \nQ 55.375 50.25 60.0625 53.125 \nQ 64.75 56 71.09375 56 \nQ 79.640625 56 84.28125 50.015625 \nQ 88.921875 44.046875 88.921875 33.015625 \nL 88.921875 0 \nL 79.890625 0 \nL 79.890625 32.71875 \nQ 79.890625 40.578125 77.09375 44.375 \nQ 74.3125 48.1875 68.609375 48.1875 \nQ 61.625 48.1875 57.5625 43.546875 \nQ 53.515625 38.921875 53.515625 30.90625 \nL 53.515625 0 \nL 44.484375 0 \nL 44.484375 32.71875 \nQ 44.484375 40.625 41.703125 44.40625 \nQ 38.921875 48.1875 33.109375 48.1875 \nQ 26.21875 48.1875 22.15625 43.53125 \nQ 18.109375 38.875 18.109375 30.90625 \nL 18.109375 0 \nL 9.078125 0 \nL 9.078125 54.6875 \nL 18.109375 54.6875 \nL 18.109375 46.1875 \nQ 21.1875 51.21875 25.484375 53.609375 \nQ 29.78125 56 35.6875 56 \nQ 41.65625 56 45.828125 52.96875 \nQ 50 49.953125 52 44.1875 \nz\n\" id=\"DejaVuSans-109\"/>\n     <path d=\"M 45.40625 46.390625 \nL 45.40625 75.984375 \nL 54.390625 75.984375 \nL 54.390625 0 \nL 45.40625 0 \nL 45.40625 8.203125 \nQ 42.578125 3.328125 38.25 0.953125 \nQ 33.9375 -1.421875 27.875 -1.421875 \nQ 17.96875 -1.421875 11.734375 6.484375 \nQ 5.515625 14.40625 5.515625 27.296875 \nQ 5.515625 40.1875 11.734375 48.09375 \nQ 17.96875 56 27.875 56 \nQ 33.9375 56 38.25 53.625 \nQ 42.578125 51.265625 45.40625 46.390625 \nz\nM 14.796875 27.296875 \nQ 14.796875 17.390625 18.875 11.75 \nQ 22.953125 6.109375 30.078125 6.109375 \nQ 37.203125 6.109375 41.296875 11.75 \nQ 45.40625 17.390625 45.40625 27.296875 \nQ 45.40625 37.203125 41.296875 42.84375 \nQ 37.203125 48.484375 30.078125 48.484375 \nQ 22.953125 48.484375 18.875 42.84375 \nQ 14.796875 37.203125 14.796875 27.296875 \nz\n\" id=\"DejaVuSans-100\"/>\n     <path id=\"DejaVuSans-32\"/>\n    </defs>\n    <g transform=\"translate(106.073437 16.318125)scale(0.12 -0.12)\">\n     <use xlink:href=\"#DejaVuSans-109\"/>\n     <use x=\"97.412109\" xlink:href=\"#DejaVuSans-111\"/>\n     <use x=\"158.59375\" xlink:href=\"#DejaVuSans-100\"/>\n     <use x=\"222.070312\" xlink:href=\"#DejaVuSans-101\"/>\n     <use x=\"283.59375\" xlink:href=\"#DejaVuSans-108\"/>\n     <use x=\"311.376953\" xlink:href=\"#DejaVuSans-32\"/>\n     <use x=\"343.164062\" xlink:href=\"#DejaVuSans-108\"/>\n     <use x=\"370.947266\" xlink:href=\"#DejaVuSans-111\"/>\n     <use x=\"432.128906\" xlink:href=\"#DejaVuSans-115\"/>\n     <use x=\"484.228516\" xlink:href=\"#DejaVuSans-115\"/>\n    </g>\n   </g>\n   <g id=\"legend_1\">\n    <g id=\"patch_7\">\n     <path d=\"M 47.603125 59.674375 \nL 102.878125 59.674375 \nQ 104.878125 59.674375 104.878125 57.674375 \nL 104.878125 29.318125 \nQ 104.878125 27.318125 102.878125 27.318125 \nL 47.603125 27.318125 \nQ 45.603125 27.318125 45.603125 29.318125 \nL 45.603125 57.674375 \nQ 45.603125 59.674375 47.603125 59.674375 \nz\n\" style=\"fill:#ffffff;opacity:0.8;stroke:#cccccc;stroke-linejoin:miter;\"/>\n    </g>\n    <g id=\"line2d_13\">\n     <path d=\"M 49.603125 35.416562 \nL 69.603125 35.416562 \n\" style=\"fill:none;stroke:#1f77b4;stroke-linecap:square;stroke-width:1.5;\"/>\n    </g>\n    <g id=\"line2d_14\"/>\n    <g id=\"text_14\">\n     <!-- train -->\n     <defs>\n      <path d=\"M 18.3125 70.21875 \nL 18.3125 54.6875 \nL 36.8125 54.6875 \nL 36.8125 47.703125 \nL 18.3125 47.703125 \nL 18.3125 18.015625 \nQ 18.3125 11.328125 20.140625 9.421875 \nQ 21.96875 7.515625 27.59375 7.515625 \nL 36.8125 7.515625 \nL 36.8125 0 \nL 27.59375 0 \nQ 17.1875 0 13.234375 3.875 \nQ 9.28125 7.765625 9.28125 18.015625 \nL 9.28125 47.703125 \nL 2.6875 47.703125 \nL 2.6875 54.6875 \nL 9.28125 54.6875 \nL 9.28125 70.21875 \nz\n\" id=\"DejaVuSans-116\"/>\n      <path d=\"M 41.109375 46.296875 \nQ 39.59375 47.171875 37.8125 47.578125 \nQ 36.03125 48 33.890625 48 \nQ 26.265625 48 22.1875 43.046875 \nQ 18.109375 38.09375 18.109375 28.8125 \nL 18.109375 0 \nL 9.078125 0 \nL 9.078125 54.6875 \nL 18.109375 54.6875 \nL 18.109375 46.1875 \nQ 20.953125 51.171875 25.484375 53.578125 \nQ 30.03125 56 36.53125 56 \nQ 37.453125 56 38.578125 55.875 \nQ 39.703125 55.765625 41.0625 55.515625 \nz\n\" id=\"DejaVuSans-114\"/>\n      <path d=\"M 34.28125 27.484375 \nQ 23.390625 27.484375 19.1875 25 \nQ 14.984375 22.515625 14.984375 16.5 \nQ 14.984375 11.71875 18.140625 8.90625 \nQ 21.296875 6.109375 26.703125 6.109375 \nQ 34.1875 6.109375 38.703125 11.40625 \nQ 43.21875 16.703125 43.21875 25.484375 \nL 43.21875 27.484375 \nz\nM 52.203125 31.203125 \nL 52.203125 0 \nL 43.21875 0 \nL 43.21875 8.296875 \nQ 40.140625 3.328125 35.546875 0.953125 \nQ 30.953125 -1.421875 24.3125 -1.421875 \nQ 15.921875 -1.421875 10.953125 3.296875 \nQ 6 8.015625 6 15.921875 \nQ 6 25.140625 12.171875 29.828125 \nQ 18.359375 34.515625 30.609375 34.515625 \nL 43.21875 34.515625 \nL 43.21875 35.40625 \nQ 43.21875 41.609375 39.140625 45 \nQ 35.0625 48.390625 27.6875 48.390625 \nQ 23 48.390625 18.546875 47.265625 \nQ 14.109375 46.140625 10.015625 43.890625 \nL 10.015625 52.203125 \nQ 14.9375 54.109375 19.578125 55.046875 \nQ 24.21875 56 28.609375 56 \nQ 40.484375 56 46.34375 49.84375 \nQ 52.203125 43.703125 52.203125 31.203125 \nz\n\" id=\"DejaVuSans-97\"/>\n      <path d=\"M 9.421875 54.6875 \nL 18.40625 54.6875 \nL 18.40625 0 \nL 9.421875 0 \nz\nM 9.421875 75.984375 \nL 18.40625 75.984375 \nL 18.40625 64.59375 \nL 9.421875 64.59375 \nz\n\" id=\"DejaVuSans-105\"/>\n      <path d=\"M 54.890625 33.015625 \nL 54.890625 0 \nL 45.90625 0 \nL 45.90625 32.71875 \nQ 45.90625 40.484375 42.875 44.328125 \nQ 39.84375 48.1875 33.796875 48.1875 \nQ 26.515625 48.1875 22.3125 43.546875 \nQ 18.109375 38.921875 18.109375 30.90625 \nL 18.109375 0 \nL 9.078125 0 \nL 9.078125 54.6875 \nL 18.109375 54.6875 \nL 18.109375 46.1875 \nQ 21.34375 51.125 25.703125 53.5625 \nQ 30.078125 56 35.796875 56 \nQ 45.21875 56 50.046875 50.171875 \nQ 54.890625 44.34375 54.890625 33.015625 \nz\n\" id=\"DejaVuSans-110\"/>\n     </defs>\n     <g transform=\"translate(77.603125 38.916562)scale(0.1 -0.1)\">\n      <use xlink:href=\"#DejaVuSans-116\"/>\n      <use x=\"39.208984\" xlink:href=\"#DejaVuSans-114\"/>\n      <use x=\"80.322266\" xlink:href=\"#DejaVuSans-97\"/>\n      <use x=\"141.601562\" xlink:href=\"#DejaVuSans-105\"/>\n      <use x=\"169.384766\" xlink:href=\"#DejaVuSans-110\"/>\n     </g>\n    </g>\n    <g id=\"line2d_15\">\n     <path d=\"M 49.603125 50.094687 \nL 69.603125 50.094687 \n\" style=\"fill:none;stroke:#ff7f0e;stroke-linecap:square;stroke-width:1.5;\"/>\n    </g>\n    <g id=\"line2d_16\"/>\n    <g id=\"text_15\">\n     <!-- test -->\n     <g transform=\"translate(77.603125 53.594687)scale(0.1 -0.1)\">\n      <use xlink:href=\"#DejaVuSans-116\"/>\n      <use x=\"39.208984\" xlink:href=\"#DejaVuSans-101\"/>\n      <use x=\"100.732422\" xlink:href=\"#DejaVuSans-115\"/>\n      <use x=\"152.832031\" xlink:href=\"#DejaVuSans-116\"/>\n     </g>\n    </g>\n   </g>\n  </g>\n </g>\n <defs>\n  <clipPath id=\"p7850f19aa5\">\n   <rect height=\"135.9\" width=\"195.3\" x=\"40.603125\" y=\"22.318125\"/>\n  </clipPath>\n </defs>\n</svg>\n"
          },
          "metadata": {
            "tags": []
          }
        },
        {
          "output_type": "stream",
          "text": [
            "\n",
            "5-fold validation: avg train rmse: 0.000000, avg valid rmse: 0.000000\n"
          ],
          "name": "stdout"
        }
      ]
    },
    {
      "cell_type": "markdown",
      "metadata": {
        "id": "_Tq-if3UX7u9",
        "colab_type": "text"
      },
      "source": [
        "## Tuning Ideas\n",
        "\n",
        "\n",
        "1. What happens if you try to predict the log price rather than the price?\n",
        "1. Is it always a good idea to replace missing values by their mean?\n",
        "1. What happens if you add an indicator variable for missing values.?\n",
        "1. Tune the hyperparameters through k-fold crossvalidation.\n",
        "1. Change he model (layers, regularization, dropout)."
      ]
    }
  ]
}